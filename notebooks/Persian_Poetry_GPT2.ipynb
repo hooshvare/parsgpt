{
  "nbformat": 4,
  "nbformat_minor": 0,
  "metadata": {
    "colab": {
      "name": "Persian Poetry GPT2.ipynb",
      "provenance": []
    },
    "kernelspec": {
      "name": "python3",
      "display_name": "Python 3"
    },
    "accelerator": "GPU"
  },
  "cells": [
    {
      "cell_type": "markdown",
      "metadata": {
        "id": "GYRXclYv2ZIw"
      },
      "source": [
        "# Persian Poetry GPT2\n",
        "\n",
        "Persian poetry generator is the first attempt on gpt2-fa to generate a poem based on your favorite poet. Follow the fine-tuning notebook for more detail, or try the model on HuggingFace."
      ]
    },
    {
      "cell_type": "code",
      "metadata": {
        "id": "CPI2_Yx4zQTC"
      },
      "source": [
        "!pip install -qU transformers"
      ],
      "execution_count": null,
      "outputs": []
    },
    {
      "cell_type": "code",
      "metadata": {
        "id": "ASt4FaC52-Vs"
      },
      "source": [
        "import re\n",
        "import torch\n",
        "from transformers import AutoTokenizer, AutoModelForCausalLM"
      ],
      "execution_count": null,
      "outputs": []
    },
    {
      "cell_type": "code",
      "metadata": {
        "colab": {
          "base_uri": "https://localhost:8080/"
        },
        "id": "3xghO_i52_8i",
        "outputId": "42ad7589-9d29-4564-c38c-8d3966092a21"
      },
      "source": [
        "tokenizer = AutoTokenizer.from_pretrained(\n",
        "    \"HooshvareLab/gpt2-fa-poetry\"\n",
        ") \n",
        "model = AutoModelForCausalLM.from_pretrained(\n",
        "    \"HooshvareLab/gpt2-fa-poetry\"\n",
        ")\n",
        "device = torch.device(\"cuda\" if torch.cuda.is_available() else \"cpu\")\n",
        "\n",
        "model = model.to(device)\n",
        "print(f\"device is on {device}\")"
      ],
      "execution_count": null,
      "outputs": [
        {
          "output_type": "stream",
          "text": [
            "device is on cuda\n"
          ],
          "name": "stdout"
        }
      ]
    },
    {
      "cell_type": "code",
      "metadata": {
        "id": "tlTppz9V3THs"
      },
      "source": [
        "def generator(poet, max_length=128, num_return_sequences=3):\n",
        "    model.eval()\n",
        "    prompt = f\"<s>{poet}<|startoftext|>\"\n",
        "    print(prompt)\n",
        "\n",
        "    generated = torch.tensor(tokenizer.encode(prompt)).unsqueeze(0)\n",
        "    generated = generated.to(device)\n",
        "\n",
        "    decoded_outputs = model.generate(\n",
        "        generated,\n",
        "        do_sample=True,\n",
        "        top_k=50,\n",
        "        max_length=max_length, \n",
        "        top_p=0.95,\n",
        "        num_return_sequences=num_return_sequences\n",
        "    )\n",
        "\n",
        "\n",
        "    for i, output in enumerate(decoded_outputs):\n",
        "        o = tokenizer.decode(output, skip_special_tokens=False)\n",
        "        o = o.replace(\"<s>\", \"\").replace(\"</s>\", \"\").replace(\"<pad>\", \"\")\n",
        "        o = re.sub(\"\\n+\", \"\\n\", o.replace(\"<sep>\", \"\\n\"))\n",
        "        o = o.replace(\"<|startoftext|>\", \"\\n\")\n",
        "        print(o)\n",
        "        print('-' * 100)"
      ],
      "execution_count": null,
      "outputs": []
    },
    {
      "cell_type": "code",
      "metadata": {
        "colab": {
          "base_uri": "https://localhost:8080/"
        },
        "id": "0sjGBWmY3aW7",
        "outputId": "9020e528-1125-48d0-b77e-814590d0f426"
      },
      "source": [
        "generator(\"مولوی\", num_return_sequences=1)"
      ],
      "execution_count": null,
      "outputs": [
        {
          "output_type": "stream",
          "text": [
            "<s>مولوی<|startoftext|>\n",
            "مولوی\n",
            "اگر چه همچو شیر مردان شکار\n",
            "جهان پر و دهان پر ز شکرست و نثار\n",
            "ز چرخ و ماه اگر چه دوریست آن یار\n",
            "جمال او و اقبال او و تاج و نثار\n",
            "از او همه ملک و تاج در گذرد\n",
            "چو او بدید جمالی ز خلق بیزار\n",
            "بر او بسی نهند آن به چشم‌ها بر\n",
            "چو چشم چشم بد او جهان گرفت قرار\n",
            "به غیر عشق نداند ز عاشقانش\n",
            "که عشق چیست به چشم بدش هزار\n",
            "بدانک جان چو برفتست از وصال دوست\n",
            "میان خوف و رجا راهست و طیع و وقار\n",
            "میان راه دو صد کاروان\n",
            "----------------------------------------------------------------------------------------------------\n"
          ],
          "name": "stdout"
        }
      ]
    },
    {
      "cell_type": "code",
      "metadata": {
        "colab": {
          "base_uri": "https://localhost:8080/"
        },
        "id": "Q7MGiQv-3ugy",
        "outputId": "6ed99c24-744f-4995-f52c-a86326c3f930"
      },
      "source": [
        "generator(\"عطار\", num_return_sequences=1)"
      ],
      "execution_count": null,
      "outputs": [
        {
          "output_type": "stream",
          "text": [
            "<s>عطار<|startoftext|>\n",
            "عطار\n",
            "آن دم که ترا نور خدا می باشد\n",
            "در ظلمتِ تو نور خدا می باشد\n",
            "در عینِ تو ای همه کس با تو دمی\n",
            "چون بی تو ز یک نفس جدا می باشد\n",
            "----------------------------------------------------------------------------------------------------\n"
          ],
          "name": "stdout"
        }
      ]
    },
    {
      "cell_type": "code",
      "metadata": {
        "colab": {
          "base_uri": "https://localhost:8080/"
        },
        "id": "6cqlSdTW320t",
        "outputId": "ea1dec7b-c1f3-49b1-eb2d-6aa3fd04650a"
      },
      "source": [
        "generator(\"فردوسی\", num_return_sequences=1)"
      ],
      "execution_count": null,
      "outputs": [
        {
          "output_type": "stream",
          "text": [
            "<s>فردوسی<|startoftext|>\n",
            "فردوسی\n",
            "سپهبد به رستم سپرد اردشیر\n",
            "بدان شد سپهدار گرد دلیر\n",
            "همی خواند لشکر گه او به جنگ\n",
            "که پیدا به جنگ اندر آیند جنگ\n",
            "به پیش اندرون بر کشیدند راه\n",
            "سپهبد بر اسپ سیه شست راه\n",
            "به هر سو سپاهی برآمد ز جای\n",
            "چوآمد یکی نامور کشته‌خوی\n",
            "ز هامون برآمد سپه پیش اوی\n",
            "چنین گفت با لشکر نامدار\n",
            "که ای نامور شهریار بلند\n",
            "جهان را هم اندر سراسر سپاه\n",
            "نباشد به یک دست با من سپاه\n",
            "هم اکنون که لشکر شبیخون تراست\n",
            "چه جای سپاهست و لشکر تراست\n",
            "بشد پیش رستم چو از درد دل\n",
            "\n",
            "----------------------------------------------------------------------------------------------------\n"
          ],
          "name": "stdout"
        }
      ]
    },
    {
      "cell_type": "code",
      "metadata": {
        "colab": {
          "base_uri": "https://localhost:8080/"
        },
        "id": "6pQrLG5K353c",
        "outputId": "3c3650e1-7842-4ed0-f223-d3565e553d0d"
      },
      "source": [
        "generator(\"حافظ\", num_return_sequences=1)"
      ],
      "execution_count": null,
      "outputs": [
        {
          "output_type": "stream",
          "text": [
            "<s>حافظ<|startoftext|>\n",
            "حافظ\n",
            "با من سخن مگوی چو او فاش گفت\n",
            "زاهد ز من کناره کجا وین هم از او\n",
            "گر محتسب به گوش من آید چه سود؟\n",
            "گر محتسب سخن کند این فاش گفت\n",
            "----------------------------------------------------------------------------------------------------\n"
          ],
          "name": "stdout"
        }
      ]
    },
    {
      "cell_type": "code",
      "metadata": {
        "colab": {
          "base_uri": "https://localhost:8080/"
        },
        "id": "3Y9Mlsio4WAI",
        "outputId": "89b71009-e86a-4b0d-93ef-2449e70cf32a"
      },
      "source": [
        "generator(\"احمد شاملو\", num_return_sequences=1)"
      ],
      "execution_count": null,
      "outputs": [
        {
          "output_type": "stream",
          "text": [
            "<s>احمد شاملو<|startoftext|>\n",
            "احمد شاملو\n",
            "به مردی می‌نگریستم\n",
            "درِ بی‌قراری در سکوتِ تاریکِ خاموشی که در سکوتِ خاموشی می‌سوزد\n",
            "درِ سنگینِ تابوتش.\n",
            " □\n",
            " در آتشِ سردِ تابستانِ سوزان،\n",
            "پُردنی‌ام\n",
            "در ظلمتِ ژرفِ سوزانِ بیابان،\n",
            "درِ سوزانِ سوزانِ خاموشی که در خاموشی\n",
            "درِ خاموشی.\n",
            " □\n",
            " در آن ساعت که در سکوت\n",
            "----------------------------------------------------------------------------------------------------\n"
          ],
          "name": "stdout"
        }
      ]
    },
    {
      "cell_type": "code",
      "metadata": {
        "colab": {
          "base_uri": "https://localhost:8080/"
        },
        "id": "qDrYoMl84Xg1",
        "outputId": "fbea4459-0256-457e-fb8a-42c8118217da"
      },
      "source": [
        "generator(\"سیمین بهبهانی\", num_return_sequences=1)"
      ],
      "execution_count": null,
      "outputs": [
        {
          "output_type": "stream",
          "text": [
            "<s>سیمین بهبهانی<|startoftext|>\n",
            "سیمین بهبهانی\n",
            "هر چه با دلدار خواهی کرد\n",
            " هر چه با دلدار خواهی کرد\n",
            " هر چه با جانت تواند زیست\n",
            " هر چه با دلدار خواهی کرد\n",
            " هر چه با جانت توان گفتن\n",
            " هر چه با جان یار خواهی کرد\n",
            " هر چه با دلدار خواهی کرد\n",
            "هر چه با دلدار خواهی کرد\n",
            " هر چه با جانت توان گفتن\n",
            " هر چه با جانت توان گفت\n",
            " تا همه با غیر خواهی برد\n",
            " هر چه با جانت توان گفتن\n",
            " هر چه با دلدار خواهی کرد\n",
            " هر چه با جانت توان گفت، همین است\n",
            " که به تن غمخوار خواهی کرد\n",
            " هر\n",
            "----------------------------------------------------------------------------------------------------\n"
          ],
          "name": "stdout"
        }
      ]
    },
    {
      "cell_type": "code",
      "metadata": {
        "colab": {
          "base_uri": "https://localhost:8080/"
        },
        "id": "b8AokQAQ4f-x",
        "outputId": "ca77f388-78ac-4d7b-e6dc-ed38258c31b0"
      },
      "source": [
        "generator(\"سعدی\", num_return_sequences=1)"
      ],
      "execution_count": null,
      "outputs": [
        {
          "output_type": "stream",
          "text": [
            "<s>سعدی<|startoftext|>\n",
            "سعدی\n",
            "شنیدم که می‌رفت مردی فقیر\n",
            "که مرد جوان نیستی چون فقیر\n",
            "که در شهر ما چون گدایی بود\n",
            "ز خلقان درویش و درویشی بود\n",
            "بگفت این چه عیشست و کامد تو؟\n",
            "به شهری که می‌برد نام تو؟\n",
            "نه شهریست پاکیزه مانند من\n",
            "نه بازاریست پر عیب و ظن\n",
            "نه از شهر من شهرآرا تویی\n",
            "تو و شهر من بر سر ره تویی\n",
            "خداوند و درویش و درویش باش\n",
            "نه اندر سر شهری و درویش باش\n",
            "یکی پادشه را بر این مملکت\n",
            "که شاهیست در وی عدوی ملک\n",
            "ز درویش ده کام و\n",
            "----------------------------------------------------------------------------------------------------\n"
          ],
          "name": "stdout"
        }
      ]
    },
    {
      "cell_type": "code",
      "metadata": {
        "colab": {
          "base_uri": "https://localhost:8080/"
        },
        "id": "hlYKOibv4nFq",
        "outputId": "ce1ae808-fa26-46cf-8851-aae55cb39e36"
      },
      "source": [
        "generator(\"خواجوی کرمانی\", num_return_sequences=1)"
      ],
      "execution_count": null,
      "outputs": [
        {
          "output_type": "stream",
          "text": [
            "<s>خواجوی کرمانی<|startoftext|>\n",
            "خواجوی کرمانی\n",
            "صاحبا از من مسکین طلب یاری بکن\n",
            "گر چه بر من در نمی‌آید ز دلداری بکن\n",
            "هیچ کس را چون طبیب از درد دل بر روی من\n",
            "نیست بی درد جگر چون درد دل باری بکن\n",
            "می خور و می خور که آن شیرین نمی‌ارزد به کس\n",
            "هر دم از دست دلارامی گرفتاری بکن\n",
            "گر چه جز عشق حقیقی نیست یکدم بی وجود\n",
            "صبر اگر خواهی ز من جز خویشتن یاری بکن\n",
            "هر زمان کز من سری داری که با یک درد سر\n",
            "یک نفس از پای در نیستان ز جباری بکن\n",
            "گر ز مستی ترک یاری کن که از مستی شوی\n",
            "----------------------------------------------------------------------------------------------------\n"
          ],
          "name": "stdout"
        }
      ]
    },
    {
      "cell_type": "code",
      "metadata": {
        "id": "2WvWjRGX4-IB"
      },
      "source": [
        "<s>رودکی<|startoftext|>\n",
        "<s>فردوسی<|startoftext|>\n",
        "<s>کسایی<|startoftext|>\n",
        "<s>ناصرخسرو<|startoftext|>\n",
        "<s>منوچهری<|startoftext|>\n",
        "<s>فرخی سیستانی<|startoftext|>\n",
        "<s>مسعود سعد سلمان<|startoftext|>\n",
        "<s>ابوسعید ابوالخیر<|startoftext|>\n",
        "<s>باباطاهر<|startoftext|>\n",
        "<s>فخرالدین اسعد گرگانی<|startoftext|>\n",
        "<s>اسدی توسی<|startoftext|>\n",
        "<s>هجویری<|startoftext|>\n",
        "<s>خیام<|startoftext|>\n",
        "<s>نظامی<|startoftext|>\n",
        "<s>عطار<|startoftext|>\n",
        "<s>سنایی<|startoftext|>\n",
        "<s>خاقانی<|startoftext|>\n",
        "<s>انوری<|startoftext|>\n",
        "<s>عبدالواسع جبلی<|startoftext|>\n",
        "<s>نصرالله منشی<|startoftext|>\n",
        "<s>مهستی گنجوی<|startoftext|>\n",
        "<s>باباافضل کاشانی<|startoftext|>\n",
        "<s>مولوی<|startoftext|>\n",
        "<s>سعدی<|startoftext|>\n",
        "<s>خواجوی کرمانی<|startoftext|>\n",
        "<s>عراقی<|startoftext|>\n",
        "<s>سیف فرغانی<|startoftext|>\n",
        "<s>حافظ<|startoftext|>\n",
        "<s>اوحدی<|startoftext|>\n",
        "<s>شیخ محمود شبستری<|startoftext|>\n",
        "<s>عبید زاکانی<|startoftext|>\n",
        "<s>امیرخسرو دهلوی<|startoftext|>\n",
        "<s>سلمان ساوجی<|startoftext|>\n",
        "<s>شاه نعمت‌الله ولی<|startoftext|>\n",
        "<s>جامی<|startoftext|>\n",
        "<s>هلالی جغتایی<|startoftext|>\n",
        "<s>وحشی<|startoftext|>\n",
        "<s>محتشم کاشانی<|startoftext|>\n",
        "<s>شیخ بهایی<|startoftext|>\n",
        "<s>عرفی<|startoftext|>\n",
        "<s>رضی‌الدین آرتیمانی<|startoftext|>\n",
        "<s>صائب تبریزی<|startoftext|>\n",
        "<s>فیض کاشانی<|startoftext|>\n",
        "<s>بیدل دهلوی<|startoftext|>\n",
        "<s>هاتف اصفهانی<|startoftext|>\n",
        "<s>فروغی بسطامی<|startoftext|>\n",
        "<s>قاآنی<|startoftext|>\n",
        "<s>ملا هادی سبزواری<|startoftext|>\n",
        "<s>پروین اعتصامی<|startoftext|>\n",
        "<s>ملک‌الشعرای بهار<|startoftext|>\n",
        "<s>شهریار<|startoftext|>\n",
        "<s>رهی معیری<|startoftext|>\n",
        "<s>اقبال لاهوری<|startoftext|>\n",
        "<s>خلیل‌الله خلیلی<|startoftext|>\n",
        "<s>شاطرعباس صبوحی<|startoftext|>\n",
        "<s>نیما یوشیج ( آوای آزاد )<|startoftext|>\n",
        "<s>احمد شاملو<|startoftext|>\n",
        "<s>سهراب سپهری<|startoftext|>\n",
        "<s>فروغ فرخزاد<|startoftext|>\n",
        "<s>سیمین بهبهانی<|startoftext|>\n",
        "<s>مهدی اخوان ثالث<|startoftext|>\n",
        "<s>محمدحسن بارق شفیعی<|startoftext|>\n",
        "<s>شیون فومنی<|startoftext|>\n",
        "<s>کامبیز صدیقی کسمایی<|startoftext|>\n",
        "<s>بهرام سالکی<|startoftext|>\n",
        "<s>عبدالقهّار عاصی<|startoftext|>\n",
        "<s>اِ لیـــار    (جبار محمدی )<|startoftext|>"
      ],
      "execution_count": null,
      "outputs": []
    },
    {
      "cell_type": "code",
      "metadata": {
        "colab": {
          "base_uri": "https://localhost:8080/"
        },
        "id": "yjkRwVW666vD",
        "outputId": "af549709-7bd4-4749-8270-6c3984a1ee34"
      },
      "source": [
        "generator(\"پروین اعتصامی\", num_return_sequences=1)"
      ],
      "execution_count": null,
      "outputs": [
        {
          "output_type": "stream",
          "text": [
            "<s>پروین اعتصامی<|startoftext|>\n",
            "پروین اعتصامی\n",
            "از سر کوی تو می‌بینم\n",
            "وز سر کوی تو می‌بینم\n",
            "همچو بادی که بر جهانت\n",
            "ریشه و برگ و نوا می‌بینم\n",
            "با تو یک آه سرد و یک آه سرد\n",
            "هیچ یک ناله از قضا می‌بینم\n",
            "نه ز یک مشت خون دلم شد چاک\n",
            "نه ز یک مشت خونبها می‌بینم\n",
            "همچو پرگار گردم افلاک\n",
            "همچو چرخی که زیر پا می‌بینم\n",
            "من ز بس گرم و سرد روزگار\n",
            "من ز یک مشت آب و ما می‌بینم\n",
            "دل نه با صدهزار رنگ است\n",
            "من بغیر از تو هیچ جا\n",
            "----------------------------------------------------------------------------------------------------\n"
          ],
          "name": "stdout"
        }
      ]
    },
    {
      "cell_type": "code",
      "metadata": {
        "id": "t1AGfY0D6_PE"
      },
      "source": [
        ""
      ],
      "execution_count": null,
      "outputs": []
    }
  ]
}