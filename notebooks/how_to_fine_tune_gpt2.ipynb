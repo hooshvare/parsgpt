e{
  "nbformat": 4,
  "nbformat_minor": 0,
  "metadata": {
    "colab": {
      "name": "Persian_Poetry_Fine-Tuning.ipynb",
      "provenance": [],
      "collapsed_sections": []
    },
    "kernelspec": {
      "name": "python3",
      "display_name": "Python 3"
    },
    "accelerator": "GPU"
  },
  "cells": [
    {
      "cell_type": "code",
      "metadata": {
        "colab": {
          "base_uri": "https://localhost:8080/"
        },
        "id": "YsiQI9Ka-HyB",
        "outputId": "5163f9ff-9087-43c6-901b-eb8da4e4692e"
      },
      "source": [
        "!nvidia-smi"
      ],
      "execution_count": 1,
      "outputs": [
        {
          "output_type": "stream",
          "text": [
            "Mon Feb 15 10:21:46 2021       \n",
            "+-----------------------------------------------------------------------------+\n",
            "| NVIDIA-SMI 460.39       Driver Version: 460.32.03    CUDA Version: 11.2     |\n",
            "|-------------------------------+----------------------+----------------------+\n",
            "| GPU  Name        Persistence-M| Bus-Id        Disp.A | Volatile Uncorr. ECC |\n",
            "| Fan  Temp  Perf  Pwr:Usage/Cap|         Memory-Usage | GPU-Util  Compute M. |\n",
            "|                               |                      |               MIG M. |\n",
            "|===============================+======================+======================|\n",
            "|   0  Tesla K80           Off  | 00000000:00:04.0 Off |                    0 |\n",
            "| N/A   70C    P0    89W / 149W |      0MiB / 11441MiB |      0%      Default |\n",
            "|                               |                      |                  N/A |\n",
            "+-------------------------------+----------------------+----------------------+\n",
            "                                                                               \n",
            "+-----------------------------------------------------------------------------+\n",
            "| Processes:                                                                  |\n",
            "|  GPU   GI   CI        PID   Type   Process name                  GPU Memory |\n",
            "|        ID   ID                                                   Usage      |\n",
            "|=============================================================================|\n",
            "|  No running processes found                                                 |\n",
            "+-----------------------------------------------------------------------------+\n"
          ],
          "name": "stdout"
        }
      ]
    },
    {
      "cell_type": "code",
      "metadata": {
        "colab": {
          "base_uri": "https://localhost:8080/"
        },
        "id": "LjuVHWEN-OeN",
        "outputId": "67198049-3a36-4b3c-d4f2-2f8b38945922"
      },
      "source": [
        "!pip install -qU transformers\n",
        "!pip install -qU hazm"
      ],
      "execution_count": 2,
      "outputs": [
        {
          "output_type": "stream",
          "text": [
            "\u001b[K     |████████████████████████████████| 1.8MB 4.1MB/s \n",
            "\u001b[K     |████████████████████████████████| 3.2MB 17.8MB/s \n",
            "\u001b[K     |████████████████████████████████| 890kB 33.1MB/s \n",
            "\u001b[?25h  Building wheel for sacremoses (setup.py) ... \u001b[?25l\u001b[?25hdone\n",
            "\u001b[K     |████████████████████████████████| 317kB 6.0MB/s \n",
            "\u001b[K     |████████████████████████████████| 235kB 31.4MB/s \n",
            "\u001b[K     |████████████████████████████████| 1.4MB 24.7MB/s \n",
            "\u001b[?25h  Building wheel for libwapiti (setup.py) ... \u001b[?25l\u001b[?25hdone\n",
            "  Building wheel for nltk (setup.py) ... \u001b[?25l\u001b[?25hdone\n"
          ],
          "name": "stdout"
        }
      ]
    },
    {
      "cell_type": "code",
      "metadata": {
        "id": "uOC4y5rm-QNX"
      },
      "source": [
        "import hazm\n",
        "\n",
        "\n",
        "normalizer = hazm.Normalizer(persian_numbers=False)\n",
        "\n",
        "def normalize_input(text):\n",
        "    text = normalizer.normalize(text)\n",
        "    return text"
      ],
      "execution_count": 2,
      "outputs": []
    },
    {
      "cell_type": "code",
      "metadata": {
        "id": "NzgbX_uE34rV",
        "colab": {
          "base_uri": "https://localhost:8080/"
        },
        "outputId": "145d240e-db60-4e22-d382-a006a82e240c"
      },
      "source": [
        "# Load dataset\n",
        "!git clone https://github.com/aghasemi/ChronologicalPersianPoetryDataset.git poems"
      ],
      "execution_count": 5,
      "outputs": [
        {
          "output_type": "stream",
          "text": [
            "Cloning into 'poems'...\n",
            "remote: Enumerating objects: 6, done.\u001b[K\n",
            "remote: Counting objects: 100% (6/6), done.\u001b[K\n",
            "remote: Compressing objects: 100% (6/6), done.\u001b[K\n",
            "remote: Total 39 (delta 2), reused 0 (delta 0), pack-reused 33\u001b[K\n",
            "Unpacking objects: 100% (39/39), done.\n",
            "Checking out files: 100% (8/8), done.\n"
          ],
          "name": "stdout"
        }
      ]
    },
    {
      "cell_type": "code",
      "metadata": {
        "id": "m_2U9J1o5Gtu"
      },
      "source": [
        "import json\n",
        "import os\n",
        "import glob\n",
        "\n",
        "import numpy as np\n",
        "import pandas as pd\n",
        "\n",
        "from tqdm import tqdm"
      ],
      "execution_count": 3,
      "outputs": []
    },
    {
      "cell_type": "code",
      "metadata": {
        "colab": {
          "base_uri": "https://localhost:8080/",
          "height": 197
        },
        "id": "Osc729oi5U1w",
        "outputId": "d699c0ef-d88a-4b31-fed7-89f74d3446e2"
      },
      "source": [
        "df = pd.read_csv(\"/content/poems/poems.tsv\", sep=\"\\t\")\n",
        "\n",
        "# Depends on you\n",
        "# df[\"poem\"] = df[\"poem\"].apply(lambda t: normalize_input(t))\n",
        "\n",
        "df[\"text\"] = df[\"poet\"] + \"<|startoftext|>\" + df[\"poem\"].apply(lambda t: t.replace(\"    \", \"<sep>\").replace(\"\\t\", \"<sep>\"))\n",
        "df = df.dropna()\n",
        "df = df.reset_index(drop=True)\n",
        "df.head()"
      ],
      "execution_count": 4,
      "outputs": [
        {
          "output_type": "execute_result",
          "data": {
            "text/html": [
              "<div>\n",
              "<style scoped>\n",
              "    .dataframe tbody tr th:only-of-type {\n",
              "        vertical-align: middle;\n",
              "    }\n",
              "\n",
              "    .dataframe tbody tr th {\n",
              "        vertical-align: top;\n",
              "    }\n",
              "\n",
              "    .dataframe thead th {\n",
              "        text-align: right;\n",
              "    }\n",
              "</style>\n",
              "<table border=\"1\" class=\"dataframe\">\n",
              "  <thead>\n",
              "    <tr style=\"text-align: right;\">\n",
              "      <th></th>\n",
              "      <th>poet</th>\n",
              "      <th>century</th>\n",
              "      <th>poem</th>\n",
              "      <th>text</th>\n",
              "    </tr>\n",
              "  </thead>\n",
              "  <tbody>\n",
              "    <tr>\n",
              "      <th>0</th>\n",
              "      <td>رودکی</td>\n",
              "      <td>3</td>\n",
              "      <td>گر من این دوستی تو ببرم تا لب گور    بزنم نعره...</td>\n",
              "      <td>رودکی&lt;|startoftext|&gt;گر من این دوستی تو ببرم تا...</td>\n",
              "    </tr>\n",
              "    <tr>\n",
              "      <th>1</th>\n",
              "      <td>رودکی</td>\n",
              "      <td>3</td>\n",
              "      <td>به حق نالم ز هجر دوست زارا    سحرگاهان چو بر گ...</td>\n",
              "      <td>رودکی&lt;|startoftext|&gt;به حق نالم ز هجر دوست زارا...</td>\n",
              "    </tr>\n",
              "    <tr>\n",
              "      <th>2</th>\n",
              "      <td>رودکی</td>\n",
              "      <td>3</td>\n",
              "      <td>به نام نیک تو، خواجه، فریفته نشوم    که نام نی...</td>\n",
              "      <td>رودکی&lt;|startoftext|&gt;به نام نیک تو، خواجه، فریف...</td>\n",
              "    </tr>\n",
              "    <tr>\n",
              "      <th>3</th>\n",
              "      <td>رودکی</td>\n",
              "      <td>3</td>\n",
              "      <td>دلا، تا کی همی جویی منی را؟    چه داری دوست هر...</td>\n",
              "      <td>رودکی&lt;|startoftext|&gt;دلا، تا کی همی جویی منی را...</td>\n",
              "    </tr>\n",
              "    <tr>\n",
              "      <th>4</th>\n",
              "      <td>رودکی</td>\n",
              "      <td>3</td>\n",
              "      <td>گرفت خواهم زلفین عنبرین ترا    به بوسه نقش‌کنم...</td>\n",
              "      <td>رودکی&lt;|startoftext|&gt;گرفت خواهم زلفین عنبرین تر...</td>\n",
              "    </tr>\n",
              "  </tbody>\n",
              "</table>\n",
              "</div>"
            ],
            "text/plain": [
              "    poet  ...                                               text\n",
              "0  رودکی  ...  رودکی<|startoftext|>گر من این دوستی تو ببرم تا...\n",
              "1  رودکی  ...  رودکی<|startoftext|>به حق نالم ز هجر دوست زارا...\n",
              "2  رودکی  ...  رودکی<|startoftext|>به نام نیک تو، خواجه، فریف...\n",
              "3  رودکی  ...  رودکی<|startoftext|>دلا، تا کی همی جویی منی را...\n",
              "4  رودکی  ...  رودکی<|startoftext|>گرفت خواهم زلفین عنبرین تر...\n",
              "\n",
              "[5 rows x 4 columns]"
            ]
          },
          "metadata": {
            "tags": []
          },
          "execution_count": 4
        }
      ]
    },
    {
      "cell_type": "code",
      "metadata": {
        "id": "sQVeZMuMGmkL"
      },
      "source": [
        "poets = list(df[\"poet\"].unique())"
      ],
      "execution_count": 5,
      "outputs": []
    },
    {
      "cell_type": "code",
      "metadata": {
        "colab": {
          "base_uri": "https://localhost:8080/"
        },
        "id": "PbOSID0q8IU9",
        "outputId": "d8b45f27-ab6f-4ef5-aca9-44993b7a940a"
      },
      "source": [
        "idx = np.random.randint(0, len(df))\n",
        "print(idx)\n",
        "print(df.iloc[idx][\"poet\"])\n",
        "print(df.iloc[idx][\"poem\"])\n",
        "print(df.iloc[idx][\"text\"])"
      ],
      "execution_count": 6,
      "outputs": [
        {
          "output_type": "stream",
          "text": [
            "36063\n",
            "فیض کاشانی\n",
            "هر دمم نیشی ز خویشی میرسد با آشنا     عمر شد در آشنائیها و خویشی ها هبا     کینه ها در سینه ها دارند خویشان ازحسد    آشنایان در پی گنجینه های عمرها     هیچ آزاری ندیدم هرگز از بیگانهٔ     هر غمی کامد بدل از خویش بود و آشنا     بحر دل را تیره گرداند چو خویشی بگذرد     میزند بر دل بگد چون آشنا کرد آشنا     خویش میخواهد نباشد خویش بر روی زمین    تا بریزد روزی آن بر سر این از سما     چون سلامی می کند سنگیست بر دل میخورد     بی سلام ار بگذرد بر جان خلد زان خارها     راحتی مر آشنا را زآشنائی کم رسد     نیست راضی آشنائی از سلوک آشنا     شکوه کم کن فیض از یاران ودر خودکن نظر    تا چگونه میکنی در بحر دلها آشنا     گر زمن پرسی زخویش و آشنا بیگانه شو    با خدای خویش میباش آشنا و آشنا\n",
            "فیض کاشانی<|startoftext|>هر دمم نیشی ز خویشی میرسد با آشنا<sep> عمر شد در آشنائیها و خویشی ها هبا<sep> کینه ها در سینه ها دارند خویشان ازحسد<sep>آشنایان در پی گنجینه های عمرها<sep> هیچ آزاری ندیدم هرگز از بیگانهٔ<sep> هر غمی کامد بدل از خویش بود و آشنا<sep> بحر دل را تیره گرداند چو خویشی بگذرد<sep> میزند بر دل بگد چون آشنا کرد آشنا<sep> خویش میخواهد نباشد خویش بر روی زمین<sep>تا بریزد روزی آن بر سر این از سما<sep> چون سلامی می کند سنگیست بر دل میخورد<sep> بی سلام ار بگذرد بر جان خلد زان خارها<sep> راحتی مر آشنا را زآشنائی کم رسد<sep> نیست راضی آشنائی از سلوک آشنا<sep> شکوه کم کن فیض از یاران ودر خودکن نظر<sep>تا چگونه میکنی در بحر دلها آشنا<sep> گر زمن پرسی زخویش و آشنا بیگانه شو<sep>با خدای خویش میباش آشنا و آشنا\n"
          ],
          "name": "stdout"
        }
      ]
    },
    {
      "cell_type": "code",
      "metadata": {
        "colab": {
          "base_uri": "https://localhost:8080/"
        },
        "id": "J351-BahDVeM",
        "outputId": "03b90f84-8025-4ce2-8911-bd96f4563283"
      },
      "source": [
        "df.info()"
      ],
      "execution_count": 7,
      "outputs": [
        {
          "output_type": "stream",
          "text": [
            "<class 'pandas.core.frame.DataFrame'>\n",
            "RangeIndex: 54524 entries, 0 to 54523\n",
            "Data columns (total 4 columns):\n",
            " #   Column   Non-Null Count  Dtype \n",
            "---  ------   --------------  ----- \n",
            " 0   poet     54524 non-null  object\n",
            " 1   century  54524 non-null  int64 \n",
            " 2   poem     54524 non-null  object\n",
            " 3   text     54524 non-null  object\n",
            "dtypes: int64(1), object(3)\n",
            "memory usage: 1.7+ MB\n"
          ],
          "name": "stdout"
        }
      ]
    },
    {
      "cell_type": "code",
      "metadata": {
        "id": "ho5oIfRjEHhh"
      },
      "source": [
        "import pandas as pd\n",
        "import numpy as np\n",
        "\n",
        "from pathlib import Path\n",
        "\n",
        "import torch\n",
        "from transformers import AutoTokenizer, AutoConfig, AutoModelWithLMHead\n",
        "from transformers import AutoTokenizer, GPT2LMHeadModel, GPT2Config\n",
        "\n",
        "from IPython import display"
      ],
      "execution_count": 8,
      "outputs": []
    },
    {
      "cell_type": "code",
      "metadata": {
        "id": "RdnnYyAeEt5H",
        "colab": {
          "base_uri": "https://localhost:8080/"
        },
        "outputId": "c3cc7b86-91e4-46e5-c98a-b5d72d383b84"
      },
      "source": [
        "model_name_or_path = \"HooshvareLab/gpt2-fa\"\n",
        "\n",
        "tokenizer = AutoTokenizer.from_pretrained(\n",
        "    model_name_or_path,\n",
        "    bos_token='<s>', \n",
        "    eos_token='</s>', \n",
        "    pad_token='<pad>',\n",
        "    unk_token='<unk>'\n",
        ")\n",
        "tokenizer.add_special_tokens({\n",
        "    \"bos_token\": '</s>',\n",
        "    \"eos_token\": '</s>', \n",
        "    \"pad_token\": '<pad>',\n",
        "    \"unk_token\": '<unk>'\n",
        "})\n",
        "\n",
        "config = AutoConfig.from_pretrained(\n",
        "    model_name_or_path,\n",
        "    bos_token_id=tokenizer(\"<s>\")[\"input_ids\"][0], \n",
        "    eos_token_id=tokenizer(\"</s>\")[\"input_ids\"][0], \n",
        "    pad_token_id=tokenizer(\"<pad>\")[\"input_ids\"][0],\n",
        "    unk_token_id=tokenizer(\"<unk>\")[\"input_ids\"][0],\n",
        ")\n",
        "\n",
        "tokenizer.save_pretrained(\"/content/gpt2/\")\n",
        "config.save_pretrained(\"/content/gpt2/\")\n",
        "\n",
        "!wget \"https://huggingface.co/HooshvareLab/gpt2-fa/resolve/main/pytorch_model.bin\" -P /content/gpt2/\n",
        "!wget \"https://huggingface.co/HooshvareLab/gpt2-fa/resolve/main/tokenizer.json\" -P /content/gpt2/"
      ],
      "execution_count": 9,
      "outputs": [
        {
          "output_type": "stream",
          "text": [
            "--2021-02-15 10:21:54--  https://huggingface.co/HooshvareLab/gpt2-fa/resolve/main/pytorch_model.bin\n",
            "Resolving huggingface.co (huggingface.co)... 34.201.172.85\n",
            "Connecting to huggingface.co (huggingface.co)|34.201.172.85|:443... connected.\n",
            "HTTP request sent, awaiting response... 302 Found\n",
            "Location: https://cdn-lfs.huggingface.co/HooshvareLab/gpt2-fa/46b0b806c740a0f0a9f056f5574c5fa896166fe844945fd3c849bf34365e5060 [following]\n",
            "--2021-02-15 10:21:55--  https://cdn-lfs.huggingface.co/HooshvareLab/gpt2-fa/46b0b806c740a0f0a9f056f5574c5fa896166fe844945fd3c849bf34365e5060\n",
            "Resolving cdn-lfs.huggingface.co (cdn-lfs.huggingface.co)... 13.225.103.6, 13.225.103.81, 13.225.103.97, ...\n",
            "Connecting to cdn-lfs.huggingface.co (cdn-lfs.huggingface.co)|13.225.103.6|:443... connected.\n",
            "HTTP request sent, awaiting response... 200 OK\n",
            "Length: 485044198 (463M) [application/zip]\n",
            "Saving to: ‘/content/gpt2/pytorch_model.bin.3’\n",
            "\n",
            "pytorch_model.bin.3 100%[===================>] 462.57M   199MB/s    in 2.3s    \n",
            "\n",
            "2021-02-15 10:21:58 (199 MB/s) - ‘/content/gpt2/pytorch_model.bin.3’ saved [485044198/485044198]\n",
            "\n",
            "--2021-02-15 10:21:58--  https://huggingface.co/HooshvareLab/gpt2-fa/resolve/main/tokenizer.json\n",
            "Resolving huggingface.co (huggingface.co)... 34.201.172.85\n",
            "Connecting to huggingface.co (huggingface.co)|34.201.172.85|:443... connected.\n",
            "HTTP request sent, awaiting response... 200 OK\n",
            "Length: 2748949 (2.6M) [application/json]\n",
            "Saving to: ‘/content/gpt2/tokenizer.json.3’\n",
            "\n",
            "tokenizer.json.3    100%[===================>]   2.62M  2.06MB/s    in 1.3s    \n",
            "\n",
            "2021-02-15 10:22:00 (2.06 MB/s) - ‘/content/gpt2/tokenizer.json.3’ saved [2748949/2748949]\n",
            "\n"
          ],
          "name": "stdout"
        }
      ]
    },
    {
      "cell_type": "code",
      "metadata": {
        "colab": {
          "base_uri": "https://localhost:8080/"
        },
        "id": "_rOYPUa9GWuI",
        "outputId": "03caf027-e77a-4a59-849f-49aec21f3d70"
      },
      "source": [
        "tokenizer = AutoTokenizer.from_pretrained(\n",
        "    \"/content/gpt2\",\n",
        "    bos_token='<s>', \n",
        "    eos_token='</s>', \n",
        "    pad_token='<pad>'\n",
        ")\n",
        "\n",
        "print(tokenizer.encode(\"سلام بر شما\"))\n",
        "print(tokenizer.encode(\"<s>\"))\n",
        "print(tokenizer.encode(\"</s>\"))\n",
        "print(tokenizer.encode(\"<pad>\"))\n",
        "print(tokenizer.encode(\"<|startoftext|>\"))\n",
        "print(tokenizer.encode(\"<sep>\"))"
      ],
      "execution_count": 10,
      "outputs": [
        {
          "output_type": "stream",
          "text": [
            "[8906, 327, 512]\n",
            "[0]\n",
            "[2]\n",
            "[1]\n",
            "[6]\n",
            "[9]\n"
          ],
          "name": "stdout"
        }
      ]
    },
    {
      "cell_type": "code",
      "metadata": {
        "colab": {
          "base_uri": "https://localhost:8080/"
        },
        "id": "2Pv98AHjH4jF",
        "outputId": "0f765cf6-ad5d-49fa-eb6a-e662fb503149"
      },
      "source": [
        "texts = df[\"text\"].values.tolist()\n",
        "\n",
        "print(len(texts))"
      ],
      "execution_count": 11,
      "outputs": [
        {
          "output_type": "stream",
          "text": [
            "54524\n"
          ],
          "name": "stdout"
        }
      ]
    },
    {
      "cell_type": "code",
      "metadata": {
        "id": "19fApJsoIJA1"
      },
      "source": [
        "# max_seq = max([len(tokenizer.encode(text)) for text in texts])\n",
        "\n",
        "# print(f'The longest text is {max_seq} tokens long.')\n",
        "\n",
        "# Due to the limited resources and for the sake of simplicity \n",
        "# Set to 256\n",
        "max_seq = 256"
      ],
      "execution_count": 12,
      "outputs": []
    },
    {
      "cell_type": "code",
      "metadata": {
        "id": "C5m3YNOvIKoU"
      },
      "source": [
        "from torch.utils.data import Dataset  # this is the pytorch class import\n",
        "import torch\n",
        "torch.manual_seed(42)\n",
        "\n",
        "\n",
        "class MTGDataset(Dataset):\n",
        "\n",
        "    def __init__(self, txt_list, tokenizer, max_length=1024):\n",
        "\n",
        "        self.tokenizer = tokenizer  # the gpt2 tokenizer we instantiated\n",
        "        self.input_ids = []\n",
        "        self.attn_masks = []\n",
        "\n",
        "        for txt in txt_list:\n",
        "            \"\"\"\n",
        "            This loop will iterate through each entry in the flavour text corpus.\n",
        "            For each bit of text it will prepend it with the start of text token,\n",
        "            then append the end of text token and pad to the maximum length with the \n",
        "            pad token. \n",
        "            \"\"\"\n",
        "\n",
        "            encodings_dict = tokenizer('<s>' + txt + '</s>',\n",
        "                                       truncation=True,\n",
        "                                       max_length=max_length,\n",
        "                                       padding=\"max_length\")\n",
        "\n",
        "            \"\"\"\n",
        "            Each iteration then appends either the encoded tensor to a list,\n",
        "            or the attention mask for that encoding to a list. The attention mask is\n",
        "            a binary list of 1's or 0's which determine whether the langauge model\n",
        "            should take that token into consideration or not. \n",
        "            \"\"\"\n",
        "            self.input_ids.append(torch.tensor(encodings_dict['input_ids']))\n",
        "            self.attn_masks.append(torch.tensor(encodings_dict['attention_mask']))\n",
        "\n",
        "    def __len__(self):\n",
        "        return len(self.input_ids)\n",
        "\n",
        "    def __getitem__(self, idx):\n",
        "        return self.input_ids[idx], self.attn_masks[idx]"
      ],
      "execution_count": 13,
      "outputs": []
    },
    {
      "cell_type": "code",
      "metadata": {
        "colab": {
          "base_uri": "https://localhost:8080/",
          "height": 35
        },
        "id": "MwY3srMLINfs",
        "outputId": "3e44e0e1-e157-4964-f15a-bf0d0016aec5"
      },
      "source": [
        "from torch.utils.data import random_split\n",
        "\n",
        "dataset = MTGDataset(texts, tokenizer, max_length=max_seq)\n",
        "\n",
        "# Split into training and validation sets\n",
        "train_size = int(0.9 * len(dataset))\n",
        "val_size = len(dataset) - train_size\n",
        "train_dataset, val_dataset = random_split(dataset, [train_size, val_size])\n",
        "\n",
        "f'There are {len(train_dataset)} samples for training, and {len(val_dataset)} samples for validation testing'"
      ],
      "execution_count": 14,
      "outputs": [
        {
          "output_type": "execute_result",
          "data": {
            "application/vnd.google.colaboratory.intrinsic+json": {
              "type": "string"
            },
            "text/plain": [
              "'There are 49071 samples for training, and 5453 samples for validation testing'"
            ]
          },
          "metadata": {
            "tags": []
          },
          "execution_count": 14
        }
      ]
    },
    {
      "cell_type": "code",
      "metadata": {
        "colab": {
          "base_uri": "https://localhost:8080/"
        },
        "id": "lplxA4inIReU",
        "outputId": "dd94b531-7322-4b8b-c1c8-1b24b4ead84d"
      },
      "source": [
        "print(train_dataset[0][0][:100])\n",
        "print(tokenizer.decode(train_dataset[0][0][:100]))"
      ],
      "execution_count": 15,
      "outputs": [
        {
          "output_type": "stream",
          "text": [
            "tensor([    0,  5756,   361,     6,  2076,  3800,   358,   336,  5307,   521,\n",
            "          285,   727,   274,   293,   327, 11800,     9,  1061,   295,   621,\n",
            "          293, 17312,  1691,   488,   627,  2008,   274,     9,   402,   488,\n",
            "        25136,   314,   656,   293, 15018,  5790,   274,     9,   481,  3573,\n",
            "        10358, 11810,   298, 27492,   274,   293,   298,   351,  5307,     9,\n",
            "          378,  5274, 10352,   336,  4705,   310,   619,   323,   610,   521,\n",
            "          285, 29651,   832,     9,   286, 10559,   610,   310, 16820,  1350,\n",
            "        20836,   293,  1851,   274,     9,  4713,  2066,   716,  3800,   358,\n",
            "         1546,   391,   788,  5875,     9,   751,  3981,   358,  1546,   274,\n",
            "          716,  1859,   352,   293,  2066,   419,  5307,     9, 19003, 13494])\n",
            "<s>مولوی<|startoftext|>تا عاشق آن یارم بی‌کارم و بر کارم<sep>سرگشته و پابرجا ماننده پرگارم<sep>ماننده مریخی با ماه و فلک خشمم<sep>وز چرخ کله زرین در ننگم و در عارم<sep>گر خویش منی یارا می بین که چه بی‌خویشم<sep>ز اسرار چه می پرسی چون شهره و اظهارم<sep>جز خون دل عاشق آن شیر نیاشامد<sep>من زاده آن شیرم دلجویم و خون خوارم<sep>رنجورم\n"
          ],
          "name": "stdout"
        }
      ]
    },
    {
      "cell_type": "code",
      "metadata": {
        "id": "8hxgySomITYV"
      },
      "source": [
        "from torch.utils.data import DataLoader, RandomSampler, SequentialSampler\n",
        "\n",
        "train_dataloader = DataLoader(\n",
        "    train_dataset,\n",
        "    sampler=RandomSampler(train_dataset),\n",
        "    batch_size=8\n",
        ")\n",
        "\n",
        "validation_dataloader = DataLoader(\n",
        "    val_dataset,\n",
        "    sampler=SequentialSampler(val_dataset),\n",
        "    batch_size=8\n",
        ")"
      ],
      "execution_count": 16,
      "outputs": []
    },
    {
      "cell_type": "code",
      "metadata": {
        "id": "TVUEzpPvIYYV"
      },
      "source": [
        "import random\n",
        "from transformers import GPT2LMHeadModel, GPT2Config\n",
        "import numpy as np\n",
        "\n",
        "# Loading the model configuration and setting it to the GPT2 standard settings.\n",
        "configuration = GPT2Config.from_pretrained('./gpt2', output_hidden_states=False)\n",
        "\n",
        "# Create the instance of the model and set the token size embedding length\n",
        "model = GPT2LMHeadModel.from_pretrained(\"./gpt2\", config=configuration)\n",
        "model.resize_token_embeddings(len(tokenizer))\n",
        "\n",
        "# Tell pytorch to run this model on the GPU.\n",
        "device = torch.device(\"cuda\")\n",
        "model.cuda()\n",
        "\n",
        "# This step is optional but will enable reproducible runs.\n",
        "seed_val = 42\n",
        "\n",
        "random.seed(seed_val)\n",
        "np.random.seed(seed_val)\n",
        "torch.manual_seed(seed_val)\n",
        "torch.cuda.manual_seed_all(seed_val)"
      ],
      "execution_count": 17,
      "outputs": []
    },
    {
      "cell_type": "code",
      "metadata": {
        "id": "2zgo4J21IaYc"
      },
      "source": [
        "epochs = 3\n",
        "warmup_steps = 1e2\n",
        "sample_every = 300"
      ],
      "execution_count": 18,
      "outputs": []
    },
    {
      "cell_type": "code",
      "metadata": {
        "id": "t0C5AtZ8IdWa"
      },
      "source": [
        "from transformers import AdamW\n",
        "\n",
        "# AdamW is a class from the huggingface library, it is the optimizer we will be using, and we will only be instantiating it with the default parameters.\n",
        "optimizer = AdamW(\n",
        "    model.parameters(),\n",
        "    lr=5e-4,\n",
        "    eps=1e-8\n",
        ")"
      ],
      "execution_count": 19,
      "outputs": []
    },
    {
      "cell_type": "code",
      "metadata": {
        "id": "uiWGu9MsIcw8"
      },
      "source": [
        "from transformers import get_linear_schedule_with_warmup\n",
        "\n",
        "\"\"\"\n",
        "Total training steps is the number of data points, times the number of epochs. \n",
        "Essentially, epochs are training cycles, how many times each point will be seen by the model. \n",
        "\"\"\"\n",
        "\n",
        "total_steps = len(train_dataloader) * epochs\n",
        "\n",
        "\"\"\"\n",
        "We can set a variable learning rate which will help scan larger areas of the \n",
        "problem space at higher LR earlier, then fine tune to find the exact model minima \n",
        "at lower LR later in training.\n",
        "\"\"\"\n",
        "scheduler = get_linear_schedule_with_warmup(\n",
        "    optimizer,\n",
        "    num_warmup_steps=warmup_steps,\n",
        "    num_training_steps=total_steps)\n"
      ],
      "execution_count": 27,
      "outputs": []
    },
    {
      "cell_type": "code",
      "metadata": {
        "colab": {
          "base_uri": "https://localhost:8080/"
        },
        "id": "lM0WgwGSO2dy",
        "outputId": "adf1021c-31d2-402c-d9bf-cec00717d6b3"
      },
      "source": [
        "tokenizer(sample_input)[\"input_ids\"]\n",
        "torch.tensor(tokenizer([sample_input])[\"input_ids\"])"
      ],
      "execution_count": 31,
      "outputs": [
        {
          "output_type": "execute_result",
          "data": {
            "text/plain": [
              "tensor([[  0, 687, 406,   6]])"
            ]
          },
          "metadata": {
            "tags": []
          },
          "execution_count": 31
        }
      ]
    },
    {
      "cell_type": "code",
      "metadata": {
        "colab": {
          "base_uri": "https://localhost:8080/"
        },
        "id": "AFSy5JX4Niol",
        "outputId": "59478cd2-7d0e-4add-df53-66f7279accea"
      },
      "source": [
        "sample_poet = poets[np.random.randint(0, len(poets))]\n",
        "sample_input = f\"<s>{sample_poet}<|startoftext|>\"\n",
        "print(sample_input)\n",
        "sample_input_ids = torch.tensor(tokenizer([sample_input])[\"input_ids\"])\n",
        "sample_input_ids = sample_input_ids.to(device)\n",
        "\n",
        "sample_outputs = model.generate(\n",
        "    input_ids=sample_input_ids,\n",
        "    # bos_token_id=random.randint(1, len(tokenizer.get_vocab())),\n",
        "    do_sample=True,\n",
        "    top_k=50,\n",
        "    max_length=50,\n",
        "    top_p=0.95,\n",
        "    num_return_sequences=1\n",
        ")\n",
        "for i, sample_output in enumerate(sample_outputs):\n",
        "    gen_sample_output = tokenizer.decode(sample_output, skip_special_tokens=False)\n",
        "    gen_sample_output = gen_sample_output.replace(\"<|startoftext|>\", \"\\n\")\n",
        "    gen_sample_output = gen_sample_output.replace(\"<s>\", \"\")\n",
        "    gen_sample_output = gen_sample_output.replace(\"</s>\", \"\")\n",
        "    gen_sample_output = gen_sample_output.replace(\"<sep>\", \"\\n\")\n",
        "\n",
        "    print(f'Example output: {gen_sample_output}')"
      ],
      "execution_count": 33,
      "outputs": [
        {
          "output_type": "stream",
          "text": [
            "<s>اقبال لاهوری<|startoftext|>\n",
            "Example output: اقبال لاهوری\n",
            "ک‌هایی در خود داشت. لاهوری، خود را شاعری اهل شعر می‌دانست که «باستانی»، به او نشان داد یک شاعر در شعرش، «مأمور و متکلم» است؛ یعنی می\n"
          ],
          "name": "stdout"
        }
      ]
    },
    {
      "cell_type": "code",
      "metadata": {
        "colab": {
          "base_uri": "https://localhost:8080/"
        },
        "id": "m-X-YWgdIgcT",
        "outputId": "5f651302-9136-4b19-fcf5-4b80717dea09"
      },
      "source": [
        "import random\n",
        "import time\n",
        "import datetime\n",
        "from tqdm import tqdm\n",
        "\n",
        "\n",
        "def format_time(elapsed):\n",
        "    return str(datetime.timedelta(seconds=int(round((elapsed)))))\n",
        "\n",
        "\n",
        "total_t0 = time.time()\n",
        "\n",
        "training_stats = []\n",
        "\n",
        "model = model.to(device)\n",
        "\n",
        "for epoch_i in tqdm(range(0, epochs), position=0):\n",
        "\n",
        "    print(f'Beginning epoch {epoch_i + 1} of {epochs}')\n",
        "\n",
        "    t0 = time.time()\n",
        "\n",
        "    total_train_loss = 0\n",
        "\n",
        "    model.train()\n",
        "\n",
        "    for step, batch in tqdm(enumerate(train_dataloader), total=len(train_dataloader), position=0):\n",
        "\n",
        "        b_input_ids = batch[0].to(device)\n",
        "        b_labels = batch[0].to(device)\n",
        "        b_masks = batch[1].to(device)\n",
        "\n",
        "        model.zero_grad()\n",
        "\n",
        "        outputs = model(b_input_ids, labels=b_labels, attention_mask=b_masks, token_type_ids=None)\n",
        "\n",
        "        loss = outputs[0]\n",
        "\n",
        "        batch_loss = loss.item()\n",
        "        total_train_loss += batch_loss\n",
        "\n",
        "        # Get sample every 100 batches.\n",
        "        if step % sample_every == 0 and not step == 0:\n",
        "\n",
        "            elapsed = format_time(time.time() - t0)\n",
        "            print()\n",
        "            print(f'Batch {step} of {len(train_dataloader)}. Loss:{batch_loss}. Time:{elapsed}')\n",
        "\n",
        "            model.eval()\n",
        "\n",
        "            sample_poet = poets[np.random.randint(0, len(poets))]\n",
        "            sample_input = f\"<s>{sample_poet}<|startoftext|>\"\n",
        "            sample_input_ids = torch.tensor(tokenizer([sample_input])[\"input_ids\"])\n",
        "            sample_input_ids = sample_input_ids.to(device)\n",
        "\n",
        "            sample_outputs = model.generate(\n",
        "                input_ids=sample_input_ids,\n",
        "                # bos_token_id=random.randint(1, len(tokenizer.get_vocab())),\n",
        "                do_sample=True,\n",
        "                top_k=50,\n",
        "                max_length=50,\n",
        "                top_p=0.95,\n",
        "                num_return_sequences=1\n",
        "            )\n",
        "            for i, sample_output in enumerate(sample_outputs):\n",
        "                gen_sample_output = tokenizer.decode(sample_output, skip_special_tokens=False)\n",
        "                gen_sample_output = gen_sample_output.replace(\"<|startoftext|>\", \"\\n\")\n",
        "                gen_sample_output = gen_sample_output.replace(\"<s>\", \"\")\n",
        "                gen_sample_output = gen_sample_output.replace(\"</s>\", \"\")\n",
        "                gen_sample_output = gen_sample_output.replace(\"<sep>\", \"\\n\")\n",
        "\n",
        "                print(f'Example output: {gen_sample_output}')\n",
        "\n",
        "            model.train()\n",
        "\n",
        "        loss.backward()\n",
        "        optimizer.step()\n",
        "        scheduler.step()\n",
        "\n",
        "    # Calculate the average loss over all of the batches.\n",
        "    avg_train_loss = total_train_loss / len(train_dataloader)\n",
        "\n",
        "    # Measure how long this epoch took.\n",
        "    training_time = format_time(time.time() - t0)\n",
        "\n",
        "    print()\n",
        "    print(f'Average Training Loss: {avg_train_loss}. Epoch time: {training_time}')\n",
        "    print()\n",
        "\n",
        "    t0 = time.time()\n",
        "\n",
        "    model.eval()\n",
        "\n",
        "    total_eval_loss = 0\n",
        "    nb_eval_steps = 0\n",
        "\n",
        "    # Evaluate data for one epoch\n",
        "    for batch in tqdm(validation_dataloader, total=len(validation_dataloader), position=0):\n",
        "\n",
        "        b_input_ids = batch[0].to(device)\n",
        "        b_labels = batch[0].to(device)\n",
        "        b_masks = batch[1].to(device)\n",
        "\n",
        "        with torch.no_grad():\n",
        "\n",
        "            outputs = model(b_input_ids, attention_mask=b_masks, labels=b_labels)\n",
        "\n",
        "            loss = outputs[0]\n",
        "\n",
        "        batch_loss = loss.item()\n",
        "        total_eval_loss += batch_loss\n",
        "\n",
        "    avg_val_loss = total_eval_loss / len(validation_dataloader)\n",
        "\n",
        "    validation_time = format_time(time.time() - t0)\n",
        "\n",
        "    print()\n",
        "    print(f'Validation loss: {avg_val_loss}. Validation Time: {validation_time}')\n",
        "    print()\n",
        "\n",
        "    # Record all statistics from this epoch.\n",
        "    training_stats.append(\n",
        "        {\n",
        "            'epoch': epoch_i + 1,\n",
        "            'Training Loss': avg_train_loss,\n",
        "            'Valid. Loss': avg_val_loss,\n",
        "            'Training Time': training_time,\n",
        "            'Validation Time': validation_time\n",
        "        }\n",
        "    )\n",
        "\n",
        "print(f'Total training took {format_time(time.time()-total_t0)}')"
      ],
      "execution_count": 34,
      "outputs": [
        {
          "output_type": "stream",
          "text": [
            "  0%|          | 0/6134 [00:00<?, ?it/s]"
          ],
          "name": "stderr"
        },
        {
          "output_type": "stream",
          "text": [
            "Beginning epoch 1 of 3\n"
          ],
          "name": "stdout"
        },
        {
          "output_type": "stream",
          "text": [
            "  5%|▍         | 300/6134 [05:26<1:45:20,  1.08s/it]"
          ],
          "name": "stderr"
        },
        {
          "output_type": "stream",
          "text": [
            "\n",
            "Batch 300 of 6134. Loss:3.520895481109619. Time:0:05:27\n",
            "Example output: فردوسی\n",
            "از آن که به درگاه شاه بر می‌خوی\n",
            "در بند تو گویی که تو باز بینی\n",
            "با آن که چون منی چنین نشتر\n",
            "بی‌رحمت و بدمت از تو خبر مگیر\n",
            "از آن\n"
          ],
          "name": "stdout"
        },
        {
          "output_type": "stream",
          "text": [
            " 10%|▉         | 600/6134 [10:53<1:40:05,  1.09s/it]"
          ],
          "name": "stderr"
        },
        {
          "output_type": "stream",
          "text": [
            "\n",
            "Batch 600 of 6134. Loss:2.9467239379882812. Time:0:10:53\n",
            "Example output: شیخ محمود شبستری\n",
            "از آن می‌آید که به این شب باز\n",
            "با جانان ز سر کوی تست\n",
            "دستم، تا کی این همه عالم مرا\n",
            "ز یک ماه اگر از این شب باز آیم\n",
            "دستم از خون دل\n"
          ],
          "name": "stdout"
        },
        {
          "output_type": "stream",
          "text": [
            " 15%|█▍        | 900/6134 [16:19<1:34:40,  1.09s/it]"
          ],
          "name": "stderr"
        },
        {
          "output_type": "stream",
          "text": [
            "\n",
            "Batch 900 of 6134. Loss:1.847794771194458. Time:0:16:20\n",
            "Example output: محتشم کاشانی\n",
            "می‌کردم در غم از من مستور\n",
            "این را که در تن من من غم خواند\n",
            "من که ز تن و دل پر سوزم در طلب\n",
            "گر ز چشم تو مستور شد\n",
            "بجز از غم خود\n"
          ],
          "name": "stdout"
        },
        {
          "output_type": "stream",
          "text": [
            " 20%|█▉        | 1200/6134 [21:46<1:29:21,  1.09s/it]"
          ],
          "name": "stderr"
        },
        {
          "output_type": "stream",
          "text": [
            "\n",
            "Batch 1200 of 6134. Loss:3.184131145477295. Time:0:21:47\n",
            "Example output: فردوسی\n",
            "بیامد روز بر ماه آمد مرد خردمند\n",
            "همی زو به مرد با مرد ازو برخاست\n",
            "همی و بی‌سخن و بی‌پرده بود اندر گفتار\n",
            "و گوی و بر روی گوی به جنگ نشست\n",
            "مردا\n"
          ],
          "name": "stdout"
        },
        {
          "output_type": "stream",
          "text": [
            " 24%|██▍       | 1500/6134 [27:12<1:23:51,  1.09s/it]"
          ],
          "name": "stderr"
        },
        {
          "output_type": "stream",
          "text": [
            "\n",
            "Batch 1500 of 6134. Loss:2.33620548248291. Time:0:27:13\n",
            "Example output: کامبیز صدیقی کسمایی\n",
            "از آن طرف به سوی زمین،\n",
            "\n",
            "مباد!\n",
            "\n",
            "\n",
            "\n",
            "\n",
            "\n",
            "\n",
            "\n",
            "   در هر طرف که می روید به این سو،\n",
            "تو در این دریچه های کبود\n",
            "\n",
            "و اکنون\n",
            "\n"
          ],
          "name": "stdout"
        },
        {
          "output_type": "stream",
          "text": [
            " 29%|██▉       | 1800/6134 [32:38<1:18:09,  1.08s/it]"
          ],
          "name": "stderr"
        },
        {
          "output_type": "stream",
          "text": [
            "\n",
            "Batch 1800 of 6134. Loss:3.3450307846069336. Time:0:32:38\n",
            "Example output: سیمین بهبهانی\n",
            "آن که می نهانی که من نمیگویم\n",
            "چون نه می نهانی که خود نمیگویم\n"
          ],
          "name": "stdout"
        },
        {
          "output_type": "stream",
          "text": [
            " 34%|███▍      | 2100/6134 [38:02<1:12:27,  1.08s/it]"
          ],
          "name": "stderr"
        },
        {
          "output_type": "stream",
          "text": [
            "\n",
            "Batch 2100 of 6134. Loss:2.491854667663574. Time:0:38:03\n",
            "Example output: مهستی گنجوی\n",
            "بر سر کوی تو می‌توان گرفت\n",
            "نه نشان و نه نشان به کسی بتوان گرفت\n",
            "نه بی نشان نشان ز تو می‌آیی نه نشان\n",
            "همه دلها همه بتوتیا تواند گرفت\n"
          ],
          "name": "stdout"
        },
        {
          "output_type": "stream",
          "text": [
            " 39%|███▉      | 2400/6134 [43:27<1:07:21,  1.08s/it]"
          ],
          "name": "stderr"
        },
        {
          "output_type": "stream",
          "text": [
            "\n",
            "Batch 2400 of 6134. Loss:2.453275203704834. Time:0:43:28\n",
            "Example output: سلمان ساوجی\n",
            "ز سر زلف تو هر موی تو می کرد\n",
            "و امروز تو ما را همه کرد\n",
            "دلم در آن زلف تو آن است\n",
            "دلش باز به آن موی دراز\n",
            "ز دور تو آن موی موی سر خست\n"
          ],
          "name": "stdout"
        },
        {
          "output_type": "stream",
          "text": [
            " 44%|████▍     | 2700/6134 [48:52<1:02:12,  1.09s/it]"
          ],
          "name": "stderr"
        },
        {
          "output_type": "stream",
          "text": [
            "\n",
            "Batch 2700 of 6134. Loss:3.227471113204956. Time:0:48:53\n",
            "Example output: سهراب سپهری\n",
            "نه با این همه در فضای ما ، نه در انتهای ماست ،!\n",
            "در او نمی‌گنجد به فکر ، و فکر اوست ،................\n"
          ],
          "name": "stdout"
        },
        {
          "output_type": "stream",
          "text": [
            " 49%|████▉     | 3000/6134 [54:18<56:33,  1.08s/it]"
          ],
          "name": "stderr"
        },
        {
          "output_type": "stream",
          "text": [
            "\n",
            "Batch 3000 of 6134. Loss:2.4660089015960693. Time:0:54:19\n",
            "Example output: باباافضل کاشانی\n",
            "ای خلق و جان جهان، ای جان! جان! این چهست\n",
            "تا جان‌ها را به تو نسبت نتوان کرد\n",
            "چون با تو من دل، ای جان، جان، جان؛ جان‌ها، جان\n"
          ],
          "name": "stdout"
        },
        {
          "output_type": "stream",
          "text": [
            " 54%|█████▍    | 3300/6134 [59:44<50:54,  1.08s/it]"
          ],
          "name": "stderr"
        },
        {
          "output_type": "stream",
          "text": [
            "\n",
            "Batch 3300 of 6134. Loss:2.105466365814209. Time:0:59:44\n",
            "Example output: پروین اعتصامی\n",
            "بلبل یک شکرخنده زد پیر\n",
            "بلبلی گفت کای پسر تا به کی\n",
            "ز هر نوعی صد دگر کار از دست من افتاد\n",
            "بهر تاریخ من صد سال گذشت\n",
            "همی شد یک گل با صد\n"
          ],
          "name": "stdout"
        },
        {
          "output_type": "stream",
          "text": [
            " 59%|█████▊    | 3600/6134 [1:05:09<45:40,  1.08s/it]"
          ],
          "name": "stderr"
        },
        {
          "output_type": "stream",
          "text": [
            "\n",
            "Batch 3600 of 6134. Loss:2.884958028793335. Time:1:05:10\n",
            "Example output: فروغ فرخزاد\n",
            "ای دل شب که در دشت\n",
            "خفته در دشت و به هامون\n",
            "\n",
            "  \n",
            "  \n",
            "\n",
            "\n",
            "\n",
            "\n",
            "\n",
            "\n",
            "\n",
            "\n",
            "\n",
            "  \n",
            "\n",
            "  \n",
            "\n",
            "\n",
            "\n",
            "\n",
            "\n",
            "\n",
            "\n",
            "\n",
            "\n",
            "\n",
            "\n",
            "\n"
          ],
          "name": "stdout"
        },
        {
          "output_type": "stream",
          "text": [
            " 64%|██████▎   | 3900/6134 [1:10:34<40:12,  1.08s/it]"
          ],
          "name": "stderr"
        },
        {
          "output_type": "stream",
          "text": [
            "\n",
            "Batch 3900 of 6134. Loss:2.23921275138855. Time:1:10:35\n",
            "Example output: صائب تبریزی\n",
            "نیست ممکن بی حجاب روی یار را دیدن\n",
            "نقشبند یک نظاره یار را دیدن\n",
            "آن کس که بی حجاب بیند در نقاب\n",
            "دل می کند حجاب روی یار را دیدن\n",
            "نیست ممکن به سر انگشت زمن گذرد\n",
            "\n"
          ],
          "name": "stdout"
        },
        {
          "output_type": "stream",
          "text": [
            " 68%|██████▊   | 4200/6134 [1:16:00<34:58,  1.09s/it]"
          ],
          "name": "stderr"
        },
        {
          "output_type": "stream",
          "text": [
            "\n",
            "Batch 4200 of 6134. Loss:1.7791945934295654. Time:1:16:01\n",
            "Example output: سیمین بهبهانی\n",
            "با دلی پر خون و دل پر خون فکند\n",
            "غمش به سینه‌ای فرو فکند\n",
            "پیش چشم اشک آلود او را نکوتر\n",
            "به دل و دیده اشک ریزان فکند\n"
          ],
          "name": "stdout"
        },
        {
          "output_type": "stream",
          "text": [
            " 73%|███████▎  | 4500/6134 [1:21:26<29:37,  1.09s/it]"
          ],
          "name": "stderr"
        },
        {
          "output_type": "stream",
          "text": [
            "\n",
            "Batch 4500 of 6134. Loss:3.2776005268096924. Time:1:21:27\n",
            "Example output: عطار\n",
            "در دلم تا به سر زلف تو بستم\n",
            "بر سر یک موی، هیچ دل خندیده بود\n",
            "جز تو را هیچ کس در عالم دل نبود\n",
            "جز من نیست، هیچ در کار تو، هیچ\n"
          ],
          "name": "stdout"
        },
        {
          "output_type": "stream",
          "text": [
            " 78%|███████▊  | 4800/6134 [1:26:53<24:09,  1.09s/it]"
          ],
          "name": "stderr"
        },
        {
          "output_type": "stream",
          "text": [
            "\n",
            "Batch 4800 of 6134. Loss:2.936345338821411. Time:1:26:54\n",
            "Example output: محمدحسن بارق شفیعی\n",
            "ای دل!\n",
            "بوسهٔ دل\n",
            "ز آن لب میگون\n",
            "تشنهٔ لب تو ای همه دندان‌ها\n",
            "ای لب،\n",
            "در لب او یک خنده و یک خنده و یک خنده\n",
            "پر\n"
          ],
          "name": "stdout"
        },
        {
          "output_type": "stream",
          "text": [
            " 83%|████████▎ | 5100/6134 [1:32:19<18:38,  1.08s/it]"
          ],
          "name": "stderr"
        },
        {
          "output_type": "stream",
          "text": [
            "\n",
            "Batch 5100 of 6134. Loss:2.7226462364196777. Time:1:32:20\n",
            "Example output: محمدحسن بارق شفیعی\n",
            "با روی زمین گیر و زمین گیر و زمین گیر،\n",
            "بر هیچ زمین بین، اگر یک دو زمین گیر،\n",
            "هر چند زمین گیر ، زمین گیر ، زمین گیر و زمین گیر،\n",
            "از هیچ زمین گیر\n"
          ],
          "name": "stdout"
        },
        {
          "output_type": "stream",
          "text": [
            " 88%|████████▊ | 5400/6134 [1:37:45<13:15,  1.08s/it]"
          ],
          "name": "stderr"
        },
        {
          "output_type": "stream",
          "text": [
            "\n",
            "Batch 5400 of 6134. Loss:2.479092836380005. Time:1:37:46\n",
            "Example output: قاآنی\n",
            "تا دم صور و صور بود در نار\n",
            "تا به دم دم صور ز آغاز بود\n",
            "در دم‌ دم صور چو از باد دم‌\n",
            "زان دم صور که از باد دم‌کرد\n",
            "بزم روح و روح است و\n"
          ],
          "name": "stdout"
        },
        {
          "output_type": "stream",
          "text": [
            " 93%|█████████▎| 5700/6134 [1:43:11<07:53,  1.09s/it]"
          ],
          "name": "stderr"
        },
        {
          "output_type": "stream",
          "text": [
            "\n",
            "Batch 5700 of 6134. Loss:2.5107741355895996. Time:1:43:12\n",
            "Example output: محمدحسن بارق شفیعی\n",
            "ای چشم‌های سیاه‌بین،‌ای آفتاب‌بین‌بین!\n",
            "«‌چشم‌های سیاه‌بین‌»‌یی از آفتاب است و من،\n",
            "«‌شبنم‌،‌چشم\n"
          ],
          "name": "stdout"
        },
        {
          "output_type": "stream",
          "text": [
            " 98%|█████████▊| 6000/6134 [1:48:38<02:25,  1.08s/it]"
          ],
          "name": "stderr"
        },
        {
          "output_type": "stream",
          "text": [
            "\n",
            "Batch 6000 of 6134. Loss:2.558429479598999. Time:1:48:39\n",
            "Example output: شهریار\n",
            "ز کوی تو می گذرد گل روی تو می روید\n",
            "گل روی تو می تپد از پای سرو آید\n",
            "به بوی تو ز آتش دل ناله های من است\n",
            "که بوی تو به گوش دلم گوید\n",
            "که بر تو به\n"
          ],
          "name": "stdout"
        },
        {
          "output_type": "stream",
          "text": [
            "100%|██████████| 6134/6134 [1:51:03<00:00,  1.09s/it]\n",
            "  0%|          | 0/682 [00:00<?, ?it/s]"
          ],
          "name": "stderr"
        },
        {
          "output_type": "stream",
          "text": [
            "\n",
            "Average Training Loss: 2.629165882799188. Epoch time: 1:51:04\n",
            "\n"
          ],
          "name": "stdout"
        },
        {
          "output_type": "stream",
          "text": [
            "100%|██████████| 682/682 [04:08<00:00,  2.75it/s]\n",
            "  0%|          | 0/6134 [00:00<?, ?it/s]"
          ],
          "name": "stderr"
        },
        {
          "output_type": "stream",
          "text": [
            "\n",
            "Validation loss: 2.3260957833783715. Validation Time: 0:04:08\n",
            "\n",
            "Beginning epoch 2 of 3\n"
          ],
          "name": "stdout"
        },
        {
          "output_type": "stream",
          "text": [
            "  5%|▍         | 300/6134 [05:25<1:45:13,  1.08s/it]"
          ],
          "name": "stderr"
        },
        {
          "output_type": "stream",
          "text": [
            "\n",
            "Batch 300 of 6134. Loss:2.2362115383148193. Time:0:05:26\n",
            "Example output: شاطرعباس صبوحی\n",
            "من آن بت که لب خویش باده نوشی\n",
            "زلفش بشکستی شانه سر زلفش\n",
            "سمن بر سر زلفش نشسته دوش\n",
            "من آن بتم که سر مویی ز ترکتاز\n"
          ],
          "name": "stdout"
        },
        {
          "output_type": "stream",
          "text": [
            " 10%|▉         | 600/6134 [10:51<1:39:48,  1.08s/it]"
          ],
          "name": "stderr"
        },
        {
          "output_type": "stream",
          "text": [
            "\n",
            "Batch 600 of 6134. Loss:2.854996681213379. Time:0:10:52\n",
            "Example output: کامبیز صدیقی کسمایی\n",
            "در لحظهٔ من\n",
            "ای عشق که مرا از درون تو، در دل تو.\n",
            "یک بار در این شب تاریک\n",
            "همراز مرا با تو تنها بود،\n",
            "یک روز ز هم فاصله که یک شب در\n"
          ],
          "name": "stdout"
        },
        {
          "output_type": "stream",
          "text": [
            " 15%|█▍        | 900/6134 [16:17<1:34:31,  1.08s/it]"
          ],
          "name": "stderr"
        },
        {
          "output_type": "stream",
          "text": [
            "\n",
            "Batch 900 of 6134. Loss:2.503920555114746. Time:0:16:18\n",
            "Example output: کسایی\n",
            "ای به من اندرین منزل و راه دراز\n",
            "مفروشش و از ما ننگ و از ننگ و از ناز\n",
            "بی کسی از ما همی گردد این راه دراز\n",
            "کاین سخن می کنم از پیش تو در راز\n",
            "کو\n"
          ],
          "name": "stdout"
        },
        {
          "output_type": "stream",
          "text": [
            " 20%|█▉        | 1200/6134 [21:44<1:29:20,  1.09s/it]"
          ],
          "name": "stderr"
        },
        {
          "output_type": "stream",
          "text": [
            "\n",
            "Batch 1200 of 6134. Loss:2.4384076595306396. Time:0:21:45\n",
            "Example output: شهریار\n",
            "در آشیان دل من این آسمان بر باد\n",
            "ز آه آتشین باد خزان بر باد\n",
            "دگر هوای تو دارم سر و کار من\n",
            "من آن نگارم که از من بر زبان بر باد\n",
            "به خاک راه تو بر افتادم\n"
          ],
          "name": "stdout"
        },
        {
          "output_type": "stream",
          "text": [
            " 24%|██▍       | 1500/6134 [27:10<1:23:14,  1.08s/it]"
          ],
          "name": "stderr"
        },
        {
          "output_type": "stream",
          "text": [
            "\n",
            "Batch 1500 of 6134. Loss:2.260603189468384. Time:0:27:11\n",
            "Example output: مسعود سعد سلمان\n",
            "چون بود آنکه هست از غم جانان دلربای من\n",
            "وانگه ز گردون، به چهرهٔ زرد زعفران من\n",
            "ز آتش دل به سینهٔ دل‌های روشن من\n",
            "وز آتش دل به سینهٔ دلهای\n"
          ],
          "name": "stdout"
        },
        {
          "output_type": "stream",
          "text": [
            " 29%|██▉       | 1800/6134 [32:36<1:18:27,  1.09s/it]"
          ],
          "name": "stderr"
        },
        {
          "output_type": "stream",
          "text": [
            "\n",
            "Batch 1800 of 6134. Loss:2.2910919189453125. Time:0:32:37\n",
            "Example output: مهستی گنجوی\n",
            "ای آن دل شکسته کی باشد\n",
            "از زلف تو بسته کی باشد\n",
            "با دلبران دو زلف عنبرینت\n",
            "مژگان ز من شکسته کی باشد\n"
          ],
          "name": "stdout"
        },
        {
          "output_type": "stream",
          "text": [
            " 34%|███▍      | 2100/6134 [38:03<1:13:02,  1.09s/it]"
          ],
          "name": "stderr"
        },
        {
          "output_type": "stream",
          "text": [
            "\n",
            "Batch 2100 of 6134. Loss:1.0573948621749878. Time:0:38:04\n",
            "Example output: شیخ بهایی\n",
            "نسیم صبح چو باز آید، از خواب گران است\n",
            "مگر آن زلف چو برگشاها به هم آید، از آن است\n",
            "نه آن از حلقهٔ حلقه به گوشش، نه آن از بند\n",
            "نه آن از حلقه به\n"
          ],
          "name": "stdout"
        },
        {
          "output_type": "stream",
          "text": [
            " 39%|███▉      | 2400/6134 [43:31<1:07:42,  1.09s/it]"
          ],
          "name": "stderr"
        },
        {
          "output_type": "stream",
          "text": [
            "\n",
            "Batch 2400 of 6134. Loss:1.518218755722046. Time:0:43:32\n",
            "Example output: انوری\n",
            "تو بر من ای نگار از جهان می‌گیری\n",
            "به جان بی‌تو بر سرم نمی‌گیری\n",
            "مرا به تو همی قرار است و جای من\n",
            "چنانکه کار دل تو از میان می‌گیری\n",
            "ز خون دلم\n"
          ],
          "name": "stdout"
        },
        {
          "output_type": "stream",
          "text": [
            " 44%|████▍     | 2700/6134 [48:59<1:02:25,  1.09s/it]"
          ],
          "name": "stderr"
        },
        {
          "output_type": "stream",
          "text": [
            "\n",
            "Batch 2700 of 6134. Loss:2.3974080085754395. Time:0:49:00\n",
            "Example output: ناصرخسرو\n",
            "و از آن جا چون کوه لبنان به قسطنطنیه آمدم به شهری رسیدیم و آن شهری رسیدیم که آن را مسجد آدینه دیهیم مسجد آدینه به مذهب دیهیم بود و چشمه کوثر و چشمه های آب روان بر ساحل تافت. و\n"
          ],
          "name": "stdout"
        },
        {
          "output_type": "stream",
          "text": [
            " 49%|████▉     | 3000/6134 [54:27<56:58,  1.09s/it]"
          ],
          "name": "stderr"
        },
        {
          "output_type": "stream",
          "text": [
            "\n",
            "Batch 3000 of 6134. Loss:1.5498292446136475. Time:0:54:28\n",
            "Example output: سیمین بهبهانی\n",
            "آه! که در سینهٔ من نیست غیر از آه ِ من\n",
            "گر به جز آه ِ جگر سوز ِ تو نیست هیچ گاه ِ مرا\n",
            "در لبِ خاموشِ من نیست غیر از\n"
          ],
          "name": "stdout"
        },
        {
          "output_type": "stream",
          "text": [
            " 54%|█████▍    | 3300/6134 [59:55<51:20,  1.09s/it]"
          ],
          "name": "stderr"
        },
        {
          "output_type": "stream",
          "text": [
            "\n",
            "Batch 3300 of 6134. Loss:2.336700677871704. Time:0:59:56\n",
            "Example output: نظامی\n",
            "بیا ساقی آن باده بر در که می بود\n",
            "سپاه فلک باده احمر که می بود\n",
            "چو از هر طرف می‌گذشت می به جام\n",
            "چنان از خمار طره عنبر که می بود\n",
            "چو از خواب گه\n"
          ],
          "name": "stdout"
        },
        {
          "output_type": "stream",
          "text": [
            " 59%|█████▊    | 3600/6134 [1:05:23<46:00,  1.09s/it]"
          ],
          "name": "stderr"
        },
        {
          "output_type": "stream",
          "text": [
            "\n",
            "Batch 3600 of 6134. Loss:1.729564905166626. Time:1:05:24\n",
            "Example output: باباطاهر\n",
            "یکی روز آن مه بر سر چارم\n",
            "دگر روز آن مه دلبر نهم\n",
            "چو گلم بی خبر کردند و گفتا\n",
            "مخور چون گل که ای گلگونه خندان\n",
            "تو گوئی هیچ اگر باشد چه\n"
          ],
          "name": "stdout"
        },
        {
          "output_type": "stream",
          "text": [
            " 64%|██████▎   | 3900/6134 [1:10:51<40:35,  1.09s/it]"
          ],
          "name": "stderr"
        },
        {
          "output_type": "stream",
          "text": [
            "\n",
            "Batch 3900 of 6134. Loss:2.2296812534332275. Time:1:10:52\n",
            "Example output: اقبال لاهوری\n",
            "ای دل ای موج بیباک آب گوهر\n",
            "تو از تو در سینهٔ خود میکنی شرر\n",
            "با تو در خاک تیرهٔ جهانم چه کار\n",
            "ای دل از جلوهٔ گلگونه گوهر\n",
            "ای تو این گنج\n"
          ],
          "name": "stdout"
        },
        {
          "output_type": "stream",
          "text": [
            " 68%|██████▊   | 4200/6134 [1:16:18<35:00,  1.09s/it]"
          ],
          "name": "stderr"
        },
        {
          "output_type": "stream",
          "text": [
            "\n",
            "Batch 4200 of 6134. Loss:1.4471626281738281. Time:1:16:18\n",
            "Example output: فردوسی\n",
            "بدان تا به کی بود ماه‌رو\n",
            "چنین تا به کی بود روز ن\n",
            "به هر روز روشن دل و دیده‌ها\n",
            "چنین تا به کی بود چاره‌ها\n",
            "ببودند با درد شاهنشهی\n",
            "س\n"
          ],
          "name": "stdout"
        },
        {
          "output_type": "stream",
          "text": [
            " 73%|███████▎  | 4500/6134 [1:21:44<29:35,  1.09s/it]"
          ],
          "name": "stderr"
        },
        {
          "output_type": "stream",
          "text": [
            "\n",
            "Batch 4500 of 6134. Loss:2.0415279865264893. Time:1:21:45\n",
            "Example output: سیمین بهبهانی\n",
            "ای گل به بوستان که گل‌ها به بوی تو اند\n",
            "با لالهٔ خون سَرخی ز لعل، جوی تو اند\n",
            "می‌گردم ای کبوتری، کز دلِ پردازم.\n",
            "در\n"
          ],
          "name": "stdout"
        },
        {
          "output_type": "stream",
          "text": [
            " 78%|███████▊  | 4800/6134 [1:27:11<24:12,  1.09s/it]"
          ],
          "name": "stderr"
        },
        {
          "output_type": "stream",
          "text": [
            "\n",
            "Batch 4800 of 6134. Loss:2.220486640930176. Time:1:27:12\n",
            "Example output: بیدل دهلوی\n",
            "بی‌تکلف دل در انتظار تمثال است\n",
            "از خود نرفته‌ایم اینقدرها تمثال است\n",
            "تا گردون است محو جلوهٔ تمثالیم\n",
            "از ما گذشته است اینجا تمثال است\n",
            "تا دل\n"
          ],
          "name": "stdout"
        },
        {
          "output_type": "stream",
          "text": [
            " 83%|████████▎ | 5100/6134 [1:32:37<18:38,  1.08s/it]"
          ],
          "name": "stderr"
        },
        {
          "output_type": "stream",
          "text": [
            "\n",
            "Batch 5100 of 6134. Loss:2.3435091972351074. Time:1:32:38\n",
            "Example output: ابوسعید ابوالخیر\n",
            "ای دست تو جان در سر سودا زده‌ای\n",
            "هر جان که به یک موی جدا زده‌ای\n",
            "از دست من و تو در همه آفاق بسی است\n",
            "یک حلقه که از من به تماشا زده‌\n"
          ],
          "name": "stdout"
        },
        {
          "output_type": "stream",
          "text": [
            " 88%|████████▊ | 5400/6134 [1:38:03<13:15,  1.08s/it]"
          ],
          "name": "stderr"
        },
        {
          "output_type": "stream",
          "text": [
            "\n",
            "Batch 5400 of 6134. Loss:2.255951166152954. Time:1:38:04\n",
            "Example output: قاآنی\n",
            "از روی لطافت به زمین باید شد\n",
            "وز روی لطافت به زمین باید شد\n",
            "از بس که مرا غمزهٔ جانان ‌گشت\n",
            "بر شکل دل شیفتهٔ من باید شد\n"
          ],
          "name": "stdout"
        },
        {
          "output_type": "stream",
          "text": [
            " 93%|█████████▎| 5700/6134 [1:43:31<07:51,  1.09s/it]"
          ],
          "name": "stderr"
        },
        {
          "output_type": "stream",
          "text": [
            "\n",
            "Batch 5700 of 6134. Loss:2.727180004119873. Time:1:43:32\n",
            "Example output: جامی\n",
            "گرنه آن شوخ به زنجیر جنون\n",
            "می‌کشد از هم طرف زنجیر جنون\n",
            "ور نه از وصل تو شد بی‌تو قرار\n",
            "هر زمان از هر دو جهان زنجیر جنون\n",
            "گر ز بند مهر تو من، بر سر\n"
          ],
          "name": "stdout"
        },
        {
          "output_type": "stream",
          "text": [
            " 98%|█████████▊| 6000/6134 [1:48:59<02:26,  1.10s/it]"
          ],
          "name": "stderr"
        },
        {
          "output_type": "stream",
          "text": [
            "\n",
            "Batch 6000 of 6134. Loss:1.7016741037368774. Time:1:49:00\n",
            "Example output: هلالی جغتایی\n",
            "من که بی‌کس زیم بر سر خاک من اگر افتم\n",
            "نگرم بر سر خاک من گذر باد به خاک من\n",
            "دلم از دست فتاده‌ست در آن کوی و مرا در غم عشق\n",
            "چو\n"
          ],
          "name": "stdout"
        },
        {
          "output_type": "stream",
          "text": [
            "100%|██████████| 6134/6134 [1:51:26<00:00,  1.09s/it]\n",
            "  0%|          | 0/682 [00:00<?, ?it/s]"
          ],
          "name": "stderr"
        },
        {
          "output_type": "stream",
          "text": [
            "\n",
            "Average Training Loss: 2.1599810481129773. Epoch time: 1:51:27\n",
            "\n"
          ],
          "name": "stdout"
        },
        {
          "output_type": "stream",
          "text": [
            "100%|██████████| 682/682 [04:09<00:00,  2.73it/s]\n",
            "  0%|          | 0/6134 [00:00<?, ?it/s]"
          ],
          "name": "stderr"
        },
        {
          "output_type": "stream",
          "text": [
            "\n",
            "Validation loss: 2.1191775259559105. Validation Time: 0:04:10\n",
            "\n",
            "Beginning epoch 3 of 3\n"
          ],
          "name": "stdout"
        },
        {
          "output_type": "stream",
          "text": [
            "  5%|▍         | 300/6134 [05:27<1:45:55,  1.09s/it]"
          ],
          "name": "stderr"
        },
        {
          "output_type": "stream",
          "text": [
            "\n",
            "Batch 300 of 6134. Loss:2.540278196334839. Time:0:05:28\n",
            "Example output: ملک‌الشعرای بهار\n",
            "ای شب‌های هجران تو، ای بخت جوان\n",
            "روز ما تیره شد که بر غم تو دم زند\n",
            "روز بر ما گذشت و تو ما را غم تو گشت و تو\n",
            "توبه کردیم از آن چه\n"
          ],
          "name": "stdout"
        },
        {
          "output_type": "stream",
          "text": [
            " 10%|▉         | 600/6134 [10:54<1:39:41,  1.08s/it]"
          ],
          "name": "stderr"
        },
        {
          "output_type": "stream",
          "text": [
            "\n",
            "Batch 600 of 6134. Loss:2.716485023498535. Time:0:10:55\n",
            "Example output: ناصرخسرو\n",
            "ای خرد، که تو را خرد نیست\n",
            "تو خردمندی و خرد نیست\n",
            "چون تو خرد را به خرد بر بندی\n",
            "خوی تو به خرد همی بندی\n",
            "تو خردمند و خردمند شوی\n",
            "خوی تو به خرد همی بندی\n",
            "\n"
          ],
          "name": "stdout"
        },
        {
          "output_type": "stream",
          "text": [
            " 15%|█▍        | 900/6134 [16:20<1:34:44,  1.09s/it]"
          ],
          "name": "stderr"
        },
        {
          "output_type": "stream",
          "text": [
            "\n",
            "Batch 900 of 6134. Loss:1.5861148834228516. Time:0:16:21\n",
            "Example output: فردوسی\n",
            "برآشفت مردی دلاور گزین\n",
            "که بگریخت گیتی به خون زمین\n",
            "همه رنج گشتاسپ و اسفندیار\n",
            "به سر بر همی داشت او شهریار\n",
            "برآشفت زان دانشوری نامدار\n",
            "چنین گفت با رستم اسفندیار\n",
            "که من\n"
          ],
          "name": "stdout"
        },
        {
          "output_type": "stream",
          "text": [
            " 20%|█▉        | 1200/6134 [21:47<1:28:49,  1.08s/it]"
          ],
          "name": "stderr"
        },
        {
          "output_type": "stream",
          "text": [
            "\n",
            "Batch 1200 of 6134. Loss:2.4668047428131104. Time:0:21:48\n",
            "Example output: فرخی سیستانی\n",
            "ای دوست به تو این لطف همی‌گوید راست\n",
            "وی جان به تو این لطف همی‌گوید راست\n",
            "اندر همه گیتی بدین خوبی چون ماه\n",
            "در حسن تو این عیش همی‌گوید راست\n"
          ],
          "name": "stdout"
        },
        {
          "output_type": "stream",
          "text": [
            " 24%|██▍       | 1500/6134 [27:12<1:23:15,  1.08s/it]"
          ],
          "name": "stderr"
        },
        {
          "output_type": "stream",
          "text": [
            "\n",
            "Batch 1500 of 6134. Loss:1.962658166885376. Time:0:27:13\n",
            "Example output: خلیل‌الله خلیلی\n",
            "ای بخت که تو در دلم نشستی دستی\n",
            "نی فتنهٔ بختم شدی که بر هم شکستی\n",
            "گفتی که به یک بوسه دلم بی نیازی کن\n",
            "ای عشق تو! بی تو دگر غمم گسستی\n"
          ],
          "name": "stdout"
        },
        {
          "output_type": "stream",
          "text": [
            " 29%|██▉       | 1800/6134 [32:37<1:17:35,  1.07s/it]"
          ],
          "name": "stderr"
        },
        {
          "output_type": "stream",
          "text": [
            "\n",
            "Batch 1800 of 6134. Loss:2.067085027694702. Time:0:32:37\n",
            "Example output: ناصرخسرو\n",
            "مرا از آن تو به جان و به تن مفار\n",
            "که یک گوهر و یک گوهر از جان بردار\n",
            "چو اندر دل من گنج بی‌بنیاد است\n",
            "به بی‌بنیادان همی باید شدن باری\n"
          ],
          "name": "stdout"
        },
        {
          "output_type": "stream",
          "text": [
            " 34%|███▍      | 2100/6134 [38:02<1:13:03,  1.09s/it]"
          ],
          "name": "stderr"
        },
        {
          "output_type": "stream",
          "text": [
            "\n",
            "Batch 2100 of 6134. Loss:2.268075466156006. Time:0:38:03\n",
            "Example output: خلیل‌الله خلیلی\n",
            "تا به کی باشم و کجا بوده ای دوست\n",
            "این همه فریاد و جزا بوده ای دوست\n",
            "به کجا می باشی ای دوست منشین\n",
            "تا تو در دل باشی خدا بوده ای دوست\n"
          ],
          "name": "stdout"
        },
        {
          "output_type": "stream",
          "text": [
            " 39%|███▉      | 2400/6134 [43:30<1:07:52,  1.09s/it]"
          ],
          "name": "stderr"
        },
        {
          "output_type": "stream",
          "text": [
            "\n",
            "Batch 2400 of 6134. Loss:2.149822950363159. Time:0:43:31\n",
            "Example output: شیون فومنی\n",
            "این بار که بر گل نازک تو\n",
            "از بال و پرِ دانه ی من است\n",
            "می بالد\n",
            "با شوق\n",
            "هر جای\n",
            "در خانه ای که جای تو نیست\n",
            "در گوشه های خلوتت هست\n",
            "\n"
          ],
          "name": "stdout"
        },
        {
          "output_type": "stream",
          "text": [
            " 44%|████▍     | 2700/6134 [48:58<1:02:26,  1.09s/it]"
          ],
          "name": "stderr"
        },
        {
          "output_type": "stream",
          "text": [
            "\n",
            "Batch 2700 of 6134. Loss:1.4175478219985962. Time:0:48:59\n",
            "Example output: انوری\n",
            "مطربا در سماع و گفت من بلبل\n",
            "سخن مرغان سحر خوانم در باغ\n",
            "مگر دستان دستان در سحر خیزد\n",
            "که با باد سحر باد صباید بوی\n",
            "از آن ترسم که چون باد بهار آید\n",
            "به\n"
          ],
          "name": "stdout"
        },
        {
          "output_type": "stream",
          "text": [
            " 49%|████▉     | 3000/6134 [54:26<56:43,  1.09s/it]"
          ],
          "name": "stderr"
        },
        {
          "output_type": "stream",
          "text": [
            "\n",
            "Batch 3000 of 6134. Loss:2.4665493965148926. Time:0:54:26\n",
            "Example output: بیدل دهلوی\n",
            "به ‌هر جا سایه‌ای‌گل کرده‌ام دامان‌کرده‌ام\n",
            "چون‌ شمع‌کشته در پیش است سامان‌کرده‌ام\n",
            "سایه را خاک‌ گشتن عذر صد عذر خواه\n",
            "منزل این\n"
          ],
          "name": "stdout"
        },
        {
          "output_type": "stream",
          "text": [
            " 54%|█████▍    | 3300/6134 [59:53<51:35,  1.09s/it]"
          ],
          "name": "stderr"
        },
        {
          "output_type": "stream",
          "text": [
            "\n",
            "Batch 3300 of 6134. Loss:1.4241580963134766. Time:0:59:54\n",
            "Example output: شاه نعمت‌الله ولی\n",
            "یک زمان جام می به دست آور\n",
            "آن زمان جام می به دست آور\n",
            "رند مستیم و جام می بر دست\n",
            "بر در میفروش می بگذار\n",
            "جام می بر کف به ما بنوش\n",
            "یک\n"
          ],
          "name": "stdout"
        },
        {
          "output_type": "stream",
          "text": [
            " 59%|█████▊    | 3600/6134 [1:05:22<45:55,  1.09s/it]"
          ],
          "name": "stderr"
        },
        {
          "output_type": "stream",
          "text": [
            "\n",
            "Batch 3600 of 6134. Loss:2.1790053844451904. Time:1:05:23\n",
            "Example output: محمدحسن بارق شفیعی\n",
            "عشق و عشق و عشق و جنون‌ و جنون‌ و جنون‌\n",
            "حسن و عشق،‌ و عشق و عقل و جنون‌ و جنون‌ و جنون‌\n",
            "عشق و عشق از فنون دین و جنون‌\n"
          ],
          "name": "stdout"
        },
        {
          "output_type": "stream",
          "text": [
            " 64%|██████▎   | 3900/6134 [1:10:49<40:28,  1.09s/it]"
          ],
          "name": "stderr"
        },
        {
          "output_type": "stream",
          "text": [
            "\n",
            "Batch 3900 of 6134. Loss:2.14241886138916. Time:1:10:50\n",
            "Example output: نظامی\n",
            "دل در سخن چگونه بگشاید\n",
            "چون چشم ازین کتاب بگشاید\n",
            "ز آغاز کار بر خود افتاد\n",
            "در کار خویش چشم باز انداخت\n",
            "چون مرغ زیر خاک بر افتاد\n",
            "از بهر من از آنچه بودست\n",
            "هر چیز که گویم از\n"
          ],
          "name": "stdout"
        },
        {
          "output_type": "stream",
          "text": [
            " 68%|██████▊   | 4200/6134 [1:16:16<35:05,  1.09s/it]"
          ],
          "name": "stderr"
        },
        {
          "output_type": "stream",
          "text": [
            "\n",
            "Batch 4200 of 6134. Loss:2.0300240516662598. Time:1:16:17\n",
            "Example output: ملا هادی سبزواری\n",
            "برخیز و ببین که چشم پر آب تو کیست\n",
            "بی روی تو روی سبزه و خواب تو کیست\n",
            "ای دل ز پی عیش تو سرگشتهٔ هجر\n",
            "بی مهر تو هر که روی تو تاب تو کیست\n"
          ],
          "name": "stdout"
        },
        {
          "output_type": "stream",
          "text": [
            " 73%|███████▎  | 4500/6134 [1:21:42<29:31,  1.08s/it]"
          ],
          "name": "stderr"
        },
        {
          "output_type": "stream",
          "text": [
            "\n",
            "Batch 4500 of 6134. Loss:1.5195170640945435. Time:1:21:43\n",
            "Example output: عطار\n",
            "با جان غم تو دل من شاد بود\n",
            "پیوسته دل سوخته از شمشاد بود\n",
            "یک ذره ز تو وجود ندیدم روی\n",
            "آنگاه ز تو ذره‌ای آزاد بود\n"
          ],
          "name": "stdout"
        },
        {
          "output_type": "stream",
          "text": [
            " 78%|███████▊  | 4800/6134 [1:27:08<23:55,  1.08s/it]"
          ],
          "name": "stderr"
        },
        {
          "output_type": "stream",
          "text": [
            "\n",
            "Batch 4800 of 6134. Loss:2.426290512084961. Time:1:27:09\n",
            "Example output: محمدحسن بارق شفیعی\n",
            "در عشق، عشق آمد و غمهای گوناگون داشت\n",
            "در دشت پر ز شور و غوغای پر افسون داشت\n",
            "تا عشق و جنون را همه در کام و لب آویختند\n",
            "یا عشق و جنون را همه\n"
          ],
          "name": "stdout"
        },
        {
          "output_type": "stream",
          "text": [
            " 83%|████████▎ | 5100/6134 [1:32:32<18:33,  1.08s/it]"
          ],
          "name": "stderr"
        },
        {
          "output_type": "stream",
          "text": [
            "\n",
            "Batch 5100 of 6134. Loss:2.0828747749328613. Time:1:32:33\n",
            "Example output: عرفی\n",
            "نه هر چه از سر دردی، نه هر چه بر دل\n",
            "نه هر چه در سر دردی، نه هر چه بر دل\n",
            "نسیم از هر چه برخیزد، همه زنهار\n",
            "نه هر چه می خواهی، نه هر\n"
          ],
          "name": "stdout"
        },
        {
          "output_type": "stream",
          "text": [
            " 88%|████████▊ | 5400/6134 [1:37:57<13:12,  1.08s/it]"
          ],
          "name": "stderr"
        },
        {
          "output_type": "stream",
          "text": [
            "\n",
            "Batch 5400 of 6134. Loss:1.9046238660812378. Time:1:37:58\n",
            "Example output: اقبال لاهوری\n",
            "مرا ذوق طلب چون نیست از من\n",
            "چه جوئی ، از خدا جویم خدا را\n",
            "به از من کس نداند معنی توحید\n",
            "مسلم دان فقیری کو کجا شد\n",
            "جوانی در تلاش عشق می زیست\n",
            "به کار\n"
          ],
          "name": "stdout"
        },
        {
          "output_type": "stream",
          "text": [
            " 93%|█████████▎| 5700/6134 [1:43:21<07:50,  1.08s/it]"
          ],
          "name": "stderr"
        },
        {
          "output_type": "stream",
          "text": [
            "\n",
            "Batch 5700 of 6134. Loss:1.0972545146942139. Time:1:43:22\n",
            "Example output: سعدی\n",
            "طمع را در هنر بر هوشمند است نه فضل بر هنر در هنر بر هنر بر هنر بی هنر مر خویشتن را به زنهار با هر که پیوندد بر او نه به مقدار هنر خویشتنست\n",
            "مبر بر خویش از بهر\n"
          ],
          "name": "stdout"
        },
        {
          "output_type": "stream",
          "text": [
            " 98%|█████████▊| 6000/6134 [1:48:46<02:24,  1.08s/it]"
          ],
          "name": "stderr"
        },
        {
          "output_type": "stream",
          "text": [
            "\n",
            "Batch 6000 of 6134. Loss:1.739421010017395. Time:1:48:47\n",
            "Example output: عراقی\n",
            "باز در کوی تو جانم به هوس می‌آید\n",
            "وز همه کس با غم تو انس و نفس می‌آید\n",
            "نالهٔ زار من از کوی تو کی بشنود؟\n",
            "که چه سانم همه در ناله و سوت می\n"
          ],
          "name": "stdout"
        },
        {
          "output_type": "stream",
          "text": [
            "100%|██████████| 6134/6134 [1:51:12<00:00,  1.09s/it]\n",
            "  0%|          | 0/682 [00:00<?, ?it/s]"
          ],
          "name": "stderr"
        },
        {
          "output_type": "stream",
          "text": [
            "\n",
            "Average Training Loss: 1.882955785669486. Epoch time: 1:51:12\n",
            "\n"
          ],
          "name": "stdout"
        },
        {
          "output_type": "stream",
          "text": [
            "100%|██████████| 682/682 [04:07<00:00,  2.76it/s]\n",
            "100%|██████████| 3/3 [5:46:07<00:00, 6922.65s/it]"
          ],
          "name": "stderr"
        },
        {
          "output_type": "stream",
          "text": [
            "\n",
            "Validation loss: 2.0601063930044425. Validation Time: 0:04:07\n",
            "\n",
            "Total training took 5:46:08\n"
          ],
          "name": "stdout"
        },
        {
          "output_type": "stream",
          "text": [
            "\n"
          ],
          "name": "stderr"
        }
      ]
    },
    {
      "cell_type": "code",
      "metadata": {
        "colab": {
          "base_uri": "https://localhost:8080/",
          "height": 426
        },
        "id": "uzzFo1-zIhna",
        "outputId": "630f5ad3-44e4-4539-cecf-b2ca7bc9b3f7"
      },
      "source": [
        "import seaborn as sns\n",
        "import matplotlib.pyplot as plt\n",
        "%matplotlib inline\n",
        "\n",
        "pd.set_option('precision', 2)\n",
        "df_stats = pd.DataFrame(data=training_stats)\n",
        "df_stats = df_stats.set_index('epoch')\n",
        "\n",
        "# Use plot styling from seaborn.\n",
        "sns.set(style='darkgrid')\n",
        "\n",
        "# Increase the plot size and font size.\n",
        "sns.set(font_scale=1.5)\n",
        "plt.rcParams[\"figure.figsize\"] = (12,6)\n",
        "\n",
        "# Plot the learning curve.\n",
        "plt.plot(df_stats['Training Loss'], 'b-o', label=\"Training\")\n",
        "plt.plot(df_stats['Valid. Loss'], 'g-o', label=\"Validation\")\n",
        "\n",
        "# Label the plot.\n",
        "plt.title(\"Training & Validation Loss\")\n",
        "plt.xlabel(\"Epoch\")\n",
        "plt.ylabel(\"Loss\")\n",
        "plt.legend()\n",
        "plt.xticks([1, 2, 3, 4])\n",
        "\n",
        "plt.show()"
      ],
      "execution_count": 35,
      "outputs": [
        {
          "output_type": "display_data",
          "data": {
            "image/png": "[encoded data removed]",
            "text/plain": [
              "<Figure size 864x432 with 1 Axes>"
            ]
          },
          "metadata": {
            "tags": []
          }
        }
      ]
    },
    {
      "cell_type": "code",
      "metadata": {
        "id": "b7s2FziqJn1x"
      },
      "source": [
        "import os\n",
        "\n",
        "output_dir = '/content/gpt2-fa-poetry'\n",
        "os.makedirs(output_dir, exist_ok=True)\n",
        "\n",
        "model.save_pretrained(output_dir)\n",
        "tokenizer.save_pretrained(output_dir)\n",
        "configuration.save_pretrained(output_dir)\n",
        "!cp /content/gpt2/tokenizer.json /content/gpt2-fa-poetry/"
      ],
      "execution_count": 36,
      "outputs": []
    },
    {
      "cell_type": "code",
      "metadata": {
        "colab": {
          "base_uri": "https://localhost:8080/"
        },
        "id": "BfI4iqewfXtX",
        "outputId": "0e62b813-b7ad-4152-839f-8d6e86b5ad03"
      },
      "source": [
        "from transformers import TFAutoModelForCausalLM\n",
        "\n",
        "\n",
        "tf_model = TFAutoModelForCausalLM.from_pretrained(\"/content/gpt2-fa-poetry/\", from_pt=True)\n",
        "print(tf_model.summary())\n",
        "tf_model.save_pretrained(\"/content/gpt2-fa-poetry-tf\")\n",
        "!cp /content/gpt2-fa-poetry-tf/tf_model.h5 /content/gpt2-fa-poetry \n",
        "!rm -rf /content/gpt2-fa-poetry-tf"
      ],
      "execution_count": 42,
      "outputs": [
        {
          "output_type": "stream",
          "text": [
            "Some weights of the PyTorch model were not used when initializing the TF 2.0 model TFGPT2LMHeadModel: ['transformer.h.2.attn.masked_bias', 'transformer.h.9.attn.masked_bias', 'transformer.h.0.attn.masked_bias', 'lm_head.weight', 'transformer.h.1.attn.masked_bias', 'transformer.h.4.attn.masked_bias', 'transformer.h.3.attn.masked_bias', 'transformer.h.5.attn.masked_bias', 'transformer.h.6.attn.masked_bias', 'transformer.h.7.attn.masked_bias', 'transformer.h.10.attn.masked_bias', 'transformer.h.8.attn.masked_bias', 'transformer.h.11.attn.masked_bias']\n",
            "- This IS expected if you are initializing TFGPT2LMHeadModel from a PyTorch model trained on another task or with another architecture (e.g. initializing a TFBertForSequenceClassification model from a BertForPreTraining model).\n",
            "- This IS NOT expected if you are initializing TFGPT2LMHeadModel from a PyTorch model that you expect to be exactly identical (e.g. initializing a TFBertForSequenceClassification model from a BertForSequenceClassification model).\n",
            "All the weights of TFGPT2LMHeadModel were initialized from the PyTorch model.\n",
            "If your task is similar to the task the model of the checkpoint was trained on, you can already use TFGPT2LMHeadModel for predictions without further training.\n"
          ],
          "name": "stderr"
        },
        {
          "output_type": "stream",
          "text": [
            "Model: \"tfgp_t2lm_head_model\"\n",
            "_________________________________________________________________\n",
            "Layer (type)                 Output Shape              Param #   \n",
            "=================================================================\n",
            "transformer (TFGPT2MainLayer multiple                  118099200 \n",
            "=================================================================\n",
            "Total params: 118,099,200\n",
            "Trainable params: 118,099,200\n",
            "Non-trainable params: 0\n",
            "_________________________________________________________________\n",
            "None\n"
          ],
          "name": "stdout"
        }
      ]
    },
    {
      "cell_type": "code",
      "metadata": {
        "colab": {
          "base_uri": "https://localhost:8080/"
        },
        "id": "UnvDWyzXfA1m",
        "outputId": "1f6b3983-058b-4b3e-e845-c696344f88b0"
      },
      "source": [
        "!zip -r gpt2-fa-poetry.zip gpt2-fa-poetry"
      ],
      "execution_count": 43,
      "outputs": [
        {
          "output_type": "stream",
          "text": [
            "  adding: gpt2-fa-poetry/ (stored 0%)\n",
            "  adding: gpt2-fa-poetry/added_tokens.json (stored 0%)\n",
            "  adding: gpt2-fa-poetry/config.json (deflated 51%)\n",
            "  adding: gpt2-fa-poetry/merges.txt (deflated 74%)\n",
            "  adding: gpt2-fa-poetry/tokenizer.json (deflated 79%)\n",
            "  adding: gpt2-fa-poetry/tf_model.h5 (deflated 7%)\n",
            "  adding: gpt2-fa-poetry/special_tokens_map.json (deflated 47%)\n",
            "  adding: gpt2-fa-poetry/vocab.json (deflated 73%)\n",
            "  adding: gpt2-fa-poetry/pytorch_model.bin (deflated 10%)\n",
            "  adding: gpt2-fa-poetry/tokenizer_config.json (deflated 36%)\n"
          ],
          "name": "stdout"
        }
      ]
    },
    {
      "cell_type": "code",
      "metadata": {
        "id": "Dh2FAX8CJueV"
      },
      "source": [
        "import re\n",
        "\n",
        "\n",
        "def generator(poet, max_length=128, num_return_sequences=3):\n",
        "    model.eval()\n",
        "    prompt = f\"<s>{poet}<|startoftext|>\"\n",
        "    print(prompt)\n",
        "\n",
        "    generated = torch.tensor(tokenizer.encode(prompt)).unsqueeze(0)\n",
        "    generated = generated.to(device)\n",
        "\n",
        "    decoded_outputs = model.generate(\n",
        "        generated,\n",
        "        do_sample=True,\n",
        "        top_k=50,\n",
        "        max_length=max_length, \n",
        "        top_p=0.95,\n",
        "        num_return_sequences=num_return_sequences\n",
        "    )\n",
        "\n",
        "\n",
        "    outputs = []\n",
        "    for i, output in enumerate(decoded_outputs):\n",
        "        o = tokenizer.decode(output, skip_special_tokens=False)\n",
        "        o = o.replace(\"<s>\", \"\").replace(\"</s>\", \"\")\n",
        "        outputs.append(o)\n",
        "\n",
        "\n",
        "\n",
        "    display.display(display.HTML(\"\"\"\n",
        "    <style>\n",
        "    @import url(\"https://cdn.jsdelivr.net/gh/rastikerdar/vazir-font@v27.1.0/dist/font-face.css\");\n",
        "\n",
        "    table.xxx {\n",
        "        margin-right: 15px;\n",
        "        font-size: 14px;\n",
        "        direction: rtl !important;\n",
        "        width: 100%;\n",
        "        display: flex;\n",
        "    }\n",
        "    table.xxx td {\n",
        "        min-width: 300px !important;\n",
        "        direction: rtl !important;\n",
        "        text-align: right !important;\n",
        "        font-family: \"Vazir\" !important;\n",
        "    }\n",
        "    </style>\n",
        "    \"\"\".strip()))\n",
        "\n",
        "\n",
        "    df = pd.DataFrame(outputs, columns=[\"generated\"])\n",
        "    df[\"generated\"] = df[\"generated\"].apply(lambda t: re.sub(\"\\n+\", \"\\n\", t.replace(\"<sep>\", \"\\n\")))\n",
        "    df[\"generated\"] = df[\"generated\"].apply(lambda t: \"<p>\" + t.replace(\"\\n\", \"<br/>\").replace(\"<|startoftext|>\", \"<br/>\").strip() + \"</p>\")\n",
        "    \n",
        "\n",
        "    setup = {\n",
        "        'border': 2,\n",
        "        'show_dimensions': True,\n",
        "        'escape': False,\n",
        "        'justify': 'right',\n",
        "        'classes': 'xxx'\n",
        "    }\n",
        "    display.display(display.HTML(df.to_html(**setup)))"
      ],
      "execution_count": 53,
      "outputs": []
    },
    {
      "cell_type": "code",
      "metadata": {
        "colab": {
          "base_uri": "https://localhost:8080/"
        },
        "id": "nP2S_uv3jRCr",
        "outputId": "12959ff2-e4e0-49a0-b9d1-03ee04fb3043"
      },
      "source": [
        "print(\"\\n\".join(poets))"
      ],
      "execution_count": 59,
      "outputs": [
        {
          "output_type": "stream",
          "text": [
            "رودکی\n",
            "فردوسی\n",
            "کسایی\n",
            "ناصرخسرو\n",
            "منوچهری\n",
            "فرخی سیستانی\n",
            "مسعود سعد سلمان\n",
            "ابوسعید ابوالخیر\n",
            "باباطاهر\n",
            "فخرالدین اسعد گرگانی\n",
            "اسدی توسی\n",
            "هجویری\n",
            "خیام\n",
            "نظامی\n",
            "عطار\n",
            "سنایی\n",
            "خاقانی\n",
            "انوری\n",
            "عبدالواسع جبلی\n",
            "نصرالله منشی\n",
            "مهستی گنجوی\n",
            "باباافضل کاشانی\n",
            "مولوی\n",
            "سعدی\n",
            "خواجوی کرمانی\n",
            "عراقی\n",
            "سیف فرغانی\n",
            "حافظ\n",
            "اوحدی\n",
            "شیخ محمود شبستری\n",
            "عبید زاکانی\n",
            "امیرخسرو دهلوی\n",
            "سلمان ساوجی\n",
            "شاه نعمت‌الله ولی\n",
            "جامی\n",
            "هلالی جغتایی\n",
            "وحشی\n",
            "محتشم کاشانی\n",
            "شیخ بهایی\n",
            "عرفی\n",
            "رضی‌الدین آرتیمانی\n",
            "صائب تبریزی\n",
            "فیض کاشانی\n",
            "بیدل دهلوی\n",
            "هاتف اصفهانی\n",
            "فروغی بسطامی\n",
            "قاآنی\n",
            "ملا هادی سبزواری\n",
            "پروین اعتصامی\n",
            "ملک‌الشعرای بهار\n",
            "شهریار\n",
            "رهی معیری\n",
            "اقبال لاهوری\n",
            "خلیل‌الله خلیلی\n",
            "شاطرعباس صبوحی\n",
            "نیما یوشیج ( آوای آزاد )\n",
            "احمد شاملو\n",
            "سهراب سپهری\n",
            "فروغ فرخزاد\n",
            "سیمین بهبهانی\n",
            "مهدی اخوان ثالث\n",
            "محمدحسن بارق شفیعی\n",
            "شیون فومنی\n",
            "کامبیز صدیقی کسمایی\n",
            "بهرام سالکی\n",
            "عبدالقهّار عاصی\n",
            "اِ لیـــار    (جبار محمدی )\n"
          ],
          "name": "stdout"
        }
      ]
    },
    {
      "cell_type": "code",
      "metadata": {
        "colab": {
          "base_uri": "https://localhost:8080/",
          "height": 281
        },
        "id": "QcBsyfiELosS",
        "outputId": "d67842b4-43b4-40e8-e579-7b66bd04cf72"
      },
      "source": [
        "poet = poets[np.random.randint(0, len(poets))]\n",
        "generator(poet, num_return_sequences=2)"
      ],
      "execution_count": 66,
      "outputs": [
        {
          "output_type": "stream",
          "text": [
            "<s>عطار<|startoftext|>\n"
          ],
          "name": "stdout"
        },
        {
          "output_type": "display_data",
          "data": {
            "text/html": [
              "<style>\n",
              "    @import url(\"https://cdn.jsdelivr.net/gh/rastikerdar/vazir-font@v27.1.0/dist/font-face.css\");\n",
              "\n",
              "    table.xxx {\n",
              "        margin-right: 15px;\n",
              "        font-size: 14px;\n",
              "        direction: rtl !important;\n",
              "        width: 100%;\n",
              "        display: flex;\n",
              "    }\n",
              "    table.xxx td {\n",
              "        min-width: 300px !important;\n",
              "        direction: rtl !important;\n",
              "        text-align: right !important;\n",
              "        font-family: \"Vazir\" !important;\n",
              "    }\n",
              "    </style>"
            ],
            "text/plain": [
              "<IPython.core.display.HTML object>"
            ]
          },
          "metadata": {
            "tags": []
          }
        },
        {
          "output_type": "display_data",
          "data": {
            "text/html": [
              "<table border=\"2\" class=\"dataframe xxx\">\n",
              "  <thead>\n",
              "    <tr style=\"text-align: right;\">\n",
              "      <th></th>\n",
              "      <th>generated</th>\n",
              "    </tr>\n",
              "  </thead>\n",
              "  <tbody>\n",
              "    <tr>\n",
              "      <th>0</th>\n",
              "      <td><p>عطار<br/>آن روز که چشم می‌رباید گل بر او<br/>چون ابر گریست اشک می‌بارد گل بر او<br/>ابرش می‌کند همی از ابر به یک جرعه<br/>ابرست به صد رنگ زرد و سرخ بر او</p></td>\n",
              "    </tr>\n",
              "    <tr>\n",
              "      <th>1</th>\n",
              "      <td><p>عطار<br/>جانا چو به تو دسترسی داریم ما<br/>بر بی نشانی تو جرسی داریم ما<br/>گر در گذری، به هیچ سر مویم نیست<br/>در هیچ سری نیست کسی داریم ما<pad><pad><pad><pad><pad><pad><pad><pad><pad><pad></p></td>\n",
              "    </tr>\n",
              "  </tbody>\n",
              "</table>\n",
              "<p>2 rows × 1 columns</p>"
            ],
            "text/plain": [
              "<IPython.core.display.HTML object>"
            ]
          },
          "metadata": {
            "tags": []
          }
        }
      ]
    },
    {
      "cell_type": "code",
      "metadata": {
        "id": "wsB-3HZCNbaE"
      },
      "source": [
        " "
      ],
      "execution_count": null,
      "outputs": []
    }
  ]
}