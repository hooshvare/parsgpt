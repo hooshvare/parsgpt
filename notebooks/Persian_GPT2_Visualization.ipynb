{
  "nbformat": 4,
  "nbformat_minor": 0,
  "metadata": {
    "colab": {
      "name": "Persian GPT2 - Visualization.ipynb",
      "provenance": [],
      "collapsed_sections": []
    },
    "kernelspec": {
      "name": "python3",
      "display_name": "Python 3"
    },
    "accelerator": "GPU"
  },
  "cells": [
    {
      "cell_type": "code",
      "metadata": {
        "colab": {
          "base_uri": "https://localhost:8080/"
        },
        "id": "sUpL07IDptrs",
        "outputId": "030566d9-1c59-4334-c72f-7c8c95e398c8"
      },
      "source": [
        "!pip install -qU ecco"
      ],
      "execution_count": 1,
      "outputs": [
        {
          "output_type": "stream",
          "text": [
            "\u001b[K     |████████████████████████████████| 1.8MB 13.9MB/s \n",
            "\u001b[K     |████████████████████████████████| 22.2MB 54.2MB/s \n",
            "\u001b[K     |████████████████████████████████| 3.2MB 41.0MB/s \n",
            "\u001b[K     |████████████████████████████████| 890kB 37.5MB/s \n",
            "\u001b[?25h  Building wheel for sacremoses (setup.py) ... \u001b[?25l\u001b[?25hdone\n"
          ],
          "name": "stdout"
        }
      ]
    },
    {
      "cell_type": "code",
      "metadata": {
        "id": "fWBXT90ZqA41"
      },
      "source": [
        "import ecco\n",
        "\n",
        "lm = ecco.from_pretrained('HooshvareLab/gpt2-fa')"
      ],
      "execution_count": 25,
      "outputs": []
    },
    {
      "cell_type": "markdown",
      "metadata": {
        "id": "NG_7QJG5t-tL"
      },
      "source": [
        "# Output Token Scores"
      ]
    },
    {
      "cell_type": "code",
      "metadata": {
        "colab": {
          "base_uri": "https://localhost:8080/",
          "height": 49
        },
        "id": "rdIZuoQdt_q9",
        "outputId": "7ffa707c-f2ca-4751-8748-f504a4254ccc"
      },
      "source": [
        "# Generate one token to fill in the blank\n",
        "\n",
        "output_0 = lm.generate(\"۱, ۲, ۳,\", generate=1, do_sample=False)"
      ],
      "execution_count": 30,
      "outputs": [
        {
          "output_type": "display_data",
          "data": {
            "text/html": [
              "<html lang=\"en\">\n",
              "<script src=\"https://requirejs.org/docs/release/2.3.6/minified/require.js\"></script>\n",
              "<script>\n",
              "    var ecco_url = 'https://storage.googleapis.com/ml-intro/ecco/'\n",
              "    // var ecco_url = 'http://localhost:8000/ecco/'\n",
              "\n",
              "    if (window.ecco === undefined) window.ecco = {}\n",
              "\n",
              "    requirejs.config({\n",
              "        urlArgs: \"bust=\" + (new Date()).getTime(),\n",
              "        nodeRequire: require,\n",
              "        paths: {\n",
              "            d3: \"https://d3js.org/d3.v5.min\",\n",
              "            \"d3-array\": \"https://d3js.org/d3-array.v2.min\",\n",
              "            jquery: \"https://code.jquery.com/jquery-3.5.1.min\",\n",
              "            // oldEcco: ecco_url + 'ecco',\n",
              "            ecco: ecco_url + 'js/0.0.4/ecco-bundle.min',\n",
              "            xregexp: 'https://cdnjs.cloudflare.com/ajax/libs/xregexp/3.2.0/xregexp-all.min'\n",
              "        }\n",
              "    });\n",
              "    requirejs(['d3'],\n",
              "        function (d3) {\n",
              "            d3.select('#css').attr('href', ecco_url + 'html/styles.css')\n",
              "        })\n",
              "\n",
              "    console.log('Ecco initialize.')\n",
              "</script>\n",
              "\n",
              "<head>\n",
              "    <link id='css' rel=\"stylesheet\" type=\"text/css\">\n",
              "</head>\n"
            ],
            "text/plain": [
              "<IPython.core.display.HTML object>"
            ]
          },
          "metadata": {
            "tags": []
          }
        },
        {
          "output_type": "display_data",
          "data": {
            "text/html": [
              "<script>\n",
              "    // console.log('defining basic')\n",
              "    define('basic', ['d3'],\n",
              "        function (d3) {\n",
              "            return {\n",
              "                init: function (viz_id = null) {\n",
              "\n",
              "                    // console.log('basic init')\n",
              "                    if (viz_id == null){\n",
              "                        viz_id = \"viz_\" + Math.round(Math.random() * 10000000)\n",
              "                    }\n",
              "                    const div = d3.select('#basic').attr('id', viz_id),\n",
              "                        div_parent = d3.select('#' + viz_id).node().parentNode\n",
              "\n",
              "                    // Link to CSS file\n",
              "                    d3.select(div_parent).insert('link')\n",
              "                        .attr('rel', 'stylesheet')\n",
              "                        .attr('type', 'text/css')\n",
              "                        .attr('href', ecco_url + 'html/styles.css')\n",
              "\n",
              "                    return viz_id\n",
              "                }\n",
              "            }\n",
              "        }, function (err) {console.log(err);}\n",
              "    )\n",
              "    // console.log('after defining basic')\n",
              "\n",
              "</script>\n",
              "<div id=\"basic\"></div>\n"
            ],
            "text/plain": [
              "<IPython.core.display.HTML object>"
            ]
          },
          "metadata": {
            "tags": []
          }
        },
        {
          "output_type": "display_data",
          "data": {
            "application/javascript": [
              "\n",
              "\n",
              "         requirejs( ['basic', 'ecco'], function(basic, ecco){\n",
              "            basic.init('viz_979508')\n",
              "\n",
              "            window.ecco['viz_979508'] = ecco.renderOutputSequence('viz_979508', {'tokens': [{'token': '۱', 'position': 0, 'token_id': 1168, 'type': 'input'}, {'token': ',', 'position': 1, 'token_id': 22, 'type': 'input'}, {'token': ' ۲', 'position': 2, 'token_id': 469, 'type': 'input'}, {'token': ',', 'position': 3, 'token_id': 22, 'type': 'input'}, {'token': ' ۳', 'position': 4, 'token_id': 1031, 'type': 'input'}, {'token': ',', 'position': 5, 'token_id': 22, 'type': 'input'}]})\n",
              "         }, function (err) {\n",
              "            console.log(err);\n",
              "        })\n"
            ],
            "text/plain": [
              "<IPython.core.display.Javascript object>"
            ]
          },
          "metadata": {
            "tags": []
          }
        },
        {
          "output_type": "display_data",
          "data": {
            "application/javascript": [
              "\n",
              "        // We don't really need these require scripts. But this is to avert\n",
              "        //this code from running before display_input_sequence which DOES require external files\n",
              "        requirejs(['basic', 'ecco'], function(basic, ecco){\n",
              "                console.log('addToken viz_id', 'viz_979508');\n",
              "                window.ecco['viz_979508'].addToken({\"token\": \" \\u06f4\", \"token_id\": 856, \"position\": 6, \"type\": \"output\"})\n",
              "                window.ecco['viz_979508'].redraw()\n",
              "        })\n",
              "        "
            ],
            "text/plain": [
              "<IPython.core.display.Javascript object>"
            ]
          },
          "metadata": {
            "tags": []
          }
        }
      ]
    },
    {
      "cell_type": "code",
      "metadata": {
        "colab": {
          "base_uri": "https://localhost:8080/",
          "height": 138
        },
        "id": "2A4PXAo1t9HY",
        "outputId": "70f0a519-6bf0-433b-9625-be6440646ad9"
      },
      "source": [
        "# Visualize\n",
        "output_0.layer_predictions(position=6, layer=8)"
      ],
      "execution_count": 34,
      "outputs": [
        {
          "output_type": "display_data",
          "data": {
            "text/html": [
              "<html lang=\"en\">\n",
              "<script src=\"https://requirejs.org/docs/release/2.3.6/minified/require.js\"></script>\n",
              "<script>\n",
              "    var ecco_url = 'https://storage.googleapis.com/ml-intro/ecco/'\n",
              "    // var ecco_url = 'http://localhost:8000/ecco/'\n",
              "\n",
              "    if (window.ecco === undefined) window.ecco = {}\n",
              "\n",
              "    requirejs.config({\n",
              "        urlArgs: \"bust=\" + (new Date()).getTime(),\n",
              "        nodeRequire: require,\n",
              "        paths: {\n",
              "            d3: \"https://d3js.org/d3.v5.min\",\n",
              "            \"d3-array\": \"https://d3js.org/d3-array.v2.min\",\n",
              "            jquery: \"https://code.jquery.com/jquery-3.5.1.min\",\n",
              "            // oldEcco: ecco_url + 'ecco',\n",
              "            ecco: ecco_url + 'js/0.0.4/ecco-bundle.min',\n",
              "            xregexp: 'https://cdnjs.cloudflare.com/ajax/libs/xregexp/3.2.0/xregexp-all.min'\n",
              "        }\n",
              "    });\n",
              "    requirejs(['d3'],\n",
              "        function (d3) {\n",
              "            d3.select('#css').attr('href', ecco_url + 'html/styles.css')\n",
              "        })\n",
              "\n",
              "    console.log('Ecco initialize.')\n",
              "</script>\n",
              "\n",
              "<head>\n",
              "    <link id='css' rel=\"stylesheet\" type=\"text/css\">\n",
              "</head>\n"
            ],
            "text/plain": [
              "<IPython.core.display.HTML object>"
            ]
          },
          "metadata": {
            "tags": []
          }
        },
        {
          "output_type": "display_data",
          "data": {
            "text/html": [
              "<script>\n",
              "    // console.log('defining basic')\n",
              "    define('basic', ['d3'],\n",
              "        function (d3) {\n",
              "            return {\n",
              "                init: function (viz_id = null) {\n",
              "\n",
              "                    // console.log('basic init')\n",
              "                    if (viz_id == null){\n",
              "                        viz_id = \"viz_\" + Math.round(Math.random() * 10000000)\n",
              "                    }\n",
              "                    const div = d3.select('#basic').attr('id', viz_id),\n",
              "                        div_parent = d3.select('#' + viz_id).node().parentNode\n",
              "\n",
              "                    // Link to CSS file\n",
              "                    d3.select(div_parent).insert('link')\n",
              "                        .attr('rel', 'stylesheet')\n",
              "                        .attr('type', 'text/css')\n",
              "                        .attr('href', ecco_url + 'html/styles.css')\n",
              "\n",
              "                    return viz_id\n",
              "                }\n",
              "            }\n",
              "        }, function (err) {console.log(err);}\n",
              "    )\n",
              "    // console.log('after defining basic')\n",
              "\n",
              "</script>\n",
              "<div id=\"basic\"></div>\n"
            ],
            "text/plain": [
              "<IPython.core.display.HTML object>"
            ]
          },
          "metadata": {
            "tags": []
          }
        },
        {
          "output_type": "display_data",
          "data": {
            "application/javascript": [
              "\n",
              "         requirejs(['basic', 'ecco'], function(basic, ecco){\n",
              "            const viz_id = basic.init()\n",
              "\n",
              "\n",
              "            let pred = new ecco.LayerPredictions({\n",
              "                parentDiv: viz_id,\n",
              "                data:[[{\"token\": \" \\u06f4\", \"prob\": \"0.70661134\", \"ranking\": 1, \"layer\": 8}, {\"token\": \" \\u06f7\", \"prob\": \"0.19815998\", \"ranking\": 2, \"layer\": 8}, {\"token\": \" \\u06f8\", \"prob\": \"0.025307547\", \"ranking\": 3, \"layer\": 8}, {\"token\": \" \\u06f6\", \"prob\": \"0.020839112\", \"ranking\": 4, \"layer\": 8}, {\"token\": \" \\u06f5\", \"prob\": \"0.015064975\", \"ranking\": 5, \"layer\": 8}, {\"token\": \"\\u06f5\", \"prob\": \"0.010315813\", \"ranking\": 6, \"layer\": 8}, {\"token\": \" \\u06f3\", \"prob\": \"0.006504253\", \"ranking\": 7, \"layer\": 8}, {\"token\": \" \\u06f2\", \"prob\": \"0.005209524\", \"ranking\": 8, \"layer\": 8}, {\"token\": \"\\u06f6\", \"prob\": \"0.00430959\", \"ranking\": 9, \"layer\": 8}, {\"token\": \"\\u06f4\", \"prob\": \"0.0039546946\", \"ranking\": 10, \"layer\": 8}]]\n",
              "            })\n",
              "            pred.init()\n",
              "         }, function (err) {\n",
              "            console.log(viz_id, err);\n",
              "        })"
            ],
            "text/plain": [
              "<IPython.core.display.Javascript object>"
            ]
          },
          "metadata": {
            "tags": []
          }
        }
      ]
    },
    {
      "cell_type": "code",
      "metadata": {
        "colab": {
          "base_uri": "https://localhost:8080/",
          "height": 49
        },
        "id": "VxYu6RYwuLuV",
        "outputId": "e95a258d-b8c2-4897-a884-b6c00d3c5da4"
      },
      "source": [
        "text = \" فرودگاه هیترو در شهر\"\n",
        "\n",
        "output = lm.generate(text, generate=1, do_sample=False)"
      ],
      "execution_count": 35,
      "outputs": [
        {
          "output_type": "display_data",
          "data": {
            "text/html": [
              "<html lang=\"en\">\n",
              "<script src=\"https://requirejs.org/docs/release/2.3.6/minified/require.js\"></script>\n",
              "<script>\n",
              "    var ecco_url = 'https://storage.googleapis.com/ml-intro/ecco/'\n",
              "    // var ecco_url = 'http://localhost:8000/ecco/'\n",
              "\n",
              "    if (window.ecco === undefined) window.ecco = {}\n",
              "\n",
              "    requirejs.config({\n",
              "        urlArgs: \"bust=\" + (new Date()).getTime(),\n",
              "        nodeRequire: require,\n",
              "        paths: {\n",
              "            d3: \"https://d3js.org/d3.v5.min\",\n",
              "            \"d3-array\": \"https://d3js.org/d3-array.v2.min\",\n",
              "            jquery: \"https://code.jquery.com/jquery-3.5.1.min\",\n",
              "            // oldEcco: ecco_url + 'ecco',\n",
              "            ecco: ecco_url + 'js/0.0.4/ecco-bundle.min',\n",
              "            xregexp: 'https://cdnjs.cloudflare.com/ajax/libs/xregexp/3.2.0/xregexp-all.min'\n",
              "        }\n",
              "    });\n",
              "    requirejs(['d3'],\n",
              "        function (d3) {\n",
              "            d3.select('#css').attr('href', ecco_url + 'html/styles.css')\n",
              "        })\n",
              "\n",
              "    console.log('Ecco initialize.')\n",
              "</script>\n",
              "\n",
              "<head>\n",
              "    <link id='css' rel=\"stylesheet\" type=\"text/css\">\n",
              "</head>\n"
            ],
            "text/plain": [
              "<IPython.core.display.HTML object>"
            ]
          },
          "metadata": {
            "tags": []
          }
        },
        {
          "output_type": "display_data",
          "data": {
            "text/html": [
              "<script>\n",
              "    // console.log('defining basic')\n",
              "    define('basic', ['d3'],\n",
              "        function (d3) {\n",
              "            return {\n",
              "                init: function (viz_id = null) {\n",
              "\n",
              "                    // console.log('basic init')\n",
              "                    if (viz_id == null){\n",
              "                        viz_id = \"viz_\" + Math.round(Math.random() * 10000000)\n",
              "                    }\n",
              "                    const div = d3.select('#basic').attr('id', viz_id),\n",
              "                        div_parent = d3.select('#' + viz_id).node().parentNode\n",
              "\n",
              "                    // Link to CSS file\n",
              "                    d3.select(div_parent).insert('link')\n",
              "                        .attr('rel', 'stylesheet')\n",
              "                        .attr('type', 'text/css')\n",
              "                        .attr('href', ecco_url + 'html/styles.css')\n",
              "\n",
              "                    return viz_id\n",
              "                }\n",
              "            }\n",
              "        }, function (err) {console.log(err);}\n",
              "    )\n",
              "    // console.log('after defining basic')\n",
              "\n",
              "</script>\n",
              "<div id=\"basic\"></div>\n"
            ],
            "text/plain": [
              "<IPython.core.display.HTML object>"
            ]
          },
          "metadata": {
            "tags": []
          }
        },
        {
          "output_type": "display_data",
          "data": {
            "application/javascript": [
              "\n",
              "\n",
              "         requirejs( ['basic', 'ecco'], function(basic, ecco){\n",
              "            basic.init('viz_816899')\n",
              "\n",
              "            window.ecco['viz_816899'] = ecco.renderOutputSequence('viz_816899', {'tokens': [{'token': ' فرودگاه', 'position': 0, 'token_id': 3514, 'type': 'input'}, {'token': ' هی', 'position': 1, 'token_id': 691, 'type': 'input'}, {'token': 'ترو', 'position': 2, 'token_id': 7200, 'type': 'input'}, {'token': ' در', 'position': 3, 'token_id': 298, 'type': 'input'}, {'token': ' شهر', 'position': 4, 'token_id': 622, 'type': 'input'}]})\n",
              "         }, function (err) {\n",
              "            console.log(err);\n",
              "        })\n"
            ],
            "text/plain": [
              "<IPython.core.display.Javascript object>"
            ]
          },
          "metadata": {
            "tags": []
          }
        },
        {
          "output_type": "display_data",
          "data": {
            "application/javascript": [
              "\n",
              "        // We don't really need these require scripts. But this is to avert\n",
              "        //this code from running before display_input_sequence which DOES require external files\n",
              "        requirejs(['basic', 'ecco'], function(basic, ecco){\n",
              "                console.log('addToken viz_id', 'viz_816899');\n",
              "                window.ecco['viz_816899'].addToken({\"token\": \" \\u0644\\u0646\\u062f\\u0646\", \"token_id\": 4290, \"position\": 5, \"type\": \"output\"})\n",
              "                window.ecco['viz_816899'].redraw()\n",
              "        })\n",
              "        "
            ],
            "text/plain": [
              "<IPython.core.display.Javascript object>"
            ]
          },
          "metadata": {
            "tags": []
          }
        }
      ]
    },
    {
      "cell_type": "code",
      "metadata": {
        "colab": {
          "base_uri": "https://localhost:8080/",
          "height": 138
        },
        "id": "N2mySmSmt9xW",
        "outputId": "0932cd7c-e36b-4d8d-e64a-c6d3878cdeba"
      },
      "source": [
        "output.layer_predictions(position=5, layer=11)"
      ],
      "execution_count": 47,
      "outputs": [
        {
          "output_type": "display_data",
          "data": {
            "text/html": [
              "<html lang=\"en\">\n",
              "<script src=\"https://requirejs.org/docs/release/2.3.6/minified/require.js\"></script>\n",
              "<script>\n",
              "    var ecco_url = 'https://storage.googleapis.com/ml-intro/ecco/'\n",
              "    // var ecco_url = 'http://localhost:8000/ecco/'\n",
              "\n",
              "    if (window.ecco === undefined) window.ecco = {}\n",
              "\n",
              "    requirejs.config({\n",
              "        urlArgs: \"bust=\" + (new Date()).getTime(),\n",
              "        nodeRequire: require,\n",
              "        paths: {\n",
              "            d3: \"https://d3js.org/d3.v5.min\",\n",
              "            \"d3-array\": \"https://d3js.org/d3-array.v2.min\",\n",
              "            jquery: \"https://code.jquery.com/jquery-3.5.1.min\",\n",
              "            // oldEcco: ecco_url + 'ecco',\n",
              "            ecco: ecco_url + 'js/0.0.4/ecco-bundle.min',\n",
              "            xregexp: 'https://cdnjs.cloudflare.com/ajax/libs/xregexp/3.2.0/xregexp-all.min'\n",
              "        }\n",
              "    });\n",
              "    requirejs(['d3'],\n",
              "        function (d3) {\n",
              "            d3.select('#css').attr('href', ecco_url + 'html/styles.css')\n",
              "        })\n",
              "\n",
              "    console.log('Ecco initialize.')\n",
              "</script>\n",
              "\n",
              "<head>\n",
              "    <link id='css' rel=\"stylesheet\" type=\"text/css\">\n",
              "</head>\n"
            ],
            "text/plain": [
              "<IPython.core.display.HTML object>"
            ]
          },
          "metadata": {
            "tags": []
          }
        },
        {
          "output_type": "display_data",
          "data": {
            "text/html": [
              "<script>\n",
              "    // console.log('defining basic')\n",
              "    define('basic', ['d3'],\n",
              "        function (d3) {\n",
              "            return {\n",
              "                init: function (viz_id = null) {\n",
              "\n",
              "                    // console.log('basic init')\n",
              "                    if (viz_id == null){\n",
              "                        viz_id = \"viz_\" + Math.round(Math.random() * 10000000)\n",
              "                    }\n",
              "                    const div = d3.select('#basic').attr('id', viz_id),\n",
              "                        div_parent = d3.select('#' + viz_id).node().parentNode\n",
              "\n",
              "                    // Link to CSS file\n",
              "                    d3.select(div_parent).insert('link')\n",
              "                        .attr('rel', 'stylesheet')\n",
              "                        .attr('type', 'text/css')\n",
              "                        .attr('href', ecco_url + 'html/styles.css')\n",
              "\n",
              "                    return viz_id\n",
              "                }\n",
              "            }\n",
              "        }, function (err) {console.log(err);}\n",
              "    )\n",
              "    // console.log('after defining basic')\n",
              "\n",
              "</script>\n",
              "<div id=\"basic\"></div>\n"
            ],
            "text/plain": [
              "<IPython.core.display.HTML object>"
            ]
          },
          "metadata": {
            "tags": []
          }
        },
        {
          "output_type": "display_data",
          "data": {
            "application/javascript": [
              "\n",
              "         requirejs(['basic', 'ecco'], function(basic, ecco){\n",
              "            const viz_id = basic.init()\n",
              "\n",
              "\n",
              "            let pred = new ecco.LayerPredictions({\n",
              "                parentDiv: viz_id,\n",
              "                data:[[{\"token\": \" \\u0644\\u0646\\u062f\\u0646\", \"prob\": \"0.043066192\", \"ranking\": 1, \"layer\": 11}, {\"token\": \" \\u0647\\u06cc\", \"prob\": \"0.04225509\", \"ranking\": 2, \"layer\": 11}, {\"token\": \" \\u062a\\u0648\\u06a9\\u06cc\\u0648\", \"prob\": \"0.036114853\", \"ranking\": 3, \"layer\": 11}, {\"token\": \" \\u0646\\u06cc\\u0648\\u06cc\\u0648\\u0631\\u06a9\", \"prob\": \"0.028784556\", \"ranking\": 4, \"layer\": 11}, {\"token\": \" \\u00ab\", \"prob\": \"0.016635172\", \"ranking\": 5, \"layer\": 11}, {\"token\": \" \\u0633\\u06cc\\u062f\\u0646\\u06cc\", \"prob\": \"0.013160528\", \"ranking\": 6, \"layer\": 11}, {\"token\": \" \\u0633\\u0627\\u0646\", \"prob\": \"0.0115857255\", \"ranking\": 7, \"layer\": 11}, {\"token\": \" \\u0622\\u062a\\u0646\", \"prob\": \"0.010992901\", \"ranking\": 8, \"layer\": 11}, {\"token\": \" \\u0631\\u0645\", \"prob\": \"0.009205955\", \"ranking\": 9, \"layer\": 11}, {\"token\": \" \\u0645\\u0644\\u0628\\u0648\\u0631\\u0646\", \"prob\": \"0.008472128\", \"ranking\": 10, \"layer\": 11}]]\n",
              "            })\n",
              "            pred.init()\n",
              "         }, function (err) {\n",
              "            console.log(viz_id, err);\n",
              "        })"
            ],
            "text/plain": [
              "<IPython.core.display.Javascript object>"
            ]
          },
          "metadata": {
            "tags": []
          }
        }
      ]
    },
    {
      "cell_type": "code",
      "metadata": {
        "colab": {
          "base_uri": "https://localhost:8080/",
          "height": 208
        },
        "id": "jMORLJytt90U",
        "outputId": "0ead5a60-8474-429c-c74a-918ce731888a"
      },
      "source": [
        "output.layer_predictions(position=5, layer=11, topk=20)"
      ],
      "execution_count": 55,
      "outputs": [
        {
          "output_type": "display_data",
          "data": {
            "text/html": [
              "<html lang=\"en\">\n",
              "<script src=\"https://requirejs.org/docs/release/2.3.6/minified/require.js\"></script>\n",
              "<script>\n",
              "    var ecco_url = 'https://storage.googleapis.com/ml-intro/ecco/'\n",
              "    // var ecco_url = 'http://localhost:8000/ecco/'\n",
              "\n",
              "    if (window.ecco === undefined) window.ecco = {}\n",
              "\n",
              "    requirejs.config({\n",
              "        urlArgs: \"bust=\" + (new Date()).getTime(),\n",
              "        nodeRequire: require,\n",
              "        paths: {\n",
              "            d3: \"https://d3js.org/d3.v5.min\",\n",
              "            \"d3-array\": \"https://d3js.org/d3-array.v2.min\",\n",
              "            jquery: \"https://code.jquery.com/jquery-3.5.1.min\",\n",
              "            // oldEcco: ecco_url + 'ecco',\n",
              "            ecco: ecco_url + 'js/0.0.4/ecco-bundle.min',\n",
              "            xregexp: 'https://cdnjs.cloudflare.com/ajax/libs/xregexp/3.2.0/xregexp-all.min'\n",
              "        }\n",
              "    });\n",
              "    requirejs(['d3'],\n",
              "        function (d3) {\n",
              "            d3.select('#css').attr('href', ecco_url + 'html/styles.css')\n",
              "        })\n",
              "\n",
              "    console.log('Ecco initialize.')\n",
              "</script>\n",
              "\n",
              "<head>\n",
              "    <link id='css' rel=\"stylesheet\" type=\"text/css\">\n",
              "</head>\n"
            ],
            "text/plain": [
              "<IPython.core.display.HTML object>"
            ]
          },
          "metadata": {
            "tags": []
          }
        },
        {
          "output_type": "display_data",
          "data": {
            "text/html": [
              "<script>\n",
              "    // console.log('defining basic')\n",
              "    define('basic', ['d3'],\n",
              "        function (d3) {\n",
              "            return {\n",
              "                init: function (viz_id = null) {\n",
              "\n",
              "                    // console.log('basic init')\n",
              "                    if (viz_id == null){\n",
              "                        viz_id = \"viz_\" + Math.round(Math.random() * 10000000)\n",
              "                    }\n",
              "                    const div = d3.select('#basic').attr('id', viz_id),\n",
              "                        div_parent = d3.select('#' + viz_id).node().parentNode\n",
              "\n",
              "                    // Link to CSS file\n",
              "                    d3.select(div_parent).insert('link')\n",
              "                        .attr('rel', 'stylesheet')\n",
              "                        .attr('type', 'text/css')\n",
              "                        .attr('href', ecco_url + 'html/styles.css')\n",
              "\n",
              "                    return viz_id\n",
              "                }\n",
              "            }\n",
              "        }, function (err) {console.log(err);}\n",
              "    )\n",
              "    // console.log('after defining basic')\n",
              "\n",
              "</script>\n",
              "<div id=\"basic\"></div>\n"
            ],
            "text/plain": [
              "<IPython.core.display.HTML object>"
            ]
          },
          "metadata": {
            "tags": []
          }
        },
        {
          "output_type": "display_data",
          "data": {
            "application/javascript": [
              "\n",
              "         requirejs(['basic', 'ecco'], function(basic, ecco){\n",
              "            const viz_id = basic.init()\n",
              "\n",
              "\n",
              "            let pred = new ecco.LayerPredictions({\n",
              "                parentDiv: viz_id,\n",
              "                data:[[{\"token\": \" \\u0644\\u0646\\u062f\\u0646\", \"prob\": \"0.043066192\", \"ranking\": 1, \"layer\": 11}, {\"token\": \" \\u0647\\u06cc\", \"prob\": \"0.04225509\", \"ranking\": 2, \"layer\": 11}, {\"token\": \" \\u062a\\u0648\\u06a9\\u06cc\\u0648\", \"prob\": \"0.036114853\", \"ranking\": 3, \"layer\": 11}, {\"token\": \" \\u0646\\u06cc\\u0648\\u06cc\\u0648\\u0631\\u06a9\", \"prob\": \"0.028784556\", \"ranking\": 4, \"layer\": 11}, {\"token\": \" \\u00ab\", \"prob\": \"0.016635172\", \"ranking\": 5, \"layer\": 11}, {\"token\": \" \\u0633\\u06cc\\u062f\\u0646\\u06cc\", \"prob\": \"0.013160528\", \"ranking\": 6, \"layer\": 11}, {\"token\": \" \\u0633\\u0627\\u0646\", \"prob\": \"0.0115857255\", \"ranking\": 7, \"layer\": 11}, {\"token\": \" \\u0622\\u062a\\u0646\", \"prob\": \"0.010992901\", \"ranking\": 8, \"layer\": 11}, {\"token\": \" \\u0631\\u0645\", \"prob\": \"0.009205955\", \"ranking\": 9, \"layer\": 11}, {\"token\": \" \\u0645\\u0644\\u0628\\u0648\\u0631\\u0646\", \"prob\": \"0.008472128\", \"ranking\": 10, \"layer\": 11}, {\"token\": \" \\u067e\\u06a9\\u0646\", \"prob\": \"0.008434038\", \"ranking\": 11, \"layer\": 11}, {\"token\": \" \\u0633\\u0646\", \"prob\": \"0.008193497\", \"ranking\": 12, \"layer\": 11}, {\"token\": \" \\u0645\\u06cc\\u0644\\u0627\\u0646\", \"prob\": \"0.007902964\", \"ranking\": 13, \"layer\": 11}, {\"token\": \" \\u0634\\u06cc\\u06a9\\u0627\\u06af\\u0648\", \"prob\": \"0.007412722\", \"ranking\": 14, \"layer\": 11}, {\"token\": \" \\u067e\\u0627\\u0631\\u06cc\\u0633\", \"prob\": \"0.0071446067\", \"ranking\": 15, \"layer\": 11}, {\"token\": \" \\u0645\\u0633\\u06a9\\u0648\", \"prob\": \"0.0069562704\", \"ranking\": 16, \"layer\": 11}, {\"token\": \" \\u0631\\u06cc\", \"prob\": \"0.0061183395\", \"ranking\": 17, \"layer\": 11}, {\"token\": \" \\u0647\\u06cc\\u0648\\u0633\\u062a\\u0648\\u0646\", \"prob\": \"0.005611121\", \"ranking\": 18, \"layer\": 11}, {\"token\": \" \\u0622\\u062a\\u0644\\u0627\\u0646\\u062a\\u0627\", \"prob\": \"0.0055231387\", \"ranking\": 19, \"layer\": 11}, {\"token\": \" \\u0644\\u06cc\\u0633\\u0628\\u0648\\u0646\", \"prob\": \"0.005501016\", \"ranking\": 20, \"layer\": 11}]]\n",
              "            })\n",
              "            pred.init()\n",
              "         }, function (err) {\n",
              "            console.log(viz_id, err);\n",
              "        })"
            ],
            "text/plain": [
              "<IPython.core.display.Javascript object>"
            ]
          },
          "metadata": {
            "tags": []
          }
        }
      ]
    },
    {
      "cell_type": "markdown",
      "metadata": {
        "id": "EYyHPgaAvgg7"
      },
      "source": [
        "# Input / Saliency"
      ]
    },
    {
      "cell_type": "code",
      "metadata": {
        "colab": {
          "base_uri": "https://localhost:8080/",
          "height": 145
        },
        "id": "ZrIUHsj9t92c",
        "outputId": "54b5d7be-050f-46b9-dc77-7266f767c4c9"
      },
      "source": [
        "text = \"در یک اتفاق شگفت انگیز، پژوهشگران\"\n",
        "\n",
        "output = lm.generate(text, generate=64, do_sample=True)"
      ],
      "execution_count": 140,
      "outputs": [
        {
          "output_type": "display_data",
          "data": {
            "text/html": [
              "<html lang=\"en\">\n",
              "<script src=\"https://requirejs.org/docs/release/2.3.6/minified/require.js\"></script>\n",
              "<script>\n",
              "    var ecco_url = 'https://storage.googleapis.com/ml-intro/ecco/'\n",
              "    // var ecco_url = 'http://localhost:8000/ecco/'\n",
              "\n",
              "    if (window.ecco === undefined) window.ecco = {}\n",
              "\n",
              "    requirejs.config({\n",
              "        urlArgs: \"bust=\" + (new Date()).getTime(),\n",
              "        nodeRequire: require,\n",
              "        paths: {\n",
              "            d3: \"https://d3js.org/d3.v5.min\",\n",
              "            \"d3-array\": \"https://d3js.org/d3-array.v2.min\",\n",
              "            jquery: \"https://code.jquery.com/jquery-3.5.1.min\",\n",
              "            // oldEcco: ecco_url + 'ecco',\n",
              "            ecco: ecco_url + 'js/0.0.4/ecco-bundle.min',\n",
              "            xregexp: 'https://cdnjs.cloudflare.com/ajax/libs/xregexp/3.2.0/xregexp-all.min'\n",
              "        }\n",
              "    });\n",
              "    requirejs(['d3'],\n",
              "        function (d3) {\n",
              "            d3.select('#css').attr('href', ecco_url + 'html/styles.css')\n",
              "        })\n",
              "\n",
              "    console.log('Ecco initialize.')\n",
              "</script>\n",
              "\n",
              "<head>\n",
              "    <link id='css' rel=\"stylesheet\" type=\"text/css\">\n",
              "</head>\n"
            ],
            "text/plain": [
              "<IPython.core.display.HTML object>"
            ]
          },
          "metadata": {
            "tags": []
          }
        },
        {
          "output_type": "display_data",
          "data": {
            "text/html": [
              "<script>\n",
              "    // console.log('defining basic')\n",
              "    define('basic', ['d3'],\n",
              "        function (d3) {\n",
              "            return {\n",
              "                init: function (viz_id = null) {\n",
              "\n",
              "                    // console.log('basic init')\n",
              "                    if (viz_id == null){\n",
              "                        viz_id = \"viz_\" + Math.round(Math.random() * 10000000)\n",
              "                    }\n",
              "                    const div = d3.select('#basic').attr('id', viz_id),\n",
              "                        div_parent = d3.select('#' + viz_id).node().parentNode\n",
              "\n",
              "                    // Link to CSS file\n",
              "                    d3.select(div_parent).insert('link')\n",
              "                        .attr('rel', 'stylesheet')\n",
              "                        .attr('type', 'text/css')\n",
              "                        .attr('href', ecco_url + 'html/styles.css')\n",
              "\n",
              "                    return viz_id\n",
              "                }\n",
              "            }\n",
              "        }, function (err) {console.log(err);}\n",
              "    )\n",
              "    // console.log('after defining basic')\n",
              "\n",
              "</script>\n",
              "<div id=\"basic\"></div>\n"
            ],
            "text/plain": [
              "<IPython.core.display.HTML object>"
            ]
          },
          "metadata": {
            "tags": []
          }
        },
        {
          "output_type": "display_data",
          "data": {
            "application/javascript": [
              "\n",
              "\n",
              "         requirejs( ['basic', 'ecco'], function(basic, ecco){\n",
              "            basic.init('viz_213011')\n",
              "\n",
              "            window.ecco['viz_213011'] = ecco.renderOutputSequence('viz_213011', {'tokens': [{'token': 'در', 'position': 0, 'token_id': 589, 'type': 'input'}, {'token': ' یک', 'position': 1, 'token_id': 367, 'type': 'input'}, {'token': ' اتفاق', 'position': 2, 'token_id': 1599, 'type': 'input'}, {'token': ' شگفت', 'position': 3, 'token_id': 3844, 'type': 'input'}, {'token': ' انگیز', 'position': 4, 'token_id': 5904, 'type': 'input'}, {'token': '،', 'position': 5, 'token_id': 305, 'type': 'input'}, {'token': ' پژوهشگران', 'position': 6, 'token_id': 4579, 'type': 'input'}]})\n",
              "         }, function (err) {\n",
              "            console.log(err);\n",
              "        })\n"
            ],
            "text/plain": [
              "<IPython.core.display.Javascript object>"
            ]
          },
          "metadata": {
            "tags": []
          }
        },
        {
          "output_type": "display_data",
          "data": {
            "application/javascript": [
              "\n",
              "        // We don't really need these require scripts. But this is to avert\n",
              "        //this code from running before display_input_sequence which DOES require external files\n",
              "        requirejs(['basic', 'ecco'], function(basic, ecco){\n",
              "                console.log('addToken viz_id', 'viz_213011');\n",
              "                window.ecco['viz_213011'].addToken({\"token\": \" \\u0628\\u0631\\u0627\\u06cc\", \"token_id\": 366, \"position\": 7, \"type\": \"output\"})\n",
              "                window.ecco['viz_213011'].redraw()\n",
              "        })\n",
              "        "
            ],
            "text/plain": [
              "<IPython.core.display.Javascript object>"
            ]
          },
          "metadata": {
            "tags": []
          }
        },
        {
          "output_type": "display_data",
          "data": {
            "application/javascript": [
              "\n",
              "        // We don't really need these require scripts. But this is to avert\n",
              "        //this code from running before display_input_sequence which DOES require external files\n",
              "        requirejs(['basic', 'ecco'], function(basic, ecco){\n",
              "                console.log('addToken viz_id', 'viz_213011');\n",
              "                window.ecco['viz_213011'].addToken({\"token\": \" \\u0646\\u062e\\u0633\\u062a\\u06cc\\u0646\", \"token_id\": 1817, \"position\": 8, \"type\": \"output\"})\n",
              "                window.ecco['viz_213011'].redraw()\n",
              "        })\n",
              "        "
            ],
            "text/plain": [
              "<IPython.core.display.Javascript object>"
            ]
          },
          "metadata": {
            "tags": []
          }
        },
        {
          "output_type": "display_data",
          "data": {
            "application/javascript": [
              "\n",
              "        // We don't really need these require scripts. But this is to avert\n",
              "        //this code from running before display_input_sequence which DOES require external files\n",
              "        requirejs(['basic', 'ecco'], function(basic, ecco){\n",
              "                console.log('addToken viz_id', 'viz_213011');\n",
              "                window.ecco['viz_213011'].addToken({\"token\": \" \\u0628\\u0627\\u0631\", \"token_id\": 761, \"position\": 9, \"type\": \"output\"})\n",
              "                window.ecco['viz_213011'].redraw()\n",
              "        })\n",
              "        "
            ],
            "text/plain": [
              "<IPython.core.display.Javascript object>"
            ]
          },
          "metadata": {
            "tags": []
          }
        },
        {
          "output_type": "display_data",
          "data": {
            "application/javascript": [
              "\n",
              "        // We don't really need these require scripts. But this is to avert\n",
              "        //this code from running before display_input_sequence which DOES require external files\n",
              "        requirejs(['basic', 'ecco'], function(basic, ecco){\n",
              "                console.log('addToken viz_id', 'viz_213011');\n",
              "                window.ecco['viz_213011'].addToken({\"token\": \" \\u0645\\u062a\\u0648\\u062c\\u0647\", \"token_id\": 2298, \"position\": 10, \"type\": \"output\"})\n",
              "                window.ecco['viz_213011'].redraw()\n",
              "        })\n",
              "        "
            ],
            "text/plain": [
              "<IPython.core.display.Javascript object>"
            ]
          },
          "metadata": {
            "tags": []
          }
        },
        {
          "output_type": "display_data",
          "data": {
            "application/javascript": [
              "\n",
              "        // We don't really need these require scripts. But this is to avert\n",
              "        //this code from running before display_input_sequence which DOES require external files\n",
              "        requirejs(['basic', 'ecco'], function(basic, ecco){\n",
              "                console.log('addToken viz_id', 'viz_213011');\n",
              "                window.ecco['viz_213011'].addToken({\"token\": \" \\u0634\\u062f\\u0646\\u062f\", \"token_id\": 1436, \"position\": 11, \"type\": \"output\"})\n",
              "                window.ecco['viz_213011'].redraw()\n",
              "        })\n",
              "        "
            ],
            "text/plain": [
              "<IPython.core.display.Javascript object>"
            ]
          },
          "metadata": {
            "tags": []
          }
        },
        {
          "output_type": "display_data",
          "data": {
            "application/javascript": [
              "\n",
              "        // We don't really need these require scripts. But this is to avert\n",
              "        //this code from running before display_input_sequence which DOES require external files\n",
              "        requirejs(['basic', 'ecco'], function(basic, ecco){\n",
              "                console.log('addToken viz_id', 'viz_213011');\n",
              "                window.ecco['viz_213011'].addToken({\"token\": \"\\u060c\", \"token_id\": 305, \"position\": 12, \"type\": \"output\"})\n",
              "                window.ecco['viz_213011'].redraw()\n",
              "        })\n",
              "        "
            ],
            "text/plain": [
              "<IPython.core.display.Javascript object>"
            ]
          },
          "metadata": {
            "tags": []
          }
        },
        {
          "output_type": "display_data",
          "data": {
            "application/javascript": [
              "\n",
              "        // We don't really need these require scripts. But this is to avert\n",
              "        //this code from running before display_input_sequence which DOES require external files\n",
              "        requirejs(['basic', 'ecco'], function(basic, ecco){\n",
              "                console.log('addToken viz_id', 'viz_213011');\n",
              "                window.ecco['viz_213011'].addToken({\"token\": \" \\u200c\", \"token_id\": 1570, \"position\": 13, \"type\": \"output\"})\n",
              "                window.ecco['viz_213011'].redraw()\n",
              "        })\n",
              "        "
            ],
            "text/plain": [
              "<IPython.core.display.Javascript object>"
            ]
          },
          "metadata": {
            "tags": []
          }
        },
        {
          "output_type": "display_data",
          "data": {
            "application/javascript": [
              "\n",
              "        // We don't really need these require scripts. But this is to avert\n",
              "        //this code from running before display_input_sequence which DOES require external files\n",
              "        requirejs(['basic', 'ecco'], function(basic, ecco){\n",
              "                console.log('addToken viz_id', 'viz_213011');\n",
              "                window.ecco['viz_213011'].addToken({\"token\": \" \\u067e\\u0631\\u0648\\u062a\\u0626\\u06cc\\u0646\", \"token_id\": 4398, \"position\": 14, \"type\": \"output\"})\n",
              "                window.ecco['viz_213011'].redraw()\n",
              "        })\n",
              "        "
            ],
            "text/plain": [
              "<IPython.core.display.Javascript object>"
            ]
          },
          "metadata": {
            "tags": []
          }
        },
        {
          "output_type": "display_data",
          "data": {
            "application/javascript": [
              "\n",
              "        // We don't really need these require scripts. But this is to avert\n",
              "        //this code from running before display_input_sequence which DOES require external files\n",
              "        requirejs(['basic', 'ecco'], function(basic, ecco){\n",
              "                console.log('addToken viz_id', 'viz_213011');\n",
              "                window.ecco['viz_213011'].addToken({\"token\": \"\\u0647\\u0627\\u06cc\", \"token_id\": 325, \"position\": 15, \"type\": \"output\"})\n",
              "                window.ecco['viz_213011'].redraw()\n",
              "        })\n",
              "        "
            ],
            "text/plain": [
              "<IPython.core.display.Javascript object>"
            ]
          },
          "metadata": {
            "tags": []
          }
        },
        {
          "output_type": "display_data",
          "data": {
            "application/javascript": [
              "\n",
              "        // We don't really need these require scripts. But this is to avert\n",
              "        //this code from running before display_input_sequence which DOES require external files\n",
              "        requirejs(['basic', 'ecco'], function(basic, ecco){\n",
              "                console.log('addToken viz_id', 'viz_213011');\n",
              "                window.ecco['viz_213011'].addToken({\"token\": \" \\u0645\\u0648\\u062c\\u0648\\u062f\", \"token_id\": 1294, \"position\": 16, \"type\": \"output\"})\n",
              "                window.ecco['viz_213011'].redraw()\n",
              "        })\n",
              "        "
            ],
            "text/plain": [
              "<IPython.core.display.Javascript object>"
            ]
          },
          "metadata": {
            "tags": []
          }
        },
        {
          "output_type": "display_data",
          "data": {
            "application/javascript": [
              "\n",
              "        // We don't really need these require scripts. But this is to avert\n",
              "        //this code from running before display_input_sequence which DOES require external files\n",
              "        requirejs(['basic', 'ecco'], function(basic, ecco){\n",
              "                console.log('addToken viz_id', 'viz_213011');\n",
              "                window.ecco['viz_213011'].addToken({\"token\": \" \\u062f\\u0631\", \"token_id\": 298, \"position\": 17, \"type\": \"output\"})\n",
              "                window.ecco['viz_213011'].redraw()\n",
              "        })\n",
              "        "
            ],
            "text/plain": [
              "<IPython.core.display.Javascript object>"
            ]
          },
          "metadata": {
            "tags": []
          }
        },
        {
          "output_type": "display_data",
          "data": {
            "application/javascript": [
              "\n",
              "        // We don't really need these require scripts. But this is to avert\n",
              "        //this code from running before display_input_sequence which DOES require external files\n",
              "        requirejs(['basic', 'ecco'], function(basic, ecco){\n",
              "                console.log('addToken viz_id', 'viz_213011');\n",
              "                window.ecco['viz_213011'].addToken({\"token\": \" \\u0633\\u0644\\u0648\\u0644\", \"token_id\": 2829, \"position\": 18, \"type\": \"output\"})\n",
              "                window.ecco['viz_213011'].redraw()\n",
              "        })\n",
              "        "
            ],
            "text/plain": [
              "<IPython.core.display.Javascript object>"
            ]
          },
          "metadata": {
            "tags": []
          }
        },
        {
          "output_type": "display_data",
          "data": {
            "application/javascript": [
              "\n",
              "        // We don't really need these require scripts. But this is to avert\n",
              "        //this code from running before display_input_sequence which DOES require external files\n",
              "        requirejs(['basic', 'ecco'], function(basic, ecco){\n",
              "                console.log('addToken viz_id', 'viz_213011');\n",
              "                window.ecco['viz_213011'].addToken({\"token\": \"\\u200c\", \"token_id\": 285, \"position\": 19, \"type\": \"output\"})\n",
              "                window.ecco['viz_213011'].redraw()\n",
              "        })\n",
              "        "
            ],
            "text/plain": [
              "<IPython.core.display.Javascript object>"
            ]
          },
          "metadata": {
            "tags": []
          }
        },
        {
          "output_type": "display_data",
          "data": {
            "application/javascript": [
              "\n",
              "        // We don't really need these require scripts. But this is to avert\n",
              "        //this code from running before display_input_sequence which DOES require external files\n",
              "        requirejs(['basic', 'ecco'], function(basic, ecco){\n",
              "                console.log('addToken viz_id', 'viz_213011');\n",
              "                window.ecco['viz_213011'].addToken({\"token\": \"\\u0647\\u0627\\u06cc\", \"token_id\": 325, \"position\": 20, \"type\": \"output\"})\n",
              "                window.ecco['viz_213011'].redraw()\n",
              "        })\n",
              "        "
            ],
            "text/plain": [
              "<IPython.core.display.Javascript object>"
            ]
          },
          "metadata": {
            "tags": []
          }
        },
        {
          "output_type": "display_data",
          "data": {
            "application/javascript": [
              "\n",
              "        // We don't really need these require scripts. But this is to avert\n",
              "        //this code from running before display_input_sequence which DOES require external files\n",
              "        requirejs(['basic', 'ecco'], function(basic, ecco){\n",
              "                console.log('addToken viz_id', 'viz_213011');\n",
              "                window.ecco['viz_213011'].addToken({\"token\": \" \\u067e\\u0633\\u062a\\u0627\\u0646\\u062f\\u0627\\u0631\\u0627\\u0646\", \"token_id\": 13287, \"position\": 21, \"type\": \"output\"})\n",
              "                window.ecco['viz_213011'].redraw()\n",
              "        })\n",
              "        "
            ],
            "text/plain": [
              "<IPython.core.display.Javascript object>"
            ]
          },
          "metadata": {
            "tags": []
          }
        },
        {
          "output_type": "display_data",
          "data": {
            "application/javascript": [
              "\n",
              "        // We don't really need these require scripts. But this is to avert\n",
              "        //this code from running before display_input_sequence which DOES require external files\n",
              "        requirejs(['basic', 'ecco'], function(basic, ecco){\n",
              "                console.log('addToken viz_id', 'viz_213011');\n",
              "                window.ecco['viz_213011'].addToken({\"token\": \"\\u060c\", \"token_id\": 305, \"position\": 22, \"type\": \"output\"})\n",
              "                window.ecco['viz_213011'].redraw()\n",
              "        })\n",
              "        "
            ],
            "text/plain": [
              "<IPython.core.display.Javascript object>"
            ]
          },
          "metadata": {
            "tags": []
          }
        },
        {
          "output_type": "display_data",
          "data": {
            "application/javascript": [
              "\n",
              "        // We don't really need these require scripts. But this is to avert\n",
              "        //this code from running before display_input_sequence which DOES require external files\n",
              "        requirejs(['basic', 'ecco'], function(basic, ecco){\n",
              "                console.log('addToken viz_id', 'viz_213011');\n",
              "                window.ecco['viz_213011'].addToken({\"token\": \" \\u06a9\\u0647\", \"token_id\": 323, \"position\": 23, \"type\": \"output\"})\n",
              "                window.ecco['viz_213011'].redraw()\n",
              "        })\n",
              "        "
            ],
            "text/plain": [
              "<IPython.core.display.Javascript object>"
            ]
          },
          "metadata": {
            "tags": []
          }
        },
        {
          "output_type": "display_data",
          "data": {
            "application/javascript": [
              "\n",
              "        // We don't really need these require scripts. But this is to avert\n",
              "        //this code from running before display_input_sequence which DOES require external files\n",
              "        requirejs(['basic', 'ecco'], function(basic, ecco){\n",
              "                console.log('addToken viz_id', 'viz_213011');\n",
              "                window.ecco['viz_213011'].addToken({\"token\": \" \\u0648\\u0638\\u06cc\\u0641\\u0647\", \"token_id\": 3188, \"position\": 24, \"type\": \"output\"})\n",
              "                window.ecco['viz_213011'].redraw()\n",
              "        })\n",
              "        "
            ],
            "text/plain": [
              "<IPython.core.display.Javascript object>"
            ]
          },
          "metadata": {
            "tags": []
          }
        },
        {
          "output_type": "display_data",
          "data": {
            "application/javascript": [
              "\n",
              "        // We don't really need these require scripts. But this is to avert\n",
              "        //this code from running before display_input_sequence which DOES require external files\n",
              "        requirejs(['basic', 'ecco'], function(basic, ecco){\n",
              "                console.log('addToken viz_id', 'viz_213011');\n",
              "                window.ecco['viz_213011'].addToken({\"token\": \" \\u062a\\u0648\\u0644\\u06cc\\u062f\\u0645\\u062b\\u0644\", \"token_id\": 29777, \"position\": 25, \"type\": \"output\"})\n",
              "                window.ecco['viz_213011'].redraw()\n",
              "        })\n",
              "        "
            ],
            "text/plain": [
              "<IPython.core.display.Javascript object>"
            ]
          },
          "metadata": {
            "tags": []
          }
        },
        {
          "output_type": "display_data",
          "data": {
            "application/javascript": [
              "\n",
              "        // We don't really need these require scripts. But this is to avert\n",
              "        //this code from running before display_input_sequence which DOES require external files\n",
              "        requirejs(['basic', 'ecco'], function(basic, ecco){\n",
              "                console.log('addToken viz_id', 'viz_213011');\n",
              "                window.ecco['viz_213011'].addToken({\"token\": \" \\u0631\\u0627\", \"token_id\": 330, \"position\": 26, \"type\": \"output\"})\n",
              "                window.ecco['viz_213011'].redraw()\n",
              "        })\n",
              "        "
            ],
            "text/plain": [
              "<IPython.core.display.Javascript object>"
            ]
          },
          "metadata": {
            "tags": []
          }
        },
        {
          "output_type": "display_data",
          "data": {
            "application/javascript": [
              "\n",
              "        // We don't really need these require scripts. But this is to avert\n",
              "        //this code from running before display_input_sequence which DOES require external files\n",
              "        requirejs(['basic', 'ecco'], function(basic, ecco){\n",
              "                console.log('addToken viz_id', 'viz_213011');\n",
              "                window.ecco['viz_213011'].addToken({\"token\": \" \\u0628\\u0631\", \"token_id\": 327, \"position\": 27, \"type\": \"output\"})\n",
              "                window.ecco['viz_213011'].redraw()\n",
              "        })\n",
              "        "
            ],
            "text/plain": [
              "<IPython.core.display.Javascript object>"
            ]
          },
          "metadata": {
            "tags": []
          }
        },
        {
          "output_type": "display_data",
          "data": {
            "application/javascript": [
              "\n",
              "        // We don't really need these require scripts. But this is to avert\n",
              "        //this code from running before display_input_sequence which DOES require external files\n",
              "        requirejs(['basic', 'ecco'], function(basic, ecco){\n",
              "                console.log('addToken viz_id', 'viz_213011');\n",
              "                window.ecco['viz_213011'].addToken({\"token\": \" \\u0639\\u0647\\u062f\\u0647\", \"token_id\": 2693, \"position\": 28, \"type\": \"output\"})\n",
              "                window.ecco['viz_213011'].redraw()\n",
              "        })\n",
              "        "
            ],
            "text/plain": [
              "<IPython.core.display.Javascript object>"
            ]
          },
          "metadata": {
            "tags": []
          }
        },
        {
          "output_type": "display_data",
          "data": {
            "application/javascript": [
              "\n",
              "        // We don't really need these require scripts. But this is to avert\n",
              "        //this code from running before display_input_sequence which DOES require external files\n",
              "        requirejs(['basic', 'ecco'], function(basic, ecco){\n",
              "                console.log('addToken viz_id', 'viz_213011');\n",
              "                window.ecco['viz_213011'].addToken({\"token\": \" \\u062f\\u0627\\u0631\\u0646\\u062f\", \"token_id\": 712, \"position\": 29, \"type\": \"output\"})\n",
              "                window.ecco['viz_213011'].redraw()\n",
              "        })\n",
              "        "
            ],
            "text/plain": [
              "<IPython.core.display.Javascript object>"
            ]
          },
          "metadata": {
            "tags": []
          }
        },
        {
          "output_type": "display_data",
          "data": {
            "application/javascript": [
              "\n",
              "        // We don't really need these require scripts. But this is to avert\n",
              "        //this code from running before display_input_sequence which DOES require external files\n",
              "        requirejs(['basic', 'ecco'], function(basic, ecco){\n",
              "                console.log('addToken viz_id', 'viz_213011');\n",
              "                window.ecco['viz_213011'].addToken({\"token\": \"\\u060c\", \"token_id\": 305, \"position\": 30, \"type\": \"output\"})\n",
              "                window.ecco['viz_213011'].redraw()\n",
              "        })\n",
              "        "
            ],
            "text/plain": [
              "<IPython.core.display.Javascript object>"
            ]
          },
          "metadata": {
            "tags": []
          }
        },
        {
          "output_type": "display_data",
          "data": {
            "application/javascript": [
              "\n",
              "        // We don't really need these require scripts. But this is to avert\n",
              "        //this code from running before display_input_sequence which DOES require external files\n",
              "        requirejs(['basic', 'ecco'], function(basic, ecco){\n",
              "                console.log('addToken viz_id', 'viz_213011');\n",
              "                window.ecco['viz_213011'].addToken({\"token\": \" \\u0645\\u06cc\", \"token_id\": 310, \"position\": 31, \"type\": \"output\"})\n",
              "                window.ecco['viz_213011'].redraw()\n",
              "        })\n",
              "        "
            ],
            "text/plain": [
              "<IPython.core.display.Javascript object>"
            ]
          },
          "metadata": {
            "tags": []
          }
        },
        {
          "output_type": "display_data",
          "data": {
            "application/javascript": [
              "\n",
              "        // We don't really need these require scripts. But this is to avert\n",
              "        //this code from running before display_input_sequence which DOES require external files\n",
              "        requirejs(['basic', 'ecco'], function(basic, ecco){\n",
              "                console.log('addToken viz_id', 'viz_213011');\n",
              "                window.ecco['viz_213011'].addToken({\"token\": \"\\u200c\", \"token_id\": 285, \"position\": 32, \"type\": \"output\"})\n",
              "                window.ecco['viz_213011'].redraw()\n",
              "        })\n",
              "        "
            ],
            "text/plain": [
              "<IPython.core.display.Javascript object>"
            ]
          },
          "metadata": {
            "tags": []
          }
        },
        {
          "output_type": "display_data",
          "data": {
            "application/javascript": [
              "\n",
              "        // We don't really need these require scripts. But this is to avert\n",
              "        //this code from running before display_input_sequence which DOES require external files\n",
              "        requirejs(['basic', 'ecco'], function(basic, ecco){\n",
              "                console.log('addToken viz_id', 'viz_213011');\n",
              "                window.ecco['viz_213011'].addToken({\"token\": \"\\u062a\\u0648\\u0627\\u0646\\u0646\\u062f\", \"token_id\": 1006, \"position\": 33, \"type\": \"output\"})\n",
              "                window.ecco['viz_213011'].redraw()\n",
              "        })\n",
              "        "
            ],
            "text/plain": [
              "<IPython.core.display.Javascript object>"
            ]
          },
          "metadata": {
            "tags": []
          }
        },
        {
          "output_type": "display_data",
          "data": {
            "application/javascript": [
              "\n",
              "        // We don't really need these require scripts. But this is to avert\n",
              "        //this code from running before display_input_sequence which DOES require external files\n",
              "        requirejs(['basic', 'ecco'], function(basic, ecco){\n",
              "                console.log('addToken viz_id', 'viz_213011');\n",
              "                window.ecco['viz_213011'].addToken({\"token\": \" \\u0628\\u0627\", \"token_id\": 314, \"position\": 34, \"type\": \"output\"})\n",
              "                window.ecco['viz_213011'].redraw()\n",
              "        })\n",
              "        "
            ],
            "text/plain": [
              "<IPython.core.display.Javascript object>"
            ]
          },
          "metadata": {
            "tags": []
          }
        },
        {
          "output_type": "display_data",
          "data": {
            "application/javascript": [
              "\n",
              "        // We don't really need these require scripts. But this is to avert\n",
              "        //this code from running before display_input_sequence which DOES require external files\n",
              "        requirejs(['basic', 'ecco'], function(basic, ecco){\n",
              "                console.log('addToken viz_id', 'viz_213011');\n",
              "                window.ecco['viz_213011'].addToken({\"token\": \" \\u062a\\u063a\\u06cc\\u06cc\\u0631\", \"token_id\": 828, \"position\": 35, \"type\": \"output\"})\n",
              "                window.ecco['viz_213011'].redraw()\n",
              "        })\n",
              "        "
            ],
            "text/plain": [
              "<IPython.core.display.Javascript object>"
            ]
          },
          "metadata": {
            "tags": []
          }
        },
        {
          "output_type": "display_data",
          "data": {
            "application/javascript": [
              "\n",
              "        // We don't really need these require scripts. But this is to avert\n",
              "        //this code from running before display_input_sequence which DOES require external files\n",
              "        requirejs(['basic', 'ecco'], function(basic, ecco){\n",
              "                console.log('addToken viz_id', 'viz_213011');\n",
              "                window.ecco['viz_213011'].addToken({\"token\": \" \\u0634\\u0631\\u0627\\u06cc\\u0637\", \"token_id\": 1138, \"position\": 36, \"type\": \"output\"})\n",
              "                window.ecco['viz_213011'].redraw()\n",
              "        })\n",
              "        "
            ],
            "text/plain": [
              "<IPython.core.display.Javascript object>"
            ]
          },
          "metadata": {
            "tags": []
          }
        },
        {
          "output_type": "display_data",
          "data": {
            "application/javascript": [
              "\n",
              "        // We don't really need these require scripts. But this is to avert\n",
              "        //this code from running before display_input_sequence which DOES require external files\n",
              "        requirejs(['basic', 'ecco'], function(basic, ecco){\n",
              "                console.log('addToken viz_id', 'viz_213011');\n",
              "                window.ecco['viz_213011'].addToken({\"token\": \" \\u0628\\u0647\", \"token_id\": 303, \"position\": 37, \"type\": \"output\"})\n",
              "                window.ecco['viz_213011'].redraw()\n",
              "        })\n",
              "        "
            ],
            "text/plain": [
              "<IPython.core.display.Javascript object>"
            ]
          },
          "metadata": {
            "tags": []
          }
        },
        {
          "output_type": "display_data",
          "data": {
            "application/javascript": [
              "\n",
              "        // We don't really need these require scripts. But this is to avert\n",
              "        //this code from running before display_input_sequence which DOES require external files\n",
              "        requirejs(['basic', 'ecco'], function(basic, ecco){\n",
              "                console.log('addToken viz_id', 'viz_213011');\n",
              "                window.ecco['viz_213011'].addToken({\"token\": \" \\u062e\\u0635\\u0648\\u0635\", \"token_id\": 1279, \"position\": 38, \"type\": \"output\"})\n",
              "                window.ecco['viz_213011'].redraw()\n",
              "        })\n",
              "        "
            ],
            "text/plain": [
              "<IPython.core.display.Javascript object>"
            ]
          },
          "metadata": {
            "tags": []
          }
        },
        {
          "output_type": "display_data",
          "data": {
            "application/javascript": [
              "\n",
              "        // We don't really need these require scripts. But this is to avert\n",
              "        //this code from running before display_input_sequence which DOES require external files\n",
              "        requirejs(['basic', 'ecco'], function(basic, ecco){\n",
              "                console.log('addToken viz_id', 'viz_213011');\n",
              "                window.ecco['viz_213011'].addToken({\"token\": \" \\u062f\\u0631\", \"token_id\": 298, \"position\": 39, \"type\": \"output\"})\n",
              "                window.ecco['viz_213011'].redraw()\n",
              "        })\n",
              "        "
            ],
            "text/plain": [
              "<IPython.core.display.Javascript object>"
            ]
          },
          "metadata": {
            "tags": []
          }
        },
        {
          "output_type": "display_data",
          "data": {
            "application/javascript": [
              "\n",
              "        // We don't really need these require scripts. But this is to avert\n",
              "        //this code from running before display_input_sequence which DOES require external files\n",
              "        requirejs(['basic', 'ecco'], function(basic, ecco){\n",
              "                console.log('addToken viz_id', 'viz_213011');\n",
              "                window.ecco['viz_213011'].addToken({\"token\": \" \\u062d\\u0627\\u0644\\u062a\", \"token_id\": 1471, \"position\": 40, \"type\": \"output\"})\n",
              "                window.ecco['viz_213011'].redraw()\n",
              "        })\n",
              "        "
            ],
            "text/plain": [
              "<IPython.core.display.Javascript object>"
            ]
          },
          "metadata": {
            "tags": []
          }
        },
        {
          "output_type": "display_data",
          "data": {
            "application/javascript": [
              "\n",
              "        // We don't really need these require scripts. But this is to avert\n",
              "        //this code from running before display_input_sequence which DOES require external files\n",
              "        requirejs(['basic', 'ecco'], function(basic, ecco){\n",
              "                console.log('addToken viz_id', 'viz_213011');\n",
              "                window.ecco['viz_213011'].addToken({\"token\": \" \\u0627\\u0633\\u062a\\u0631\\u0627\\u062d\\u062a\", \"token_id\": 5045, \"position\": 41, \"type\": \"output\"})\n",
              "                window.ecco['viz_213011'].redraw()\n",
              "        })\n",
              "        "
            ],
            "text/plain": [
              "<IPython.core.display.Javascript object>"
            ]
          },
          "metadata": {
            "tags": []
          }
        },
        {
          "output_type": "display_data",
          "data": {
            "application/javascript": [
              "\n",
              "        // We don't really need these require scripts. But this is to avert\n",
              "        //this code from running before display_input_sequence which DOES require external files\n",
              "        requirejs(['basic', 'ecco'], function(basic, ecco){\n",
              "                console.log('addToken viz_id', 'viz_213011');\n",
              "                window.ecco['viz_213011'].addToken({\"token\": \"\\u060c\", \"token_id\": 305, \"position\": 42, \"type\": \"output\"})\n",
              "                window.ecco['viz_213011'].redraw()\n",
              "        })\n",
              "        "
            ],
            "text/plain": [
              "<IPython.core.display.Javascript object>"
            ]
          },
          "metadata": {
            "tags": []
          }
        },
        {
          "output_type": "display_data",
          "data": {
            "application/javascript": [
              "\n",
              "        // We don't really need these require scripts. But this is to avert\n",
              "        //this code from running before display_input_sequence which DOES require external files\n",
              "        requirejs(['basic', 'ecco'], function(basic, ecco){\n",
              "                console.log('addToken viz_id', 'viz_213011');\n",
              "                window.ecco['viz_213011'].addToken({\"token\": \" \\u062a\\u063a\\u06cc\\u06cc\\u0631\", \"token_id\": 828, \"position\": 43, \"type\": \"output\"})\n",
              "                window.ecco['viz_213011'].redraw()\n",
              "        })\n",
              "        "
            ],
            "text/plain": [
              "<IPython.core.display.Javascript object>"
            ]
          },
          "metadata": {
            "tags": []
          }
        },
        {
          "output_type": "display_data",
          "data": {
            "application/javascript": [
              "\n",
              "        // We don't really need these require scripts. But this is to avert\n",
              "        //this code from running before display_input_sequence which DOES require external files\n",
              "        requirejs(['basic', 'ecco'], function(basic, ecco){\n",
              "                console.log('addToken viz_id', 'viz_213011');\n",
              "                window.ecco['viz_213011'].addToken({\"token\": \" \\u0645\\u0633\\u06cc\\u0631\", \"token_id\": 1418, \"position\": 44, \"type\": \"output\"})\n",
              "                window.ecco['viz_213011'].redraw()\n",
              "        })\n",
              "        "
            ],
            "text/plain": [
              "<IPython.core.display.Javascript object>"
            ]
          },
          "metadata": {
            "tags": []
          }
        },
        {
          "output_type": "display_data",
          "data": {
            "application/javascript": [
              "\n",
              "        // We don't really need these require scripts. But this is to avert\n",
              "        //this code from running before display_input_sequence which DOES require external files\n",
              "        requirejs(['basic', 'ecco'], function(basic, ecco){\n",
              "                console.log('addToken viz_id', 'viz_213011');\n",
              "                window.ecco['viz_213011'].addToken({\"token\": \" \\u0628\\u062f\\u0647\\u0646\\u062f\", \"token_id\": 5332, \"position\": 45, \"type\": \"output\"})\n",
              "                window.ecco['viz_213011'].redraw()\n",
              "        })\n",
              "        "
            ],
            "text/plain": [
              "<IPython.core.display.Javascript object>"
            ]
          },
          "metadata": {
            "tags": []
          }
        },
        {
          "output_type": "display_data",
          "data": {
            "application/javascript": [
              "\n",
              "        // We don't really need these require scripts. But this is to avert\n",
              "        //this code from running before display_input_sequence which DOES require external files\n",
              "        requirejs(['basic', 'ecco'], function(basic, ecco){\n",
              "                console.log('addToken viz_id', 'viz_213011');\n",
              "                window.ecco['viz_213011'].addToken({\"token\": \".\", \"token_id\": 24, \"position\": 46, \"type\": \"output\"})\n",
              "                window.ecco['viz_213011'].redraw()\n",
              "        })\n",
              "        "
            ],
            "text/plain": [
              "<IPython.core.display.Javascript object>"
            ]
          },
          "metadata": {
            "tags": []
          }
        },
        {
          "output_type": "display_data",
          "data": {
            "application/javascript": [
              "\n",
              "        // We don't really need these require scripts. But this is to avert\n",
              "        //this code from running before display_input_sequence which DOES require external files\n",
              "        requirejs(['basic', 'ecco'], function(basic, ecco){\n",
              "                console.log('addToken viz_id', 'viz_213011');\n",
              "                window.ecco['viz_213011'].addToken({\"token\": \" \\u0628\\u0647\", \"token_id\": 303, \"position\": 47, \"type\": \"output\"})\n",
              "                window.ecco['viz_213011'].redraw()\n",
              "        })\n",
              "        "
            ],
            "text/plain": [
              "<IPython.core.display.Javascript object>"
            ]
          },
          "metadata": {
            "tags": []
          }
        },
        {
          "output_type": "display_data",
          "data": {
            "application/javascript": [
              "\n",
              "        // We don't really need these require scripts. But this is to avert\n",
              "        //this code from running before display_input_sequence which DOES require external files\n",
              "        requirejs(['basic', 'ecco'], function(basic, ecco){\n",
              "                console.log('addToken viz_id', 'viz_213011');\n",
              "                window.ecco['viz_213011'].addToken({\"token\": \" \\u06af\\u0641\\u062a\\u0647\", \"token_id\": 1023, \"position\": 48, \"type\": \"output\"})\n",
              "                window.ecco['viz_213011'].redraw()\n",
              "        })\n",
              "        "
            ],
            "text/plain": [
              "<IPython.core.display.Javascript object>"
            ]
          },
          "metadata": {
            "tags": []
          }
        },
        {
          "output_type": "display_data",
          "data": {
            "application/javascript": [
              "\n",
              "        // We don't really need these require scripts. But this is to avert\n",
              "        //this code from running before display_input_sequence which DOES require external files\n",
              "        requirejs(['basic', 'ecco'], function(basic, ecco){\n",
              "                console.log('addToken viz_id', 'viz_213011');\n",
              "                window.ecco['viz_213011'].addToken({\"token\": \" \\u0627\\u06cc\\u0646\", \"token_id\": 326, \"position\": 49, \"type\": \"output\"})\n",
              "                window.ecco['viz_213011'].redraw()\n",
              "        })\n",
              "        "
            ],
            "text/plain": [
              "<IPython.core.display.Javascript object>"
            ]
          },
          "metadata": {
            "tags": []
          }
        },
        {
          "output_type": "display_data",
          "data": {
            "application/javascript": [
              "\n",
              "        // We don't really need these require scripts. But this is to avert\n",
              "        //this code from running before display_input_sequence which DOES require external files\n",
              "        requirejs(['basic', 'ecco'], function(basic, ecco){\n",
              "                console.log('addToken viz_id', 'viz_213011');\n",
              "                window.ecco['viz_213011'].addToken({\"token\": \" \\u062a\\u06cc\\u0645\", \"token_id\": 935, \"position\": 50, \"type\": \"output\"})\n",
              "                window.ecco['viz_213011'].redraw()\n",
              "        })\n",
              "        "
            ],
            "text/plain": [
              "<IPython.core.display.Javascript object>"
            ]
          },
          "metadata": {
            "tags": []
          }
        },
        {
          "output_type": "display_data",
          "data": {
            "application/javascript": [
              "\n",
              "        // We don't really need these require scripts. But this is to avert\n",
              "        //this code from running before display_input_sequence which DOES require external files\n",
              "        requirejs(['basic', 'ecco'], function(basic, ecco){\n",
              "                console.log('addToken viz_id', 'viz_213011');\n",
              "                window.ecco['viz_213011'].addToken({\"token\": \" \\u067e\\u0698\\u0648\\u0647\\u0634\\u06cc\", \"token_id\": 5296, \"position\": 51, \"type\": \"output\"})\n",
              "                window.ecco['viz_213011'].redraw()\n",
              "        })\n",
              "        "
            ],
            "text/plain": [
              "<IPython.core.display.Javascript object>"
            ]
          },
          "metadata": {
            "tags": []
          }
        },
        {
          "output_type": "display_data",
          "data": {
            "application/javascript": [
              "\n",
              "        // We don't really need these require scripts. But this is to avert\n",
              "        //this code from running before display_input_sequence which DOES require external files\n",
              "        requirejs(['basic', 'ecco'], function(basic, ecco){\n",
              "                console.log('addToken viz_id', 'viz_213011');\n",
              "                window.ecco['viz_213011'].addToken({\"token\": \"\\u060c\", \"token_id\": 305, \"position\": 52, \"type\": \"output\"})\n",
              "                window.ecco['viz_213011'].redraw()\n",
              "        })\n",
              "        "
            ],
            "text/plain": [
              "<IPython.core.display.Javascript object>"
            ]
          },
          "metadata": {
            "tags": []
          }
        },
        {
          "output_type": "display_data",
          "data": {
            "application/javascript": [
              "\n",
              "        // We don't really need these require scripts. But this is to avert\n",
              "        //this code from running before display_input_sequence which DOES require external files\n",
              "        requirejs(['basic', 'ecco'], function(basic, ecco){\n",
              "                console.log('addToken viz_id', 'viz_213011');\n",
              "                window.ecco['viz_213011'].addToken({\"token\": \" \\u200c\", \"token_id\": 1570, \"position\": 53, \"type\": \"output\"})\n",
              "                window.ecco['viz_213011'].redraw()\n",
              "        })\n",
              "        "
            ],
            "text/plain": [
              "<IPython.core.display.Javascript object>"
            ]
          },
          "metadata": {
            "tags": []
          }
        },
        {
          "output_type": "display_data",
          "data": {
            "application/javascript": [
              "\n",
              "        // We don't really need these require scripts. But this is to avert\n",
              "        //this code from running before display_input_sequence which DOES require external files\n",
              "        requirejs(['basic', 'ecco'], function(basic, ecco){\n",
              "                console.log('addToken viz_id', 'viz_213011');\n",
              "                window.ecco['viz_213011'].addToken({\"token\": \" \\u067e\\u0631\\u0648\\u062a\\u0626\\u06cc\\u0646\\u06cc\", \"token_id\": 14062, \"position\": 54, \"type\": \"output\"})\n",
              "                window.ecco['viz_213011'].redraw()\n",
              "        })\n",
              "        "
            ],
            "text/plain": [
              "<IPython.core.display.Javascript object>"
            ]
          },
          "metadata": {
            "tags": []
          }
        },
        {
          "output_type": "display_data",
          "data": {
            "application/javascript": [
              "\n",
              "        // We don't really need these require scripts. But this is to avert\n",
              "        //this code from running before display_input_sequence which DOES require external files\n",
              "        requirejs(['basic', 'ecco'], function(basic, ecco){\n",
              "                console.log('addToken viz_id', 'viz_213011');\n",
              "                window.ecco['viz_213011'].addToken({\"token\": \" \\u06a9\\u0647\", \"token_id\": 323, \"position\": 55, \"type\": \"output\"})\n",
              "                window.ecco['viz_213011'].redraw()\n",
              "        })\n",
              "        "
            ],
            "text/plain": [
              "<IPython.core.display.Javascript object>"
            ]
          },
          "metadata": {
            "tags": []
          }
        },
        {
          "output_type": "display_data",
          "data": {
            "application/javascript": [
              "\n",
              "        // We don't really need these require scripts. But this is to avert\n",
              "        //this code from running before display_input_sequence which DOES require external files\n",
              "        requirejs(['basic', 'ecco'], function(basic, ecco){\n",
              "                console.log('addToken viz_id', 'viz_213011');\n",
              "                window.ecco['viz_213011'].addToken({\"token\": \" \\u062f\\u0631\", \"token_id\": 298, \"position\": 56, \"type\": \"output\"})\n",
              "                window.ecco['viz_213011'].redraw()\n",
              "        })\n",
              "        "
            ],
            "text/plain": [
              "<IPython.core.display.Javascript object>"
            ]
          },
          "metadata": {
            "tags": []
          }
        },
        {
          "output_type": "display_data",
          "data": {
            "application/javascript": [
              "\n",
              "        // We don't really need these require scripts. But this is to avert\n",
              "        //this code from running before display_input_sequence which DOES require external files\n",
              "        requirejs(['basic', 'ecco'], function(basic, ecco){\n",
              "                console.log('addToken viz_id', 'viz_213011');\n",
              "                window.ecco['viz_213011'].addToken({\"token\": \" \\u0637\\u0648\\u0644\", \"token_id\": 1033, \"position\": 57, \"type\": \"output\"})\n",
              "                window.ecco['viz_213011'].redraw()\n",
              "        })\n",
              "        "
            ],
            "text/plain": [
              "<IPython.core.display.Javascript object>"
            ]
          },
          "metadata": {
            "tags": []
          }
        },
        {
          "output_type": "display_data",
          "data": {
            "application/javascript": [
              "\n",
              "        // We don't really need these require scripts. But this is to avert\n",
              "        //this code from running before display_input_sequence which DOES require external files\n",
              "        requirejs(['basic', 'ecco'], function(basic, ecco){\n",
              "                console.log('addToken viz_id', 'viz_213011');\n",
              "                window.ecco['viz_213011'].addToken({\"token\": \" \\u0686\\u0631\\u062e\\u0647\", \"token_id\": 5081, \"position\": 58, \"type\": \"output\"})\n",
              "                window.ecco['viz_213011'].redraw()\n",
              "        })\n",
              "        "
            ],
            "text/plain": [
              "<IPython.core.display.Javascript object>"
            ]
          },
          "metadata": {
            "tags": []
          }
        },
        {
          "output_type": "display_data",
          "data": {
            "application/javascript": [
              "\n",
              "        // We don't really need these require scripts. But this is to avert\n",
              "        //this code from running before display_input_sequence which DOES require external files\n",
              "        requirejs(['basic', 'ecco'], function(basic, ecco){\n",
              "                console.log('addToken viz_id', 'viz_213011');\n",
              "                window.ecco['viz_213011'].addToken({\"token\": \" \\u062d\\u06cc\\u0627\\u062a\", \"token_id\": 4237, \"position\": 59, \"type\": \"output\"})\n",
              "                window.ecco['viz_213011'].redraw()\n",
              "        })\n",
              "        "
            ],
            "text/plain": [
              "<IPython.core.display.Javascript object>"
            ]
          },
          "metadata": {
            "tags": []
          }
        },
        {
          "output_type": "display_data",
          "data": {
            "application/javascript": [
              "\n",
              "        // We don't really need these require scripts. But this is to avert\n",
              "        //this code from running before display_input_sequence which DOES require external files\n",
              "        requirejs(['basic', 'ecco'], function(basic, ecco){\n",
              "                console.log('addToken viz_id', 'viz_213011');\n",
              "                window.ecco['viz_213011'].addToken({\"token\": \" \\u062e\\u0648\\u062f\", \"token_id\": 377, \"position\": 60, \"type\": \"output\"})\n",
              "                window.ecco['viz_213011'].redraw()\n",
              "        })\n",
              "        "
            ],
            "text/plain": [
              "<IPython.core.display.Javascript object>"
            ]
          },
          "metadata": {
            "tags": []
          }
        },
        {
          "output_type": "display_data",
          "data": {
            "application/javascript": [
              "\n",
              "        // We don't really need these require scripts. But this is to avert\n",
              "        //this code from running before display_input_sequence which DOES require external files\n",
              "        requirejs(['basic', 'ecco'], function(basic, ecco){\n",
              "                console.log('addToken viz_id', 'viz_213011');\n",
              "                window.ecco['viz_213011'].addToken({\"token\": \" \\u0645\\u06cc\", \"token_id\": 310, \"position\": 61, \"type\": \"output\"})\n",
              "                window.ecco['viz_213011'].redraw()\n",
              "        })\n",
              "        "
            ],
            "text/plain": [
              "<IPython.core.display.Javascript object>"
            ]
          },
          "metadata": {
            "tags": []
          }
        },
        {
          "output_type": "display_data",
          "data": {
            "application/javascript": [
              "\n",
              "        // We don't really need these require scripts. But this is to avert\n",
              "        //this code from running before display_input_sequence which DOES require external files\n",
              "        requirejs(['basic', 'ecco'], function(basic, ecco){\n",
              "                console.log('addToken viz_id', 'viz_213011');\n",
              "                window.ecco['viz_213011'].addToken({\"token\": \"\\u200c\", \"token_id\": 285, \"position\": 62, \"type\": \"output\"})\n",
              "                window.ecco['viz_213011'].redraw()\n",
              "        })\n",
              "        "
            ],
            "text/plain": [
              "<IPython.core.display.Javascript object>"
            ]
          },
          "metadata": {
            "tags": []
          }
        },
        {
          "output_type": "display_data",
          "data": {
            "application/javascript": [
              "\n",
              "        // We don't really need these require scripts. But this is to avert\n",
              "        //this code from running before display_input_sequence which DOES require external files\n",
              "        requirejs(['basic', 'ecco'], function(basic, ecco){\n",
              "                console.log('addToken viz_id', 'viz_213011');\n",
              "                window.ecco['viz_213011'].addToken({\"token\": \"\\u062a\\u0648\\u0627\\u0646\\u062f\", \"token_id\": 663, \"position\": 63, \"type\": \"output\"})\n",
              "                window.ecco['viz_213011'].redraw()\n",
              "        })\n",
              "        "
            ],
            "text/plain": [
              "<IPython.core.display.Javascript object>"
            ]
          },
          "metadata": {
            "tags": []
          }
        },
        {
          "output_type": "display_data",
          "data": {
            "application/javascript": [
              "\n",
              "        // We don't really need these require scripts. But this is to avert\n",
              "        //this code from running before display_input_sequence which DOES require external files\n",
              "        requirejs(['basic', 'ecco'], function(basic, ecco){\n",
              "                console.log('addToken viz_id', 'viz_213011');\n",
              "                window.ecco['viz_213011'].addToken({\"token\": \" \\u0628\\u0647\", \"token_id\": 303, \"position\": 64, \"type\": \"output\"})\n",
              "                window.ecco['viz_213011'].redraw()\n",
              "        })\n",
              "        "
            ],
            "text/plain": [
              "<IPython.core.display.Javascript object>"
            ]
          },
          "metadata": {
            "tags": []
          }
        },
        {
          "output_type": "display_data",
          "data": {
            "application/javascript": [
              "\n",
              "        // We don't really need these require scripts. But this is to avert\n",
              "        //this code from running before display_input_sequence which DOES require external files\n",
              "        requirejs(['basic', 'ecco'], function(basic, ecco){\n",
              "                console.log('addToken viz_id', 'viz_213011');\n",
              "                window.ecco['viz_213011'].addToken({\"token\": \" \\u0645\\u06cc\\u0632\\u0627\\u0646\", \"token_id\": 1252, \"position\": 65, \"type\": \"output\"})\n",
              "                window.ecco['viz_213011'].redraw()\n",
              "        })\n",
              "        "
            ],
            "text/plain": [
              "<IPython.core.display.Javascript object>"
            ]
          },
          "metadata": {
            "tags": []
          }
        },
        {
          "output_type": "display_data",
          "data": {
            "application/javascript": [
              "\n",
              "        // We don't really need these require scripts. But this is to avert\n",
              "        //this code from running before display_input_sequence which DOES require external files\n",
              "        requirejs(['basic', 'ecco'], function(basic, ecco){\n",
              "                console.log('addToken viz_id', 'viz_213011');\n",
              "                window.ecco['viz_213011'].addToken({\"token\": \" \\u0642\\u0627\\u0628\\u0644\", \"token_id\": 1045, \"position\": 66, \"type\": \"output\"})\n",
              "                window.ecco['viz_213011'].redraw()\n",
              "        })\n",
              "        "
            ],
            "text/plain": [
              "<IPython.core.display.Javascript object>"
            ]
          },
          "metadata": {
            "tags": []
          }
        },
        {
          "output_type": "display_data",
          "data": {
            "application/javascript": [
              "\n",
              "        // We don't really need these require scripts. But this is to avert\n",
              "        //this code from running before display_input_sequence which DOES require external files\n",
              "        requirejs(['basic', 'ecco'], function(basic, ecco){\n",
              "                console.log('addToken viz_id', 'viz_213011');\n",
              "                window.ecco['viz_213011'].addToken({\"token\": \" \\u062a\\u0648\\u062c\\u0647\\u06cc\", \"token_id\": 3424, \"position\": 67, \"type\": \"output\"})\n",
              "                window.ecco['viz_213011'].redraw()\n",
              "        })\n",
              "        "
            ],
            "text/plain": [
              "<IPython.core.display.Javascript object>"
            ]
          },
          "metadata": {
            "tags": []
          }
        },
        {
          "output_type": "display_data",
          "data": {
            "application/javascript": [
              "\n",
              "        // We don't really need these require scripts. But this is to avert\n",
              "        //this code from running before display_input_sequence which DOES require external files\n",
              "        requirejs(['basic', 'ecco'], function(basic, ecco){\n",
              "                console.log('addToken viz_id', 'viz_213011');\n",
              "                window.ecco['viz_213011'].addToken({\"token\": \" \\u062a\\u063a\\u06cc\\u06cc\\u0631\", \"token_id\": 828, \"position\": 68, \"type\": \"output\"})\n",
              "                window.ecco['viz_213011'].redraw()\n",
              "        })\n",
              "        "
            ],
            "text/plain": [
              "<IPython.core.display.Javascript object>"
            ]
          },
          "metadata": {
            "tags": []
          }
        },
        {
          "output_type": "display_data",
          "data": {
            "application/javascript": [
              "\n",
              "        // We don't really need these require scripts. But this is to avert\n",
              "        //this code from running before display_input_sequence which DOES require external files\n",
              "        requirejs(['basic', 'ecco'], function(basic, ecco){\n",
              "                console.log('addToken viz_id', 'viz_213011');\n",
              "                window.ecco['viz_213011'].addToken({\"token\": \" \\u0645\\u0633\\u06cc\\u0631\", \"token_id\": 1418, \"position\": 69, \"type\": \"output\"})\n",
              "                window.ecco['viz_213011'].redraw()\n",
              "        })\n",
              "        "
            ],
            "text/plain": [
              "<IPython.core.display.Javascript object>"
            ]
          },
          "metadata": {
            "tags": []
          }
        },
        {
          "output_type": "display_data",
          "data": {
            "application/javascript": [
              "\n",
              "        // We don't really need these require scripts. But this is to avert\n",
              "        //this code from running before display_input_sequence which DOES require external files\n",
              "        requirejs(['basic', 'ecco'], function(basic, ecco){\n",
              "                console.log('addToken viz_id', 'viz_213011');\n",
              "                window.ecco['viz_213011'].addToken({\"token\": \" \\u0628\\u062f\\u0647\\u062f\", \"token_id\": 3866, \"position\": 70, \"type\": \"output\"})\n",
              "                window.ecco['viz_213011'].redraw()\n",
              "        })\n",
              "        "
            ],
            "text/plain": [
              "<IPython.core.display.Javascript object>"
            ]
          },
          "metadata": {
            "tags": []
          }
        }
      ]
    },
    {
      "cell_type": "code",
      "metadata": {
        "colab": {
          "base_uri": "https://localhost:8080/",
          "height": 83
        },
        "id": "IHnkaROEvsRn",
        "outputId": "6da71ba9-8eb9-416c-9bf7-88f20a68d5a8"
      },
      "source": [
        "output.saliency()"
      ],
      "execution_count": 141,
      "outputs": [
        {
          "output_type": "display_data",
          "data": {
            "text/html": [
              "<html lang=\"en\">\n",
              "<script src=\"https://requirejs.org/docs/release/2.3.6/minified/require.js\"></script>\n",
              "<script>\n",
              "    var ecco_url = 'https://storage.googleapis.com/ml-intro/ecco/'\n",
              "    // var ecco_url = 'http://localhost:8000/ecco/'\n",
              "\n",
              "    if (window.ecco === undefined) window.ecco = {}\n",
              "\n",
              "    requirejs.config({\n",
              "        urlArgs: \"bust=\" + (new Date()).getTime(),\n",
              "        nodeRequire: require,\n",
              "        paths: {\n",
              "            d3: \"https://d3js.org/d3.v5.min\",\n",
              "            \"d3-array\": \"https://d3js.org/d3-array.v2.min\",\n",
              "            jquery: \"https://code.jquery.com/jquery-3.5.1.min\",\n",
              "            // oldEcco: ecco_url + 'ecco',\n",
              "            ecco: ecco_url + 'js/0.0.4/ecco-bundle.min',\n",
              "            xregexp: 'https://cdnjs.cloudflare.com/ajax/libs/xregexp/3.2.0/xregexp-all.min'\n",
              "        }\n",
              "    });\n",
              "    requirejs(['d3'],\n",
              "        function (d3) {\n",
              "            d3.select('#css').attr('href', ecco_url + 'html/styles.css')\n",
              "        })\n",
              "\n",
              "    console.log('Ecco initialize.')\n",
              "</script>\n",
              "\n",
              "<head>\n",
              "    <link id='css' rel=\"stylesheet\" type=\"text/css\">\n",
              "</head>\n"
            ],
            "text/plain": [
              "<IPython.core.display.HTML object>"
            ]
          },
          "metadata": {
            "tags": []
          }
        },
        {
          "output_type": "display_data",
          "data": {
            "text/html": [
              "<script>\n",
              "    // console.log('defining basic')\n",
              "    define('basic', ['d3'],\n",
              "        function (d3) {\n",
              "            return {\n",
              "                init: function (viz_id = null) {\n",
              "\n",
              "                    // console.log('basic init')\n",
              "                    if (viz_id == null){\n",
              "                        viz_id = \"viz_\" + Math.round(Math.random() * 10000000)\n",
              "                    }\n",
              "                    const div = d3.select('#basic').attr('id', viz_id),\n",
              "                        div_parent = d3.select('#' + viz_id).node().parentNode\n",
              "\n",
              "                    // Link to CSS file\n",
              "                    d3.select(div_parent).insert('link')\n",
              "                        .attr('rel', 'stylesheet')\n",
              "                        .attr('type', 'text/css')\n",
              "                        .attr('href', ecco_url + 'html/styles.css')\n",
              "\n",
              "                    return viz_id\n",
              "                }\n",
              "            }\n",
              "        }, function (err) {console.log(err);}\n",
              "    )\n",
              "    // console.log('after defining basic')\n",
              "\n",
              "</script>\n",
              "<div id=\"basic\"></div>\n"
            ],
            "text/plain": [
              "<IPython.core.display.HTML object>"
            ]
          },
          "metadata": {
            "tags": []
          }
        },
        {
          "output_type": "display_data",
          "data": {
            "application/javascript": [
              "\n",
              "             requirejs(['basic', 'ecco'], function(basic, ecco){\n",
              "                const viz_id = basic.init()\n",
              "                // ecco.interactiveTokens(viz_id, {})\n",
              "                window.ecco[viz_id] = new ecco.MinimalHighlighter({\n",
              "                parentDiv: viz_id,\n",
              "                data: {'tokens': [{'token': 'در', 'token_id': 589, 'type': 'input', 'value': '0.120529495', 'position': 0}, {'token': ' یک', 'token_id': 367, 'type': 'input', 'value': '0.05264326', 'position': 1}, {'token': ' اتفاق', 'token_id': 1599, 'type': 'input', 'value': '0.11394182', 'position': 2}, {'token': ' شگفت', 'token_id': 3844, 'type': 'input', 'value': '0.16398367', 'position': 3}, {'token': ' انگیز', 'token_id': 5904, 'type': 'input', 'value': '0.14254722', 'position': 4}, {'token': '،', 'token_id': 305, 'type': 'input', 'value': '0.058095437', 'position': 5}, {'token': ' پژوهشگران', 'token_id': 4579, 'type': 'input', 'value': '0.34825912', 'position': 6}, {'token': ' برای', 'token_id': 366, 'type': 'output', 'value': '0', 'position': 7}, {'token': ' نخستین', 'token_id': 1817, 'type': 'output', 'value': '0', 'position': 8}, {'token': ' بار', 'token_id': 761, 'type': 'output', 'value': '0', 'position': 9}, {'token': ' متوجه', 'token_id': 2298, 'type': 'output', 'value': '0', 'position': 10}, {'token': ' شدند', 'token_id': 1436, 'type': 'output', 'value': '0', 'position': 11}, {'token': '،', 'token_id': 305, 'type': 'output', 'value': '0', 'position': 12}, {'token': ' \\u200c', 'token_id': 1570, 'type': 'output', 'value': '0', 'position': 13}, {'token': ' پروتئین', 'token_id': 4398, 'type': 'output', 'value': '0', 'position': 14}, {'token': 'های', 'token_id': 325, 'type': 'output', 'value': '0', 'position': 15}, {'token': ' موجود', 'token_id': 1294, 'type': 'output', 'value': '0', 'position': 16}, {'token': ' در', 'token_id': 298, 'type': 'output', 'value': '0', 'position': 17}, {'token': ' سلول', 'token_id': 2829, 'type': 'output', 'value': '0', 'position': 18}, {'token': '\\u200c', 'token_id': 285, 'type': 'output', 'value': '0', 'position': 19}, {'token': 'های', 'token_id': 325, 'type': 'output', 'value': '0', 'position': 20}, {'token': ' پستانداران', 'token_id': 13287, 'type': 'output', 'value': '0', 'position': 21}, {'token': '،', 'token_id': 305, 'type': 'output', 'value': '0', 'position': 22}, {'token': ' که', 'token_id': 323, 'type': 'output', 'value': '0', 'position': 23}, {'token': ' وظیفه', 'token_id': 3188, 'type': 'output', 'value': '0', 'position': 24}, {'token': ' تولیدمثل', 'token_id': 29777, 'type': 'output', 'value': '0', 'position': 25}, {'token': ' را', 'token_id': 330, 'type': 'output', 'value': '0', 'position': 26}, {'token': ' بر', 'token_id': 327, 'type': 'output', 'value': '0', 'position': 27}, {'token': ' عهده', 'token_id': 2693, 'type': 'output', 'value': '0', 'position': 28}, {'token': ' دارند', 'token_id': 712, 'type': 'output', 'value': '0', 'position': 29}, {'token': '،', 'token_id': 305, 'type': 'output', 'value': '0', 'position': 30}, {'token': ' می', 'token_id': 310, 'type': 'output', 'value': '0', 'position': 31}, {'token': '\\u200c', 'token_id': 285, 'type': 'output', 'value': '0', 'position': 32}, {'token': 'توانند', 'token_id': 1006, 'type': 'output', 'value': '0', 'position': 33}, {'token': ' با', 'token_id': 314, 'type': 'output', 'value': '0', 'position': 34}, {'token': ' تغییر', 'token_id': 828, 'type': 'output', 'value': '0', 'position': 35}, {'token': ' شرایط', 'token_id': 1138, 'type': 'output', 'value': '0', 'position': 36}, {'token': ' به', 'token_id': 303, 'type': 'output', 'value': '0', 'position': 37}, {'token': ' خصوص', 'token_id': 1279, 'type': 'output', 'value': '0', 'position': 38}, {'token': ' در', 'token_id': 298, 'type': 'output', 'value': '0', 'position': 39}, {'token': ' حالت', 'token_id': 1471, 'type': 'output', 'value': '0', 'position': 40}, {'token': ' استراحت', 'token_id': 5045, 'type': 'output', 'value': '0', 'position': 41}, {'token': '،', 'token_id': 305, 'type': 'output', 'value': '0', 'position': 42}, {'token': ' تغییر', 'token_id': 828, 'type': 'output', 'value': '0', 'position': 43}, {'token': ' مسیر', 'token_id': 1418, 'type': 'output', 'value': '0', 'position': 44}, {'token': ' بدهند', 'token_id': 5332, 'type': 'output', 'value': '0', 'position': 45}, {'token': '.', 'token_id': 24, 'type': 'output', 'value': '0', 'position': 46}, {'token': ' به', 'token_id': 303, 'type': 'output', 'value': '0', 'position': 47}, {'token': ' گفته', 'token_id': 1023, 'type': 'output', 'value': '0', 'position': 48}, {'token': ' این', 'token_id': 326, 'type': 'output', 'value': '0', 'position': 49}, {'token': ' تیم', 'token_id': 935, 'type': 'output', 'value': '0', 'position': 50}, {'token': ' پژوهشی', 'token_id': 5296, 'type': 'output', 'value': '0', 'position': 51}, {'token': '،', 'token_id': 305, 'type': 'output', 'value': '0', 'position': 52}, {'token': ' \\u200c', 'token_id': 1570, 'type': 'output', 'value': '0', 'position': 53}, {'token': ' پروتئینی', 'token_id': 14062, 'type': 'output', 'value': '0', 'position': 54}, {'token': ' که', 'token_id': 323, 'type': 'output', 'value': '0', 'position': 55}, {'token': ' در', 'token_id': 298, 'type': 'output', 'value': '0', 'position': 56}, {'token': ' طول', 'token_id': 1033, 'type': 'output', 'value': '0', 'position': 57}, {'token': ' چرخه', 'token_id': 5081, 'type': 'output', 'value': '0', 'position': 58}, {'token': ' حیات', 'token_id': 4237, 'type': 'output', 'value': '0', 'position': 59}, {'token': ' خود', 'token_id': 377, 'type': 'output', 'value': '0', 'position': 60}, {'token': ' می', 'token_id': 310, 'type': 'output', 'value': '0', 'position': 61}, {'token': '\\u200c', 'token_id': 285, 'type': 'output', 'value': '0', 'position': 62}, {'token': 'تواند', 'token_id': 663, 'type': 'output', 'value': '0', 'position': 63}, {'token': ' به', 'token_id': 303, 'type': 'output', 'value': '0', 'position': 64}, {'token': ' میزان', 'token_id': 1252, 'type': 'output', 'value': '0', 'position': 65}, {'token': ' قابل', 'token_id': 1045, 'type': 'output', 'value': '0', 'position': 66}, {'token': ' توجهی', 'token_id': 3424, 'type': 'output', 'value': '0', 'position': 67}, {'token': ' تغییر', 'token_id': 828, 'type': 'output', 'value': '0', 'position': 68}, {'token': ' مسیر', 'token_id': 1418, 'type': 'output', 'value': '0', 'position': 69}, {'token': ' بدهد', 'token_id': 3866, 'type': 'output', 'value': '0', 'position': 70}], 'attributions': [[0.12052949517965317, 0.05264326184988022, 0.11394181847572327, 0.16398367285728455, 0.14254721999168396, 0.05809543654322624, 0.3482591211795807], [0.1781502664089203, 0.06820687651634216, 0.12039405107498169, 0.15711303055286407, 0.16788733005523682, 0.04340321943163872, 0.20059633255004883, 0.06424884498119354], [0.08585289865732193, 0.040032535791397095, 0.07826150953769684, 0.12479200959205627, 0.15820591151714325, 0.03708841651678085, 0.17505423724651337, 0.07700830698013306, 0.22370417416095734], [0.11525771021842957, 0.04457148164510727, 0.09094107896089554, 0.1231161430478096, 0.10062672942876816, 0.0298308115452528, 0.20600777864456177, 0.04154171049594879, 0.1282319277524948, 0.11987464874982834], [0.08803491294384003, 0.03329388424754143, 0.07146862149238586, 0.09924773871898651, 0.08452096581459045, 0.026380598545074463, 0.16145983338356018, 0.028535939753055573, 0.0587216354906559, 0.056490447372198105, 0.2918453812599182], [0.09408842772245407, 0.031251899898052216, 0.06169586628675461, 0.08931385725736618, 0.08660504966974258, 0.04297078400850296, 0.15246358513832092, 0.024139394983649254, 0.0757228434085846, 0.03318798914551735, 0.15693354606628418, 0.15162670612335205], [0.11074426770210266, 0.0359828881919384, 0.059685591608285904, 0.09184788912534714, 0.11247868090867996, 0.042484674602746964, 0.14790046215057373, 0.026875022798776627, 0.07459121197462082, 0.03547780588269234, 0.10972238332033157, 0.10522313416004181, 0.046985968947410583], [0.10008340328931808, 0.025656452402472496, 0.04576603323221207, 0.06769827008247375, 0.08492779731750488, 0.028991401195526123, 0.142159104347229, 0.018878484144806862, 0.049313466995954514, 0.027413062751293182, 0.11616713553667068, 0.08785500377416611, 0.04787037894129753, 0.1572200208902359], [0.06682416796684265, 0.02473749779164791, 0.043947797268629074, 0.09157176315784454, 0.11014430969953537, 0.020965108647942543, 0.07059634476900101, 0.012052700854837894, 0.030799003317952156, 0.018830234184861183, 0.04963789880275726, 0.04896589741110802, 0.02399306371808052, 0.036727096885442734, 0.3502071797847748], [0.0683305412530899, 0.017187124118208885, 0.03306121379137039, 0.05194312334060669, 0.06057991087436676, 0.020688673481345177, 0.09220581501722336, 0.015998588874936104, 0.03643724322319031, 0.02707723341882229, 0.051272109150886536, 0.05546336993575096, 0.020004864782094955, 0.03433840721845627, 0.30479511618614197, 0.11061664670705795], [0.061967913061380386, 0.018488025292754173, 0.03545275703072548, 0.05181359127163887, 0.052410148084163666, 0.017373457551002502, 0.08617506176233292, 0.01590169407427311, 0.04398893937468529, 0.02074064500629902, 0.06341993808746338, 0.055386681109666824, 0.015995897352695465, 0.032249629497528076, 0.2015593945980072, 0.05463571846485138, 0.17244043946266174], [0.10801324993371964, 0.01787499710917473, 0.031199021264910698, 0.04383867233991623, 0.04472817853093147, 0.016828149557113647, 0.08445969223976135, 0.012985942885279655, 0.03808780014514923, 0.0188908651471138, 0.05729240924119949, 0.04407313093543053, 0.016005342826247215, 0.033385567367076874, 0.2115548700094223, 0.04349305480718613, 0.1288757026195526, 0.048413392156362534], [0.05091400817036629, 0.01616712659597397, 0.03452746570110321, 0.05129971355199814, 0.05098560452461243, 0.015248192474246025, 0.08821036666631699, 0.014368843287229538, 0.038764189928770065, 0.01923242211341858, 0.056495919823646545, 0.04840634763240814, 0.012078269384801388, 0.025353820994496346, 0.16269926726818085, 0.031153390184044838, 0.03889095410704613, 0.01758343167603016, 0.22762072086334229], [0.05794253200292587, 0.01628996804356575, 0.030956001952290535, 0.048469219356775284, 0.07193323224782944, 0.015065977349877357, 0.08058343827724457, 0.012861005030572414, 0.04086778312921524, 0.019433220848441124, 0.052695419639348984, 0.04321274906396866, 0.02103840932250023, 0.06902316212654114, 0.10923442244529724, 0.03399530053138733, 0.03870614618062973, 0.019765682518482208, 0.17655426263809204, 0.04137201979756355], [0.059533897787332535, 0.013473530299961567, 0.023743199184536934, 0.037638530135154724, 0.03918318822979927, 0.014258407056331635, 0.06322062760591507, 0.011859474703669548, 0.033062104135751724, 0.019262412562966347, 0.03792892023921013, 0.04081698879599571, 0.013224292546510696, 0.022846901789307594, 0.12221086025238037, 0.05412381887435913, 0.04564881697297096, 0.018574092537164688, 0.2247500717639923, 0.047885097563266754, 0.0567547045648098], [0.06679655611515045, 0.017190519720315933, 0.03108084946870804, 0.038217395544052124, 0.0470476932823658, 0.021205104887485504, 0.06444563716650009, 0.014056903310120106, 0.042796023190021515, 0.019443659111857414, 0.05829240754246712, 0.049793828278779984, 0.018263621255755424, 0.022073743864893913, 0.09156564623117447, 0.03186255320906639, 0.04384220018982887, 0.014916411601006985, 0.048949480056762695, 0.008266408927738667, 0.016767537221312523, 0.23312582075595856], [0.05355146899819374, 0.017224840819835663, 0.029187941923737526, 0.0426604263484478, 0.06504445523023605, 0.022366279736161232, 0.06805460900068283, 0.01308570895344019, 0.040810033679008484, 0.019774237647652626, 0.06783484667539597, 0.05948541313409805, 0.022732889279723167, 0.05196090415120125, 0.0975290983915329, 0.026779964566230774, 0.03947295621037483, 0.014418243430554867, 0.037933360785245895, 0.010504367761313915, 0.015254414640367031, 0.15130159258842468, 0.033031951636075974], [0.044610727578401566, 0.013888600282371044, 0.025301320478320122, 0.03200257942080498, 0.037291619926691055, 0.01604093238711357, 0.0637740045785904, 0.014160341583192348, 0.029468804597854614, 0.015509107150137424, 0.04298367351293564, 0.0451163649559021, 0.01663612760603428, 0.0275103896856308, 0.16187900304794312, 0.05149355158209801, 0.03175656124949455, 0.01569346711039543, 0.061871156096458435, 0.009652108885347843, 0.016290457919239998, 0.10452806949615479, 0.048391811549663544, 0.0741492211818695], [0.046329934149980545, 0.017003199085593224, 0.03769191727042198, 0.05262945964932442, 0.07012979686260223, 0.016141319647431374, 0.057715389877557755, 0.009191513061523438, 0.027432991191744804, 0.0148128317669034, 0.036791469901800156, 0.03133179619908333, 0.016394516453146935, 0.030294254422187805, 0.11061524599790573, 0.02585873380303383, 0.0196284931153059, 0.012044275179505348, 0.06659706681966782, 0.011490987613797188, 0.010524553246796131, 0.10530177503824234, 0.01715066470205784, 0.025770606473088264, 0.1311272382736206], [0.022170666605234146, 0.007515456527471542, 0.01275520771741867, 0.01685541681945324, 0.019768359139561653, 0.008365833200514317, 0.03009558841586113, 0.008181165903806686, 0.018263520672917366, 0.007912171073257923, 0.022027689963579178, 0.01678585074841976, 0.00669445563107729, 0.011880561709403992, 0.04938065633177757, 0.013058812357485294, 0.014088821597397327, 0.007192803546786308, 0.04481947422027588, 0.006382938474416733, 0.008895665407180786, 0.07350654155015945, 0.015245949849486351, 0.02427440881729126, 0.0821949690580368, 0.4516870081424713], [0.0316193513572216, 0.01664142496883869, 0.028066735714673996, 0.03340279310941696, 0.06253629922866821, 0.014956277795135975, 0.06107702478766441, 0.012527846731245518, 0.04718412086367607, 0.019503114745020866, 0.045003436505794525, 0.035772960633039474, 0.015543406829237938, 0.03352576494216919, 0.04764629155397415, 0.015532576479017735, 0.019454972818493843, 0.009663033299148083, 0.029114389792084694, 0.0090880012139678, 0.009287944063544273, 0.06675756722688675, 0.017313070595264435, 0.02498612552881241, 0.10500133037567139, 0.1434587687253952, 0.045335397124290466], [0.040057118982076645, 0.013866810128092766, 0.021658478304743767, 0.028256958350539207, 0.044955022633075714, 0.015425854362547398, 0.04593735188245773, 0.01164078339934349, 0.030622445046901703, 0.01509111374616623, 0.03310069814324379, 0.026648936793208122, 0.015577562153339386, 0.028945397585630417, 0.06087426468729973, 0.018932336941361427, 0.020127715542912483, 0.01554876659065485, 0.03285757079720497, 0.009324670769274235, 0.008118847385048866, 0.06494399160146713, 0.0197165384888649, 0.02130477875471115, 0.08254265785217285, 0.1657130867242813, 0.03759758919477463, 0.07061261683702469], [0.04350912943482399, 0.0117940129712224, 0.017678480595350266, 0.027166398242115974, 0.041386693716049194, 0.01175431627780199, 0.037511520087718964, 0.00933605246245861, 0.02735034190118313, 0.012312370352447033, 0.036652546375989914, 0.0314638614654541, 0.01259779091924429, 0.02912917733192444, 0.05133650824427605, 0.020252300426363945, 0.01707075536251068, 0.009374774061143398, 0.02938845194876194, 0.008849911391735077, 0.009274852462112904, 0.06530443578958511, 0.017726220190525055, 0.024164756760001183, 0.04433634132146835, 0.14272987842559814, 0.024084841832518578, 0.03326699882745743, 0.15319624543190002], [0.047412898391485214, 0.01729159615933895, 0.025585124269127846, 0.03476784750819206, 0.06053222715854645, 0.01685561053454876, 0.06244873255491257, 0.012086973525583744, 0.03956989198923111, 0.018232429400086403, 0.05182943493127823, 0.04090454429388046, 0.015310581773519516, 0.03709840402007103, 0.06720246374607086, 0.020530391484498978, 0.022866057232022285, 0.010241278447210789, 0.02432427741587162, 0.01119182351976633, 0.013898319564759731, 0.09146082401275635, 0.02494671568274498, 0.0307119432836771, 0.019031591713428497, 0.07317810505628586, 0.010543742217123508, 0.01156082097440958, 0.04753671959042549, 0.040848683565855026], [0.06375151872634888, 0.016584990546107292, 0.030575070530176163, 0.03978618234395981, 0.044322576373815536, 0.017769979313015938, 0.07163196802139282, 0.013906409032642841, 0.03576689958572388, 0.01830929145216942, 0.07260537892580032, 0.05580201745033264, 0.01504176203161478, 0.03426540270447731, 0.1139865517616272, 0.026516687124967575, 0.031124768778681755, 0.00707507086917758, 0.026405442506074905, 0.004637671634554863, 0.006909787654876709, 0.054560668766498566, 0.014549619518220425, 0.012206066399812698, 0.014515290036797523, 0.06165507435798645, 0.005324540194123983, 0.005999709479510784, 0.03003387711942196, 0.034408170729875565, 0.01997155323624611], [0.07903499901294708, 0.013610418885946274, 0.023362617939710617, 0.03789230436086655, 0.06319800019264221, 0.016094859689474106, 0.03947232663631439, 0.009349821135401726, 0.025776665657758713, 0.012295935302972794, 0.035385359078645706, 0.03596082702279091, 0.019014408811926842, 0.047334786504507065, 0.045795366168022156, 0.020682288333773613, 0.015671927481889725, 0.008824151009321213, 0.031672172248363495, 0.022250987589359283, 0.011274471879005432, 0.04708494991064072, 0.01935906708240509, 0.02244185097515583, 0.018920253962278366, 0.059457797557115555, 0.009633643552660942, 0.009478135965764523, 0.03261106461286545, 0.02773582562804222, 0.031094806268811226, 0.1082279309630394], [0.04200358688831329, 0.012756566517055035, 0.016206713393330574, 0.02200246788561344, 0.11984725296497345, 0.01084932405501604, 0.049216486513614655, 0.007543214596807957, 0.02825181372463703, 0.013501722365617752, 0.030333049595355988, 0.03457537665963173, 0.026713648810982704, 0.08499016612768173, 0.04379117116332054, 0.02162194810807705, 0.017063863575458527, 0.005317079368978739, 0.020406808704137802, 0.022163117304444313, 0.015634708106517792, 0.04561221972107887, 0.011388295330107212, 0.010500124655663967, 0.012649341486394405, 0.07127831876277924, 0.006798418704420328, 0.009531837888062, 0.03563649579882622, 0.028035156428813934, 0.014360911212861538, 0.04263094812631607, 0.06678789854049683], [0.04613664001226425, 0.00979230459779501, 0.019247552379965782, 0.02679455652832985, 0.03542318940162659, 0.011636771261692047, 0.04279673099517822, 0.00870715081691742, 0.023256609216332436, 0.011634673923254013, 0.03453413397073746, 0.035208698362112045, 0.01416589505970478, 0.029419301077723503, 0.08963396400213242, 0.03087901696562767, 0.01975388266146183, 0.006605716422200203, 0.031261686235666275, 0.006061528343707323, 0.007957120425999165, 0.06695055961608887, 0.013382485136389732, 0.01760844886302948, 0.018155984580516815, 0.15290983021259308, 0.007649615872651339, 0.006884512025862932, 0.03626174479722977, 0.024764683097600937, 0.01264912448823452, 0.01479305699467659, 0.007593050133436918, 0.0794897973537445], [0.03572550788521767, 0.010918752290308475, 0.018542645499110222, 0.028910059481859207, 0.027861973270773888, 0.013123911805450916, 0.045623764395713806, 0.00936872698366642, 0.03535052761435509, 0.014019068330526352, 0.033236064016819, 0.03324681520462036, 0.012048963457345963, 0.025090092793107033, 0.09889810532331467, 0.025393294170498848, 0.021118471398949623, 0.010778326541185379, 0.031588684767484665, 0.009296510368585587, 0.008715585805475712, 0.06658339500427246, 0.012191107496619225, 0.012523077428340912, 0.024097232148051262, 0.11542440205812454, 0.013435933738946915, 0.010620003566145897, 0.030910950154066086, 0.016796022653579712, 0.008246609941124916, 0.013970283791422844, 0.014519227668642998, 0.06942977011203766, 0.04239613562822342], [0.03950045630335808, 0.01249300129711628, 0.024573717266321182, 0.033712878823280334, 0.03609582036733627, 0.012554198503494263, 0.05358656123280525, 0.009359144605696201, 0.028025422245264053, 0.012225611135363579, 0.030501263216137886, 0.025835737586021423, 0.009589488618075848, 0.016483237966895103, 0.084063321352005, 0.01602202281355858, 0.02228144370019436, 0.006250270176678896, 0.0365200936794281, 0.006422883365303278, 0.007844123058021069, 0.055222269147634506, 0.009820870123803616, 0.01126785110682249, 0.021959269419312477, 0.09884859621524811, 0.008259588852524757, 0.006706940475851297, 0.029239283874630928, 0.01633574068546295, 0.006648159585893154, 0.012943587265908718, 0.008725474588572979, 0.047615692019462585, 0.026845676824450493, 0.11562033742666245], [0.02913053333759308, 0.011061088182032108, 0.020909370854496956, 0.02996428683400154, 0.03174471855163574, 0.0106118842959404, 0.0449441559612751, 0.007822834886610508, 0.027769125998020172, 0.01040787622332573, 0.027201887220144272, 0.02116522565484047, 0.007662998046725988, 0.014392880722880363, 0.06132799759507179, 0.013879493810236454, 0.0165262371301651, 0.0064588068053126335, 0.03051074407994747, 0.0066957552917301655, 0.007187802344560623, 0.0673983171582222, 0.009856842458248138, 0.011015476658940315, 0.020905064418911934, 0.1137709766626358, 0.007917395792901516, 0.009595567360520363, 0.02761922776699066, 0.014152511954307556, 0.008398817852139473, 0.012949683703482151, 0.007208541035652161, 0.03069131262600422, 0.01935015618801117, 0.07843130081892014, 0.12336315214633942], [0.02417030744254589, 0.011244373396039009, 0.02159697189927101, 0.03764966502785683, 0.06243760511279106, 0.010983810760080814, 0.04911750182509422, 0.009225746616721153, 0.031010005623102188, 0.014673123136162758, 0.031126592308282852, 0.0256684310734272, 0.011818522587418556, 0.023729009553790092, 0.06950945407152176, 0.017961081117391586, 0.016315996646881104, 0.0076661002822220325, 0.03378613293170929, 0.007426184602081776, 0.00827646255493164, 0.04681456834077835, 0.008516071364283562, 0.009144710376858711, 0.019656600430607796, 0.10120239108800888, 0.0063071963377296925, 0.007802621461451054, 0.026857169345021248, 0.01403789035975933, 0.00822308100759983, 0.008876674808561802, 0.007689802907407284, 0.031773023307323456, 0.01819291152060032, 0.06293255090713501, 0.06542964279651642, 0.03114996664226055], [0.023625299334526062, 0.00976650882512331, 0.013427370227873325, 0.019229711964726448, 0.026712464168667793, 0.008511530235409737, 0.030257347971200943, 0.0062660882249474525, 0.014540385454893112, 0.007623175159096718, 0.016182713210582733, 0.014878308400511742, 0.007319650147110224, 0.01730353944003582, 0.04218931123614311, 0.01150145847350359, 0.012445332482457161, 0.01957714557647705, 0.02173645608127117, 0.007651874329894781, 0.007667179685086012, 0.046776361763477325, 0.008552501909434795, 0.00680130859836936, 0.016628429293632507, 0.07525892555713654, 0.006171958055347204, 0.00672014057636261, 0.02320387400686741, 0.011686854995787144, 0.009131746366620064, 0.011457863263785839, 0.007902318611741066, 0.02709449641406536, 0.014077818021178246, 0.04814121127128601, 0.0823177769780159, 0.07660701870918274, 0.18305648863315582], [0.02983459085226059, 0.00876541156321764, 0.015478495508432388, 0.021141869947314262, 0.028333298861980438, 0.007991625927388668, 0.031873103231191635, 0.006998905912041664, 0.020378554239869118, 0.00827453751116991, 0.01865607500076294, 0.01640573889017105, 0.00671016750857234, 0.018084021285176277, 0.05144047737121582, 0.014447595924139023, 0.014228635467588902, 0.01667947508394718, 0.04345915466547012, 0.008857263252139091, 0.008958968333899975, 0.08512511849403381, 0.007791391108185053, 0.009315677918493748, 0.020554352551698685, 0.11197768896818161, 0.0056582228280603886, 0.006070716306567192, 0.0219848845154047, 0.011733817867934704, 0.005927873309701681, 0.007879055105149746, 0.007551038637757301, 0.023876121267676353, 0.008395369164645672, 0.034817423671483994, 0.052583787590265274, 0.036174070090055466, 0.11520995199680328, 0.030375543981790543], [0.041284237056970596, 0.008781597018241882, 0.014768492430448532, 0.020450100302696228, 0.02318144217133522, 0.00769482646137476, 0.030144942924380302, 0.004638934042304754, 0.015627102926373482, 0.006582286674529314, 0.01929810456931591, 0.01438814215362072, 0.005691582337021828, 0.015776431187987328, 0.049784500151872635, 0.009341450408101082, 0.010958125814795494, 0.007668324280530214, 0.05670952424407005, 0.005881089251488447, 0.006704926490783691, 0.06907273083925247, 0.00560866529121995, 0.006354379002004862, 0.017034566029906273, 0.14992497861385345, 0.003772775176912546, 0.004320124164223671, 0.0164119191467762, 0.009169688448309898, 0.004035527352243662, 0.00875986646860838, 0.004575397819280624, 0.01607222855091095, 0.006890163756906986, 0.029388658702373505, 0.03884439170360565, 0.019305776804685593, 0.05248437449336052, 0.02589373290538788, 0.13672392070293427], [0.025878850370645523, 0.007922647520899773, 0.015164638869464397, 0.020796122029423714, 0.024884240701794624, 0.00924538355320692, 0.03706261143088341, 0.006964599713683128, 0.02181232161819935, 0.00884274858981371, 0.023262126371264458, 0.02033206820487976, 0.008248033933341503, 0.013621088117361069, 0.04034150764346123, 0.010296312160789967, 0.014137230813503265, 0.006526845041662455, 0.026690049096941948, 0.005629427265375853, 0.006105534732341766, 0.05993012338876724, 0.007207442540675402, 0.007751126307994127, 0.023198692128062248, 0.07169150561094284, 0.007104802876710892, 0.005934710614383221, 0.029638366773724556, 0.015337328426539898, 0.00618871720507741, 0.0103116724640131, 0.005945871118456125, 0.03045518696308136, 0.012958085164427757, 0.02874944731593132, 0.02029919996857643, 0.014989282004535198, 0.036869749426841736, 0.010980455204844475, 0.06325145065784454, 0.17744244635105133], [0.021101094782352448, 0.007759347558021545, 0.01571401208639145, 0.023843547329306602, 0.029750237241387367, 0.009337883442640305, 0.041181374341249466, 0.006687036249786615, 0.019088920205831528, 0.008862264454364777, 0.027966823428869247, 0.021983664482831955, 0.008948209695518017, 0.017320076003670692, 0.06725183874368668, 0.013977715745568275, 0.01729924976825714, 0.006360906176269054, 0.02956954576075077, 0.004874304868280888, 0.005248177796602249, 0.04804839566349983, 0.008113812655210495, 0.008160565048456192, 0.01733550801873207, 0.10927131026983261, 0.006925970781594515, 0.006499411538243294, 0.028339333832263947, 0.01963910460472107, 0.008336648344993591, 0.01034428458660841, 0.006927895825356245, 0.04203983023762703, 0.012095862999558449, 0.04858672246336937, 0.02594720385968685, 0.010998333804309368, 0.03179777413606644, 0.005774938967078924, 0.02464810200035572, 0.08873103559017181, 0.027311690151691437], [0.02847410924732685, 0.007838752120733261, 0.014425584115087986, 0.022820819169282913, 0.02101278491318226, 0.008090594783425331, 0.03180402144789696, 0.005720345303416252, 0.016739115118980408, 0.007369778119027615, 0.02170374058187008, 0.018655048683285713, 0.007504118140786886, 0.015125450678169727, 0.06309313327074051, 0.019393743947148323, 0.013765685260295868, 0.0071968091651797295, 0.02503790333867073, 0.004892864730209112, 0.005723229143768549, 0.03992506116628647, 0.009264303371310234, 0.011297371238470078, 0.018967030569911003, 0.07153468579053879, 0.006542201153934002, 0.005590933840721846, 0.02073519304394722, 0.01162080280482769, 0.006080196239054203, 0.010978464968502522, 0.004340358544141054, 0.033759705722332, 0.008494654670357704, 0.06160948798060417, 0.03544219583272934, 0.015256649814546108, 0.04435117170214653, 0.005563290324062109, 0.03210841119289398, 0.07290612161159515, 0.017434684559702873, 0.08980940282344818], [0.023875495418906212, 0.008324280381202698, 0.01676822453737259, 0.02313080243766308, 0.02957409992814064, 0.008928481489419937, 0.034959178417921066, 0.005954867694526911, 0.0186776053160429, 0.008419840596616268, 0.022928692400455475, 0.016898537054657936, 0.007292784750461578, 0.015258022584021091, 0.06257279962301254, 0.014270994812250137, 0.011962885968387127, 0.00649029528722167, 0.026599638164043427, 0.004960846621543169, 0.0047897049225866795, 0.04795345291495323, 0.006782170385122299, 0.006961136125028133, 0.014539480209350586, 0.060424137860536575, 0.007315455004572868, 0.005378605332225561, 0.02008294314146042, 0.010759550146758556, 0.006643347442150116, 0.009995614178478718, 0.005966442637145519, 0.03449074178934097, 0.010989979840815067, 0.03529344126582146, 0.022574344649910927, 0.014440908096730709, 0.043270934373140335, 0.006526229437440634, 0.02094792015850544, 0.05471450090408325, 0.01855285093188286, 0.053106460720300674, 0.10965131223201752], [0.04701139032840729, 0.012011763639748096, 0.02035086788237095, 0.024072719737887383, 0.031011752784252167, 0.011480612680315971, 0.04739242047071457, 0.007057922892272472, 0.023368244990706444, 0.009773638099431992, 0.029572870582342148, 0.024299930781126022, 0.010724709369242191, 0.024332396686077118, 0.0321577712893486, 0.011415640823543072, 0.010434090159833431, 0.007279521785676479, 0.014395542442798615, 0.00485839881002903, 0.005411325953900814, 0.04349474608898163, 0.00744286086410284, 0.008135446347296238, 0.024080228060483932, 0.04545501619577408, 0.006542510818690062, 0.004095656331628561, 0.01987125724554062, 0.015155024826526642, 0.006857193075120449, 0.009403699077665806, 0.00463448092341423, 0.02754308097064495, 0.006367674097418785, 0.018542278558015823, 0.015861432999372482, 0.014159445650875568, 0.0486377514898777, 0.003166421316564083, 0.013803715817630291, 0.02527938410639763, 0.0087586073204875, 0.02846771851181984, 0.05068950727581978, 0.1351412683725357], [0.09975061565637589, 0.014223081059753895, 0.02451861836016178, 0.03264414891600609, 0.04479493200778961, 0.009877345524728298, 0.07547002285718918, 0.00842051301151514, 0.03684719651937485, 0.0171255711466074, 0.04008178412914276, 0.03489142656326294, 0.010658619925379753, 0.03315305709838867, 0.03893883153796196, 0.010742067359387875, 0.011416872031986713, 0.0049164132215082645, 0.01800907775759697, 0.00603839848190546, 0.0062896693125367165, 0.04038793593645096, 0.006729696411639452, 0.009881161153316498, 0.013538113795220852, 0.0506141260266304, 0.004194850567728281, 0.004910266026854515, 0.015419200994074345, 0.014109690673649311, 0.00614056596532464, 0.007117789704352617, 0.005054481327533722, 0.016859859228134155, 0.0038593593053519726, 0.010296246968209743, 0.013760125264525414, 0.005924637895077467, 0.02902049571275711, 0.003285905346274376, 0.011484887450933456, 0.02426757849752903, 0.00569903664290905, 0.010263906791806221, 0.02877836301922798, 0.0369156189262867, 0.042677804827690125], [0.03474356606602669, 0.014470912516117096, 0.025459399446845055, 0.0332535058259964, 0.04835524782538414, 0.009535199031233788, 0.06311067193746567, 0.008417968638241291, 0.037445440888404846, 0.014953781850636005, 0.04639142379164696, 0.04134175181388855, 0.00911659188568592, 0.027415355667471886, 0.031752802431583405, 0.011099805124104023, 0.012004981748759747, 0.006594642531126738, 0.01899026706814766, 0.008391340263187885, 0.007167650852352381, 0.04529048129916191, 0.006170907989144325, 0.010058105923235416, 0.016694776713848114, 0.05261877551674843, 0.00427967868745327, 0.0057023316621780396, 0.020379850640892982, 0.008855138905346394, 0.006354381795972586, 0.00983535498380661, 0.006498711183667183, 0.017023945227265358, 0.0048916758969426155, 0.011492464691400528, 0.016527341678738594, 0.016560455784201622, 0.04378417506814003, 0.004118373151868582, 0.012669778428971767, 0.022966155782341957, 0.006322756875306368, 0.010616025887429714, 0.028024569153785706, 0.04414300620555878, 0.03976358100771904, 0.018344838172197342], [0.047492608428001404, 0.013206868432462215, 0.025284383445978165, 0.03450476750731468, 0.05188160762190819, 0.010967062786221504, 0.08303485810756683, 0.006989249028265476, 0.03632153943181038, 0.013828378170728683, 0.03633755072951317, 0.03556478023529053, 0.009209815412759781, 0.02458053268492222, 0.02982148341834545, 0.00788787193596363, 0.010707463137805462, 0.004611768294125795, 0.021408896893262863, 0.006376729346811771, 0.005909270141273737, 0.0379803441464901, 0.007732429075986147, 0.009182333014905453, 0.015634426847100258, 0.05708139017224312, 0.003659059526398778, 0.004725994076579809, 0.015894349664449692, 0.009621065109968185, 0.004784575663506985, 0.009077279828488827, 0.004865379072725773, 0.014689904637634754, 0.00300556980073452, 0.007443372160196304, 0.010748973116278648, 0.006631850730627775, 0.028270823881030083, 0.00294078653678298, 0.011175001040101051, 0.018270030617713928, 0.004537580534815788, 0.008039090782403946, 0.020315062254667282, 0.031042462214827538, 0.026820408180356026, 0.03318937122821808, 0.07671356201171875], [0.04510235786437988, 0.014638680964708328, 0.025409623980522156, 0.04260822385549545, 0.043994028121232986, 0.012055540457367897, 0.11047309637069702, 0.006942081265151501, 0.024375032633543015, 0.01002446934580803, 0.029565414413809776, 0.023615960031747818, 0.007376356981694698, 0.019330408424139023, 0.029968760907649994, 0.0082174614071846, 0.008926328271627426, 0.004823719151318073, 0.016920579597353935, 0.00533269764855504, 0.005953256506472826, 0.03858102113008499, 0.004264535382390022, 0.006471247877925634, 0.01317687053233385, 0.04582805931568146, 0.003273691050708294, 0.00379620841704309, 0.01540686096996069, 0.007669519167393446, 0.004940904676914215, 0.011843213811516762, 0.011790651828050613, 0.014348468743264675, 0.003350412705913186, 0.008949270471930504, 0.011639252305030823, 0.004966771230101585, 0.02015303447842598, 0.003725020680576563, 0.012420179322361946, 0.018669268116354942, 0.00516931526362896, 0.008279695175588131, 0.02409655600786209, 0.025592001155018806, 0.016685616225004196, 0.0245257206261158, 0.08287200331687927, 0.051860518753528595], [0.026955852285027504, 0.009360763244330883, 0.01563074253499508, 0.019674144685268402, 0.030366109684109688, 0.008088156580924988, 0.062187664210796356, 0.005770949646830559, 0.030296247452497482, 0.009378816932439804, 0.023129543289542198, 0.019897889345884323, 0.006030659656971693, 0.01351898442953825, 0.02582797221839428, 0.008646647445857525, 0.008142703212797642, 0.0035906347911804914, 0.02151148021221161, 0.007849235087633133, 0.005583308171480894, 0.08586321026086807, 0.004613630473613739, 0.0043863411992788315, 0.018006540834903717, 0.08122483640909195, 0.002914358163252473, 0.00297124357894063, 0.01909632794559002, 0.00758900074288249, 0.0035439464263617992, 0.005656686145812273, 0.00676919799298048, 0.013069860637187958, 0.002973637543618679, 0.007419851142913103, 0.01110713742673397, 0.006066063418984413, 0.028527621179819107, 0.0025827744975686073, 0.012737681157886982, 0.03192729130387306, 0.003312548855319619, 0.008105194196105003, 0.016652856022119522, 0.024595139548182487, 0.014722543768584728, 0.009602183476090431, 0.03455231338739395, 0.04196911305189133, 0.12600232660770416], [0.03858106955885887, 0.011732667684555054, 0.020348690450191498, 0.02983858808875084, 0.03930381312966347, 0.021778110414743423, 0.04851367324590683, 0.007815578021109104, 0.0230307187885046, 0.011166864074766636, 0.02848093956708908, 0.027432043105363846, 0.013636640273034573, 0.02133893594145775, 0.030853567644953728, 0.008357006125152111, 0.010054351761937141, 0.006336188409477472, 0.018069596961140633, 0.00556298578158021, 0.007082946598529816, 0.04343267157673836, 0.010792032815515995, 0.006058176979422569, 0.01046980544924736, 0.04351440444588661, 0.0033457931131124496, 0.004119297955185175, 0.01286766491830349, 0.009085255675017834, 0.005389842204749584, 0.008344549685716629, 0.005817938130348921, 0.011694595217704773, 0.0031334899831563234, 0.007118099369108677, 0.011041178368031979, 0.010006621479988098, 0.03588394075632095, 0.0028171134181320667, 0.009602272883057594, 0.018141021952033043, 0.005001673940569162, 0.006452590227127075, 0.012736733071506023, 0.02057741768658161, 0.020127831026911736, 0.014730121940374374, 0.04779386520385742, 0.02256048284471035, 0.04396427422761917, 0.10406427830457687], [0.031387459486722946, 0.015259623527526855, 0.01992468349635601, 0.02662709914147854, 0.06872310489416122, 0.013489000499248505, 0.05212916433811188, 0.011493148282170296, 0.033647190779447556, 0.016039537265896797, 0.04692530259490013, 0.04616546630859375, 0.025176746770739555, 0.11961931735277176, 0.03782583028078079, 0.008955612778663635, 0.006058395840227604, 0.003433807985857129, 0.014489298686385155, 0.004708132240921259, 0.0047163874842226505, 0.02828015573322773, 0.005668531637638807, 0.004308914765715599, 0.008131799288094044, 0.03524898737668991, 0.0026006840635091066, 0.002964874729514122, 0.010697757825255394, 0.0065068393014371395, 0.004951030481606722, 0.005276763346046209, 0.003123578615486622, 0.009777619503438473, 0.0026089174207299948, 0.006989248096942902, 0.008900581859052181, 0.0057887183502316475, 0.02182919718325138, 0.0021279065404087305, 0.008258233778178692, 0.01601771079003811, 0.0060609858483076096, 0.005624422803521156, 0.009582565166056156, 0.017538174986839294, 0.014644200913608074, 0.008413945324718952, 0.03123326785862446, 0.01068614237010479, 0.016493843868374825, 0.05100877210497856, 0.0218613650649786], [0.034983642399311066, 0.006946560461074114, 0.015138527378439903, 0.02029646746814251, 0.034087348729372025, 0.007464866619557142, 0.0352475680410862, 0.007043035700917244, 0.019419638440012932, 0.009628538973629475, 0.021814849227666855, 0.023048430681228638, 0.008684083819389343, 0.04771150276064873, 0.14330413937568665, 0.012381203472614288, 0.00853792019188404, 0.0040978542529046535, 0.026233239099383354, 0.004455856513231993, 0.005881000310182571, 0.06067219376564026, 0.005314229987561703, 0.006697984877973795, 0.012392885982990265, 0.03661937639117241, 0.0029452762100845575, 0.0037770697381347418, 0.014735380187630653, 0.007842336781322956, 0.004295347258448601, 0.0055399672128260136, 0.003939120098948479, 0.012772596441209316, 0.0034969972912222147, 0.00989576056599617, 0.012396201491355896, 0.004095722455531359, 0.018978197127580643, 0.003253624541684985, 0.013530529104173183, 0.029902668669819832, 0.004138116259127855, 0.005357612855732441, 0.010548889636993408, 0.019940374419093132, 0.008663247339427471, 0.007123899646103382, 0.019388310611248016, 0.007620113901793957, 0.020902348682284355, 0.03775303438305855, 0.029970532283186913, 0.059093743562698364], [0.02026274986565113, 0.006719354074448347, 0.012157377786934376, 0.01844494603574276, 0.020736169070005417, 0.007120243273675442, 0.03118736669421196, 0.00608812365680933, 0.01716524548828602, 0.007394380401819944, 0.020687896758317947, 0.019250184297561646, 0.006540071684867144, 0.015151453204452991, 0.05928529426455498, 0.02356410212814808, 0.01845904253423214, 0.004131689202040434, 0.017572512850165367, 0.003514608833938837, 0.003153206780552864, 0.036250971257686615, 0.005260361824184656, 0.004982423037290573, 0.009348941966891289, 0.047316133975982666, 0.002850132994353771, 0.003242870094254613, 0.011233553290367126, 0.00602114200592041, 0.004491926170885563, 0.0046926336362957954, 0.0028354257810860872, 0.010025622323155403, 0.002491217805072665, 0.006092552561312914, 0.01000842172652483, 0.0031670446041971445, 0.015021120198071003, 0.002167732687667012, 0.009615489281713963, 0.02744324319064617, 0.005140367895364761, 0.006163475569337606, 0.015138356015086174, 0.019116900861263275, 0.011199211701750755, 0.008188685402274132, 0.02567252889275551, 0.00754750519990921, 0.022478632628917694, 0.047629792243242264, 0.020627589896321297, 0.01122608408331871, 0.236725851893425], [0.017016204074025154, 0.007682042196393013, 0.0130418436601758, 0.02169671654701233, 0.021423814818263054, 0.006701107136905193, 0.03571668267250061, 0.0057726046070456505, 0.01659170538187027, 0.007929446175694466, 0.019258471205830574, 0.01839827001094818, 0.007077256683260202, 0.017802905291318893, 0.05807417631149292, 0.014238283969461918, 0.027539512142539024, 0.011715526692569256, 0.021532533690333366, 0.004473241977393627, 0.004815760999917984, 0.039860110729932785, 0.0059779370203614235, 0.012195160612463951, 0.014054626226425171, 0.04145766422152519, 0.00395161472260952, 0.003314552130177617, 0.011609171517193317, 0.006895784288644791, 0.003883852856233716, 0.0048763444647192955, 0.0032645391765981913, 0.011178969405591488, 0.0031879956368356943, 0.008717580698430538, 0.009504579938948154, 0.004689384717494249, 0.016739824786782265, 0.005323697812855244, 0.011602628976106644, 0.04119078442454338, 0.004174907226115465, 0.007971448823809624, 0.012682770378887653, 0.01982242614030838, 0.011991102248430252, 0.005971377249807119, 0.018315892666578293, 0.009055017493665218, 0.020522011443972588, 0.04629485681653023, 0.010989288799464703, 0.014928234741091728, 0.1711771935224533, 0.024128610268235207], [0.016186900436878204, 0.007116301450878382, 0.011716265231370926, 0.015134993009269238, 0.018847428262233734, 0.006065036170184612, 0.02771717868745327, 0.004735896829515696, 0.020692162215709686, 0.006827071309089661, 0.015945691615343094, 0.013974581845104694, 0.006573436316102743, 0.012768728658556938, 0.049848176538944244, 0.008895553648471832, 0.013013032265007496, 0.007987994700670242, 0.03176150843501091, 0.004407182335853577, 0.004387617111206055, 0.045080769807100296, 0.0043617249466478825, 0.0070111402310431, 0.010683376342058182, 0.042630188167095184, 0.0029567971359938383, 0.0030751987360417843, 0.012152974493801594, 0.005787063855677843, 0.0039656455628573895, 0.00446414016187191, 0.0035535681527107954, 0.01199517585337162, 0.0034596689511090517, 0.010411559604108334, 0.01519244909286499, 0.005960548762232065, 0.018926145508885384, 0.009386952966451645, 0.021240251138806343, 0.09336092323064804, 0.004087864421308041, 0.007223859895020723, 0.015433348715305328, 0.018195156008005142, 0.010188326239585876, 0.005274804309010506, 0.015686847269535065, 0.00737431924790144, 0.01406862773001194, 0.036583926528692245, 0.011527582071721554, 0.011312874965369701, 0.15327265858650208, 0.027055712416768074, 0.022455181926488876], [0.01906944066286087, 0.005958300083875656, 0.015048344619572163, 0.015659328550100327, 0.01647728495299816, 0.0053595807403326035, 0.02566666528582573, 0.0040894765406847, 0.013072122819721699, 0.0049355714581906796, 0.01272435300052166, 0.012867976911365986, 0.004773365333676338, 0.01195637509226799, 0.037355683743953705, 0.007273557595908642, 0.009222464635968208, 0.00464995251968503, 0.027631884440779686, 0.002967691048979759, 0.00403652573004365, 0.046796757727861404, 0.0032680672593414783, 0.004954454954713583, 0.014959060586988926, 0.13058379292488098, 0.0022330351639539003, 0.0023584216833114624, 0.008792759850621223, 0.003914192318916321, 0.0026736794970929623, 0.0030946682672947645, 0.002172990469262004, 0.007452249992638826, 0.0023420758079737425, 0.007828744128346443, 0.011700564064085484, 0.0027588936500251293, 0.011597982607781887, 0.0046014036051929, 0.017544634640216827, 0.09604565799236298, 0.0028475888539105654, 0.0075643910095095634, 0.023921141400933266, 0.014287440106272697, 0.008895568549633026, 0.003581560915336013, 0.011319330893456936, 0.0049357968382537365, 0.012608181685209274, 0.03335021808743477, 0.005554205272346735, 0.007324971258640289, 0.09236738830804825, 0.011453007347881794, 0.03113643452525139, 0.08038276433944702], [0.01868036389350891, 0.005893760826438665, 0.011055871844291687, 0.015526464208960533, 0.01688413694500923, 0.004647297319024801, 0.024357417598366737, 0.0034597287885844707, 0.01192487496882677, 0.005557807628065348, 0.010911667719483376, 0.011468151584267616, 0.004569604992866516, 0.010753754526376724, 0.034852173179388046, 0.006345479749143124, 0.006372409872710705, 0.0033612914849072695, 0.023786477744579315, 0.0035145801957696676, 0.0040234667249023914, 0.05323634296655655, 0.002960375277325511, 0.003612298984080553, 0.01192494761198759, 0.1405707150697708, 0.0021006432361900806, 0.001809683977626264, 0.0074834804981946945, 0.0039956578984856606, 0.0026862300001084805, 0.004038199782371521, 0.002145015634596348, 0.0060294694267213345, 0.0020896224305033684, 0.006023581139743328, 0.007323124911636114, 0.002621613210067153, 0.00993301160633564, 0.0036719960626214743, 0.01421299111098051, 0.07009006291627884, 0.002018087776377797, 0.0040933904238045216, 0.009177428670227528, 0.009096834808588028, 0.007347744889557362, 0.002965311286970973, 0.009866422973573208, 0.0026719991583377123, 0.010379348881542683, 0.024049460887908936, 0.003507304936647415, 0.0044554611667990685, 0.06167106330394745, 0.005577804986387491, 0.012140090577304363, 0.04971478134393692, 0.184761643409729], [0.013795620761811733, 0.005289959721267223, 0.009821146726608276, 0.01509466115385294, 0.015083140693604946, 0.004861706402152777, 0.025720005854964256, 0.003918890375643969, 0.011840242892503738, 0.005926691461354494, 0.011694981716573238, 0.010385639034211636, 0.004873496945947409, 0.009692125953733921, 0.03834424912929535, 0.008640014566481113, 0.010411690920591354, 0.004310098011046648, 0.01679810881614685, 0.002971350448206067, 0.003951499704271555, 0.05201496183872223, 0.0035901411902159452, 0.004545451141893864, 0.007893710397183895, 0.04715670645236969, 0.0023750290274620056, 0.0025264224968850613, 0.00834295991808176, 0.0051609729416668415, 0.002310603391379118, 0.0029871307779103518, 0.0018240530043840408, 0.006458372808992863, 0.001879517687484622, 0.005101773887872696, 0.0076604881323874, 0.0028317514806985855, 0.010143144987523556, 0.003233034862205386, 0.008069473318755627, 0.01936633139848709, 0.0024721226654946804, 0.004905671812593937, 0.010908917523920536, 0.014189758338034153, 0.0068022324703633785, 0.0027398860547691584, 0.010730692185461521, 0.004664687439799309, 0.01490574050694704, 0.03253621980547905, 0.007022569887340069, 0.007433340419083834, 0.1585296392440796, 0.008221416734158993, 0.010880746878683567, 0.029625099152326584, 0.0936238020658493, 0.14091002941131592], [0.014235883951187134, 0.004462751559913158, 0.008681200444698334, 0.01245089154690504, 0.017602745443582535, 0.005430880002677441, 0.02022460661828518, 0.00371229974552989, 0.010391799733042717, 0.005097521003335714, 0.013031406328082085, 0.010898481123149395, 0.006727591156959534, 0.015609593130648136, 0.05445641279220581, 0.00988355278968811, 0.00764257600530982, 0.004736746195703745, 0.012486021965742111, 0.0046709137968719006, 0.0050564901903271675, 0.02824106067419052, 0.004235223401337862, 0.008790422230958939, 0.011968865990638733, 0.046743955463171005, 0.003476000390946865, 0.0032184431329369545, 0.01104876957833767, 0.008372812531888485, 0.004792925901710987, 0.007688031531870365, 0.010154235176742077, 0.011269194073975086, 0.0028434887062758207, 0.009207707829773426, 0.009079101495444775, 0.004088073968887329, 0.01173497922718525, 0.004832425620406866, 0.009043565019965172, 0.0247088260948658, 0.004106500651687384, 0.006266070529818535, 0.012485084123909473, 0.016152217984199524, 0.00908750668168068, 0.0047342730686068535, 0.012542346492409706, 0.005622680764645338, 0.015377964824438095, 0.029243487864732742, 0.007337846793234348, 0.011033289134502411, 0.12032708525657654, 0.017659073695540428, 0.010072248056530952, 0.027450259774923325, 0.0645587369799614, 0.08756352961063385, 0.055351290851831436], [0.042479272931814194, 0.009792530909180641, 0.015763290226459503, 0.02543635107576847, 0.06340646743774414, 0.008628697134554386, 0.029885463416576385, 0.005189557559788227, 0.01530161127448082, 0.008036785759031773, 0.019651902839541435, 0.02114548720419407, 0.011491261422634125, 0.03576933965086937, 0.0282755047082901, 0.014454652555286884, 0.00920793879777193, 0.004833196755498648, 0.018987521529197693, 0.01139175333082676, 0.007333083543926477, 0.035215262323617935, 0.007181371096521616, 0.009862360544502735, 0.01273399405181408, 0.05341300368309021, 0.004173822235316038, 0.004939673468470573, 0.01770150475203991, 0.011972825974225998, 0.005857931450009346, 0.031771961599588394, 0.016095953062176704, 0.009331637993454933, 0.002701089484617114, 0.006288544274866581, 0.006481064949184656, 0.006441305857151747, 0.024189045652747154, 0.0027514358516782522, 0.005705890245735645, 0.012613127008080482, 0.0048003732226789, 0.004610207863152027, 0.009186595678329468, 0.013888268731534481, 0.011252198368310928, 0.0051452466286718845, 0.010540791787207127, 0.005376498214900494, 0.006785002537071705, 0.01991979032754898, 0.007249991409480572, 0.013099725358188152, 0.02780456468462944, 0.009363955818116665, 0.005889526102691889, 0.009766075760126114, 0.021785227581858635, 0.035979315638542175, 0.025767652317881584, 0.05790446698665619], [0.015893522650003433, 0.006482863333076239, 0.007577146869152784, 0.010003923438489437, 0.0542493499815464, 0.0048537529073655605, 0.024803215637803078, 0.0034585040993988514, 0.017756519839167595, 0.005838362965732813, 0.011530723422765732, 0.013091999106109142, 0.006953160744160414, 0.029174184426665306, 0.01992865465581417, 0.010671917349100113, 0.005587555002421141, 0.003458029590547085, 0.00965601671487093, 0.013238208368420601, 0.010410466231405735, 0.02389187179505825, 0.004087781999260187, 0.005904681049287319, 0.00788397528231144, 0.044371604919433594, 0.002633066149428487, 0.003908402752131224, 0.011105610057711601, 0.007509544957429171, 0.004240956157445908, 0.007454190403223038, 0.010055727325379848, 0.019724499434232712, 0.002284300746396184, 0.004260256886482239, 0.005944586358964443, 0.003130843862891197, 0.01651698164641857, 0.0035552778281271458, 0.005802726838737726, 0.014277641661465168, 0.004541066009551287, 0.00434194877743721, 0.009649463929235935, 0.017003899440169334, 0.008115561679005623, 0.006037600804120302, 0.01338995061814785, 0.006533125415444374, 0.010502682067453861, 0.026347815990447998, 0.013667085207998753, 0.03287992253899574, 0.06599364429712296, 0.0161002054810524, 0.00887269340455532, 0.023309342563152313, 0.0497402660548687, 0.07117598503828049, 0.034685466438531876, 0.03757307678461075, 0.04637663811445236], [0.028149226680397987, 0.006627474445849657, 0.009649189189076424, 0.01472978200763464, 0.016015268862247467, 0.004964638501405716, 0.022270992398262024, 0.004066928755491972, 0.012258937582373619, 0.006290400866419077, 0.013614791445434093, 0.013420047238469124, 0.004988821689039469, 0.01560428086668253, 0.052735570818185806, 0.008404477499425411, 0.008628185838460922, 0.003947147633880377, 0.014826220460236073, 0.003075825981795788, 0.0032852385193109512, 0.03219182789325714, 0.004993487149477005, 0.005817024037241936, 0.012261041440069675, 0.058423761278390884, 0.0036919512785971165, 0.002770395250990987, 0.013499732129275799, 0.006200967822223902, 0.003118847729638219, 0.003957283683121204, 0.0026423255912959576, 0.012713623233139515, 0.004194323439151049, 0.012534690089523792, 0.01063451636582613, 0.004856124985963106, 0.014882253482937813, 0.0036231824196875095, 0.01018199697136879, 0.03649166598916054, 0.003122032852843404, 0.008482084609568119, 0.0164847020059824, 0.021939484402537346, 0.008248328231275082, 0.004002139437943697, 0.015223518945276737, 0.005836562253534794, 0.013566100969910622, 0.03960461542010307, 0.0055328477174043655, 0.00897331815212965, 0.1089325100183487, 0.00827556848526001, 0.00902683474123478, 0.02258353866636753, 0.03439580649137497, 0.03581617772579193, 0.01934961788356304, 0.009208076633512974, 0.005008309613913298, 0.06915340572595596], [0.012732869014143944, 0.005153542384505272, 0.009731074795126915, 0.013672314584255219, 0.02167590707540512, 0.005099114961922169, 0.02662358433008194, 0.003977789077907801, 0.01495338324457407, 0.00645087007433176, 0.014421908184885979, 0.014405595138669014, 0.005915821064263582, 0.012347538955509663, 0.05977466702461243, 0.008980270475149155, 0.007471260614693165, 0.004936872515827417, 0.01449290569871664, 0.00407971628010273, 0.004422680474817753, 0.03541563078761101, 0.004249964375048876, 0.005739190615713596, 0.014544015750288963, 0.09632308781147003, 0.0027611267287284136, 0.0034893869888037443, 0.013520551845431328, 0.006315594073385, 0.0034631192684173584, 0.004280513152480125, 0.003096377942711115, 0.010682697407901287, 0.00372262648306787, 0.012444447726011276, 0.013345680199563503, 0.00891097728163004, 0.028935864567756653, 0.003908051643520594, 0.012806197628378868, 0.04200751706957817, 0.003564483253285289, 0.007914384827017784, 0.014730572700500488, 0.021924106404185295, 0.009814079850912094, 0.005961671005934477, 0.015221170149743557, 0.004390710964798927, 0.01033019833266735, 0.03501404821872711, 0.00656181201338768, 0.007612991612404585, 0.07707635313272476, 0.008029158227145672, 0.008212622255086899, 0.0177469402551651, 0.027994316071271896, 0.028993656858801842, 0.011465005576610565, 0.008344309404492378, 0.004415934905409813, 0.04575091227889061, 0.017648249864578247], [0.019253026694059372, 0.005576998461037874, 0.010323828086256981, 0.014613247476518154, 0.015663588419556618, 0.004887180868536234, 0.024013418704271317, 0.00423941807821393, 0.014094083569943905, 0.0057835886254906654, 0.014180907979607582, 0.012859057635068893, 0.00469591561704874, 0.013045796193182468, 0.03615294024348259, 0.005801628343760967, 0.007452945224940777, 0.004255867097526789, 0.012193524278700352, 0.00398012762889266, 0.0034457400906831026, 0.02481466718018055, 0.003945080563426018, 0.005657092202454805, 0.011472627520561218, 0.05497675761580467, 0.0029057436622679234, 0.003104520495980978, 0.011501016095280647, 0.00583183066919446, 0.003367105033248663, 0.005102942232042551, 0.002945256419479847, 0.009614537470042706, 0.0032312211114913225, 0.009523304179310799, 0.011416670866310596, 0.007316771429032087, 0.017519187182188034, 0.003575656795874238, 0.011166182346642017, 0.022412575781345367, 0.003258640179410577, 0.007818900980055332, 0.01200786978006363, 0.016674069687724113, 0.009671696461737156, 0.004795295186340809, 0.013462410308420658, 0.004318644758313894, 0.010231765918433666, 0.03828839585185051, 0.005528192035853863, 0.01033124141395092, 0.07461279630661011, 0.009446444921195507, 0.00643202755600214, 0.013517355546355247, 0.04077818617224693, 0.04049479216337204, 0.012611838057637215, 0.00722779706120491, 0.005926378536969423, 0.04457586258649826, 0.021747734397649765, 0.11832806468009949], [0.01981980726122856, 0.00777242099866271, 0.01342790201306343, 0.01828753389418125, 0.03206145763397217, 0.007020312361419201, 0.03399550914764404, 0.005562136881053448, 0.019657671451568604, 0.007542666047811508, 0.018555741757154465, 0.014109333045780659, 0.007212131749838591, 0.020938053727149963, 0.021917644888162613, 0.006716791074723005, 0.008087217807769775, 0.0034122755751013756, 0.01383484248071909, 0.005568630062043667, 0.004779813811182976, 0.029772579669952393, 0.004310804419219494, 0.0045112622901797295, 0.014656097628176212, 0.04632432386279106, 0.003943724557757378, 0.004727139137685299, 0.016231566667556763, 0.006684159394353628, 0.004078765399754047, 0.007449073251336813, 0.004026283975690603, 0.011609130539000034, 0.004084503278136253, 0.009768284857273102, 0.013373804278671741, 0.008174298331141472, 0.028010737150907516, 0.002940604230388999, 0.01013852283358574, 0.018433285877108574, 0.00376311712898314, 0.0082625113427639, 0.013570652343332767, 0.01905573531985283, 0.012120811268687248, 0.006545338314026594, 0.018447840586304665, 0.003429138334468007, 0.010814493522047997, 0.027966206893324852, 0.007331895641982555, 0.007148453965783119, 0.03259674087166786, 0.004981185309588909, 0.003076103050261736, 0.010004149749875069, 0.0206602830439806, 0.0251601692289114, 0.007438112981617451, 0.00598750589415431, 0.005189069546759129, 0.028450174257159233, 0.015220367349684238, 0.06766960769891739, 0.09158148616552353], [0.01533299870789051, 0.0042402963154017925, 0.008476199582219124, 0.011131350882351398, 0.01692911423742771, 0.005054301582276821, 0.021898815408349037, 0.0035709182266145945, 0.01171468198299408, 0.0051872581243515015, 0.012838413938879967, 0.011789899319410324, 0.0040527465753257275, 0.008464833721518517, 0.04280737787485123, 0.007056002039462328, 0.00742747075855732, 0.003352272557094693, 0.011386646889150143, 0.0033952512312680483, 0.0030234637670218945, 0.023722000420093536, 0.0036643093917518854, 0.0059740724973380566, 0.00903228111565113, 0.05913759768009186, 0.0034469212405383587, 0.0030283937230706215, 0.009077049791812897, 0.006538004148751497, 0.0034696110524237156, 0.007033196277916431, 0.003360538277775049, 0.013762674294412136, 0.0047173695638775826, 0.019650690257549286, 0.013598120771348476, 0.0049562822096049786, 0.014337148517370224, 0.0035699980799108744, 0.012040868401527405, 0.03701033070683479, 0.004520734306424856, 0.015958230942487717, 0.0181483943015337, 0.016163695603609085, 0.007676330395042896, 0.0034687721636146307, 0.010956032201647758, 0.003770251292735338, 0.009195718914270401, 0.023649010807275772, 0.005123113747686148, 0.005637633614242077, 0.08116122335195541, 0.007381033152341843, 0.0075174435041844845, 0.018201230093836784, 0.031324002891778946, 0.02825162373483181, 0.01090195681899786, 0.0075682890601456165, 0.005421341862529516, 0.04021180793642998, 0.00639295531436801, 0.025680935010313988, 0.05105355754494667, 0.07440681755542755], [0.014452585950493813, 0.004656115081161261, 0.009249011054635048, 0.013204926624894142, 0.01548115722835064, 0.004492034204304218, 0.021348442882299423, 0.003453318029642105, 0.012437059544026852, 0.005165901035070419, 0.013685764744877815, 0.010273286141455173, 0.003954821266233921, 0.007904743775725365, 0.02829165942966938, 0.00656514149159193, 0.006505739409476519, 0.003760513151064515, 0.016512272879481316, 0.0032409706618636847, 0.003440145868808031, 0.028905116021633148, 0.003492822637781501, 0.0039654881693422794, 0.012201361358165741, 0.04035591706633568, 0.003190229646861553, 0.0030000845436006784, 0.011787695810198784, 0.006490141618996859, 0.003511841408908367, 0.006232433021068573, 0.0029857398476451635, 0.013379321433603764, 0.006353086791932583, 0.032949142158031464, 0.02368016354739666, 0.00846309307962656, 0.02008643001317978, 0.004852874204516411, 0.01942274160683155, 0.0318174846470356, 0.007796857971698046, 0.033925920724868774, 0.08028154075145721, 0.02116481214761734, 0.004757986404001713, 0.0022903645876795053, 0.00901115033775568, 0.003751093987375498, 0.009926613420248032, 0.018566923215985298, 0.003655878361314535, 0.0058860271237790585, 0.05353328585624695, 0.006257182918488979, 0.003911351785063744, 0.009360909461975098, 0.02752162516117096, 0.025663642212748528, 0.008478476665914059, 0.003871614346280694, 0.0023631565272808075, 0.0200920682400465, 0.004246933851391077, 0.018989553675055504, 0.029626965522766113, 0.03340104594826698, 0.056468237191438675], [0.013796357437968254, 0.004908632021397352, 0.009480173699557781, 0.01189251709729433, 0.01702217012643814, 0.004429460968822241, 0.02092897705733776, 0.0036331673618406057, 0.013003976084291935, 0.004682507831603289, 0.012992010451853275, 0.010367071256041527, 0.004494907334446907, 0.007677028421312571, 0.03909241035580635, 0.005098908208310604, 0.006651913747191429, 0.002931282389909029, 0.011653241701424122, 0.00271219527348876, 0.0029594588559120893, 0.024114301428198814, 0.004212076775729656, 0.004326271824538708, 0.011193634010851383, 0.03582368791103363, 0.0030424417927861214, 0.0027144986670464277, 0.009762314148247242, 0.006047739181667566, 0.003471620613709092, 0.004299054387956858, 0.0022751614451408386, 0.014217792078852654, 0.0033341054804623127, 0.015910854563117027, 0.008832662366330624, 0.0056400178000330925, 0.01903289183974266, 0.0027192006818950176, 0.009604507125914097, 0.017107145860791206, 0.004500917159020901, 0.016564231365919113, 0.044649720191955566, 0.08827996253967285, 0.004963928833603859, 0.0031887716613709927, 0.010026518255472183, 0.0031741366256028414, 0.009712890721857548, 0.019574826583266258, 0.0045163314789533615, 0.005273911170661449, 0.06377050280570984, 0.005223017185926437, 0.0038599141407757998, 0.011150532402098179, 0.023096377030014992, 0.022285571321845055, 0.009597374126315117, 0.005662926007062197, 0.0032875624019652605, 0.026180099695920944, 0.007567915134131908, 0.020818699151277542, 0.029614508152008057, 0.03772725164890289, 0.039135754108428955, 0.058505501598119736]]},\n",
              "                preset: 'viridis'\n",
              "             })\n",
              "\n",
              "             window.ecco[viz_id].init();\n",
              "             window.ecco[viz_id].selectFirstToken();\n",
              "\n",
              "             }, function (err) {\n",
              "                console.log(err);\n",
              "            })"
            ],
            "text/plain": [
              "<IPython.core.display.Javascript object>"
            ]
          },
          "metadata": {
            "tags": []
          }
        }
      ]
    },
    {
      "cell_type": "code",
      "metadata": {
        "colab": {
          "base_uri": "https://localhost:8080/",
          "height": 119
        },
        "id": "3IJf31V-woi_",
        "outputId": "351aa4af-7111-451f-bc26-02d2026bbe59"
      },
      "source": [
        "output.saliency(style=\"detailed\")"
      ],
      "execution_count": 142,
      "outputs": [
        {
          "output_type": "display_data",
          "data": {
            "text/html": [
              "<html lang=\"en\">\n",
              "<script src=\"https://requirejs.org/docs/release/2.3.6/minified/require.js\"></script>\n",
              "<script>\n",
              "    var ecco_url = 'https://storage.googleapis.com/ml-intro/ecco/'\n",
              "    // var ecco_url = 'http://localhost:8000/ecco/'\n",
              "\n",
              "    if (window.ecco === undefined) window.ecco = {}\n",
              "\n",
              "    requirejs.config({\n",
              "        urlArgs: \"bust=\" + (new Date()).getTime(),\n",
              "        nodeRequire: require,\n",
              "        paths: {\n",
              "            d3: \"https://d3js.org/d3.v5.min\",\n",
              "            \"d3-array\": \"https://d3js.org/d3-array.v2.min\",\n",
              "            jquery: \"https://code.jquery.com/jquery-3.5.1.min\",\n",
              "            // oldEcco: ecco_url + 'ecco',\n",
              "            ecco: ecco_url + 'js/0.0.4/ecco-bundle.min',\n",
              "            xregexp: 'https://cdnjs.cloudflare.com/ajax/libs/xregexp/3.2.0/xregexp-all.min'\n",
              "        }\n",
              "    });\n",
              "    requirejs(['d3'],\n",
              "        function (d3) {\n",
              "            d3.select('#css').attr('href', ecco_url + 'html/styles.css')\n",
              "        })\n",
              "\n",
              "    console.log('Ecco initialize.')\n",
              "</script>\n",
              "\n",
              "<head>\n",
              "    <link id='css' rel=\"stylesheet\" type=\"text/css\">\n",
              "</head>\n"
            ],
            "text/plain": [
              "<IPython.core.display.HTML object>"
            ]
          },
          "metadata": {
            "tags": []
          }
        },
        {
          "output_type": "display_data",
          "data": {
            "text/html": [
              "<script>\n",
              "    // console.log('defining basic')\n",
              "    define('basic', ['d3'],\n",
              "        function (d3) {\n",
              "            return {\n",
              "                init: function (viz_id = null) {\n",
              "\n",
              "                    // console.log('basic init')\n",
              "                    if (viz_id == null){\n",
              "                        viz_id = \"viz_\" + Math.round(Math.random() * 10000000)\n",
              "                    }\n",
              "                    const div = d3.select('#basic').attr('id', viz_id),\n",
              "                        div_parent = d3.select('#' + viz_id).node().parentNode\n",
              "\n",
              "                    // Link to CSS file\n",
              "                    d3.select(div_parent).insert('link')\n",
              "                        .attr('rel', 'stylesheet')\n",
              "                        .attr('type', 'text/css')\n",
              "                        .attr('href', ecco_url + 'html/styles.css')\n",
              "\n",
              "                    return viz_id\n",
              "                }\n",
              "            }\n",
              "        }, function (err) {console.log(err);}\n",
              "    )\n",
              "    // console.log('after defining basic')\n",
              "\n",
              "</script>\n",
              "<div id=\"basic\"></div>\n"
            ],
            "text/plain": [
              "<IPython.core.display.HTML object>"
            ]
          },
          "metadata": {
            "tags": []
          }
        },
        {
          "output_type": "display_data",
          "data": {
            "application/javascript": [
              "\n",
              "             requirejs(['basic', 'ecco'], function(basic, ecco){\n",
              "                const viz_id = basic.init()\n",
              "                window.ecco[viz_id] = ecco.interactiveTokens(viz_id, {'tokens': [{'token': 'در', 'token_id': 589, 'type': 'input', 'value': '0.120529495', 'position': 0}, {'token': ' یک', 'token_id': 367, 'type': 'input', 'value': '0.05264326', 'position': 1}, {'token': ' اتفاق', 'token_id': 1599, 'type': 'input', 'value': '0.11394182', 'position': 2}, {'token': ' شگفت', 'token_id': 3844, 'type': 'input', 'value': '0.16398367', 'position': 3}, {'token': ' انگیز', 'token_id': 5904, 'type': 'input', 'value': '0.14254722', 'position': 4}, {'token': '،', 'token_id': 305, 'type': 'input', 'value': '0.058095437', 'position': 5}, {'token': ' پژوهشگران', 'token_id': 4579, 'type': 'input', 'value': '0.34825912', 'position': 6}, {'token': ' برای', 'token_id': 366, 'type': 'output', 'value': '0', 'position': 7}, {'token': ' نخستین', 'token_id': 1817, 'type': 'output', 'value': '0', 'position': 8}, {'token': ' بار', 'token_id': 761, 'type': 'output', 'value': '0', 'position': 9}, {'token': ' متوجه', 'token_id': 2298, 'type': 'output', 'value': '0', 'position': 10}, {'token': ' شدند', 'token_id': 1436, 'type': 'output', 'value': '0', 'position': 11}, {'token': '،', 'token_id': 305, 'type': 'output', 'value': '0', 'position': 12}, {'token': ' \\u200c', 'token_id': 1570, 'type': 'output', 'value': '0', 'position': 13}, {'token': ' پروتئین', 'token_id': 4398, 'type': 'output', 'value': '0', 'position': 14}, {'token': 'های', 'token_id': 325, 'type': 'output', 'value': '0', 'position': 15}, {'token': ' موجود', 'token_id': 1294, 'type': 'output', 'value': '0', 'position': 16}, {'token': ' در', 'token_id': 298, 'type': 'output', 'value': '0', 'position': 17}, {'token': ' سلول', 'token_id': 2829, 'type': 'output', 'value': '0', 'position': 18}, {'token': '\\u200c', 'token_id': 285, 'type': 'output', 'value': '0', 'position': 19}, {'token': 'های', 'token_id': 325, 'type': 'output', 'value': '0', 'position': 20}, {'token': ' پستانداران', 'token_id': 13287, 'type': 'output', 'value': '0', 'position': 21}, {'token': '،', 'token_id': 305, 'type': 'output', 'value': '0', 'position': 22}, {'token': ' که', 'token_id': 323, 'type': 'output', 'value': '0', 'position': 23}, {'token': ' وظیفه', 'token_id': 3188, 'type': 'output', 'value': '0', 'position': 24}, {'token': ' تولیدمثل', 'token_id': 29777, 'type': 'output', 'value': '0', 'position': 25}, {'token': ' را', 'token_id': 330, 'type': 'output', 'value': '0', 'position': 26}, {'token': ' بر', 'token_id': 327, 'type': 'output', 'value': '0', 'position': 27}, {'token': ' عهده', 'token_id': 2693, 'type': 'output', 'value': '0', 'position': 28}, {'token': ' دارند', 'token_id': 712, 'type': 'output', 'value': '0', 'position': 29}, {'token': '،', 'token_id': 305, 'type': 'output', 'value': '0', 'position': 30}, {'token': ' می', 'token_id': 310, 'type': 'output', 'value': '0', 'position': 31}, {'token': '\\u200c', 'token_id': 285, 'type': 'output', 'value': '0', 'position': 32}, {'token': 'توانند', 'token_id': 1006, 'type': 'output', 'value': '0', 'position': 33}, {'token': ' با', 'token_id': 314, 'type': 'output', 'value': '0', 'position': 34}, {'token': ' تغییر', 'token_id': 828, 'type': 'output', 'value': '0', 'position': 35}, {'token': ' شرایط', 'token_id': 1138, 'type': 'output', 'value': '0', 'position': 36}, {'token': ' به', 'token_id': 303, 'type': 'output', 'value': '0', 'position': 37}, {'token': ' خصوص', 'token_id': 1279, 'type': 'output', 'value': '0', 'position': 38}, {'token': ' در', 'token_id': 298, 'type': 'output', 'value': '0', 'position': 39}, {'token': ' حالت', 'token_id': 1471, 'type': 'output', 'value': '0', 'position': 40}, {'token': ' استراحت', 'token_id': 5045, 'type': 'output', 'value': '0', 'position': 41}, {'token': '،', 'token_id': 305, 'type': 'output', 'value': '0', 'position': 42}, {'token': ' تغییر', 'token_id': 828, 'type': 'output', 'value': '0', 'position': 43}, {'token': ' مسیر', 'token_id': 1418, 'type': 'output', 'value': '0', 'position': 44}, {'token': ' بدهند', 'token_id': 5332, 'type': 'output', 'value': '0', 'position': 45}, {'token': '.', 'token_id': 24, 'type': 'output', 'value': '0', 'position': 46}, {'token': ' به', 'token_id': 303, 'type': 'output', 'value': '0', 'position': 47}, {'token': ' گفته', 'token_id': 1023, 'type': 'output', 'value': '0', 'position': 48}, {'token': ' این', 'token_id': 326, 'type': 'output', 'value': '0', 'position': 49}, {'token': ' تیم', 'token_id': 935, 'type': 'output', 'value': '0', 'position': 50}, {'token': ' پژوهشی', 'token_id': 5296, 'type': 'output', 'value': '0', 'position': 51}, {'token': '،', 'token_id': 305, 'type': 'output', 'value': '0', 'position': 52}, {'token': ' \\u200c', 'token_id': 1570, 'type': 'output', 'value': '0', 'position': 53}, {'token': ' پروتئینی', 'token_id': 14062, 'type': 'output', 'value': '0', 'position': 54}, {'token': ' که', 'token_id': 323, 'type': 'output', 'value': '0', 'position': 55}, {'token': ' در', 'token_id': 298, 'type': 'output', 'value': '0', 'position': 56}, {'token': ' طول', 'token_id': 1033, 'type': 'output', 'value': '0', 'position': 57}, {'token': ' چرخه', 'token_id': 5081, 'type': 'output', 'value': '0', 'position': 58}, {'token': ' حیات', 'token_id': 4237, 'type': 'output', 'value': '0', 'position': 59}, {'token': ' خود', 'token_id': 377, 'type': 'output', 'value': '0', 'position': 60}, {'token': ' می', 'token_id': 310, 'type': 'output', 'value': '0', 'position': 61}, {'token': '\\u200c', 'token_id': 285, 'type': 'output', 'value': '0', 'position': 62}, {'token': 'تواند', 'token_id': 663, 'type': 'output', 'value': '0', 'position': 63}, {'token': ' به', 'token_id': 303, 'type': 'output', 'value': '0', 'position': 64}, {'token': ' میزان', 'token_id': 1252, 'type': 'output', 'value': '0', 'position': 65}, {'token': ' قابل', 'token_id': 1045, 'type': 'output', 'value': '0', 'position': 66}, {'token': ' توجهی', 'token_id': 3424, 'type': 'output', 'value': '0', 'position': 67}, {'token': ' تغییر', 'token_id': 828, 'type': 'output', 'value': '0', 'position': 68}, {'token': ' مسیر', 'token_id': 1418, 'type': 'output', 'value': '0', 'position': 69}, {'token': ' بدهد', 'token_id': 3866, 'type': 'output', 'value': '0', 'position': 70}], 'attributions': [[0.12052949517965317, 0.05264326184988022, 0.11394181847572327, 0.16398367285728455, 0.14254721999168396, 0.05809543654322624, 0.3482591211795807], [0.1781502664089203, 0.06820687651634216, 0.12039405107498169, 0.15711303055286407, 0.16788733005523682, 0.04340321943163872, 0.20059633255004883, 0.06424884498119354], [0.08585289865732193, 0.040032535791397095, 0.07826150953769684, 0.12479200959205627, 0.15820591151714325, 0.03708841651678085, 0.17505423724651337, 0.07700830698013306, 0.22370417416095734], [0.11525771021842957, 0.04457148164510727, 0.09094107896089554, 0.1231161430478096, 0.10062672942876816, 0.0298308115452528, 0.20600777864456177, 0.04154171049594879, 0.1282319277524948, 0.11987464874982834], [0.08803491294384003, 0.03329388424754143, 0.07146862149238586, 0.09924773871898651, 0.08452096581459045, 0.026380598545074463, 0.16145983338356018, 0.028535939753055573, 0.0587216354906559, 0.056490447372198105, 0.2918453812599182], [0.09408842772245407, 0.031251899898052216, 0.06169586628675461, 0.08931385725736618, 0.08660504966974258, 0.04297078400850296, 0.15246358513832092, 0.024139394983649254, 0.0757228434085846, 0.03318798914551735, 0.15693354606628418, 0.15162670612335205], [0.11074426770210266, 0.0359828881919384, 0.059685591608285904, 0.09184788912534714, 0.11247868090867996, 0.042484674602746964, 0.14790046215057373, 0.026875022798776627, 0.07459121197462082, 0.03547780588269234, 0.10972238332033157, 0.10522313416004181, 0.046985968947410583], [0.10008340328931808, 0.025656452402472496, 0.04576603323221207, 0.06769827008247375, 0.08492779731750488, 0.028991401195526123, 0.142159104347229, 0.018878484144806862, 0.049313466995954514, 0.027413062751293182, 0.11616713553667068, 0.08785500377416611, 0.04787037894129753, 0.1572200208902359], [0.06682416796684265, 0.02473749779164791, 0.043947797268629074, 0.09157176315784454, 0.11014430969953537, 0.020965108647942543, 0.07059634476900101, 0.012052700854837894, 0.030799003317952156, 0.018830234184861183, 0.04963789880275726, 0.04896589741110802, 0.02399306371808052, 0.036727096885442734, 0.3502071797847748], [0.0683305412530899, 0.017187124118208885, 0.03306121379137039, 0.05194312334060669, 0.06057991087436676, 0.020688673481345177, 0.09220581501722336, 0.015998588874936104, 0.03643724322319031, 0.02707723341882229, 0.051272109150886536, 0.05546336993575096, 0.020004864782094955, 0.03433840721845627, 0.30479511618614197, 0.11061664670705795], [0.061967913061380386, 0.018488025292754173, 0.03545275703072548, 0.05181359127163887, 0.052410148084163666, 0.017373457551002502, 0.08617506176233292, 0.01590169407427311, 0.04398893937468529, 0.02074064500629902, 0.06341993808746338, 0.055386681109666824, 0.015995897352695465, 0.032249629497528076, 0.2015593945980072, 0.05463571846485138, 0.17244043946266174], [0.10801324993371964, 0.01787499710917473, 0.031199021264910698, 0.04383867233991623, 0.04472817853093147, 0.016828149557113647, 0.08445969223976135, 0.012985942885279655, 0.03808780014514923, 0.0188908651471138, 0.05729240924119949, 0.04407313093543053, 0.016005342826247215, 0.033385567367076874, 0.2115548700094223, 0.04349305480718613, 0.1288757026195526, 0.048413392156362534], [0.05091400817036629, 0.01616712659597397, 0.03452746570110321, 0.05129971355199814, 0.05098560452461243, 0.015248192474246025, 0.08821036666631699, 0.014368843287229538, 0.038764189928770065, 0.01923242211341858, 0.056495919823646545, 0.04840634763240814, 0.012078269384801388, 0.025353820994496346, 0.16269926726818085, 0.031153390184044838, 0.03889095410704613, 0.01758343167603016, 0.22762072086334229], [0.05794253200292587, 0.01628996804356575, 0.030956001952290535, 0.048469219356775284, 0.07193323224782944, 0.015065977349877357, 0.08058343827724457, 0.012861005030572414, 0.04086778312921524, 0.019433220848441124, 0.052695419639348984, 0.04321274906396866, 0.02103840932250023, 0.06902316212654114, 0.10923442244529724, 0.03399530053138733, 0.03870614618062973, 0.019765682518482208, 0.17655426263809204, 0.04137201979756355], [0.059533897787332535, 0.013473530299961567, 0.023743199184536934, 0.037638530135154724, 0.03918318822979927, 0.014258407056331635, 0.06322062760591507, 0.011859474703669548, 0.033062104135751724, 0.019262412562966347, 0.03792892023921013, 0.04081698879599571, 0.013224292546510696, 0.022846901789307594, 0.12221086025238037, 0.05412381887435913, 0.04564881697297096, 0.018574092537164688, 0.2247500717639923, 0.047885097563266754, 0.0567547045648098], [0.06679655611515045, 0.017190519720315933, 0.03108084946870804, 0.038217395544052124, 0.0470476932823658, 0.021205104887485504, 0.06444563716650009, 0.014056903310120106, 0.042796023190021515, 0.019443659111857414, 0.05829240754246712, 0.049793828278779984, 0.018263621255755424, 0.022073743864893913, 0.09156564623117447, 0.03186255320906639, 0.04384220018982887, 0.014916411601006985, 0.048949480056762695, 0.008266408927738667, 0.016767537221312523, 0.23312582075595856], [0.05355146899819374, 0.017224840819835663, 0.029187941923737526, 0.0426604263484478, 0.06504445523023605, 0.022366279736161232, 0.06805460900068283, 0.01308570895344019, 0.040810033679008484, 0.019774237647652626, 0.06783484667539597, 0.05948541313409805, 0.022732889279723167, 0.05196090415120125, 0.0975290983915329, 0.026779964566230774, 0.03947295621037483, 0.014418243430554867, 0.037933360785245895, 0.010504367761313915, 0.015254414640367031, 0.15130159258842468, 0.033031951636075974], [0.044610727578401566, 0.013888600282371044, 0.025301320478320122, 0.03200257942080498, 0.037291619926691055, 0.01604093238711357, 0.0637740045785904, 0.014160341583192348, 0.029468804597854614, 0.015509107150137424, 0.04298367351293564, 0.0451163649559021, 0.01663612760603428, 0.0275103896856308, 0.16187900304794312, 0.05149355158209801, 0.03175656124949455, 0.01569346711039543, 0.061871156096458435, 0.009652108885347843, 0.016290457919239998, 0.10452806949615479, 0.048391811549663544, 0.0741492211818695], [0.046329934149980545, 0.017003199085593224, 0.03769191727042198, 0.05262945964932442, 0.07012979686260223, 0.016141319647431374, 0.057715389877557755, 0.009191513061523438, 0.027432991191744804, 0.0148128317669034, 0.036791469901800156, 0.03133179619908333, 0.016394516453146935, 0.030294254422187805, 0.11061524599790573, 0.02585873380303383, 0.0196284931153059, 0.012044275179505348, 0.06659706681966782, 0.011490987613797188, 0.010524553246796131, 0.10530177503824234, 0.01715066470205784, 0.025770606473088264, 0.1311272382736206], [0.022170666605234146, 0.007515456527471542, 0.01275520771741867, 0.01685541681945324, 0.019768359139561653, 0.008365833200514317, 0.03009558841586113, 0.008181165903806686, 0.018263520672917366, 0.007912171073257923, 0.022027689963579178, 0.01678585074841976, 0.00669445563107729, 0.011880561709403992, 0.04938065633177757, 0.013058812357485294, 0.014088821597397327, 0.007192803546786308, 0.04481947422027588, 0.006382938474416733, 0.008895665407180786, 0.07350654155015945, 0.015245949849486351, 0.02427440881729126, 0.0821949690580368, 0.4516870081424713], [0.0316193513572216, 0.01664142496883869, 0.028066735714673996, 0.03340279310941696, 0.06253629922866821, 0.014956277795135975, 0.06107702478766441, 0.012527846731245518, 0.04718412086367607, 0.019503114745020866, 0.045003436505794525, 0.035772960633039474, 0.015543406829237938, 0.03352576494216919, 0.04764629155397415, 0.015532576479017735, 0.019454972818493843, 0.009663033299148083, 0.029114389792084694, 0.0090880012139678, 0.009287944063544273, 0.06675756722688675, 0.017313070595264435, 0.02498612552881241, 0.10500133037567139, 0.1434587687253952, 0.045335397124290466], [0.040057118982076645, 0.013866810128092766, 0.021658478304743767, 0.028256958350539207, 0.044955022633075714, 0.015425854362547398, 0.04593735188245773, 0.01164078339934349, 0.030622445046901703, 0.01509111374616623, 0.03310069814324379, 0.026648936793208122, 0.015577562153339386, 0.028945397585630417, 0.06087426468729973, 0.018932336941361427, 0.020127715542912483, 0.01554876659065485, 0.03285757079720497, 0.009324670769274235, 0.008118847385048866, 0.06494399160146713, 0.0197165384888649, 0.02130477875471115, 0.08254265785217285, 0.1657130867242813, 0.03759758919477463, 0.07061261683702469], [0.04350912943482399, 0.0117940129712224, 0.017678480595350266, 0.027166398242115974, 0.041386693716049194, 0.01175431627780199, 0.037511520087718964, 0.00933605246245861, 0.02735034190118313, 0.012312370352447033, 0.036652546375989914, 0.0314638614654541, 0.01259779091924429, 0.02912917733192444, 0.05133650824427605, 0.020252300426363945, 0.01707075536251068, 0.009374774061143398, 0.02938845194876194, 0.008849911391735077, 0.009274852462112904, 0.06530443578958511, 0.017726220190525055, 0.024164756760001183, 0.04433634132146835, 0.14272987842559814, 0.024084841832518578, 0.03326699882745743, 0.15319624543190002], [0.047412898391485214, 0.01729159615933895, 0.025585124269127846, 0.03476784750819206, 0.06053222715854645, 0.01685561053454876, 0.06244873255491257, 0.012086973525583744, 0.03956989198923111, 0.018232429400086403, 0.05182943493127823, 0.04090454429388046, 0.015310581773519516, 0.03709840402007103, 0.06720246374607086, 0.020530391484498978, 0.022866057232022285, 0.010241278447210789, 0.02432427741587162, 0.01119182351976633, 0.013898319564759731, 0.09146082401275635, 0.02494671568274498, 0.0307119432836771, 0.019031591713428497, 0.07317810505628586, 0.010543742217123508, 0.01156082097440958, 0.04753671959042549, 0.040848683565855026], [0.06375151872634888, 0.016584990546107292, 0.030575070530176163, 0.03978618234395981, 0.044322576373815536, 0.017769979313015938, 0.07163196802139282, 0.013906409032642841, 0.03576689958572388, 0.01830929145216942, 0.07260537892580032, 0.05580201745033264, 0.01504176203161478, 0.03426540270447731, 0.1139865517616272, 0.026516687124967575, 0.031124768778681755, 0.00707507086917758, 0.026405442506074905, 0.004637671634554863, 0.006909787654876709, 0.054560668766498566, 0.014549619518220425, 0.012206066399812698, 0.014515290036797523, 0.06165507435798645, 0.005324540194123983, 0.005999709479510784, 0.03003387711942196, 0.034408170729875565, 0.01997155323624611], [0.07903499901294708, 0.013610418885946274, 0.023362617939710617, 0.03789230436086655, 0.06319800019264221, 0.016094859689474106, 0.03947232663631439, 0.009349821135401726, 0.025776665657758713, 0.012295935302972794, 0.035385359078645706, 0.03596082702279091, 0.019014408811926842, 0.047334786504507065, 0.045795366168022156, 0.020682288333773613, 0.015671927481889725, 0.008824151009321213, 0.031672172248363495, 0.022250987589359283, 0.011274471879005432, 0.04708494991064072, 0.01935906708240509, 0.02244185097515583, 0.018920253962278366, 0.059457797557115555, 0.009633643552660942, 0.009478135965764523, 0.03261106461286545, 0.02773582562804222, 0.031094806268811226, 0.1082279309630394], [0.04200358688831329, 0.012756566517055035, 0.016206713393330574, 0.02200246788561344, 0.11984725296497345, 0.01084932405501604, 0.049216486513614655, 0.007543214596807957, 0.02825181372463703, 0.013501722365617752, 0.030333049595355988, 0.03457537665963173, 0.026713648810982704, 0.08499016612768173, 0.04379117116332054, 0.02162194810807705, 0.017063863575458527, 0.005317079368978739, 0.020406808704137802, 0.022163117304444313, 0.015634708106517792, 0.04561221972107887, 0.011388295330107212, 0.010500124655663967, 0.012649341486394405, 0.07127831876277924, 0.006798418704420328, 0.009531837888062, 0.03563649579882622, 0.028035156428813934, 0.014360911212861538, 0.04263094812631607, 0.06678789854049683], [0.04613664001226425, 0.00979230459779501, 0.019247552379965782, 0.02679455652832985, 0.03542318940162659, 0.011636771261692047, 0.04279673099517822, 0.00870715081691742, 0.023256609216332436, 0.011634673923254013, 0.03453413397073746, 0.035208698362112045, 0.01416589505970478, 0.029419301077723503, 0.08963396400213242, 0.03087901696562767, 0.01975388266146183, 0.006605716422200203, 0.031261686235666275, 0.006061528343707323, 0.007957120425999165, 0.06695055961608887, 0.013382485136389732, 0.01760844886302948, 0.018155984580516815, 0.15290983021259308, 0.007649615872651339, 0.006884512025862932, 0.03626174479722977, 0.024764683097600937, 0.01264912448823452, 0.01479305699467659, 0.007593050133436918, 0.0794897973537445], [0.03572550788521767, 0.010918752290308475, 0.018542645499110222, 0.028910059481859207, 0.027861973270773888, 0.013123911805450916, 0.045623764395713806, 0.00936872698366642, 0.03535052761435509, 0.014019068330526352, 0.033236064016819, 0.03324681520462036, 0.012048963457345963, 0.025090092793107033, 0.09889810532331467, 0.025393294170498848, 0.021118471398949623, 0.010778326541185379, 0.031588684767484665, 0.009296510368585587, 0.008715585805475712, 0.06658339500427246, 0.012191107496619225, 0.012523077428340912, 0.024097232148051262, 0.11542440205812454, 0.013435933738946915, 0.010620003566145897, 0.030910950154066086, 0.016796022653579712, 0.008246609941124916, 0.013970283791422844, 0.014519227668642998, 0.06942977011203766, 0.04239613562822342], [0.03950045630335808, 0.01249300129711628, 0.024573717266321182, 0.033712878823280334, 0.03609582036733627, 0.012554198503494263, 0.05358656123280525, 0.009359144605696201, 0.028025422245264053, 0.012225611135363579, 0.030501263216137886, 0.025835737586021423, 0.009589488618075848, 0.016483237966895103, 0.084063321352005, 0.01602202281355858, 0.02228144370019436, 0.006250270176678896, 0.0365200936794281, 0.006422883365303278, 0.007844123058021069, 0.055222269147634506, 0.009820870123803616, 0.01126785110682249, 0.021959269419312477, 0.09884859621524811, 0.008259588852524757, 0.006706940475851297, 0.029239283874630928, 0.01633574068546295, 0.006648159585893154, 0.012943587265908718, 0.008725474588572979, 0.047615692019462585, 0.026845676824450493, 0.11562033742666245], [0.02913053333759308, 0.011061088182032108, 0.020909370854496956, 0.02996428683400154, 0.03174471855163574, 0.0106118842959404, 0.0449441559612751, 0.007822834886610508, 0.027769125998020172, 0.01040787622332573, 0.027201887220144272, 0.02116522565484047, 0.007662998046725988, 0.014392880722880363, 0.06132799759507179, 0.013879493810236454, 0.0165262371301651, 0.0064588068053126335, 0.03051074407994747, 0.0066957552917301655, 0.007187802344560623, 0.0673983171582222, 0.009856842458248138, 0.011015476658940315, 0.020905064418911934, 0.1137709766626358, 0.007917395792901516, 0.009595567360520363, 0.02761922776699066, 0.014152511954307556, 0.008398817852139473, 0.012949683703482151, 0.007208541035652161, 0.03069131262600422, 0.01935015618801117, 0.07843130081892014, 0.12336315214633942], [0.02417030744254589, 0.011244373396039009, 0.02159697189927101, 0.03764966502785683, 0.06243760511279106, 0.010983810760080814, 0.04911750182509422, 0.009225746616721153, 0.031010005623102188, 0.014673123136162758, 0.031126592308282852, 0.0256684310734272, 0.011818522587418556, 0.023729009553790092, 0.06950945407152176, 0.017961081117391586, 0.016315996646881104, 0.0076661002822220325, 0.03378613293170929, 0.007426184602081776, 0.00827646255493164, 0.04681456834077835, 0.008516071364283562, 0.009144710376858711, 0.019656600430607796, 0.10120239108800888, 0.0063071963377296925, 0.007802621461451054, 0.026857169345021248, 0.01403789035975933, 0.00822308100759983, 0.008876674808561802, 0.007689802907407284, 0.031773023307323456, 0.01819291152060032, 0.06293255090713501, 0.06542964279651642, 0.03114996664226055], [0.023625299334526062, 0.00976650882512331, 0.013427370227873325, 0.019229711964726448, 0.026712464168667793, 0.008511530235409737, 0.030257347971200943, 0.0062660882249474525, 0.014540385454893112, 0.007623175159096718, 0.016182713210582733, 0.014878308400511742, 0.007319650147110224, 0.01730353944003582, 0.04218931123614311, 0.01150145847350359, 0.012445332482457161, 0.01957714557647705, 0.02173645608127117, 0.007651874329894781, 0.007667179685086012, 0.046776361763477325, 0.008552501909434795, 0.00680130859836936, 0.016628429293632507, 0.07525892555713654, 0.006171958055347204, 0.00672014057636261, 0.02320387400686741, 0.011686854995787144, 0.009131746366620064, 0.011457863263785839, 0.007902318611741066, 0.02709449641406536, 0.014077818021178246, 0.04814121127128601, 0.0823177769780159, 0.07660701870918274, 0.18305648863315582], [0.02983459085226059, 0.00876541156321764, 0.015478495508432388, 0.021141869947314262, 0.028333298861980438, 0.007991625927388668, 0.031873103231191635, 0.006998905912041664, 0.020378554239869118, 0.00827453751116991, 0.01865607500076294, 0.01640573889017105, 0.00671016750857234, 0.018084021285176277, 0.05144047737121582, 0.014447595924139023, 0.014228635467588902, 0.01667947508394718, 0.04345915466547012, 0.008857263252139091, 0.008958968333899975, 0.08512511849403381, 0.007791391108185053, 0.009315677918493748, 0.020554352551698685, 0.11197768896818161, 0.0056582228280603886, 0.006070716306567192, 0.0219848845154047, 0.011733817867934704, 0.005927873309701681, 0.007879055105149746, 0.007551038637757301, 0.023876121267676353, 0.008395369164645672, 0.034817423671483994, 0.052583787590265274, 0.036174070090055466, 0.11520995199680328, 0.030375543981790543], [0.041284237056970596, 0.008781597018241882, 0.014768492430448532, 0.020450100302696228, 0.02318144217133522, 0.00769482646137476, 0.030144942924380302, 0.004638934042304754, 0.015627102926373482, 0.006582286674529314, 0.01929810456931591, 0.01438814215362072, 0.005691582337021828, 0.015776431187987328, 0.049784500151872635, 0.009341450408101082, 0.010958125814795494, 0.007668324280530214, 0.05670952424407005, 0.005881089251488447, 0.006704926490783691, 0.06907273083925247, 0.00560866529121995, 0.006354379002004862, 0.017034566029906273, 0.14992497861385345, 0.003772775176912546, 0.004320124164223671, 0.0164119191467762, 0.009169688448309898, 0.004035527352243662, 0.00875986646860838, 0.004575397819280624, 0.01607222855091095, 0.006890163756906986, 0.029388658702373505, 0.03884439170360565, 0.019305776804685593, 0.05248437449336052, 0.02589373290538788, 0.13672392070293427], [0.025878850370645523, 0.007922647520899773, 0.015164638869464397, 0.020796122029423714, 0.024884240701794624, 0.00924538355320692, 0.03706261143088341, 0.006964599713683128, 0.02181232161819935, 0.00884274858981371, 0.023262126371264458, 0.02033206820487976, 0.008248033933341503, 0.013621088117361069, 0.04034150764346123, 0.010296312160789967, 0.014137230813503265, 0.006526845041662455, 0.026690049096941948, 0.005629427265375853, 0.006105534732341766, 0.05993012338876724, 0.007207442540675402, 0.007751126307994127, 0.023198692128062248, 0.07169150561094284, 0.007104802876710892, 0.005934710614383221, 0.029638366773724556, 0.015337328426539898, 0.00618871720507741, 0.0103116724640131, 0.005945871118456125, 0.03045518696308136, 0.012958085164427757, 0.02874944731593132, 0.02029919996857643, 0.014989282004535198, 0.036869749426841736, 0.010980455204844475, 0.06325145065784454, 0.17744244635105133], [0.021101094782352448, 0.007759347558021545, 0.01571401208639145, 0.023843547329306602, 0.029750237241387367, 0.009337883442640305, 0.041181374341249466, 0.006687036249786615, 0.019088920205831528, 0.008862264454364777, 0.027966823428869247, 0.021983664482831955, 0.008948209695518017, 0.017320076003670692, 0.06725183874368668, 0.013977715745568275, 0.01729924976825714, 0.006360906176269054, 0.02956954576075077, 0.004874304868280888, 0.005248177796602249, 0.04804839566349983, 0.008113812655210495, 0.008160565048456192, 0.01733550801873207, 0.10927131026983261, 0.006925970781594515, 0.006499411538243294, 0.028339333832263947, 0.01963910460472107, 0.008336648344993591, 0.01034428458660841, 0.006927895825356245, 0.04203983023762703, 0.012095862999558449, 0.04858672246336937, 0.02594720385968685, 0.010998333804309368, 0.03179777413606644, 0.005774938967078924, 0.02464810200035572, 0.08873103559017181, 0.027311690151691437], [0.02847410924732685, 0.007838752120733261, 0.014425584115087986, 0.022820819169282913, 0.02101278491318226, 0.008090594783425331, 0.03180402144789696, 0.005720345303416252, 0.016739115118980408, 0.007369778119027615, 0.02170374058187008, 0.018655048683285713, 0.007504118140786886, 0.015125450678169727, 0.06309313327074051, 0.019393743947148323, 0.013765685260295868, 0.0071968091651797295, 0.02503790333867073, 0.004892864730209112, 0.005723229143768549, 0.03992506116628647, 0.009264303371310234, 0.011297371238470078, 0.018967030569911003, 0.07153468579053879, 0.006542201153934002, 0.005590933840721846, 0.02073519304394722, 0.01162080280482769, 0.006080196239054203, 0.010978464968502522, 0.004340358544141054, 0.033759705722332, 0.008494654670357704, 0.06160948798060417, 0.03544219583272934, 0.015256649814546108, 0.04435117170214653, 0.005563290324062109, 0.03210841119289398, 0.07290612161159515, 0.017434684559702873, 0.08980940282344818], [0.023875495418906212, 0.008324280381202698, 0.01676822453737259, 0.02313080243766308, 0.02957409992814064, 0.008928481489419937, 0.034959178417921066, 0.005954867694526911, 0.0186776053160429, 0.008419840596616268, 0.022928692400455475, 0.016898537054657936, 0.007292784750461578, 0.015258022584021091, 0.06257279962301254, 0.014270994812250137, 0.011962885968387127, 0.00649029528722167, 0.026599638164043427, 0.004960846621543169, 0.0047897049225866795, 0.04795345291495323, 0.006782170385122299, 0.006961136125028133, 0.014539480209350586, 0.060424137860536575, 0.007315455004572868, 0.005378605332225561, 0.02008294314146042, 0.010759550146758556, 0.006643347442150116, 0.009995614178478718, 0.005966442637145519, 0.03449074178934097, 0.010989979840815067, 0.03529344126582146, 0.022574344649910927, 0.014440908096730709, 0.043270934373140335, 0.006526229437440634, 0.02094792015850544, 0.05471450090408325, 0.01855285093188286, 0.053106460720300674, 0.10965131223201752], [0.04701139032840729, 0.012011763639748096, 0.02035086788237095, 0.024072719737887383, 0.031011752784252167, 0.011480612680315971, 0.04739242047071457, 0.007057922892272472, 0.023368244990706444, 0.009773638099431992, 0.029572870582342148, 0.024299930781126022, 0.010724709369242191, 0.024332396686077118, 0.0321577712893486, 0.011415640823543072, 0.010434090159833431, 0.007279521785676479, 0.014395542442798615, 0.00485839881002903, 0.005411325953900814, 0.04349474608898163, 0.00744286086410284, 0.008135446347296238, 0.024080228060483932, 0.04545501619577408, 0.006542510818690062, 0.004095656331628561, 0.01987125724554062, 0.015155024826526642, 0.006857193075120449, 0.009403699077665806, 0.00463448092341423, 0.02754308097064495, 0.006367674097418785, 0.018542278558015823, 0.015861432999372482, 0.014159445650875568, 0.0486377514898777, 0.003166421316564083, 0.013803715817630291, 0.02527938410639763, 0.0087586073204875, 0.02846771851181984, 0.05068950727581978, 0.1351412683725357], [0.09975061565637589, 0.014223081059753895, 0.02451861836016178, 0.03264414891600609, 0.04479493200778961, 0.009877345524728298, 0.07547002285718918, 0.00842051301151514, 0.03684719651937485, 0.0171255711466074, 0.04008178412914276, 0.03489142656326294, 0.010658619925379753, 0.03315305709838867, 0.03893883153796196, 0.010742067359387875, 0.011416872031986713, 0.0049164132215082645, 0.01800907775759697, 0.00603839848190546, 0.0062896693125367165, 0.04038793593645096, 0.006729696411639452, 0.009881161153316498, 0.013538113795220852, 0.0506141260266304, 0.004194850567728281, 0.004910266026854515, 0.015419200994074345, 0.014109690673649311, 0.00614056596532464, 0.007117789704352617, 0.005054481327533722, 0.016859859228134155, 0.0038593593053519726, 0.010296246968209743, 0.013760125264525414, 0.005924637895077467, 0.02902049571275711, 0.003285905346274376, 0.011484887450933456, 0.02426757849752903, 0.00569903664290905, 0.010263906791806221, 0.02877836301922798, 0.0369156189262867, 0.042677804827690125], [0.03474356606602669, 0.014470912516117096, 0.025459399446845055, 0.0332535058259964, 0.04835524782538414, 0.009535199031233788, 0.06311067193746567, 0.008417968638241291, 0.037445440888404846, 0.014953781850636005, 0.04639142379164696, 0.04134175181388855, 0.00911659188568592, 0.027415355667471886, 0.031752802431583405, 0.011099805124104023, 0.012004981748759747, 0.006594642531126738, 0.01899026706814766, 0.008391340263187885, 0.007167650852352381, 0.04529048129916191, 0.006170907989144325, 0.010058105923235416, 0.016694776713848114, 0.05261877551674843, 0.00427967868745327, 0.0057023316621780396, 0.020379850640892982, 0.008855138905346394, 0.006354381795972586, 0.00983535498380661, 0.006498711183667183, 0.017023945227265358, 0.0048916758969426155, 0.011492464691400528, 0.016527341678738594, 0.016560455784201622, 0.04378417506814003, 0.004118373151868582, 0.012669778428971767, 0.022966155782341957, 0.006322756875306368, 0.010616025887429714, 0.028024569153785706, 0.04414300620555878, 0.03976358100771904, 0.018344838172197342], [0.047492608428001404, 0.013206868432462215, 0.025284383445978165, 0.03450476750731468, 0.05188160762190819, 0.010967062786221504, 0.08303485810756683, 0.006989249028265476, 0.03632153943181038, 0.013828378170728683, 0.03633755072951317, 0.03556478023529053, 0.009209815412759781, 0.02458053268492222, 0.02982148341834545, 0.00788787193596363, 0.010707463137805462, 0.004611768294125795, 0.021408896893262863, 0.006376729346811771, 0.005909270141273737, 0.0379803441464901, 0.007732429075986147, 0.009182333014905453, 0.015634426847100258, 0.05708139017224312, 0.003659059526398778, 0.004725994076579809, 0.015894349664449692, 0.009621065109968185, 0.004784575663506985, 0.009077279828488827, 0.004865379072725773, 0.014689904637634754, 0.00300556980073452, 0.007443372160196304, 0.010748973116278648, 0.006631850730627775, 0.028270823881030083, 0.00294078653678298, 0.011175001040101051, 0.018270030617713928, 0.004537580534815788, 0.008039090782403946, 0.020315062254667282, 0.031042462214827538, 0.026820408180356026, 0.03318937122821808, 0.07671356201171875], [0.04510235786437988, 0.014638680964708328, 0.025409623980522156, 0.04260822385549545, 0.043994028121232986, 0.012055540457367897, 0.11047309637069702, 0.006942081265151501, 0.024375032633543015, 0.01002446934580803, 0.029565414413809776, 0.023615960031747818, 0.007376356981694698, 0.019330408424139023, 0.029968760907649994, 0.0082174614071846, 0.008926328271627426, 0.004823719151318073, 0.016920579597353935, 0.00533269764855504, 0.005953256506472826, 0.03858102113008499, 0.004264535382390022, 0.006471247877925634, 0.01317687053233385, 0.04582805931568146, 0.003273691050708294, 0.00379620841704309, 0.01540686096996069, 0.007669519167393446, 0.004940904676914215, 0.011843213811516762, 0.011790651828050613, 0.014348468743264675, 0.003350412705913186, 0.008949270471930504, 0.011639252305030823, 0.004966771230101585, 0.02015303447842598, 0.003725020680576563, 0.012420179322361946, 0.018669268116354942, 0.00516931526362896, 0.008279695175588131, 0.02409655600786209, 0.025592001155018806, 0.016685616225004196, 0.0245257206261158, 0.08287200331687927, 0.051860518753528595], [0.026955852285027504, 0.009360763244330883, 0.01563074253499508, 0.019674144685268402, 0.030366109684109688, 0.008088156580924988, 0.062187664210796356, 0.005770949646830559, 0.030296247452497482, 0.009378816932439804, 0.023129543289542198, 0.019897889345884323, 0.006030659656971693, 0.01351898442953825, 0.02582797221839428, 0.008646647445857525, 0.008142703212797642, 0.0035906347911804914, 0.02151148021221161, 0.007849235087633133, 0.005583308171480894, 0.08586321026086807, 0.004613630473613739, 0.0043863411992788315, 0.018006540834903717, 0.08122483640909195, 0.002914358163252473, 0.00297124357894063, 0.01909632794559002, 0.00758900074288249, 0.0035439464263617992, 0.005656686145812273, 0.00676919799298048, 0.013069860637187958, 0.002973637543618679, 0.007419851142913103, 0.01110713742673397, 0.006066063418984413, 0.028527621179819107, 0.0025827744975686073, 0.012737681157886982, 0.03192729130387306, 0.003312548855319619, 0.008105194196105003, 0.016652856022119522, 0.024595139548182487, 0.014722543768584728, 0.009602183476090431, 0.03455231338739395, 0.04196911305189133, 0.12600232660770416], [0.03858106955885887, 0.011732667684555054, 0.020348690450191498, 0.02983858808875084, 0.03930381312966347, 0.021778110414743423, 0.04851367324590683, 0.007815578021109104, 0.0230307187885046, 0.011166864074766636, 0.02848093956708908, 0.027432043105363846, 0.013636640273034573, 0.02133893594145775, 0.030853567644953728, 0.008357006125152111, 0.010054351761937141, 0.006336188409477472, 0.018069596961140633, 0.00556298578158021, 0.007082946598529816, 0.04343267157673836, 0.010792032815515995, 0.006058176979422569, 0.01046980544924736, 0.04351440444588661, 0.0033457931131124496, 0.004119297955185175, 0.01286766491830349, 0.009085255675017834, 0.005389842204749584, 0.008344549685716629, 0.005817938130348921, 0.011694595217704773, 0.0031334899831563234, 0.007118099369108677, 0.011041178368031979, 0.010006621479988098, 0.03588394075632095, 0.0028171134181320667, 0.009602272883057594, 0.018141021952033043, 0.005001673940569162, 0.006452590227127075, 0.012736733071506023, 0.02057741768658161, 0.020127831026911736, 0.014730121940374374, 0.04779386520385742, 0.02256048284471035, 0.04396427422761917, 0.10406427830457687], [0.031387459486722946, 0.015259623527526855, 0.01992468349635601, 0.02662709914147854, 0.06872310489416122, 0.013489000499248505, 0.05212916433811188, 0.011493148282170296, 0.033647190779447556, 0.016039537265896797, 0.04692530259490013, 0.04616546630859375, 0.025176746770739555, 0.11961931735277176, 0.03782583028078079, 0.008955612778663635, 0.006058395840227604, 0.003433807985857129, 0.014489298686385155, 0.004708132240921259, 0.0047163874842226505, 0.02828015573322773, 0.005668531637638807, 0.004308914765715599, 0.008131799288094044, 0.03524898737668991, 0.0026006840635091066, 0.002964874729514122, 0.010697757825255394, 0.0065068393014371395, 0.004951030481606722, 0.005276763346046209, 0.003123578615486622, 0.009777619503438473, 0.0026089174207299948, 0.006989248096942902, 0.008900581859052181, 0.0057887183502316475, 0.02182919718325138, 0.0021279065404087305, 0.008258233778178692, 0.01601771079003811, 0.0060609858483076096, 0.005624422803521156, 0.009582565166056156, 0.017538174986839294, 0.014644200913608074, 0.008413945324718952, 0.03123326785862446, 0.01068614237010479, 0.016493843868374825, 0.05100877210497856, 0.0218613650649786], [0.034983642399311066, 0.006946560461074114, 0.015138527378439903, 0.02029646746814251, 0.034087348729372025, 0.007464866619557142, 0.0352475680410862, 0.007043035700917244, 0.019419638440012932, 0.009628538973629475, 0.021814849227666855, 0.023048430681228638, 0.008684083819389343, 0.04771150276064873, 0.14330413937568665, 0.012381203472614288, 0.00853792019188404, 0.0040978542529046535, 0.026233239099383354, 0.004455856513231993, 0.005881000310182571, 0.06067219376564026, 0.005314229987561703, 0.006697984877973795, 0.012392885982990265, 0.03661937639117241, 0.0029452762100845575, 0.0037770697381347418, 0.014735380187630653, 0.007842336781322956, 0.004295347258448601, 0.0055399672128260136, 0.003939120098948479, 0.012772596441209316, 0.0034969972912222147, 0.00989576056599617, 0.012396201491355896, 0.004095722455531359, 0.018978197127580643, 0.003253624541684985, 0.013530529104173183, 0.029902668669819832, 0.004138116259127855, 0.005357612855732441, 0.010548889636993408, 0.019940374419093132, 0.008663247339427471, 0.007123899646103382, 0.019388310611248016, 0.007620113901793957, 0.020902348682284355, 0.03775303438305855, 0.029970532283186913, 0.059093743562698364], [0.02026274986565113, 0.006719354074448347, 0.012157377786934376, 0.01844494603574276, 0.020736169070005417, 0.007120243273675442, 0.03118736669421196, 0.00608812365680933, 0.01716524548828602, 0.007394380401819944, 0.020687896758317947, 0.019250184297561646, 0.006540071684867144, 0.015151453204452991, 0.05928529426455498, 0.02356410212814808, 0.01845904253423214, 0.004131689202040434, 0.017572512850165367, 0.003514608833938837, 0.003153206780552864, 0.036250971257686615, 0.005260361824184656, 0.004982423037290573, 0.009348941966891289, 0.047316133975982666, 0.002850132994353771, 0.003242870094254613, 0.011233553290367126, 0.00602114200592041, 0.004491926170885563, 0.0046926336362957954, 0.0028354257810860872, 0.010025622323155403, 0.002491217805072665, 0.006092552561312914, 0.01000842172652483, 0.0031670446041971445, 0.015021120198071003, 0.002167732687667012, 0.009615489281713963, 0.02744324319064617, 0.005140367895364761, 0.006163475569337606, 0.015138356015086174, 0.019116900861263275, 0.011199211701750755, 0.008188685402274132, 0.02567252889275551, 0.00754750519990921, 0.022478632628917694, 0.047629792243242264, 0.020627589896321297, 0.01122608408331871, 0.236725851893425], [0.017016204074025154, 0.007682042196393013, 0.0130418436601758, 0.02169671654701233, 0.021423814818263054, 0.006701107136905193, 0.03571668267250061, 0.0057726046070456505, 0.01659170538187027, 0.007929446175694466, 0.019258471205830574, 0.01839827001094818, 0.007077256683260202, 0.017802905291318893, 0.05807417631149292, 0.014238283969461918, 0.027539512142539024, 0.011715526692569256, 0.021532533690333366, 0.004473241977393627, 0.004815760999917984, 0.039860110729932785, 0.0059779370203614235, 0.012195160612463951, 0.014054626226425171, 0.04145766422152519, 0.00395161472260952, 0.003314552130177617, 0.011609171517193317, 0.006895784288644791, 0.003883852856233716, 0.0048763444647192955, 0.0032645391765981913, 0.011178969405591488, 0.0031879956368356943, 0.008717580698430538, 0.009504579938948154, 0.004689384717494249, 0.016739824786782265, 0.005323697812855244, 0.011602628976106644, 0.04119078442454338, 0.004174907226115465, 0.007971448823809624, 0.012682770378887653, 0.01982242614030838, 0.011991102248430252, 0.005971377249807119, 0.018315892666578293, 0.009055017493665218, 0.020522011443972588, 0.04629485681653023, 0.010989288799464703, 0.014928234741091728, 0.1711771935224533, 0.024128610268235207], [0.016186900436878204, 0.007116301450878382, 0.011716265231370926, 0.015134993009269238, 0.018847428262233734, 0.006065036170184612, 0.02771717868745327, 0.004735896829515696, 0.020692162215709686, 0.006827071309089661, 0.015945691615343094, 0.013974581845104694, 0.006573436316102743, 0.012768728658556938, 0.049848176538944244, 0.008895553648471832, 0.013013032265007496, 0.007987994700670242, 0.03176150843501091, 0.004407182335853577, 0.004387617111206055, 0.045080769807100296, 0.0043617249466478825, 0.0070111402310431, 0.010683376342058182, 0.042630188167095184, 0.0029567971359938383, 0.0030751987360417843, 0.012152974493801594, 0.005787063855677843, 0.0039656455628573895, 0.00446414016187191, 0.0035535681527107954, 0.01199517585337162, 0.0034596689511090517, 0.010411559604108334, 0.01519244909286499, 0.005960548762232065, 0.018926145508885384, 0.009386952966451645, 0.021240251138806343, 0.09336092323064804, 0.004087864421308041, 0.007223859895020723, 0.015433348715305328, 0.018195156008005142, 0.010188326239585876, 0.005274804309010506, 0.015686847269535065, 0.00737431924790144, 0.01406862773001194, 0.036583926528692245, 0.011527582071721554, 0.011312874965369701, 0.15327265858650208, 0.027055712416768074, 0.022455181926488876], [0.01906944066286087, 0.005958300083875656, 0.015048344619572163, 0.015659328550100327, 0.01647728495299816, 0.0053595807403326035, 0.02566666528582573, 0.0040894765406847, 0.013072122819721699, 0.0049355714581906796, 0.01272435300052166, 0.012867976911365986, 0.004773365333676338, 0.01195637509226799, 0.037355683743953705, 0.007273557595908642, 0.009222464635968208, 0.00464995251968503, 0.027631884440779686, 0.002967691048979759, 0.00403652573004365, 0.046796757727861404, 0.0032680672593414783, 0.004954454954713583, 0.014959060586988926, 0.13058379292488098, 0.0022330351639539003, 0.0023584216833114624, 0.008792759850621223, 0.003914192318916321, 0.0026736794970929623, 0.0030946682672947645, 0.002172990469262004, 0.007452249992638826, 0.0023420758079737425, 0.007828744128346443, 0.011700564064085484, 0.0027588936500251293, 0.011597982607781887, 0.0046014036051929, 0.017544634640216827, 0.09604565799236298, 0.0028475888539105654, 0.0075643910095095634, 0.023921141400933266, 0.014287440106272697, 0.008895568549633026, 0.003581560915336013, 0.011319330893456936, 0.0049357968382537365, 0.012608181685209274, 0.03335021808743477, 0.005554205272346735, 0.007324971258640289, 0.09236738830804825, 0.011453007347881794, 0.03113643452525139, 0.08038276433944702], [0.01868036389350891, 0.005893760826438665, 0.011055871844291687, 0.015526464208960533, 0.01688413694500923, 0.004647297319024801, 0.024357417598366737, 0.0034597287885844707, 0.01192487496882677, 0.005557807628065348, 0.010911667719483376, 0.011468151584267616, 0.004569604992866516, 0.010753754526376724, 0.034852173179388046, 0.006345479749143124, 0.006372409872710705, 0.0033612914849072695, 0.023786477744579315, 0.0035145801957696676, 0.0040234667249023914, 0.05323634296655655, 0.002960375277325511, 0.003612298984080553, 0.01192494761198759, 0.1405707150697708, 0.0021006432361900806, 0.001809683977626264, 0.0074834804981946945, 0.0039956578984856606, 0.0026862300001084805, 0.004038199782371521, 0.002145015634596348, 0.0060294694267213345, 0.0020896224305033684, 0.006023581139743328, 0.007323124911636114, 0.002621613210067153, 0.00993301160633564, 0.0036719960626214743, 0.01421299111098051, 0.07009006291627884, 0.002018087776377797, 0.0040933904238045216, 0.009177428670227528, 0.009096834808588028, 0.007347744889557362, 0.002965311286970973, 0.009866422973573208, 0.0026719991583377123, 0.010379348881542683, 0.024049460887908936, 0.003507304936647415, 0.0044554611667990685, 0.06167106330394745, 0.005577804986387491, 0.012140090577304363, 0.04971478134393692, 0.184761643409729], [0.013795620761811733, 0.005289959721267223, 0.009821146726608276, 0.01509466115385294, 0.015083140693604946, 0.004861706402152777, 0.025720005854964256, 0.003918890375643969, 0.011840242892503738, 0.005926691461354494, 0.011694981716573238, 0.010385639034211636, 0.004873496945947409, 0.009692125953733921, 0.03834424912929535, 0.008640014566481113, 0.010411690920591354, 0.004310098011046648, 0.01679810881614685, 0.002971350448206067, 0.003951499704271555, 0.05201496183872223, 0.0035901411902159452, 0.004545451141893864, 0.007893710397183895, 0.04715670645236969, 0.0023750290274620056, 0.0025264224968850613, 0.00834295991808176, 0.0051609729416668415, 0.002310603391379118, 0.0029871307779103518, 0.0018240530043840408, 0.006458372808992863, 0.001879517687484622, 0.005101773887872696, 0.0076604881323874, 0.0028317514806985855, 0.010143144987523556, 0.003233034862205386, 0.008069473318755627, 0.01936633139848709, 0.0024721226654946804, 0.004905671812593937, 0.010908917523920536, 0.014189758338034153, 0.0068022324703633785, 0.0027398860547691584, 0.010730692185461521, 0.004664687439799309, 0.01490574050694704, 0.03253621980547905, 0.007022569887340069, 0.007433340419083834, 0.1585296392440796, 0.008221416734158993, 0.010880746878683567, 0.029625099152326584, 0.0936238020658493, 0.14091002941131592], [0.014235883951187134, 0.004462751559913158, 0.008681200444698334, 0.01245089154690504, 0.017602745443582535, 0.005430880002677441, 0.02022460661828518, 0.00371229974552989, 0.010391799733042717, 0.005097521003335714, 0.013031406328082085, 0.010898481123149395, 0.006727591156959534, 0.015609593130648136, 0.05445641279220581, 0.00988355278968811, 0.00764257600530982, 0.004736746195703745, 0.012486021965742111, 0.0046709137968719006, 0.0050564901903271675, 0.02824106067419052, 0.004235223401337862, 0.008790422230958939, 0.011968865990638733, 0.046743955463171005, 0.003476000390946865, 0.0032184431329369545, 0.01104876957833767, 0.008372812531888485, 0.004792925901710987, 0.007688031531870365, 0.010154235176742077, 0.011269194073975086, 0.0028434887062758207, 0.009207707829773426, 0.009079101495444775, 0.004088073968887329, 0.01173497922718525, 0.004832425620406866, 0.009043565019965172, 0.0247088260948658, 0.004106500651687384, 0.006266070529818535, 0.012485084123909473, 0.016152217984199524, 0.00908750668168068, 0.0047342730686068535, 0.012542346492409706, 0.005622680764645338, 0.015377964824438095, 0.029243487864732742, 0.007337846793234348, 0.011033289134502411, 0.12032708525657654, 0.017659073695540428, 0.010072248056530952, 0.027450259774923325, 0.0645587369799614, 0.08756352961063385, 0.055351290851831436], [0.042479272931814194, 0.009792530909180641, 0.015763290226459503, 0.02543635107576847, 0.06340646743774414, 0.008628697134554386, 0.029885463416576385, 0.005189557559788227, 0.01530161127448082, 0.008036785759031773, 0.019651902839541435, 0.02114548720419407, 0.011491261422634125, 0.03576933965086937, 0.0282755047082901, 0.014454652555286884, 0.00920793879777193, 0.004833196755498648, 0.018987521529197693, 0.01139175333082676, 0.007333083543926477, 0.035215262323617935, 0.007181371096521616, 0.009862360544502735, 0.01273399405181408, 0.05341300368309021, 0.004173822235316038, 0.004939673468470573, 0.01770150475203991, 0.011972825974225998, 0.005857931450009346, 0.031771961599588394, 0.016095953062176704, 0.009331637993454933, 0.002701089484617114, 0.006288544274866581, 0.006481064949184656, 0.006441305857151747, 0.024189045652747154, 0.0027514358516782522, 0.005705890245735645, 0.012613127008080482, 0.0048003732226789, 0.004610207863152027, 0.009186595678329468, 0.013888268731534481, 0.011252198368310928, 0.0051452466286718845, 0.010540791787207127, 0.005376498214900494, 0.006785002537071705, 0.01991979032754898, 0.007249991409480572, 0.013099725358188152, 0.02780456468462944, 0.009363955818116665, 0.005889526102691889, 0.009766075760126114, 0.021785227581858635, 0.035979315638542175, 0.025767652317881584, 0.05790446698665619], [0.015893522650003433, 0.006482863333076239, 0.007577146869152784, 0.010003923438489437, 0.0542493499815464, 0.0048537529073655605, 0.024803215637803078, 0.0034585040993988514, 0.017756519839167595, 0.005838362965732813, 0.011530723422765732, 0.013091999106109142, 0.006953160744160414, 0.029174184426665306, 0.01992865465581417, 0.010671917349100113, 0.005587555002421141, 0.003458029590547085, 0.00965601671487093, 0.013238208368420601, 0.010410466231405735, 0.02389187179505825, 0.004087781999260187, 0.005904681049287319, 0.00788397528231144, 0.044371604919433594, 0.002633066149428487, 0.003908402752131224, 0.011105610057711601, 0.007509544957429171, 0.004240956157445908, 0.007454190403223038, 0.010055727325379848, 0.019724499434232712, 0.002284300746396184, 0.004260256886482239, 0.005944586358964443, 0.003130843862891197, 0.01651698164641857, 0.0035552778281271458, 0.005802726838737726, 0.014277641661465168, 0.004541066009551287, 0.00434194877743721, 0.009649463929235935, 0.017003899440169334, 0.008115561679005623, 0.006037600804120302, 0.01338995061814785, 0.006533125415444374, 0.010502682067453861, 0.026347815990447998, 0.013667085207998753, 0.03287992253899574, 0.06599364429712296, 0.0161002054810524, 0.00887269340455532, 0.023309342563152313, 0.0497402660548687, 0.07117598503828049, 0.034685466438531876, 0.03757307678461075, 0.04637663811445236], [0.028149226680397987, 0.006627474445849657, 0.009649189189076424, 0.01472978200763464, 0.016015268862247467, 0.004964638501405716, 0.022270992398262024, 0.004066928755491972, 0.012258937582373619, 0.006290400866419077, 0.013614791445434093, 0.013420047238469124, 0.004988821689039469, 0.01560428086668253, 0.052735570818185806, 0.008404477499425411, 0.008628185838460922, 0.003947147633880377, 0.014826220460236073, 0.003075825981795788, 0.0032852385193109512, 0.03219182789325714, 0.004993487149477005, 0.005817024037241936, 0.012261041440069675, 0.058423761278390884, 0.0036919512785971165, 0.002770395250990987, 0.013499732129275799, 0.006200967822223902, 0.003118847729638219, 0.003957283683121204, 0.0026423255912959576, 0.012713623233139515, 0.004194323439151049, 0.012534690089523792, 0.01063451636582613, 0.004856124985963106, 0.014882253482937813, 0.0036231824196875095, 0.01018199697136879, 0.03649166598916054, 0.003122032852843404, 0.008482084609568119, 0.0164847020059824, 0.021939484402537346, 0.008248328231275082, 0.004002139437943697, 0.015223518945276737, 0.005836562253534794, 0.013566100969910622, 0.03960461542010307, 0.0055328477174043655, 0.00897331815212965, 0.1089325100183487, 0.00827556848526001, 0.00902683474123478, 0.02258353866636753, 0.03439580649137497, 0.03581617772579193, 0.01934961788356304, 0.009208076633512974, 0.005008309613913298, 0.06915340572595596], [0.012732869014143944, 0.005153542384505272, 0.009731074795126915, 0.013672314584255219, 0.02167590707540512, 0.005099114961922169, 0.02662358433008194, 0.003977789077907801, 0.01495338324457407, 0.00645087007433176, 0.014421908184885979, 0.014405595138669014, 0.005915821064263582, 0.012347538955509663, 0.05977466702461243, 0.008980270475149155, 0.007471260614693165, 0.004936872515827417, 0.01449290569871664, 0.00407971628010273, 0.004422680474817753, 0.03541563078761101, 0.004249964375048876, 0.005739190615713596, 0.014544015750288963, 0.09632308781147003, 0.0027611267287284136, 0.0034893869888037443, 0.013520551845431328, 0.006315594073385, 0.0034631192684173584, 0.004280513152480125, 0.003096377942711115, 0.010682697407901287, 0.00372262648306787, 0.012444447726011276, 0.013345680199563503, 0.00891097728163004, 0.028935864567756653, 0.003908051643520594, 0.012806197628378868, 0.04200751706957817, 0.003564483253285289, 0.007914384827017784, 0.014730572700500488, 0.021924106404185295, 0.009814079850912094, 0.005961671005934477, 0.015221170149743557, 0.004390710964798927, 0.01033019833266735, 0.03501404821872711, 0.00656181201338768, 0.007612991612404585, 0.07707635313272476, 0.008029158227145672, 0.008212622255086899, 0.0177469402551651, 0.027994316071271896, 0.028993656858801842, 0.011465005576610565, 0.008344309404492378, 0.004415934905409813, 0.04575091227889061, 0.017648249864578247], [0.019253026694059372, 0.005576998461037874, 0.010323828086256981, 0.014613247476518154, 0.015663588419556618, 0.004887180868536234, 0.024013418704271317, 0.00423941807821393, 0.014094083569943905, 0.0057835886254906654, 0.014180907979607582, 0.012859057635068893, 0.00469591561704874, 0.013045796193182468, 0.03615294024348259, 0.005801628343760967, 0.007452945224940777, 0.004255867097526789, 0.012193524278700352, 0.00398012762889266, 0.0034457400906831026, 0.02481466718018055, 0.003945080563426018, 0.005657092202454805, 0.011472627520561218, 0.05497675761580467, 0.0029057436622679234, 0.003104520495980978, 0.011501016095280647, 0.00583183066919446, 0.003367105033248663, 0.005102942232042551, 0.002945256419479847, 0.009614537470042706, 0.0032312211114913225, 0.009523304179310799, 0.011416670866310596, 0.007316771429032087, 0.017519187182188034, 0.003575656795874238, 0.011166182346642017, 0.022412575781345367, 0.003258640179410577, 0.007818900980055332, 0.01200786978006363, 0.016674069687724113, 0.009671696461737156, 0.004795295186340809, 0.013462410308420658, 0.004318644758313894, 0.010231765918433666, 0.03828839585185051, 0.005528192035853863, 0.01033124141395092, 0.07461279630661011, 0.009446444921195507, 0.00643202755600214, 0.013517355546355247, 0.04077818617224693, 0.04049479216337204, 0.012611838057637215, 0.00722779706120491, 0.005926378536969423, 0.04457586258649826, 0.021747734397649765, 0.11832806468009949], [0.01981980726122856, 0.00777242099866271, 0.01342790201306343, 0.01828753389418125, 0.03206145763397217, 0.007020312361419201, 0.03399550914764404, 0.005562136881053448, 0.019657671451568604, 0.007542666047811508, 0.018555741757154465, 0.014109333045780659, 0.007212131749838591, 0.020938053727149963, 0.021917644888162613, 0.006716791074723005, 0.008087217807769775, 0.0034122755751013756, 0.01383484248071909, 0.005568630062043667, 0.004779813811182976, 0.029772579669952393, 0.004310804419219494, 0.0045112622901797295, 0.014656097628176212, 0.04632432386279106, 0.003943724557757378, 0.004727139137685299, 0.016231566667556763, 0.006684159394353628, 0.004078765399754047, 0.007449073251336813, 0.004026283975690603, 0.011609130539000034, 0.004084503278136253, 0.009768284857273102, 0.013373804278671741, 0.008174298331141472, 0.028010737150907516, 0.002940604230388999, 0.01013852283358574, 0.018433285877108574, 0.00376311712898314, 0.0082625113427639, 0.013570652343332767, 0.01905573531985283, 0.012120811268687248, 0.006545338314026594, 0.018447840586304665, 0.003429138334468007, 0.010814493522047997, 0.027966206893324852, 0.007331895641982555, 0.007148453965783119, 0.03259674087166786, 0.004981185309588909, 0.003076103050261736, 0.010004149749875069, 0.0206602830439806, 0.0251601692289114, 0.007438112981617451, 0.00598750589415431, 0.005189069546759129, 0.028450174257159233, 0.015220367349684238, 0.06766960769891739, 0.09158148616552353], [0.01533299870789051, 0.0042402963154017925, 0.008476199582219124, 0.011131350882351398, 0.01692911423742771, 0.005054301582276821, 0.021898815408349037, 0.0035709182266145945, 0.01171468198299408, 0.0051872581243515015, 0.012838413938879967, 0.011789899319410324, 0.0040527465753257275, 0.008464833721518517, 0.04280737787485123, 0.007056002039462328, 0.00742747075855732, 0.003352272557094693, 0.011386646889150143, 0.0033952512312680483, 0.0030234637670218945, 0.023722000420093536, 0.0036643093917518854, 0.0059740724973380566, 0.00903228111565113, 0.05913759768009186, 0.0034469212405383587, 0.0030283937230706215, 0.009077049791812897, 0.006538004148751497, 0.0034696110524237156, 0.007033196277916431, 0.003360538277775049, 0.013762674294412136, 0.0047173695638775826, 0.019650690257549286, 0.013598120771348476, 0.0049562822096049786, 0.014337148517370224, 0.0035699980799108744, 0.012040868401527405, 0.03701033070683479, 0.004520734306424856, 0.015958230942487717, 0.0181483943015337, 0.016163695603609085, 0.007676330395042896, 0.0034687721636146307, 0.010956032201647758, 0.003770251292735338, 0.009195718914270401, 0.023649010807275772, 0.005123113747686148, 0.005637633614242077, 0.08116122335195541, 0.007381033152341843, 0.0075174435041844845, 0.018201230093836784, 0.031324002891778946, 0.02825162373483181, 0.01090195681899786, 0.0075682890601456165, 0.005421341862529516, 0.04021180793642998, 0.00639295531436801, 0.025680935010313988, 0.05105355754494667, 0.07440681755542755], [0.014452585950493813, 0.004656115081161261, 0.009249011054635048, 0.013204926624894142, 0.01548115722835064, 0.004492034204304218, 0.021348442882299423, 0.003453318029642105, 0.012437059544026852, 0.005165901035070419, 0.013685764744877815, 0.010273286141455173, 0.003954821266233921, 0.007904743775725365, 0.02829165942966938, 0.00656514149159193, 0.006505739409476519, 0.003760513151064515, 0.016512272879481316, 0.0032409706618636847, 0.003440145868808031, 0.028905116021633148, 0.003492822637781501, 0.0039654881693422794, 0.012201361358165741, 0.04035591706633568, 0.003190229646861553, 0.0030000845436006784, 0.011787695810198784, 0.006490141618996859, 0.003511841408908367, 0.006232433021068573, 0.0029857398476451635, 0.013379321433603764, 0.006353086791932583, 0.032949142158031464, 0.02368016354739666, 0.00846309307962656, 0.02008643001317978, 0.004852874204516411, 0.01942274160683155, 0.0318174846470356, 0.007796857971698046, 0.033925920724868774, 0.08028154075145721, 0.02116481214761734, 0.004757986404001713, 0.0022903645876795053, 0.00901115033775568, 0.003751093987375498, 0.009926613420248032, 0.018566923215985298, 0.003655878361314535, 0.0058860271237790585, 0.05353328585624695, 0.006257182918488979, 0.003911351785063744, 0.009360909461975098, 0.02752162516117096, 0.025663642212748528, 0.008478476665914059, 0.003871614346280694, 0.0023631565272808075, 0.0200920682400465, 0.004246933851391077, 0.018989553675055504, 0.029626965522766113, 0.03340104594826698, 0.056468237191438675], [0.013796357437968254, 0.004908632021397352, 0.009480173699557781, 0.01189251709729433, 0.01702217012643814, 0.004429460968822241, 0.02092897705733776, 0.0036331673618406057, 0.013003976084291935, 0.004682507831603289, 0.012992010451853275, 0.010367071256041527, 0.004494907334446907, 0.007677028421312571, 0.03909241035580635, 0.005098908208310604, 0.006651913747191429, 0.002931282389909029, 0.011653241701424122, 0.00271219527348876, 0.0029594588559120893, 0.024114301428198814, 0.004212076775729656, 0.004326271824538708, 0.011193634010851383, 0.03582368791103363, 0.0030424417927861214, 0.0027144986670464277, 0.009762314148247242, 0.006047739181667566, 0.003471620613709092, 0.004299054387956858, 0.0022751614451408386, 0.014217792078852654, 0.0033341054804623127, 0.015910854563117027, 0.008832662366330624, 0.0056400178000330925, 0.01903289183974266, 0.0027192006818950176, 0.009604507125914097, 0.017107145860791206, 0.004500917159020901, 0.016564231365919113, 0.044649720191955566, 0.08827996253967285, 0.004963928833603859, 0.0031887716613709927, 0.010026518255472183, 0.0031741366256028414, 0.009712890721857548, 0.019574826583266258, 0.0045163314789533615, 0.005273911170661449, 0.06377050280570984, 0.005223017185926437, 0.0038599141407757998, 0.011150532402098179, 0.023096377030014992, 0.022285571321845055, 0.009597374126315117, 0.005662926007062197, 0.0032875624019652605, 0.026180099695920944, 0.007567915134131908, 0.020818699151277542, 0.029614508152008057, 0.03772725164890289, 0.039135754108428955, 0.058505501598119736]]})\n",
              "\n",
              "             }, function (err) {\n",
              "                console.log(err);\n",
              "            })"
            ],
            "text/plain": [
              "<IPython.core.display.Javascript object>"
            ]
          },
          "metadata": {
            "tags": []
          }
        }
      ]
    },
    {
      "cell_type": "markdown",
      "metadata": {
        "id": "EUhQPQCM2wCZ"
      },
      "source": [
        "# Neuron Factors"
      ]
    },
    {
      "cell_type": "code",
      "metadata": {
        "id": "l_bJV6FK3ZuU"
      },
      "source": [
        "lm2 = ecco.from_pretrained('HooshvareLab/gpt2-fa', activations=True)"
      ],
      "execution_count": 145,
      "outputs": []
    },
    {
      "cell_type": "code",
      "metadata": {
        "colab": {
          "base_uri": "https://localhost:8080/",
          "height": 337
        },
        "id": "6doYhGw12w_m",
        "outputId": "ebbe1dca-a000-4cd0-f64a-b73e926c0cff"
      },
      "source": [
        "text = \"\"\"\n",
        "هر سال ده‌ها هزار مقاله و گزارش راجع به هوش مصنوعی منتشر می‌شود، اما اندکی زمان می برد تا پتانسیل‌های مطرح شده در هرکدام از این مقالات تأثیری واضح و محسوس بر دنیای واقعی بگذارند. در این بین، بزرگترین سرمایه‌گذاران روی هوش مصنوعی یعنی امثال آلفابت، اپل، فیسبوک، بایدوس و دیگر اسب‌های تک‌شاخ دنیای تکنولوژی، بخش اعظمی از دستاوردهای تکنولوژیک خود را پشت درهای بسته پنهان می‌کنند.\n",
        "\n",
        "اگر بخواهیم واضح‌تر بگوییم، وقتی صحبت از هوش مصنوعی باشد، لیست کردن مهم‌ترین دستاوردها در بازه‌ای یک‌ساله کاری آسان به حساب نمی‌آید؛ حداقل نه به آسانی لیست کردن بهترین موبایل‌های پرچمدار یا بهترین ویژگی‌های اضافه شده به تازه‌ترین ورژن از iOS.\n",
        "\n",
        "اما هرطور که به موضوع نگاه کنیم، هوش مصنوعی بدون تردید نقشی بزرگ در سال ۲۰۲۰ میلادی ایفا کرده است. بنابراین بیایید به مرور شش دستاورد بزرگ هوش مصنوعی در سالی که اکنون به روزهای آخرش نزدیک شده بپردازیم.\n",
        "\n",
        "در یک سال معمولی، ابزاری که کارش تولید متن است به هیچ‌وجه جزء هیجان‌انگیزترین دستاوردهای حوزه هوش\n",
        "\"\"\".strip().replace(\"\\n\", \" \")\n",
        "\n",
        "output = lm2.generate(text, generate=1, do_sample=True)"
      ],
      "execution_count": 157,
      "outputs": [
        {
          "output_type": "display_data",
          "data": {
            "text/html": [
              "<html lang=\"en\">\n",
              "<script src=\"https://requirejs.org/docs/release/2.3.6/minified/require.js\"></script>\n",
              "<script>\n",
              "    var ecco_url = 'https://storage.googleapis.com/ml-intro/ecco/'\n",
              "    // var ecco_url = 'http://localhost:8000/ecco/'\n",
              "\n",
              "    if (window.ecco === undefined) window.ecco = {}\n",
              "\n",
              "    requirejs.config({\n",
              "        urlArgs: \"bust=\" + (new Date()).getTime(),\n",
              "        nodeRequire: require,\n",
              "        paths: {\n",
              "            d3: \"https://d3js.org/d3.v5.min\",\n",
              "            \"d3-array\": \"https://d3js.org/d3-array.v2.min\",\n",
              "            jquery: \"https://code.jquery.com/jquery-3.5.1.min\",\n",
              "            // oldEcco: ecco_url + 'ecco',\n",
              "            ecco: ecco_url + 'js/0.0.4/ecco-bundle.min',\n",
              "            xregexp: 'https://cdnjs.cloudflare.com/ajax/libs/xregexp/3.2.0/xregexp-all.min'\n",
              "        }\n",
              "    });\n",
              "    requirejs(['d3'],\n",
              "        function (d3) {\n",
              "            d3.select('#css').attr('href', ecco_url + 'html/styles.css')\n",
              "        })\n",
              "\n",
              "    console.log('Ecco initialize.')\n",
              "</script>\n",
              "\n",
              "<head>\n",
              "    <link id='css' rel=\"stylesheet\" type=\"text/css\">\n",
              "</head>\n"
            ],
            "text/plain": [
              "<IPython.core.display.HTML object>"
            ]
          },
          "metadata": {
            "tags": []
          }
        },
        {
          "output_type": "display_data",
          "data": {
            "text/html": [
              "<script>\n",
              "    // console.log('defining basic')\n",
              "    define('basic', ['d3'],\n",
              "        function (d3) {\n",
              "            return {\n",
              "                init: function (viz_id = null) {\n",
              "\n",
              "                    // console.log('basic init')\n",
              "                    if (viz_id == null){\n",
              "                        viz_id = \"viz_\" + Math.round(Math.random() * 10000000)\n",
              "                    }\n",
              "                    const div = d3.select('#basic').attr('id', viz_id),\n",
              "                        div_parent = d3.select('#' + viz_id).node().parentNode\n",
              "\n",
              "                    // Link to CSS file\n",
              "                    d3.select(div_parent).insert('link')\n",
              "                        .attr('rel', 'stylesheet')\n",
              "                        .attr('type', 'text/css')\n",
              "                        .attr('href', ecco_url + 'html/styles.css')\n",
              "\n",
              "                    return viz_id\n",
              "                }\n",
              "            }\n",
              "        }, function (err) {console.log(err);}\n",
              "    )\n",
              "    // console.log('after defining basic')\n",
              "\n",
              "</script>\n",
              "<div id=\"basic\"></div>\n"
            ],
            "text/plain": [
              "<IPython.core.display.HTML object>"
            ]
          },
          "metadata": {
            "tags": []
          }
        },
        {
          "output_type": "display_data",
          "data": {
            "application/javascript": [
              "\n",
              "\n",
              "         requirejs( ['basic', 'ecco'], function(basic, ecco){\n",
              "            basic.init('viz_995696')\n",
              "\n",
              "            window.ecco['viz_995696'] = ecco.renderOutputSequence('viz_995696', {'tokens': [{'token': 'هر', 'position': 0, 'token_id': 458, 'type': 'input'}, {'token': ' سال', 'position': 1, 'token_id': 415, 'type': 'input'}, {'token': ' ده', 'position': 2, 'token_id': 546, 'type': 'input'}, {'token': '\\u200c', 'position': 3, 'token_id': 285, 'type': 'input'}, {'token': 'ها', 'position': 4, 'token_id': 350, 'type': 'input'}, {'token': ' هزار', 'position': 5, 'token_id': 841, 'type': 'input'}, {'token': ' مقاله', 'position': 6, 'token_id': 1895, 'type': 'input'}, {'token': ' و', 'position': 7, 'token_id': 293, 'type': 'input'}, {'token': ' گزارش', 'position': 8, 'token_id': 893, 'type': 'input'}, {'token': ' راجع', 'position': 9, 'token_id': 5945, 'type': 'input'}, {'token': ' به', 'position': 10, 'token_id': 303, 'type': 'input'}, {'token': ' هوش', 'position': 11, 'token_id': 976, 'type': 'input'}, {'token': ' مصنوعی', 'position': 12, 'token_id': 2734, 'type': 'input'}, {'token': ' منتشر', 'position': 13, 'token_id': 1099, 'type': 'input'}, {'token': ' می', 'position': 14, 'token_id': 310, 'type': 'input'}, {'token': '\\u200c', 'position': 15, 'token_id': 285, 'type': 'input'}, {'token': 'شود', 'position': 16, 'token_id': 431, 'type': 'input'}, {'token': '،', 'position': 17, 'token_id': 305, 'type': 'input'}, {'token': ' اما', 'position': 18, 'token_id': 492, 'type': 'input'}, {'token': ' اندکی', 'position': 19, 'token_id': 4111, 'type': 'input'}, {'token': ' زمان', 'position': 20, 'token_id': 701, 'type': 'input'}, {'token': ' می', 'position': 21, 'token_id': 310, 'type': 'input'}, {'token': ' برد', 'position': 22, 'token_id': 1981, 'type': 'input'}, {'token': ' تا', 'position': 23, 'token_id': 399, 'type': 'input'}, {'token': ' پتانسیل', 'position': 24, 'token_id': 6111, 'type': 'input'}, {'token': '\\u200c', 'position': 25, 'token_id': 285, 'type': 'input'}, {'token': 'های', 'position': 26, 'token_id': 325, 'type': 'input'}, {'token': ' مطرح', 'position': 27, 'token_id': 2031, 'type': 'input'}, {'token': ' شده', 'position': 28, 'token_id': 401, 'type': 'input'}, {'token': ' در', 'position': 29, 'token_id': 298, 'type': 'input'}, {'token': ' هرکدام', 'position': 30, 'token_id': 6242, 'type': 'input'}, {'token': ' از', 'position': 31, 'token_id': 312, 'type': 'input'}, {'token': ' این', 'position': 32, 'token_id': 326, 'type': 'input'}, {'token': ' مقالات', 'position': 33, 'token_id': 5320, 'type': 'input'}, {'token': ' تأثیری', 'position': 34, 'token_id': 11760, 'type': 'input'}, {'token': ' واضح', 'position': 35, 'token_id': 5272, 'type': 'input'}, {'token': ' و', 'position': 36, 'token_id': 293, 'type': 'input'}, {'token': ' محسوس', 'position': 37, 'token_id': 12950, 'type': 'input'}, {'token': ' بر', 'position': 38, 'token_id': 327, 'type': 'input'}, {'token': ' دنیای', 'position': 39, 'token_id': 2112, 'type': 'input'}, {'token': ' واقعی', 'position': 40, 'token_id': 2200, 'type': 'input'}, {'token': ' بگذارند', 'position': 41, 'token_id': 6406, 'type': 'input'}, {'token': '.', 'position': 42, 'token_id': 24, 'type': 'input'}, {'token': ' در', 'position': 43, 'token_id': 298, 'type': 'input'}, {'token': ' این', 'position': 44, 'token_id': 326, 'type': 'input'}, {'token': ' بین', 'position': 45, 'token_id': 619, 'type': 'input'}, {'token': '،', 'position': 46, 'token_id': 305, 'type': 'input'}, {'token': ' بزرگترین', 'position': 47, 'token_id': 3070, 'type': 'input'}, {'token': ' سرمایه', 'position': 48, 'token_id': 1266, 'type': 'input'}, {'token': '\\u200c', 'position': 49, 'token_id': 285, 'type': 'input'}, {'token': 'گذاران', 'position': 50, 'token_id': 4830, 'type': 'input'}, {'token': ' روی', 'position': 51, 'token_id': 539, 'type': 'input'}, {'token': ' هوش', 'position': 52, 'token_id': 976, 'type': 'input'}, {'token': ' مصنوعی', 'position': 53, 'token_id': 2734, 'type': 'input'}, {'token': ' یعنی', 'position': 54, 'token_id': 1247, 'type': 'input'}, {'token': ' امثال', 'position': 55, 'token_id': 13505, 'type': 'input'}, {'token': ' آلفابت', 'position': 56, 'token_id': 14405, 'type': 'input'}, {'token': '،', 'position': 57, 'token_id': 305, 'type': 'input'}, {'token': ' اپل', 'position': 58, 'token_id': 1190, 'type': 'input'}, {'token': '،', 'position': 59, 'token_id': 305, 'type': 'input'}, {'token': ' فیسبوک', 'position': 60, 'token_id': 3942, 'type': 'input'}, {'token': '،', 'position': 61, 'token_id': 305, 'type': 'input'}, {'token': ' باید', 'position': 62, 'token_id': 544, 'type': 'input'}, {'token': 'وس', 'position': 63, 'token_id': 612, 'type': 'input'}, {'token': ' و', 'position': 64, 'token_id': 293, 'type': 'input'}, {'token': ' دیگر', 'position': 65, 'token_id': 530, 'type': 'input'}, {'token': ' اسب', 'position': 66, 'token_id': 2953, 'type': 'input'}, {'token': '\\u200c', 'position': 67, 'token_id': 285, 'type': 'input'}, {'token': 'های', 'position': 68, 'token_id': 325, 'type': 'input'}, {'token': ' تک', 'position': 69, 'token_id': 1396, 'type': 'input'}, {'token': '\\u200c', 'position': 70, 'token_id': 285, 'type': 'input'}, {'token': 'شاخ', 'position': 71, 'token_id': 12504, 'type': 'input'}, {'token': ' دنیای', 'position': 72, 'token_id': 2112, 'type': 'input'}, {'token': ' تکنولوژی', 'position': 73, 'token_id': 2061, 'type': 'input'}, {'token': '،', 'position': 74, 'token_id': 305, 'type': 'input'}, {'token': ' بخش', 'position': 75, 'token_id': 710, 'type': 'input'}, {'token': ' اعظمی', 'position': 76, 'token_id': 15349, 'type': 'input'}, {'token': ' از', 'position': 77, 'token_id': 312, 'type': 'input'}, {'token': ' دستاوردهای', 'position': 78, 'token_id': 7442, 'type': 'input'}, {'token': ' تکنولوژیک', 'position': 79, 'token_id': 17304, 'type': 'input'}, {'token': ' خود', 'position': 80, 'token_id': 377, 'type': 'input'}, {'token': ' را', 'position': 81, 'token_id': 330, 'type': 'input'}, {'token': ' پشت', 'position': 82, 'token_id': 1059, 'type': 'input'}, {'token': ' درهای', 'position': 83, 'token_id': 10399, 'type': 'input'}, {'token': ' بسته', 'position': 84, 'token_id': 1746, 'type': 'input'}, {'token': ' پنهان', 'position': 85, 'token_id': 4811, 'type': 'input'}, {'token': ' می', 'position': 86, 'token_id': 310, 'type': 'input'}, {'token': '\\u200c', 'position': 87, 'token_id': 285, 'type': 'input'}, {'token': 'کنند', 'position': 88, 'token_id': 606, 'type': 'input'}, {'token': '.', 'position': 89, 'token_id': 24, 'type': 'input'}, {'token': ' ', 'position': 90, 'token_id': 231, 'type': 'input'}, {'token': ' اگر', 'position': 91, 'token_id': 574, 'type': 'input'}, {'token': ' بخواهیم', 'position': 92, 'token_id': 6385, 'type': 'input'}, {'token': ' واضح', 'position': 93, 'token_id': 5272, 'type': 'input'}, {'token': '\\u200c', 'position': 94, 'token_id': 285, 'type': 'input'}, {'token': 'تر', 'position': 95, 'token_id': 344, 'type': 'input'}, {'token': ' بگوییم', 'position': 96, 'token_id': 4676, 'type': 'input'}, {'token': '،', 'position': 97, 'token_id': 305, 'type': 'input'}, {'token': ' وقتی', 'position': 98, 'token_id': 1277, 'type': 'input'}, {'token': ' صحبت', 'position': 99, 'token_id': 1868, 'type': 'input'}, {'token': ' از', 'position': 100, 'token_id': 312, 'type': 'input'}, {'token': ' هوش', 'position': 101, 'token_id': 976, 'type': 'input'}, {'token': ' مصنوعی', 'position': 102, 'token_id': 2734, 'type': 'input'}, {'token': ' باشد', 'position': 103, 'token_id': 577, 'type': 'input'}, {'token': '،', 'position': 104, 'token_id': 305, 'type': 'input'}, {'token': ' لیست', 'position': 105, 'token_id': 2740, 'type': 'input'}, {'token': ' کردن', 'position': 106, 'token_id': 714, 'type': 'input'}, {'token': ' مهم', 'position': 107, 'token_id': 871, 'type': 'input'}, {'token': '\\u200c', 'position': 108, 'token_id': 285, 'type': 'input'}, {'token': 'ترین', 'position': 109, 'token_id': 496, 'type': 'input'}, {'token': ' دستاوردها', 'position': 110, 'token_id': 20176, 'type': 'input'}, {'token': ' در', 'position': 111, 'token_id': 298, 'type': 'input'}, {'token': ' بازه', 'position': 112, 'token_id': 4051, 'type': 'input'}, {'token': '\\u200c', 'position': 113, 'token_id': 285, 'type': 'input'}, {'token': 'ای', 'position': 114, 'token_id': 289, 'type': 'input'}, {'token': ' یک', 'position': 115, 'token_id': 367, 'type': 'input'}, {'token': '\\u200c', 'position': 116, 'token_id': 285, 'type': 'input'}, {'token': 'ساله', 'position': 117, 'token_id': 6857, 'type': 'input'}, {'token': ' کاری', 'position': 118, 'token_id': 1379, 'type': 'input'}, {'token': ' آسان', 'position': 119, 'token_id': 3109, 'type': 'input'}, {'token': ' به', 'position': 120, 'token_id': 303, 'type': 'input'}, {'token': ' حساب', 'position': 121, 'token_id': 1650, 'type': 'input'}, {'token': ' نمی', 'position': 122, 'token_id': 624, 'type': 'input'}, {'token': '\\u200c', 'position': 123, 'token_id': 285, 'type': 'input'}, {'token': 'آید', 'position': 124, 'token_id': 1721, 'type': 'input'}, {'token': '؛', 'position': 125, 'token_id': 556, 'type': 'input'}, {'token': ' حداقل', 'position': 126, 'token_id': 2235, 'type': 'input'}, {'token': ' نه', 'position': 127, 'token_id': 995, 'type': 'input'}, {'token': ' به', 'position': 128, 'token_id': 303, 'type': 'input'}, {'token': ' آسانی', 'position': 129, 'token_id': 7654, 'type': 'input'}, {'token': ' لیست', 'position': 130, 'token_id': 2740, 'type': 'input'}, {'token': ' کردن', 'position': 131, 'token_id': 714, 'type': 'input'}, {'token': ' بهترین', 'position': 132, 'token_id': 1142, 'type': 'input'}, {'token': ' موبایل', 'position': 133, 'token_id': 1532, 'type': 'input'}, {'token': '\\u200c', 'position': 134, 'token_id': 285, 'type': 'input'}, {'token': 'های', 'position': 135, 'token_id': 325, 'type': 'input'}, {'token': ' پرچمدار', 'position': 136, 'token_id': 4810, 'type': 'input'}, {'token': ' یا', 'position': 137, 'token_id': 421, 'type': 'input'}, {'token': ' بهترین', 'position': 138, 'token_id': 1142, 'type': 'input'}, {'token': ' ویژگی', 'position': 139, 'token_id': 1413, 'type': 'input'}, {'token': '\\u200c', 'position': 140, 'token_id': 285, 'type': 'input'}, {'token': 'های', 'position': 141, 'token_id': 325, 'type': 'input'}, {'token': ' اضافه', 'position': 142, 'token_id': 1469, 'type': 'input'}, {'token': ' شده', 'position': 143, 'token_id': 401, 'type': 'input'}, {'token': ' به', 'position': 144, 'token_id': 303, 'type': 'input'}, {'token': ' تازه', 'position': 145, 'token_id': 1903, 'type': 'input'}, {'token': '\\u200c', 'position': 146, 'token_id': 285, 'type': 'input'}, {'token': 'ترین', 'position': 147, 'token_id': 496, 'type': 'input'}, {'token': ' ورژن', 'position': 148, 'token_id': 10005, 'type': 'input'}, {'token': ' از', 'position': 149, 'token_id': 312, 'type': 'input'}, {'token': ' iOS', 'position': 150, 'token_id': 3658, 'type': 'input'}, {'token': '.', 'position': 151, 'token_id': 24, 'type': 'input'}, {'token': ' ', 'position': 152, 'token_id': 231, 'type': 'input'}, {'token': ' اما', 'position': 153, 'token_id': 492, 'type': 'input'}, {'token': ' هرطور', 'position': 154, 'token_id': 39899, 'type': 'input'}, {'token': ' که', 'position': 155, 'token_id': 323, 'type': 'input'}, {'token': ' به', 'position': 156, 'token_id': 303, 'type': 'input'}, {'token': ' موضوع', 'position': 157, 'token_id': 964, 'type': 'input'}, {'token': ' نگاه', 'position': 158, 'token_id': 1624, 'type': 'input'}, {'token': ' کنیم', 'position': 159, 'token_id': 1085, 'type': 'input'}, {'token': '،', 'position': 160, 'token_id': 305, 'type': 'input'}, {'token': ' هوش', 'position': 161, 'token_id': 976, 'type': 'input'}, {'token': ' مصنوعی', 'position': 162, 'token_id': 2734, 'type': 'input'}, {'token': ' بدون', 'position': 163, 'token_id': 1042, 'type': 'input'}, {'token': ' تردید', 'position': 164, 'token_id': 6746, 'type': 'input'}, {'token': ' نقشی', 'position': 165, 'token_id': 6806, 'type': 'input'}, {'token': ' بزرگ', 'position': 166, 'token_id': 745, 'type': 'input'}, {'token': ' در', 'position': 167, 'token_id': 298, 'type': 'input'}, {'token': ' سال', 'position': 168, 'token_id': 415, 'type': 'input'}, {'token': ' ۲۰۲۰', 'position': 169, 'token_id': 3668, 'type': 'input'}, {'token': ' میلادی', 'position': 170, 'token_id': 1547, 'type': 'input'}, {'token': ' ایفا', 'position': 171, 'token_id': 4912, 'type': 'input'}, {'token': ' کرده', 'position': 172, 'token_id': 501, 'type': 'input'}, {'token': ' است', 'position': 173, 'token_id': 329, 'type': 'input'}, {'token': '.', 'position': 174, 'token_id': 24, 'type': 'input'}, {'token': ' بنابراین', 'position': 175, 'token_id': 1504, 'type': 'input'}, {'token': ' بیایید', 'position': 176, 'token_id': 7496, 'type': 'input'}, {'token': ' به', 'position': 177, 'token_id': 303, 'type': 'input'}, {'token': ' مرور', 'position': 178, 'token_id': 2550, 'type': 'input'}, {'token': ' شش', 'position': 179, 'token_id': 2606, 'type': 'input'}, {'token': ' دستاورد', 'position': 180, 'token_id': 8149, 'type': 'input'}, {'token': ' بزرگ', 'position': 181, 'token_id': 745, 'type': 'input'}, {'token': ' هوش', 'position': 182, 'token_id': 976, 'type': 'input'}, {'token': ' مصنوعی', 'position': 183, 'token_id': 2734, 'type': 'input'}, {'token': ' در', 'position': 184, 'token_id': 298, 'type': 'input'}, {'token': ' سالی', 'position': 185, 'token_id': 4029, 'type': 'input'}, {'token': ' که', 'position': 186, 'token_id': 323, 'type': 'input'}, {'token': ' اکنون', 'position': 187, 'token_id': 1801, 'type': 'input'}, {'token': ' به', 'position': 188, 'token_id': 303, 'type': 'input'}, {'token': ' روزهای', 'position': 189, 'token_id': 2897, 'type': 'input'}, {'token': ' آخرش', 'position': 190, 'token_id': 16847, 'type': 'input'}, {'token': ' نزدیک', 'position': 191, 'token_id': 1460, 'type': 'input'}, {'token': ' شده', 'position': 192, 'token_id': 401, 'type': 'input'}, {'token': ' بپردازیم', 'position': 193, 'token_id': 7984, 'type': 'input'}, {'token': '.', 'position': 194, 'token_id': 24, 'type': 'input'}, {'token': ' ', 'position': 195, 'token_id': 231, 'type': 'input'}, {'token': ' در', 'position': 196, 'token_id': 298, 'type': 'input'}, {'token': ' یک', 'position': 197, 'token_id': 367, 'type': 'input'}, {'token': ' سال', 'position': 198, 'token_id': 415, 'type': 'input'}, {'token': ' معمولی', 'position': 199, 'token_id': 3350, 'type': 'input'}, {'token': '،', 'position': 200, 'token_id': 305, 'type': 'input'}, {'token': ' ابزاری', 'position': 201, 'token_id': 6048, 'type': 'input'}, {'token': ' که', 'position': 202, 'token_id': 323, 'type': 'input'}, {'token': ' کارش', 'position': 203, 'token_id': 6853, 'type': 'input'}, {'token': ' تولید', 'position': 204, 'token_id': 667, 'type': 'input'}, {'token': ' متن', 'position': 205, 'token_id': 1555, 'type': 'input'}, {'token': ' است', 'position': 206, 'token_id': 329, 'type': 'input'}, {'token': ' به', 'position': 207, 'token_id': 303, 'type': 'input'}, {'token': ' هیچ', 'position': 208, 'token_id': 917, 'type': 'input'}, {'token': '\\u200c', 'position': 209, 'token_id': 285, 'type': 'input'}, {'token': 'وجه', 'position': 210, 'token_id': 8362, 'type': 'input'}, {'token': ' جزء', 'position': 211, 'token_id': 5953, 'type': 'input'}, {'token': ' هیجان', 'position': 212, 'token_id': 3814, 'type': 'input'}, {'token': '\\u200c', 'position': 213, 'token_id': 285, 'type': 'input'}, {'token': 'انگیزترین', 'position': 214, 'token_id': 20502, 'type': 'input'}, {'token': ' دستاوردهای', 'position': 215, 'token_id': 7442, 'type': 'input'}, {'token': ' حوزه', 'position': 216, 'token_id': 1403, 'type': 'input'}, {'token': ' هوش', 'position': 217, 'token_id': 976, 'type': 'input'}]})\n",
              "         }, function (err) {\n",
              "            console.log(err);\n",
              "        })\n"
            ],
            "text/plain": [
              "<IPython.core.display.Javascript object>"
            ]
          },
          "metadata": {
            "tags": []
          }
        },
        {
          "output_type": "display_data",
          "data": {
            "application/javascript": [
              "\n",
              "        // We don't really need these require scripts. But this is to avert\n",
              "        //this code from running before display_input_sequence which DOES require external files\n",
              "        requirejs(['basic', 'ecco'], function(basic, ecco){\n",
              "                console.log('addToken viz_id', 'viz_995696');\n",
              "                window.ecco['viz_995696'].addToken({\"token\": \" \\u0645\\u0635\\u0646\\u0648\\u0639\\u06cc\", \"token_id\": 2734, \"position\": 218, \"type\": \"output\"})\n",
              "                window.ecco['viz_995696'].redraw()\n",
              "        })\n",
              "        "
            ],
            "text/plain": [
              "<IPython.core.display.Javascript object>"
            ]
          },
          "metadata": {
            "tags": []
          }
        }
      ]
    },
    {
      "cell_type": "code",
      "metadata": {
        "id": "Da_bYLzAt97n"
      },
      "source": [
        "# Factorize activations in all the layers\n",
        "nmf_1 = output.run_nmf(n_components=10) "
      ],
      "execution_count": 158,
      "outputs": []
    },
    {
      "cell_type": "code",
      "metadata": {
        "colab": {
          "base_uri": "https://localhost:8080/",
          "height": 364
        },
        "id": "s68k04Kh3mUL",
        "outputId": "b45d9c3e-215b-4fb4-9ac4-1d1ce0d346e5"
      },
      "source": [
        "nmf_1.explore()"
      ],
      "execution_count": 159,
      "outputs": [
        {
          "output_type": "display_data",
          "data": {
            "text/html": [
              "<html lang=\"en\">\n",
              "<script src=\"https://requirejs.org/docs/release/2.3.6/minified/require.js\"></script>\n",
              "<script>\n",
              "    var ecco_url = 'https://storage.googleapis.com/ml-intro/ecco/'\n",
              "    // var ecco_url = 'http://localhost:8000/ecco/'\n",
              "\n",
              "    if (window.ecco === undefined) window.ecco = {}\n",
              "\n",
              "    requirejs.config({\n",
              "        urlArgs: \"bust=\" + (new Date()).getTime(),\n",
              "        nodeRequire: require,\n",
              "        paths: {\n",
              "            d3: \"https://d3js.org/d3.v5.min\",\n",
              "            \"d3-array\": \"https://d3js.org/d3-array.v2.min\",\n",
              "            jquery: \"https://code.jquery.com/jquery-3.5.1.min\",\n",
              "            // oldEcco: ecco_url + 'ecco',\n",
              "            ecco: ecco_url + 'js/0.0.4/ecco-bundle.min',\n",
              "            xregexp: 'https://cdnjs.cloudflare.com/ajax/libs/xregexp/3.2.0/xregexp-all.min'\n",
              "        }\n",
              "    });\n",
              "    requirejs(['d3'],\n",
              "        function (d3) {\n",
              "            d3.select('#css').attr('href', ecco_url + 'html/styles.css')\n",
              "        })\n",
              "\n",
              "    console.log('Ecco initialize.')\n",
              "</script>\n",
              "\n",
              "<head>\n",
              "    <link id='css' rel=\"stylesheet\" type=\"text/css\">\n",
              "</head>\n"
            ],
            "text/plain": [
              "<IPython.core.display.HTML object>"
            ]
          },
          "metadata": {
            "tags": []
          }
        },
        {
          "output_type": "display_data",
          "data": {
            "text/html": [
              "<script>\n",
              "    // console.log('defining basic')\n",
              "    define('basic', ['d3'],\n",
              "        function (d3) {\n",
              "            return {\n",
              "                init: function (viz_id = null) {\n",
              "\n",
              "                    // console.log('basic init')\n",
              "                    if (viz_id == null){\n",
              "                        viz_id = \"viz_\" + Math.round(Math.random() * 10000000)\n",
              "                    }\n",
              "                    const div = d3.select('#basic').attr('id', viz_id),\n",
              "                        div_parent = d3.select('#' + viz_id).node().parentNode\n",
              "\n",
              "                    // Link to CSS file\n",
              "                    d3.select(div_parent).insert('link')\n",
              "                        .attr('rel', 'stylesheet')\n",
              "                        .attr('type', 'text/css')\n",
              "                        .attr('href', ecco_url + 'html/styles.css')\n",
              "\n",
              "                    return viz_id\n",
              "                }\n",
              "            }\n",
              "        }, function (err) {console.log(err);}\n",
              "    )\n",
              "    // console.log('after defining basic')\n",
              "\n",
              "</script>\n",
              "<div id=\"basic\"></div>\n"
            ],
            "text/plain": [
              "<IPython.core.display.HTML object>"
            ]
          },
          "metadata": {
            "tags": []
          }
        },
        {
          "output_type": "display_data",
          "data": {
            "application/javascript": [
              "\n",
              "         requirejs(['basic', 'ecco'], function(basic, ecco){\n",
              "            const viz_id = basic.init()\n",
              "            ecco.interactiveTokensAndFactorSparklines(viz_id, {'tokens': [{'token': 'هر', 'token_id': 458, 'type': 'input', 'position': 0}, {'token': ' سال', 'token_id': 415, 'type': 'input', 'position': 1}, {'token': ' ده', 'token_id': 546, 'type': 'input', 'position': 2}, {'token': '\\u200c', 'token_id': 285, 'type': 'input', 'position': 3}, {'token': 'ها', 'token_id': 350, 'type': 'input', 'position': 4}, {'token': ' هزار', 'token_id': 841, 'type': 'input', 'position': 5}, {'token': ' مقاله', 'token_id': 1895, 'type': 'input', 'position': 6}, {'token': ' و', 'token_id': 293, 'type': 'input', 'position': 7}, {'token': ' گزارش', 'token_id': 893, 'type': 'input', 'position': 8}, {'token': ' راجع', 'token_id': 5945, 'type': 'input', 'position': 9}, {'token': ' به', 'token_id': 303, 'type': 'input', 'position': 10}, {'token': ' هوش', 'token_id': 976, 'type': 'input', 'position': 11}, {'token': ' مصنوعی', 'token_id': 2734, 'type': 'input', 'position': 12}, {'token': ' منتشر', 'token_id': 1099, 'type': 'input', 'position': 13}, {'token': ' می', 'token_id': 310, 'type': 'input', 'position': 14}, {'token': '\\u200c', 'token_id': 285, 'type': 'input', 'position': 15}, {'token': 'شود', 'token_id': 431, 'type': 'input', 'position': 16}, {'token': '،', 'token_id': 305, 'type': 'input', 'position': 17}, {'token': ' اما', 'token_id': 492, 'type': 'input', 'position': 18}, {'token': ' اندکی', 'token_id': 4111, 'type': 'input', 'position': 19}, {'token': ' زمان', 'token_id': 701, 'type': 'input', 'position': 20}, {'token': ' می', 'token_id': 310, 'type': 'input', 'position': 21}, {'token': ' برد', 'token_id': 1981, 'type': 'input', 'position': 22}, {'token': ' تا', 'token_id': 399, 'type': 'input', 'position': 23}, {'token': ' پتانسیل', 'token_id': 6111, 'type': 'input', 'position': 24}, {'token': '\\u200c', 'token_id': 285, 'type': 'input', 'position': 25}, {'token': 'های', 'token_id': 325, 'type': 'input', 'position': 26}, {'token': ' مطرح', 'token_id': 2031, 'type': 'input', 'position': 27}, {'token': ' شده', 'token_id': 401, 'type': 'input', 'position': 28}, {'token': ' در', 'token_id': 298, 'type': 'input', 'position': 29}, {'token': ' هرکدام', 'token_id': 6242, 'type': 'input', 'position': 30}, {'token': ' از', 'token_id': 312, 'type': 'input', 'position': 31}, {'token': ' این', 'token_id': 326, 'type': 'input', 'position': 32}, {'token': ' مقالات', 'token_id': 5320, 'type': 'input', 'position': 33}, {'token': ' تأثیری', 'token_id': 11760, 'type': 'input', 'position': 34}, {'token': ' واضح', 'token_id': 5272, 'type': 'input', 'position': 35}, {'token': ' و', 'token_id': 293, 'type': 'input', 'position': 36}, {'token': ' محسوس', 'token_id': 12950, 'type': 'input', 'position': 37}, {'token': ' بر', 'token_id': 327, 'type': 'input', 'position': 38}, {'token': ' دنیای', 'token_id': 2112, 'type': 'input', 'position': 39}, {'token': ' واقعی', 'token_id': 2200, 'type': 'input', 'position': 40}, {'token': ' بگذارند', 'token_id': 6406, 'type': 'input', 'position': 41}, {'token': '.', 'token_id': 24, 'type': 'input', 'position': 42}, {'token': ' در', 'token_id': 298, 'type': 'input', 'position': 43}, {'token': ' این', 'token_id': 326, 'type': 'input', 'position': 44}, {'token': ' بین', 'token_id': 619, 'type': 'input', 'position': 45}, {'token': '،', 'token_id': 305, 'type': 'input', 'position': 46}, {'token': ' بزرگترین', 'token_id': 3070, 'type': 'input', 'position': 47}, {'token': ' سرمایه', 'token_id': 1266, 'type': 'input', 'position': 48}, {'token': '\\u200c', 'token_id': 285, 'type': 'input', 'position': 49}, {'token': 'گذاران', 'token_id': 4830, 'type': 'input', 'position': 50}, {'token': ' روی', 'token_id': 539, 'type': 'input', 'position': 51}, {'token': ' هوش', 'token_id': 976, 'type': 'input', 'position': 52}, {'token': ' مصنوعی', 'token_id': 2734, 'type': 'input', 'position': 53}, {'token': ' یعنی', 'token_id': 1247, 'type': 'input', 'position': 54}, {'token': ' امثال', 'token_id': 13505, 'type': 'input', 'position': 55}, {'token': ' آلفابت', 'token_id': 14405, 'type': 'input', 'position': 56}, {'token': '،', 'token_id': 305, 'type': 'input', 'position': 57}, {'token': ' اپل', 'token_id': 1190, 'type': 'input', 'position': 58}, {'token': '،', 'token_id': 305, 'type': 'input', 'position': 59}, {'token': ' فیسبوک', 'token_id': 3942, 'type': 'input', 'position': 60}, {'token': '،', 'token_id': 305, 'type': 'input', 'position': 61}, {'token': ' باید', 'token_id': 544, 'type': 'input', 'position': 62}, {'token': 'وس', 'token_id': 612, 'type': 'input', 'position': 63}, {'token': ' و', 'token_id': 293, 'type': 'input', 'position': 64}, {'token': ' دیگر', 'token_id': 530, 'type': 'input', 'position': 65}, {'token': ' اسب', 'token_id': 2953, 'type': 'input', 'position': 66}, {'token': '\\u200c', 'token_id': 285, 'type': 'input', 'position': 67}, {'token': 'های', 'token_id': 325, 'type': 'input', 'position': 68}, {'token': ' تک', 'token_id': 1396, 'type': 'input', 'position': 69}, {'token': '\\u200c', 'token_id': 285, 'type': 'input', 'position': 70}, {'token': 'شاخ', 'token_id': 12504, 'type': 'input', 'position': 71}, {'token': ' دنیای', 'token_id': 2112, 'type': 'input', 'position': 72}, {'token': ' تکنولوژی', 'token_id': 2061, 'type': 'input', 'position': 73}, {'token': '،', 'token_id': 305, 'type': 'input', 'position': 74}, {'token': ' بخش', 'token_id': 710, 'type': 'input', 'position': 75}, {'token': ' اعظمی', 'token_id': 15349, 'type': 'input', 'position': 76}, {'token': ' از', 'token_id': 312, 'type': 'input', 'position': 77}, {'token': ' دستاوردهای', 'token_id': 7442, 'type': 'input', 'position': 78}, {'token': ' تکنولوژیک', 'token_id': 17304, 'type': 'input', 'position': 79}, {'token': ' خود', 'token_id': 377, 'type': 'input', 'position': 80}, {'token': ' را', 'token_id': 330, 'type': 'input', 'position': 81}, {'token': ' پشت', 'token_id': 1059, 'type': 'input', 'position': 82}, {'token': ' درهای', 'token_id': 10399, 'type': 'input', 'position': 83}, {'token': ' بسته', 'token_id': 1746, 'type': 'input', 'position': 84}, {'token': ' پنهان', 'token_id': 4811, 'type': 'input', 'position': 85}, {'token': ' می', 'token_id': 310, 'type': 'input', 'position': 86}, {'token': '\\u200c', 'token_id': 285, 'type': 'input', 'position': 87}, {'token': 'کنند', 'token_id': 606, 'type': 'input', 'position': 88}, {'token': '.', 'token_id': 24, 'type': 'input', 'position': 89}, {'token': ' ', 'token_id': 231, 'type': 'input', 'position': 90}, {'token': ' اگر', 'token_id': 574, 'type': 'input', 'position': 91}, {'token': ' بخواهیم', 'token_id': 6385, 'type': 'input', 'position': 92}, {'token': ' واضح', 'token_id': 5272, 'type': 'input', 'position': 93}, {'token': '\\u200c', 'token_id': 285, 'type': 'input', 'position': 94}, {'token': 'تر', 'token_id': 344, 'type': 'input', 'position': 95}, {'token': ' بگوییم', 'token_id': 4676, 'type': 'input', 'position': 96}, {'token': '،', 'token_id': 305, 'type': 'input', 'position': 97}, {'token': ' وقتی', 'token_id': 1277, 'type': 'input', 'position': 98}, {'token': ' صحبت', 'token_id': 1868, 'type': 'input', 'position': 99}, {'token': ' از', 'token_id': 312, 'type': 'input', 'position': 100}, {'token': ' هوش', 'token_id': 976, 'type': 'input', 'position': 101}, {'token': ' مصنوعی', 'token_id': 2734, 'type': 'input', 'position': 102}, {'token': ' باشد', 'token_id': 577, 'type': 'input', 'position': 103}, {'token': '،', 'token_id': 305, 'type': 'input', 'position': 104}, {'token': ' لیست', 'token_id': 2740, 'type': 'input', 'position': 105}, {'token': ' کردن', 'token_id': 714, 'type': 'input', 'position': 106}, {'token': ' مهم', 'token_id': 871, 'type': 'input', 'position': 107}, {'token': '\\u200c', 'token_id': 285, 'type': 'input', 'position': 108}, {'token': 'ترین', 'token_id': 496, 'type': 'input', 'position': 109}, {'token': ' دستاوردها', 'token_id': 20176, 'type': 'input', 'position': 110}, {'token': ' در', 'token_id': 298, 'type': 'input', 'position': 111}, {'token': ' بازه', 'token_id': 4051, 'type': 'input', 'position': 112}, {'token': '\\u200c', 'token_id': 285, 'type': 'input', 'position': 113}, {'token': 'ای', 'token_id': 289, 'type': 'input', 'position': 114}, {'token': ' یک', 'token_id': 367, 'type': 'input', 'position': 115}, {'token': '\\u200c', 'token_id': 285, 'type': 'input', 'position': 116}, {'token': 'ساله', 'token_id': 6857, 'type': 'input', 'position': 117}, {'token': ' کاری', 'token_id': 1379, 'type': 'input', 'position': 118}, {'token': ' آسان', 'token_id': 3109, 'type': 'input', 'position': 119}, {'token': ' به', 'token_id': 303, 'type': 'input', 'position': 120}, {'token': ' حساب', 'token_id': 1650, 'type': 'input', 'position': 121}, {'token': ' نمی', 'token_id': 624, 'type': 'input', 'position': 122}, {'token': '\\u200c', 'token_id': 285, 'type': 'input', 'position': 123}, {'token': 'آید', 'token_id': 1721, 'type': 'input', 'position': 124}, {'token': '؛', 'token_id': 556, 'type': 'input', 'position': 125}, {'token': ' حداقل', 'token_id': 2235, 'type': 'input', 'position': 126}, {'token': ' نه', 'token_id': 995, 'type': 'input', 'position': 127}, {'token': ' به', 'token_id': 303, 'type': 'input', 'position': 128}, {'token': ' آسانی', 'token_id': 7654, 'type': 'input', 'position': 129}, {'token': ' لیست', 'token_id': 2740, 'type': 'input', 'position': 130}, {'token': ' کردن', 'token_id': 714, 'type': 'input', 'position': 131}, {'token': ' بهترین', 'token_id': 1142, 'type': 'input', 'position': 132}, {'token': ' موبایل', 'token_id': 1532, 'type': 'input', 'position': 133}, {'token': '\\u200c', 'token_id': 285, 'type': 'input', 'position': 134}, {'token': 'های', 'token_id': 325, 'type': 'input', 'position': 135}, {'token': ' پرچمدار', 'token_id': 4810, 'type': 'input', 'position': 136}, {'token': ' یا', 'token_id': 421, 'type': 'input', 'position': 137}, {'token': ' بهترین', 'token_id': 1142, 'type': 'input', 'position': 138}, {'token': ' ویژگی', 'token_id': 1413, 'type': 'input', 'position': 139}, {'token': '\\u200c', 'token_id': 285, 'type': 'input', 'position': 140}, {'token': 'های', 'token_id': 325, 'type': 'input', 'position': 141}, {'token': ' اضافه', 'token_id': 1469, 'type': 'input', 'position': 142}, {'token': ' شده', 'token_id': 401, 'type': 'input', 'position': 143}, {'token': ' به', 'token_id': 303, 'type': 'input', 'position': 144}, {'token': ' تازه', 'token_id': 1903, 'type': 'input', 'position': 145}, {'token': '\\u200c', 'token_id': 285, 'type': 'input', 'position': 146}, {'token': 'ترین', 'token_id': 496, 'type': 'input', 'position': 147}, {'token': ' ورژن', 'token_id': 10005, 'type': 'input', 'position': 148}, {'token': ' از', 'token_id': 312, 'type': 'input', 'position': 149}, {'token': ' iOS', 'token_id': 3658, 'type': 'input', 'position': 150}, {'token': '.', 'token_id': 24, 'type': 'input', 'position': 151}, {'token': ' ', 'token_id': 231, 'type': 'input', 'position': 152}, {'token': ' اما', 'token_id': 492, 'type': 'input', 'position': 153}, {'token': ' هرطور', 'token_id': 39899, 'type': 'input', 'position': 154}, {'token': ' که', 'token_id': 323, 'type': 'input', 'position': 155}, {'token': ' به', 'token_id': 303, 'type': 'input', 'position': 156}, {'token': ' موضوع', 'token_id': 964, 'type': 'input', 'position': 157}, {'token': ' نگاه', 'token_id': 1624, 'type': 'input', 'position': 158}, {'token': ' کنیم', 'token_id': 1085, 'type': 'input', 'position': 159}, {'token': '،', 'token_id': 305, 'type': 'input', 'position': 160}, {'token': ' هوش', 'token_id': 976, 'type': 'input', 'position': 161}, {'token': ' مصنوعی', 'token_id': 2734, 'type': 'input', 'position': 162}, {'token': ' بدون', 'token_id': 1042, 'type': 'input', 'position': 163}, {'token': ' تردید', 'token_id': 6746, 'type': 'input', 'position': 164}, {'token': ' نقشی', 'token_id': 6806, 'type': 'input', 'position': 165}, {'token': ' بزرگ', 'token_id': 745, 'type': 'input', 'position': 166}, {'token': ' در', 'token_id': 298, 'type': 'input', 'position': 167}, {'token': ' سال', 'token_id': 415, 'type': 'input', 'position': 168}, {'token': ' ۲۰۲۰', 'token_id': 3668, 'type': 'input', 'position': 169}, {'token': ' میلادی', 'token_id': 1547, 'type': 'input', 'position': 170}, {'token': ' ایفا', 'token_id': 4912, 'type': 'input', 'position': 171}, {'token': ' کرده', 'token_id': 501, 'type': 'input', 'position': 172}, {'token': ' است', 'token_id': 329, 'type': 'input', 'position': 173}, {'token': '.', 'token_id': 24, 'type': 'input', 'position': 174}, {'token': ' بنابراین', 'token_id': 1504, 'type': 'input', 'position': 175}, {'token': ' بیایید', 'token_id': 7496, 'type': 'input', 'position': 176}, {'token': ' به', 'token_id': 303, 'type': 'input', 'position': 177}, {'token': ' مرور', 'token_id': 2550, 'type': 'input', 'position': 178}, {'token': ' شش', 'token_id': 2606, 'type': 'input', 'position': 179}, {'token': ' دستاورد', 'token_id': 8149, 'type': 'input', 'position': 180}, {'token': ' بزرگ', 'token_id': 745, 'type': 'input', 'position': 181}, {'token': ' هوش', 'token_id': 976, 'type': 'input', 'position': 182}, {'token': ' مصنوعی', 'token_id': 2734, 'type': 'input', 'position': 183}, {'token': ' در', 'token_id': 298, 'type': 'input', 'position': 184}, {'token': ' سالی', 'token_id': 4029, 'type': 'input', 'position': 185}, {'token': ' که', 'token_id': 323, 'type': 'input', 'position': 186}, {'token': ' اکنون', 'token_id': 1801, 'type': 'input', 'position': 187}, {'token': ' به', 'token_id': 303, 'type': 'input', 'position': 188}, {'token': ' روزهای', 'token_id': 2897, 'type': 'input', 'position': 189}, {'token': ' آخرش', 'token_id': 16847, 'type': 'input', 'position': 190}, {'token': ' نزدیک', 'token_id': 1460, 'type': 'input', 'position': 191}, {'token': ' شده', 'token_id': 401, 'type': 'input', 'position': 192}, {'token': ' بپردازیم', 'token_id': 7984, 'type': 'input', 'position': 193}, {'token': '.', 'token_id': 24, 'type': 'input', 'position': 194}, {'token': ' ', 'token_id': 231, 'type': 'input', 'position': 195}, {'token': ' در', 'token_id': 298, 'type': 'input', 'position': 196}, {'token': ' یک', 'token_id': 367, 'type': 'input', 'position': 197}, {'token': ' سال', 'token_id': 415, 'type': 'input', 'position': 198}, {'token': ' معمولی', 'token_id': 3350, 'type': 'input', 'position': 199}, {'token': '،', 'token_id': 305, 'type': 'input', 'position': 200}, {'token': ' ابزاری', 'token_id': 6048, 'type': 'input', 'position': 201}, {'token': ' که', 'token_id': 323, 'type': 'input', 'position': 202}, {'token': ' کارش', 'token_id': 6853, 'type': 'input', 'position': 203}, {'token': ' تولید', 'token_id': 667, 'type': 'input', 'position': 204}, {'token': ' متن', 'token_id': 1555, 'type': 'input', 'position': 205}, {'token': ' است', 'token_id': 329, 'type': 'input', 'position': 206}, {'token': ' به', 'token_id': 303, 'type': 'input', 'position': 207}, {'token': ' هیچ', 'token_id': 917, 'type': 'input', 'position': 208}, {'token': '\\u200c', 'token_id': 285, 'type': 'input', 'position': 209}, {'token': 'وجه', 'token_id': 8362, 'type': 'input', 'position': 210}, {'token': ' جزء', 'token_id': 5953, 'type': 'input', 'position': 211}, {'token': ' هیجان', 'token_id': 3814, 'type': 'input', 'position': 212}, {'token': '\\u200c', 'token_id': 285, 'type': 'input', 'position': 213}, {'token': 'انگیزترین', 'token_id': 20502, 'type': 'input', 'position': 214}, {'token': ' دستاوردهای', 'token_id': 7442, 'type': 'input', 'position': 215}, {'token': ' حوزه', 'token_id': 1403, 'type': 'input', 'position': 216}, {'token': ' هوش', 'token_id': 976, 'type': 'input', 'position': 217}, {'token': ' مصنوعی', 'token_id': 2734, 'type': 'output', 'position': 218}], 'factors': [[[0.0, 0.0, 0.0, 0.0, 0.0389832928776741, 0.05167125537991524, 0.0, 0.25731295347213745, 0.0, 0.02109987661242485, 0.2076764553785324, 0.0, 0.0, 0.0, 0.0, 0.0, 0.0, 0.0, 0.001827308558858931, 0.0, 0.0, 0.0, 0.0, 0.06675779819488525, 0.14584611356258392, 0.029074711725115776, 0.08292340487241745, 0.012337341904640198, 0.0, 0.1741565465927124, 0.07173352688550949, 0.5770696401596069, 0.4868057370185852, 0.0, 0.0, 0.0, 0.022172661498188972, 0.0, 0.17552435398101807, 0.09056130051612854, 0.0, 0.0, 0.0, 0.06337012350559235, 0.18615403771400452, 0.042412228882312775, 0.0356333889067173, 0.5228452682495117, 0.0, 0.0, 0.0, 0.14349666237831116, 0.0, 0.0, 0.014645890332758427, 0.0, 0.0, 0.0, 0.0, 0.0, 0.0, 0.0, 0.01825721748173237, 0.0, 0.0, 0.5055509209632874, 0.0019276444800198078, 0.0, 0.0, 0.05494506284594536, 0.0, 0.0, 0.024342525750398636, 0.0, 0.0024876787792891264, 0.1814815104007721, 0.1211712583899498, 0.2750230133533478, 0.0, 0.0, 0.0, 0.0298396535217762, 0.26215213537216187, 0.025175118818879128, 0.0, 0.0, 0.0, 0.0, 0.0, 0.0, 0.0, 0.0, 0.0, 0.0, 0.0, 0.0, 0.0, 0.0, 0.014392905868589878, 0.05880105122923851, 0.25375252962112427, 0.0, 0.0, 0.0, 0.0005583259626291692, 0.617974579334259, 0.7412024140357971, 0.35781317949295044, 0.13029927015304565, 0.9851645231246948, 0.0, 0.164781853556633, 0.15456701815128326, 0.008740951307117939, 0.027984226122498512, 0.05049549788236618, 0.0, 0.0, 0.023060470819473267, 0.0, 0.0, 0.0, 0.0, 0.0, 0.0, 0.09204355627298355, 0.05044650286436081, 0.051632922142744064, 0.06655896455049515, 0.18660935759544373, 0.4239736497402191, 0.6251664161682129, 0.9322993159294128, 0.00529787503182888, 0.0, 0.0, 0.0, 0.27514222264289856, 0.6725965738296509, 0.05490022525191307, 0.0, 0.023620693013072014, 0.0, 0.0, 0.19405782222747803, 0.16339769959449768, 0.023623649030923843, 0.6405476331710815, 0.14280594885349274, 0.2843170762062073, 0.0, 0.005417569074779749, 0.0, 0.04799319803714752, 0.0, 0.0, 0.0, 0.0, 0.0, 0.0, 0.011562916450202465, 0.0, 0.06935787945985794, 0.21317511796951294, 0.21642322838306427, 0.11297827214002609, 0.007603618316352367, 0.251479834318161, 0.051964182406663895, 0.0, 0.0, 0.004682713188230991, 0.003931994549930096, 0.022339507937431335, 0.0031286445446312428, 0.0, 0.0, 0.07534128427505493, 0.27130571007728577, 0.5416988134384155, 0.0, 0.0, 0.0, 0.0, 0.04214169457554817, 0.0, 0.0, 0.0, 0.02803497016429901, 0.0, 0.0, 0.0, 0.0, 0.0, 0.011444286443293095, 0.0, 0.051300298422575, 0.14311583340168, 0.0, 0.0, 0.05934586375951767, 0.05233915522694588, 0.05185452476143837, 0.18290631473064423, 0.5269215703010559, 0.17782612144947052, 0.10976967215538025, 0.1881657987833023, 0.2868414521217346, 0.11732560396194458, 0.26134946942329407, 0.7253008484840393, 0.08226673305034637, 0.008479545824229717, 0.9242714047431946, 0.0, 0.11777501553297043, 0.0, 0.0], [0.04465315118432045, 0.0, 0.0, 0.0, 0.0, 0.0, 0.05943992733955383, 0.0, 0.02031438611447811, 0.07079578191041946, 0.033250801265239716, 1.5401990413665771, 0.7273367047309875, 0.06625092029571533, 0.02427692711353302, 0.031956788152456284, 0.014787783846259117, 0.0, 0.0, 0.0, 0.00579764973372221, 0.010884908027946949, 0.003546688240021467, 0.0, 0.18943770229816437, 0.04781854897737503, 0.162400022149086, 0.09780129045248032, 0.051117051392793655, 0.020457372069358826, 0.0725732073187828, 0.0, 0.0065450421534478664, 0.06454187631607056, 0.0, 0.0, 0.0, 0.0, 0.017369983717799187, 0.43540045619010925, 0.1919867843389511, 0.0, 0.0, 0.0, 0.0015747877769172192, 0.0, 0.0, 0.0, 0.023554794490337372, 0.0, 0.03670415282249451, 0.10220705717802048, 1.6251862049102783, 0.5752202868461609, 0.0, 0.0, 0.13917790353298187, 0.0, 0.12863819301128387, 0.0, 0.16625574231147766, 0.0, 0.0, 0.05460260063409805, 0.0, 0.0, 0.357178658246994, 0.09057365357875824, 0.32140475511550903, 0.16440032422542572, 0.0, 0.19674359261989594, 0.4199453890323639, 0.27811336517333984, 0.0, 0.06316006928682327, 0.0, 0.0, 0.010257151909172535, 0.1841878890991211, 0.06514038890600204, 0.04773882403969765, 0.004216912668198347, 0.06803591549396515, 0.03501274064183235, 0.03025013953447342, 0.012003141455352306, 0.0, 0.0, 0.0, 0.0, 0.004202946554869413, 0.0, 0.0, 0.0, 0.0, 0.0, 0.0, 0.014488446526229382, 0.08163046091794968, 0.10156448185443878, 1.6222259998321533, 0.748431384563446, 0.026708532124757767, 0.0, 0.0, 0.013119610957801342, 0.0, 0.0, 0.0, 0.02553274855017662, 0.0, 0.0, 0.0, 0.0, 0.0, 0.0, 0.0, 0.005429800134152174, 0.0, 0.0, 0.030102873221039772, 0.0, 0.0, 0.0, 0.0, 0.0, 0.0, 0.0, 0.0, 0.031062833964824677, 0.0, 0.0, 0.032887496054172516, 0.0, 0.0, 0.0, 0.0, 0.0, 0.0, 0.0, 0.0, 0.0, 0.0, 0.0, 0.0, 0.0, 0.0, 0.0, 0.0, 0.06436415016651154, 0.0, 0.006211204454302788, 0.0, 0.0, 0.0, 0.0, 0.08202065527439117, 0.07211660593748093, 0.0, 0.0, 1.4295873641967773, 0.5739235877990723, 0.13786247372627258, 0.0605236254632473, 0.0, 0.0, 0.02401999570429325, 0.05403516814112663, 0.03147612512111664, 0.0003033366519957781, 0.0, 0.0, 0.0, 0.0, 0.0, 0.0, 0.0, 0.0, 0.0, 0.05991251394152641, 0.0, 1.5210920572280884, 0.5586520433425903, 0.0288332961499691, 0.0878724679350853, 0.00963361095637083, 0.0, 0.0, 0.0, 0.0, 0.0, 0.03691845387220383, 0.0, 0.0, 0.029467884451150894, 0.0, 0.0005633205291815102, 0.0, 0.0, 0.0022179691586643457, 0.15820194780826569, 0.09461069852113724, 0.21518683433532715, 0.30396169424057007, 0.32131701707839966, 0.0866575688123703, 0.049838438630104065, 0.0, 0.0, 0.028908468782901764, 0.0, 0.17878997325897217, 0.04046162590384483, 0.0, 0.13778777420520782, 0.31815558671951294, 1.5511397123336792, 1.5511397123336792], [0.04047498106956482, 0.08685029298067093, 0.0, 0.0, 0.0, 0.0, 0.0, 0.0, 0.0, 0.06380807608366013, 0.048008956015110016, 0.0, 0.0, 0.0, 0.0, 0.0, 0.15146997570991516, 0.2555634379386902, 0.3440439999103546, 0.166865736246109, 0.02379053272306919, 0.0, 0.2636808753013611, 0.3318542242050171, 0.03128353878855705, 0.0, 0.0, 0.0, 0.04678778350353241, 0.05185417830944061, 0.08794725686311722, 0.002151857130229473, 0.02881965972483158, 0.05098544806241989, 0.0, 0.0, 0.0, 0.0, 0.016245627775788307, 0.0, 0.0, 0.15836389362812042, 0.22445455193519592, 0.2107396274805069, 0.1731887012720108, 0.4014800190925598, 0.38720616698265076, 0.08526390045881271, 0.023173781111836433, 0.0, 0.02540288120508194, 0.11838783323764801, 0.0, 0.07073958218097687, 0.015301251783967018, 0.005081910640001297, 0.057671919465065, 0.0, 0.0, 0.0, 0.012790570966899395, 0.0, 0.1891067773103714, 0.01030360534787178, 0.0, 0.0, 0.0, 0.0, 0.0, 0.0, 0.0, 0.0004771618405357003, 0.0, 0.06476779282093048, 0.1553705483675003, 0.015476859174668789, 0.019419781863689423, 0.0356316901743412, 0.0, 0.0, 0.023824337869882584, 0.057649824768304825, 0.0038126977160573006, 0.0, 0.0, 0.0, 0.002463985700160265, 0.0, 0.11620031297206879, 0.24604849517345428, 0.0, 0.39173445105552673, 0.7970678806304932, 0.5829179286956787, 0.293885737657547, 0.7182683348655701, 0.77298903465271, 0.49504268169403076, 0.42017996311187744, 0.4398961067199707, 0.2869652509689331, 0.0, 0.10565944015979767, 0.6207095980644226, 0.6183021068572998, 0.0935974046587944, 0.06718985736370087, 0.0, 0.01152257900685072, 0.0, 0.07557403296232224, 0.054757773876190186, 0.03211569786071777, 0.021239574998617172, 0.0, 0.0, 0.0, 0.07508521527051926, 0.045941468328237534, 0.0, 0.0, 0.0, 0.0, 0.0, 0.19145479798316956, 0.2775093913078308, 0.3571106493473053, 0.20624332129955292, 0.0563783273100853, 0.1551581621170044, 0.012984948232769966, 0.0653936043381691, 0.0, 0.0, 0.0, 0.0, 0.0, 0.0, 0.0, 0.0, 0.0, 0.0, 0.0, 0.01265883818268776, 0.0, 0.0, 0.0, 0.0, 0.0, 0.0, 0.029078923165798187, 0.2967977523803711, 0.0, 0.45871272683143616, 0.4287324845790863, 0.4704863131046295, 0.30866602063179016, 0.3572061061859131, 0.3632848560810089, 0.8189705610275269, 0.6294815540313721, 0.0012312268372625113, 0.21633380651474, 0.12833131849765778, 0.2796488106250763, 0.0, 0.0, 0.029511848464608192, 0.0, 0.0, 0.0, 0.0, 0.08101598918437958, 0.19009840488433838, 0.3004223704338074, 0.48100703954696655, 0.7236307859420776, 0.48506462574005127, 0.5329397320747375, 0.23194657266139984, 0.1469089686870575, 0.16067110002040863, 0.0, 0.18008965253829956, 0.0970911756157875, 0.05595199018716812, 0.15025968849658966, 0.10477034002542496, 0.0, 0.0, 0.0, 0.0, 0.2555140554904938, 0.48196855187416077, 0.33499976992607117, 0.0, 0.2425786405801773, 0.19735164940357208, 0.08123593032360077, 0.22391609847545624, 0.34869953989982605, 0.05436002463102341, 0.20118282735347748, 0.10134138911962509, 0.0, 0.0, 0.17191161215305328, 0.03677595406770706, 0.0, 0.0, 0.1288214921951294, 0.0, 0.0, 0.0, 0.0, 0.0, 0.0, 0.0, 0.0], [0.0, 0.0, 0.0, 0.0, 0.0, 0.0, 0.1745818704366684, 0.0, 0.16696381568908691, 0.13567417860031128, 0.013985753990709782, 0.0, 0.13790260255336761, 0.21900257468223572, 0.026878798380494118, 0.07692351192235947, 0.061814241111278534, 0.0, 0.0, 0.12066002190113068, 0.1940702199935913, 0.03172145038843155, 0.1089988723397255, 0.10243146121501923, 0.16511304676532745, 0.09686874598264694, 0.1377723067998886, 0.19517561793327332, 0.41928374767303467, 0.05602443963289261, 0.4669700264930725, 0.04954010993242264, 0.03266987204551697, 0.45752888917922974, 1.051405429840088, 1.1061893701553345, 0.7843966484069824, 1.0852566957473755, 0.33831787109375, 0.08146953582763672, 0.5137521028518677, 0.11885396391153336, 0.0, 0.0, 0.004055188503116369, 0.0, 0.0, 0.0, 0.10289384424686432, 0.04214238375425339, 0.06089932844042778, 0.016734858974814415, 0.0, 0.11332838982343674, 0.0, 0.0, 0.10711441189050674, 0.0, 0.05979199334979057, 0.0, 0.09027957916259766, 0.0, 0.17366261780261993, 0.09453708678483963, 0.0, 0.0, 0.011063958518207073, 0.0, 0.0, 0.0, 0.0, 0.20089462399482727, 0.007807085756212473, 0.1953585147857666, 0.12177278101444244, 0.13334763050079346, 0.3859595060348511, 0.17730103433132172, 0.09112615883350372, 0.11456874012947083, 0.2095981240272522, 0.30183589458465576, 0.21846729516983032, 0.1831885427236557, 0.5155091881752014, 0.45917683839797974, 0.052964113652706146, 0.26675939559936523, 0.09995266795158386, 0.0, 0.0, 0.0, 0.047273777425289154, 0.4251074492931366, 0.2476259022951126, 0.40064093470573425, 0.0, 0.0, 0.0, 0.08782720565795898, 0.0, 0.0, 0.1010480523109436, 0.0, 0.0, 0.0, 0.0, 0.1047593355178833, 0.027176283299922943, 0.0, 0.13336561620235443, 0.0, 0.0020576196257025003, 0.0, 0.16580429673194885, 0.05108529329299927, 0.0, 0.20163145661354065, 0.21706146001815796, 0.288188099861145, 0.007307225372642279, 0.031107716262340546, 0.0250589270144701, 0.01275676116347313, 0.028834009543061256, 0.0, 0.00928716640919447, 0.0, 0.0, 0.036038707941770554, 0.0, 0.0, 0.0, 0.0, 0.0, 0.0, 0.0, 0.0, 0.0, 0.0, 0.0, 0.0, 0.08339101076126099, 0.07824192941188812, 0.0, 0.00864570401608944, 0.0, 0.0, 0.0, 0.0, 0.03362403064966202, 0.0, 0.0, 0.0, 0.0, 0.010251449421048164, 0.0, 0.019038932397961617, 0.10624637454748154, 0.0, 0.0, 0.0, 0.02582639269530773, 0.0, 0.11021607369184494, 0.6760910153388977, 0.6793335676193237, 0.13503658771514893, 0.007194031961262226, 0.23251309990882874, 0.288104772567749, 0.33590516448020935, 0.09361626952886581, 0.01810881868004799, 0.0, 0.0, 0.03176061436533928, 0.0, 0.030302904546260834, 0.0, 0.06777545809745789, 0.10163422673940659, 0.0, 0.11546176671981812, 0.0, 0.14273859560489655, 0.0, 0.0, 0.0, 0.0, 0.0, 0.04473727568984032, 0.09394452720880508, 0.0, 0.0, 0.0, 0.0, 0.0, 0.0, 0.0, 0.0, 0.12667717039585114, 0.0, 0.0885111540555954, 0.0, 0.04209299385547638, 0.03018239699304104, 0.0, 0.0, 0.0, 0.08554467558860779, 0.04953128844499588, 0.07724567502737045, 0.01463050302118063, 0.0213308185338974, 0.0, 0.0, 0.0, 0.0], [0.0, 0.0, 0.0, 0.0, 0.0, 0.0, 0.0, 0.025755897164344788, 0.0, 0.0, 0.045874886214733124, 0.0, 0.0, 0.0, 0.008690961636602879, 0.0019797533750534058, 0.006271644029766321, 0.15869642794132233, 0.1642024964094162, 0.05029218643903732, 0.0, 0.008777376264333725, 0.014514933340251446, 0.14861510694026947, 0.14321155846118927, 0.07590383291244507, 0.16357122361660004, 0.05452634394168854, 0.06287278234958649, 0.18118268251419067, 0.005860454402863979, 0.0954083725810051, 0.09225784242153168, 0.008735689334571362, 0.0, 0.0, 0.0, 0.0, 0.12565916776657104, 0.16702388226985931, 0.02292357012629509, 0.0075993845239281654, 0.17063851654529572, 0.06044883653521538, 0.02822980284690857, 0.27110710740089417, 0.2914012670516968, 0.19231685996055603, 0.22632533311843872, 0.16662068665027618, 0.5038667917251587, 0.3808630704879761, 0.009881541132926941, 0.3092441260814667, 1.1933783292770386, 1.1588793992996216, 0.4838138520717621, 1.1873191595077515, 0.4440177381038666, 1.2367674112319946, 0.35954004526138306, 1.193796992301941, 0.3844605088233948, 0.37414854764938354, 1.1806646585464478, 0.5903279185295105, 0.15684087574481964, 0.12892577052116394, 0.2695196866989136, 0.017884716391563416, 0.0, 0.23270922899246216, 0.2724786698818207, 0.22306561470031738, 0.41929760575294495, 0.28533193469047546, 0.1794268935918808, 0.3049161732196808, 0.25140801072120667, 0.16726738214492798, 0.1023150235414505, 0.16878342628479004, 0.20889875292778015, 0.09051156789064407, 0.06318599730730057, 0.013658443465828896, 0.016241177916526794, 0.06029883399605751, 0.03077465482056141, 0.22686021029949188, 0.0, 0.2172628492116928, 0.0, 0.0, 0.0, 0.0, 0.12827007472515106, 0.28113657236099243, 0.20474028587341309, 0.04563574120402336, 0.2165694236755371, 0.0, 0.0, 0.020326433703303337, 0.17568986117839813, 0.03897322341799736, 0.008923348039388657, 0.0, 0.0, 0.0, 0.0, 0.03889938443899155, 0.02876773104071617, 0.0012311919126659632, 0.0, 0.0, 0.0, 0.0, 0.0, 0.0, 0.0, 0.0, 0.0, 0.0, 0.0, 0.040584880858659744, 0.0, 0.0, 0.007015481125563383, 0.01639442890882492, 0.0, 0.013307713903486729, 0.0, 0.0, 0.0, 0.0, 0.0, 0.04974696412682533, 0.015381929464638233, 0.0, 0.0, 0.0, 0.0, 0.0, 0.0, 0.0, 0.0, 0.0, 0.0, 0.011072504334151745, 0.0, 0.06618978083133698, 0.0, 0.08888617902994156, 0.0, 0.0, 0.0, 0.0, 0.0, 0.0, 0.09510710090398788, 0.0, 0.05092395097017288, 0.10300863534212112, 0.05260113626718521, 0.0, 0.0, 0.14241333305835724, 0.09872852265834808, 0.08370755612850189, 0.0472029484808445, 0.002121047815307975, 0.02049815095961094, 0.01877514086663723, 0.1293572038412094, 0.05818427354097366, 0.0, 0.0, 0.0, 0.0, 0.04909488186240196, 0.08858338743448257, 0.0, 0.0, 0.06474847346544266, 0.0, 0.09011615812778473, 0.09604338556528091, 0.03836115077137947, 0.0, 0.0, 0.0, 0.0, 0.0, 0.11705490201711655, 0.0, 0.014476346783339977, 0.0, 0.0, 0.010791820473968983, 0.12386217713356018, 0.05287652835249901, 0.13249312341213226, 0.03702722117304802, 0.05859639123082161, 0.0, 0.020553240552544594, 0.06249130517244339, 0.0, 0.0, 0.005225697066634893, 0.0015450246864929795, 0.0, 0.0, 0.0, 0.05710629001259804, 0.1251152753829956, 0.0, 0.0], [0.0, 0.0060430471785366535, 0.0, 0.0, 0.0, 0.0, 0.1547992080450058, 0.0, 0.171248659491539, 0.058960434049367905, 0.08583441376686096, 0.0, 0.09056289494037628, 0.03109041601419449, 0.0, 0.0, 0.01168955396860838, 0.0, 0.006199451629072428, 0.0, 0.0, 0.0, 0.0, 0.01786321960389614, 0.2059308886528015, 0.1500164121389389, 0.41374969482421875, 0.2679852247238159, 0.27889829874038696, 0.27717605233192444, 0.11561661958694458, 0.05323992297053337, 0.008691195398569107, 0.2020750194787979, 0.0, 0.0, 0.0, 0.0, 0.034947242587804794, 0.3013627231121063, 0.15650637447834015, 0.02131090871989727, 0.02103479951620102, 0.11089211702346802, 0.01081389095634222, 0.0, 0.0, 0.0, 0.27210691571235657, 0.10956434905529022, 0.31837227940559387, 0.08617620170116425, 0.0, 0.0, 0.0, 0.0, 0.0, 0.0, 0.015123449265956879, 0.0, 0.0, 0.0, 0.0, 0.0, 0.0, 0.0, 0.015699921175837517, 0.0, 0.20739884674549103, 0.0, 0.0, 0.13966891169548035, 0.29280829429626465, 0.0532529279589653, 0.0, 0.045696720480918884, 0.0, 0.0, 0.6132872104644775, 0.4642932415008545, 0.17187783122062683, 0.08494706451892853, 0.0, 0.1372898370027542, 0.14765650033950806, 0.007072612177580595, 0.0, 0.0, 0.02488604187965393, 0.03170816972851753, 0.0, 0.02577396109700203, 0.0, 0.0, 0.0, 0.0, 0.0, 0.006218187510967255, 0.03765098750591278, 0.0038214675150811672, 0.06135932728648186, 0.0, 0.027989879250526428, 0.0, 0.0, 0.0, 0.0, 0.01724536158144474, 0.05596877634525299, 0.0, 0.34202438592910767, 0.31859084963798523, 0.1735289841890335, 0.07293520122766495, 0.0729956179857254, 0.0, 0.0, 0.058978378772735596, 0.020886491984128952, 0.0, 0.0, 0.0, 0.0, 0.0, 0.0007240427075885236, 0.004900150001049042, 0.026511017233133316, 0.0, 0.0, 0.04217008873820305, 0.0480426549911499, 0.027214912697672844, 0.0060246530920267105, 0.6467710733413696, 0.3956632912158966, 0.8667893409729004, 0.6832785606384277, 0.3489840030670166, 0.29255154728889465, 0.7085409760475159, 0.4674629867076874, 0.8553178310394287, 0.4840604066848755, 0.5323773622512817, 0.4411521852016449, 0.3325031101703644, 0.2476603388786316, 0.34963804483413696, 0.6593136191368103, 0.5467184782028198, 0.2722621262073517, 0.07766591757535934, 0.0, 0.02816377766430378, 0.0, 0.0, 0.0, 0.061832938343286514, 0.0, 0.0, 0.0442662313580513, 0.0, 0.07645173370838165, 0.0, 0.032538894563913345, 0.0, 0.058446917682886124, 0.21685628592967987, 0.19616352021694183, 0.18996940553188324, 0.165039524435997, 0.01917773298919201, 0.06034384295344353, 0.05969908460974693, 0.1089283749461174, 0.04464757442474365, 0.0, 0.007003579754382372, 0.0, 0.0, 0.6844903826713562, 0.7346139550209045, 0.015916593372821808, 0.30672910809516907, 0.43664276599884033, 0.13517510890960693, 0.17148418724536896, 0.11377346515655518, 0.05163727328181267, 0.17662493884563446, 0.04342302680015564, 0.0, 0.02800217643380165, 0.04403850436210632, 0.12380943447351456, 0.0, 0.1699092835187912, 0.024798693135380745, 0.18928278982639313, 0.23655752837657928, 0.10899604856967926, 0.14101529121398926, 0.15613356232643127, 0.0, 0.0, 0.04537384957075119, 0.03714904561638832, 0.005229146685451269, 0.0, 0.0, 0.019143138080835342, 0.0, 0.08267994225025177, 0.07609318196773529, 0.0, 0.7626792192459106, 0.3513638377189636, 0.0, 0.0], [0.17459605634212494, 0.0, 0.06537389010190964, 0.6833633780479431, 0.0, 0.0, 0.0, 0.0, 0.0, 0.0, 0.0, 0.0, 0.0, 0.0, 0.0, 0.11711958050727844, 0.0, 0.0, 0.0, 0.013237472623586655, 0.02280307374894619, 0.017957985401153564, 0.0, 0.0, 0.0, 0.40972867608070374, 0.0, 0.02088172361254692, 0.0, 0.0, 0.0, 0.0, 0.05187712982296944, 0.0, 0.0, 0.0, 0.21089714765548706, 0.0, 0.0, 0.0, 0.0, 0.0, 0.0, 0.0, 0.038351621478796005, 0.0, 0.0, 0.0, 0.1387951672077179, 0.5420678853988647, 0.01619267649948597, 0.0, 0.0, 0.0, 0.0, 0.0, 0.0, 0.0, 0.02560783550143242, 0.0, 0.0038389775436371565, 0.0, 0.004132810980081558, 0.10075072199106216, 0.0, 0.0, 0.5840738415718079, 1.0885075330734253, 0.5222513675689697, 0.9900389313697815, 1.5903747081756592, 0.1974935233592987, 0.023100612685084343, 0.0, 0.0, 0.06539809703826904, 0.04535119980573654, 0.020962636917829514, 0.0, 0.0, 0.0012148416135460138, 0.0, 0.08345607668161392, 0.16515274345874786, 0.01968264766037464, 0.0044713690876960754, 0.03691043704748154, 0.25143110752105713, 0.016762910410761833, 0.0, 0.0, 0.0, 0.019724490121006966, 0.03595700114965439, 0.5394142270088196, 0.019672095775604248, 0.0, 0.0, 0.0, 0.0007596493232995272, 0.0, 0.0, 0.0, 0.0, 0.0, 0.0, 0.0, 0.13558831810951233, 0.6253993511199951, 0.0, 0.0, 0.010444290935993195, 0.11835417151451111, 0.5281598567962646, 0.2149064540863037, 0.8267276883125305, 1.2662497758865356, 0.012264636345207691, 0.0, 0.0, 0.0, 0.0, 0.074116550385952, 0.21650449931621552, 0.021032441407442093, 0.00465177558362484, 0.016848484054207802, 0.09480636566877365, 0.058765001595020294, 0.0, 0.0, 0.0, 0.0, 0.0837516039609909, 0.45111164450645447, 0.05329408496618271, 0.0, 0.049374550580978394, 0.0, 0.0, 0.34201836585998535, 0.0, 0.010928566567599773, 0.0, 0.0, 0.12304079532623291, 0.551660418510437, 0.0, 0.0, 0.0, 0.0, 0.0, 0.0, 0.0, 0.004817667417228222, 0.008522886782884598, 0.0, 0.0, 0.0, 0.0, 0.0, 0.0, 0.0, 0.05447052791714668, 0.0, 0.04604212939739227, 0.03327266499400139, 0.0, 0.026181628927588463, 0.0, 0.0, 0.0, 0.0, 0.01109134592115879, 0.0, 0.0, 0.028675472363829613, 0.0, 0.0, 0.15205295383930206, 0.0, 0.0, 0.0, 0.0, 0.0, 0.0, 0.0, 0.0, 0.0, 0.0, 0.0, 0.0, 0.0, 0.0, 0.0, 0.0, 0.008543439209461212, 0.2433745563030243, 0.03790862858295441, 0.0, 0.0, 0.012881780974566936, 0.0, 0.0, 0.0, 0.027364911511540413, 0.0, 0.0, 0.17111286520957947, 0.7014391422271729, 0.0036086426116526127, 0.0, 0.1582627296447754, 0.5398176908493042, 0.0, 0.0, 0.0, 0.0, 0.0], [0.01606942154467106, 0.18430303037166595, 0.0, 0.0, 0.0, 0.0, 0.0, 0.0, 0.0, 0.03806814178824425, 0.0, 0.0, 0.0, 0.12682363390922546, 0.16093029081821442, 0.12198193371295929, 0.034307945519685745, 0.0, 0.0, 0.17340421676635742, 0.3951360881328583, 0.2054634690284729, 0.06553316116333008, 0.0, 0.0, 0.0, 0.0, 0.0, 0.0, 0.0, 0.0, 0.0, 0.0, 0.0, 0.0, 0.0, 0.024493670091032982, 0.0, 0.14488665759563446, 0.09912709891796112, 0.0009062399622052908, 0.053090233355760574, 0.0, 0.04860958456993103, 0.030811013653874397, 0.0, 0.0, 0.0, 0.0015993124106898904, 0.0, 0.0, 0.015932483598589897, 0.0, 0.0, 0.0, 0.006761179771274328, 0.0, 0.0, 0.012854182161390781, 0.0, 0.0038081577513366938, 0.0, 0.0, 0.027861211448907852, 0.0, 0.0, 0.0, 0.0, 0.0, 0.0, 0.0, 0.0, 0.1411944329738617, 0.0, 0.0, 0.033895667642354965, 0.0, 0.0, 0.0, 0.0, 0.0, 0.0, 0.14096735417842865, 0.3244544267654419, 0.09052922576665878, 0.13588552176952362, 0.19965460896492004, 0.08197063207626343, 0.06683650612831116, 0.0, 0.0, 0.0, 0.0, 0.0, 0.0, 0.0, 0.0, 0.0, 0.0, 0.07492049783468246, 0.0, 0.0, 0.11113569140434265, 0.02063245326280594, 0.0, 0.03331528231501579, 0.0, 0.019863709807395935, 0.0, 0.0, 0.13878431916236877, 0.149375319480896, 0.280863881111145, 0.13362519443035126, 0.35532304644584656, 0.1954927146434784, 0.08299227058887482, 0.36414676904678345, 0.5039342045783997, 0.6674075126647949, 1.0510234832763672, 0.8971772789955139, 0.6416287422180176, 0.7211648225784302, 0.22739183902740479, 0.09528860449790955, 0.16403821110725403, 0.2346271574497223, 0.5971817374229431, 0.26015859842300415, 0.07486922293901443, 0.0, 0.0, 0.0, 0.0, 0.0, 0.0, 0.025051891803741455, 0.0, 0.0, 0.0, 0.0, 0.0019155166810378432, 0.0014396619517356157, 0.07664024084806442, 0.11027966439723969, 0.07499732077121735, 0.0, 0.0, 0.0, 0.130168154835701, 0.02027016319334507, 0.0, 0.0, 0.28256142139434814, 0.3784732520580292, 0.6680771112442017, 0.42120304703712463, 0.29430317878723145, 0.0, 0.0, 0.0, 0.0, 0.21932269632816315, 0.13669010996818542, 0.1993417739868164, 0.06864720582962036, 0.19065257906913757, 0.4280717372894287, 0.24251939356327057, 0.22277434170246124, 0.29151323437690735, 0.24577055871486664, 0.16902683675289154, 0.01002406980842352, 0.04763028398156166, 0.0, 0.18420246243476868, 0.0, 0.0, 0.0, 0.0, 0.0, 0.05161944776773453, 0.18689978122711182, 0.4663838744163513, 0.43926969170570374, 0.6573739647865295, 0.9954114556312561, 1.0990484952926636, 1.0985662937164307, 0.843561589717865, 0.3490009307861328, 0.05521465837955475, 0.01663590595126152, 0.0, 0.14187736809253693, 0.14557763934135437, 0.29808950424194336, 0.1958625465631485, 0.019274335354566574, 0.09065769612789154, 0.07013768702745438, 0.2288208305835724, 0.0431673564016819, 0.0743127316236496, 0.11049745231866837, 0.39993932843208313, 0.5197175741195679, 0.26998844742774963, 0.22305628657341003, 0.14558885991573334, 0.2014445662498474, 0.14641915261745453, 0.01645803265273571, 0.01931154541671276, 0.09892692416906357, 0.0023670238442718983, 0.0023670238442718983], [0.4311433434486389, 0.8852853775024414, 1.3041034936904907, 0.8154964447021484, 1.5183829069137573, 1.4228448867797852, 0.8213437795639038, 0.9953823685646057, 0.7603039145469666, 0.4416096806526184, 0.49492302536964417, 0.12444088608026505, 0.26161980628967285, 0.3970169425010681, 0.32328301668167114, 0.29510945081710815, 0.2760668396949768, 0.2224775105714798, 0.19017024338245392, 0.2741832435131073, 0.2743110656738281, 0.2722814679145813, 0.2522200345993042, 0.17350873351097107, 0.034611523151397705, 0.0, 0.034074567258358, 0.018781958147883415, 0.012903173454105854, 0.012343933805823326, 0.053999755531549454, 0.049181267619132996, 0.06351105868816376, 0.08747036755084991, 0.0, 0.0, 0.0, 0.0, 0.01226121000945568, 0.007587820291519165, 0.0, 0.05301247164607048, 0.059992775321006775, 0.07238741219043732, 0.1406201422214508, 0.08367867022752762, 0.04133915156126022, 0.08789995312690735, 0.02532922849059105, 0.0, 0.005815573036670685, 0.0, 0.0, 0.0, 0.0, 0.004298526793718338, 0.005610503256320953, 0.0, 0.005548693239688873, 0.0, 0.02004011906683445, 0.0, 0.0, 0.014636719599366188, 0.0, 0.0, 0.0, 0.0, 0.0, 0.0, 0.0, 0.0, 0.0, 0.0, 0.008367737755179405, 0.0033936179243028164, 0.08312568068504333, 0.04459008947014809, 0.0, 0.0, 0.03320648893713951, 0.07892857491970062, 0.0, 0.0, 0.04871990531682968, 0.0, 0.18616296350955963, 0.0, 0.04089759290218353, 0.0, 0.0, 0.015875276178121567, 0.0, 0.0, 0.0, 0.0, 0.0, 0.0, 0.05564867705106735, 0.026475833728909492, 0.0, 0.0, 0.0, 0.0, 0.0, 0.0, 0.0, 0.0, 0.0, 0.0, 0.036765359342098236, 0.0, 0.0, 0.0, 0.06154908984899521, 0.24435937404632568, 0.16658353805541992, 0.12099756300449371, 0.035375118255615234, 0.0, 0.0, 0.0, 0.05795987695455551, 0.0, 0.003679705085232854, 0.0, 0.05195022001862526, 0.16321276128292084, 0.0, 0.0, 0.0, 0.0, 0.008823509328067303, 0.0, 0.0, 0.0, 0.0, 0.03264571353793144, 0.017319858074188232, 0.0, 0.0, 0.0, 0.0, 0.014602471143007278, 0.0, 0.0, 0.0, 0.0, 0.0, 0.0, 0.0, 0.0, 0.0, 0.0, 0.005173415411263704, 0.0, 0.0, 0.0, 0.0, 0.0, 0.0, 0.0, 0.0, 0.0, 0.0, 0.0, 0.0, 0.0, 0.06812996417284012, 0.0, 0.0, 0.0, 0.006358534563332796, 0.0010379053419455886, 0.0, 0.0, 0.0, 0.0, 0.01544839609414339, 0.28396034240722656, 0.0, 0.0, 0.0, 0.0, 0.0, 0.041920799762010574, 0.029963701963424683, 0.03273793309926987, 0.0, 0.0, 0.0, 0.0, 0.0025173183530569077, 0.0, 0.0, 0.0, 0.0, 0.15936420857906342, 0.18755289912223816, 0.1257696896791458, 0.0606636181473732, 0.03731745108962059, 0.0, 0.005794433876872063, 0.08525928854942322, 0.06829321384429932, 0.04454120993614197, 0.0, 0.03594287112355232, 0.023587508127093315, 0.0, 0.0, 0.0, 0.0, 0.0, 0.0, 0.0, 0.0, 0.0], [0.2106902301311493, 0.0, 0.0, 0.0, 0.0, 0.0, 0.0, 0.008115069009363651, 0.0, 0.0, 0.0, 0.0, 0.0, 0.0, 0.24544528126716614, 0.052649859338998795, 0.02638624608516693, 0.015571951866149902, 0.003232126124203205, 0.0, 0.0, 0.23511122167110443, 0.0, 0.0, 0.0, 0.014202823862433434, 0.0, 0.015668390318751335, 0.0, 0.0, 0.0, 0.0, 0.012124394997954369, 0.0, 0.0, 0.0, 0.004718458279967308, 0.0, 0.015230025164783001, 0.0, 0.014372866600751877, 0.06000981107354164, 0.05472797155380249, 0.05747835710644722, 0.0528034046292305, 0.010582861490547657, 0.004372255876660347, 0.017137760296463966, 0.056507356464862823, 0.0, 0.0, 0.0, 0.0, 0.0, 0.04804875701665878, 0.047465622425079346, 0.0, 0.0, 0.0, 0.0, 0.0, 0.0, 0.0002696122392080724, 0.07400622963905334, 0.0, 0.0, 0.0, 0.0, 0.0, 0.03703653812408447, 0.0, 0.0, 0.0, 0.0, 0.0, 0.016034439206123352, 0.0, 0.0, 0.0, 0.0, 0.0001815393043216318, 0.0, 0.02327195554971695, 0.0, 0.0, 0.022362705320119858, 0.25130695104599, 0.04412965849041939, 0.0582464337348938, 0.059868376702070236, 1.9280487298965454, 0.036543745547533035, 0.0, 0.0, 0.0, 0.0, 0.0, 0.0, 0.009225546382367611, 0.013114024884998798, 0.0, 0.0, 0.0, 0.0, 0.0, 0.0011392069282010198, 0.0, 0.026719221845269203, 0.0, 0.0, 0.0, 0.0, 0.0042528025805950165, 0.0, 0.0, 0.0, 0.0, 0.0, 0.0, 0.0, 0.0, 0.09649287164211273, 0.23084260523319244, 0.08895086497068405, 0.08357802778482437, 0.11147691309452057, 0.03976967930793762, 0.0467519573867321, 0.0, 0.0, 0.03684183210134506, 0.0, 0.0, 0.0, 0.0, 0.0, 0.0, 0.03957170620560646, 0.0, 0.0, 0.0, 0.0, 0.014731500297784805, 0.0, 0.0, 0.028190825134515762, 0.0, 0.0, 0.0, 0.0, 0.024105165153741837, 0.08409683406352997, 1.6416269540786743, 0.07974804937839508, 0.0, 0.0, 0.0, 0.0, 0.015796221792697906, 0.0, 0.0, 0.02612893655896187, 0.0, 0.018395405262708664, 0.0, 0.015024205669760704, 0.008104363456368446, 0.0, 0.03244274854660034, 0.020237386226654053, 0.008001020178198814, 0.07801033556461334, 0.10715416073799133, 0.10461953282356262, 0.07644226402044296, 0.06877924501895905, 0.0, 0.0, 0.0, 0.041044849902391434, 0.0, 0.0, 0.00040476705180481076, 0.0, 0.0, 0.0, 0.0, 0.0, 0.0, 0.0, 0.0, 0.0, 0.016656136140227318, 0.057654865086078644, 0.07494476437568665, 1.6643496751785278, 0.07809551805257797, 0.06442951411008835, 0.002679255325347185, 0.0, 0.004283064976334572, 0.007170452736318111, 0.008573337458074093, 0.04804740101099014, 0.008885066956281662, 0.04586372151970863, 0.004367036744952202, 0.0, 0.0, 0.0, 0.0, 0.0, 0.018327167257666588, 0.0, 0.0, 0.011022468097507954, 0.009522870182991028, 0.0, 0.0]]]})\n",
              "         }, function (err) {\n",
              "            console.log(err);\n",
              "        })"
            ],
            "text/plain": [
              "<IPython.core.display.Javascript object>"
            ]
          },
          "metadata": {
            "tags": []
          }
        }
      ]
    },
    {
      "cell_type": "code",
      "metadata": {
        "colab": {
          "base_uri": "https://localhost:8080/",
          "height": 364
        },
        "id": "KDyIh9Lu3nz6",
        "outputId": "a5ce4e56-1271-4276-9ca8-d429c09a9b44"
      },
      "source": [
        "# Factorize the activations of only the first layer\n",
        "nmf_2 = output.run_nmf(n_components=10, from_layer=0, to_layer=1)\n",
        "nmf_2.explore()"
      ],
      "execution_count": 160,
      "outputs": [
        {
          "output_type": "display_data",
          "data": {
            "text/html": [
              "<html lang=\"en\">\n",
              "<script src=\"https://requirejs.org/docs/release/2.3.6/minified/require.js\"></script>\n",
              "<script>\n",
              "    var ecco_url = 'https://storage.googleapis.com/ml-intro/ecco/'\n",
              "    // var ecco_url = 'http://localhost:8000/ecco/'\n",
              "\n",
              "    if (window.ecco === undefined) window.ecco = {}\n",
              "\n",
              "    requirejs.config({\n",
              "        urlArgs: \"bust=\" + (new Date()).getTime(),\n",
              "        nodeRequire: require,\n",
              "        paths: {\n",
              "            d3: \"https://d3js.org/d3.v5.min\",\n",
              "            \"d3-array\": \"https://d3js.org/d3-array.v2.min\",\n",
              "            jquery: \"https://code.jquery.com/jquery-3.5.1.min\",\n",
              "            // oldEcco: ecco_url + 'ecco',\n",
              "            ecco: ecco_url + 'js/0.0.4/ecco-bundle.min',\n",
              "            xregexp: 'https://cdnjs.cloudflare.com/ajax/libs/xregexp/3.2.0/xregexp-all.min'\n",
              "        }\n",
              "    });\n",
              "    requirejs(['d3'],\n",
              "        function (d3) {\n",
              "            d3.select('#css').attr('href', ecco_url + 'html/styles.css')\n",
              "        })\n",
              "\n",
              "    console.log('Ecco initialize.')\n",
              "</script>\n",
              "\n",
              "<head>\n",
              "    <link id='css' rel=\"stylesheet\" type=\"text/css\">\n",
              "</head>\n"
            ],
            "text/plain": [
              "<IPython.core.display.HTML object>"
            ]
          },
          "metadata": {
            "tags": []
          }
        },
        {
          "output_type": "display_data",
          "data": {
            "text/html": [
              "<script>\n",
              "    // console.log('defining basic')\n",
              "    define('basic', ['d3'],\n",
              "        function (d3) {\n",
              "            return {\n",
              "                init: function (viz_id = null) {\n",
              "\n",
              "                    // console.log('basic init')\n",
              "                    if (viz_id == null){\n",
              "                        viz_id = \"viz_\" + Math.round(Math.random() * 10000000)\n",
              "                    }\n",
              "                    const div = d3.select('#basic').attr('id', viz_id),\n",
              "                        div_parent = d3.select('#' + viz_id).node().parentNode\n",
              "\n",
              "                    // Link to CSS file\n",
              "                    d3.select(div_parent).insert('link')\n",
              "                        .attr('rel', 'stylesheet')\n",
              "                        .attr('type', 'text/css')\n",
              "                        .attr('href', ecco_url + 'html/styles.css')\n",
              "\n",
              "                    return viz_id\n",
              "                }\n",
              "            }\n",
              "        }, function (err) {console.log(err);}\n",
              "    )\n",
              "    // console.log('after defining basic')\n",
              "\n",
              "</script>\n",
              "<div id=\"basic\"></div>\n"
            ],
            "text/plain": [
              "<IPython.core.display.HTML object>"
            ]
          },
          "metadata": {
            "tags": []
          }
        },
        {
          "output_type": "display_data",
          "data": {
            "application/javascript": [
              "\n",
              "         requirejs(['basic', 'ecco'], function(basic, ecco){\n",
              "            const viz_id = basic.init()\n",
              "            ecco.interactiveTokensAndFactorSparklines(viz_id, {'tokens': [{'token': 'هر', 'token_id': 458, 'type': 'input', 'position': 0}, {'token': ' سال', 'token_id': 415, 'type': 'input', 'position': 1}, {'token': ' ده', 'token_id': 546, 'type': 'input', 'position': 2}, {'token': '\\u200c', 'token_id': 285, 'type': 'input', 'position': 3}, {'token': 'ها', 'token_id': 350, 'type': 'input', 'position': 4}, {'token': ' هزار', 'token_id': 841, 'type': 'input', 'position': 5}, {'token': ' مقاله', 'token_id': 1895, 'type': 'input', 'position': 6}, {'token': ' و', 'token_id': 293, 'type': 'input', 'position': 7}, {'token': ' گزارش', 'token_id': 893, 'type': 'input', 'position': 8}, {'token': ' راجع', 'token_id': 5945, 'type': 'input', 'position': 9}, {'token': ' به', 'token_id': 303, 'type': 'input', 'position': 10}, {'token': ' هوش', 'token_id': 976, 'type': 'input', 'position': 11}, {'token': ' مصنوعی', 'token_id': 2734, 'type': 'input', 'position': 12}, {'token': ' منتشر', 'token_id': 1099, 'type': 'input', 'position': 13}, {'token': ' می', 'token_id': 310, 'type': 'input', 'position': 14}, {'token': '\\u200c', 'token_id': 285, 'type': 'input', 'position': 15}, {'token': 'شود', 'token_id': 431, 'type': 'input', 'position': 16}, {'token': '،', 'token_id': 305, 'type': 'input', 'position': 17}, {'token': ' اما', 'token_id': 492, 'type': 'input', 'position': 18}, {'token': ' اندکی', 'token_id': 4111, 'type': 'input', 'position': 19}, {'token': ' زمان', 'token_id': 701, 'type': 'input', 'position': 20}, {'token': ' می', 'token_id': 310, 'type': 'input', 'position': 21}, {'token': ' برد', 'token_id': 1981, 'type': 'input', 'position': 22}, {'token': ' تا', 'token_id': 399, 'type': 'input', 'position': 23}, {'token': ' پتانسیل', 'token_id': 6111, 'type': 'input', 'position': 24}, {'token': '\\u200c', 'token_id': 285, 'type': 'input', 'position': 25}, {'token': 'های', 'token_id': 325, 'type': 'input', 'position': 26}, {'token': ' مطرح', 'token_id': 2031, 'type': 'input', 'position': 27}, {'token': ' شده', 'token_id': 401, 'type': 'input', 'position': 28}, {'token': ' در', 'token_id': 298, 'type': 'input', 'position': 29}, {'token': ' هرکدام', 'token_id': 6242, 'type': 'input', 'position': 30}, {'token': ' از', 'token_id': 312, 'type': 'input', 'position': 31}, {'token': ' این', 'token_id': 326, 'type': 'input', 'position': 32}, {'token': ' مقالات', 'token_id': 5320, 'type': 'input', 'position': 33}, {'token': ' تأثیری', 'token_id': 11760, 'type': 'input', 'position': 34}, {'token': ' واضح', 'token_id': 5272, 'type': 'input', 'position': 35}, {'token': ' و', 'token_id': 293, 'type': 'input', 'position': 36}, {'token': ' محسوس', 'token_id': 12950, 'type': 'input', 'position': 37}, {'token': ' بر', 'token_id': 327, 'type': 'input', 'position': 38}, {'token': ' دنیای', 'token_id': 2112, 'type': 'input', 'position': 39}, {'token': ' واقعی', 'token_id': 2200, 'type': 'input', 'position': 40}, {'token': ' بگذارند', 'token_id': 6406, 'type': 'input', 'position': 41}, {'token': '.', 'token_id': 24, 'type': 'input', 'position': 42}, {'token': ' در', 'token_id': 298, 'type': 'input', 'position': 43}, {'token': ' این', 'token_id': 326, 'type': 'input', 'position': 44}, {'token': ' بین', 'token_id': 619, 'type': 'input', 'position': 45}, {'token': '،', 'token_id': 305, 'type': 'input', 'position': 46}, {'token': ' بزرگترین', 'token_id': 3070, 'type': 'input', 'position': 47}, {'token': ' سرمایه', 'token_id': 1266, 'type': 'input', 'position': 48}, {'token': '\\u200c', 'token_id': 285, 'type': 'input', 'position': 49}, {'token': 'گذاران', 'token_id': 4830, 'type': 'input', 'position': 50}, {'token': ' روی', 'token_id': 539, 'type': 'input', 'position': 51}, {'token': ' هوش', 'token_id': 976, 'type': 'input', 'position': 52}, {'token': ' مصنوعی', 'token_id': 2734, 'type': 'input', 'position': 53}, {'token': ' یعنی', 'token_id': 1247, 'type': 'input', 'position': 54}, {'token': ' امثال', 'token_id': 13505, 'type': 'input', 'position': 55}, {'token': ' آلفابت', 'token_id': 14405, 'type': 'input', 'position': 56}, {'token': '،', 'token_id': 305, 'type': 'input', 'position': 57}, {'token': ' اپل', 'token_id': 1190, 'type': 'input', 'position': 58}, {'token': '،', 'token_id': 305, 'type': 'input', 'position': 59}, {'token': ' فیسبوک', 'token_id': 3942, 'type': 'input', 'position': 60}, {'token': '،', 'token_id': 305, 'type': 'input', 'position': 61}, {'token': ' باید', 'token_id': 544, 'type': 'input', 'position': 62}, {'token': 'وس', 'token_id': 612, 'type': 'input', 'position': 63}, {'token': ' و', 'token_id': 293, 'type': 'input', 'position': 64}, {'token': ' دیگر', 'token_id': 530, 'type': 'input', 'position': 65}, {'token': ' اسب', 'token_id': 2953, 'type': 'input', 'position': 66}, {'token': '\\u200c', 'token_id': 285, 'type': 'input', 'position': 67}, {'token': 'های', 'token_id': 325, 'type': 'input', 'position': 68}, {'token': ' تک', 'token_id': 1396, 'type': 'input', 'position': 69}, {'token': '\\u200c', 'token_id': 285, 'type': 'input', 'position': 70}, {'token': 'شاخ', 'token_id': 12504, 'type': 'input', 'position': 71}, {'token': ' دنیای', 'token_id': 2112, 'type': 'input', 'position': 72}, {'token': ' تکنولوژی', 'token_id': 2061, 'type': 'input', 'position': 73}, {'token': '،', 'token_id': 305, 'type': 'input', 'position': 74}, {'token': ' بخش', 'token_id': 710, 'type': 'input', 'position': 75}, {'token': ' اعظمی', 'token_id': 15349, 'type': 'input', 'position': 76}, {'token': ' از', 'token_id': 312, 'type': 'input', 'position': 77}, {'token': ' دستاوردهای', 'token_id': 7442, 'type': 'input', 'position': 78}, {'token': ' تکنولوژیک', 'token_id': 17304, 'type': 'input', 'position': 79}, {'token': ' خود', 'token_id': 377, 'type': 'input', 'position': 80}, {'token': ' را', 'token_id': 330, 'type': 'input', 'position': 81}, {'token': ' پشت', 'token_id': 1059, 'type': 'input', 'position': 82}, {'token': ' درهای', 'token_id': 10399, 'type': 'input', 'position': 83}, {'token': ' بسته', 'token_id': 1746, 'type': 'input', 'position': 84}, {'token': ' پنهان', 'token_id': 4811, 'type': 'input', 'position': 85}, {'token': ' می', 'token_id': 310, 'type': 'input', 'position': 86}, {'token': '\\u200c', 'token_id': 285, 'type': 'input', 'position': 87}, {'token': 'کنند', 'token_id': 606, 'type': 'input', 'position': 88}, {'token': '.', 'token_id': 24, 'type': 'input', 'position': 89}, {'token': ' ', 'token_id': 231, 'type': 'input', 'position': 90}, {'token': ' اگر', 'token_id': 574, 'type': 'input', 'position': 91}, {'token': ' بخواهیم', 'token_id': 6385, 'type': 'input', 'position': 92}, {'token': ' واضح', 'token_id': 5272, 'type': 'input', 'position': 93}, {'token': '\\u200c', 'token_id': 285, 'type': 'input', 'position': 94}, {'token': 'تر', 'token_id': 344, 'type': 'input', 'position': 95}, {'token': ' بگوییم', 'token_id': 4676, 'type': 'input', 'position': 96}, {'token': '،', 'token_id': 305, 'type': 'input', 'position': 97}, {'token': ' وقتی', 'token_id': 1277, 'type': 'input', 'position': 98}, {'token': ' صحبت', 'token_id': 1868, 'type': 'input', 'position': 99}, {'token': ' از', 'token_id': 312, 'type': 'input', 'position': 100}, {'token': ' هوش', 'token_id': 976, 'type': 'input', 'position': 101}, {'token': ' مصنوعی', 'token_id': 2734, 'type': 'input', 'position': 102}, {'token': ' باشد', 'token_id': 577, 'type': 'input', 'position': 103}, {'token': '،', 'token_id': 305, 'type': 'input', 'position': 104}, {'token': ' لیست', 'token_id': 2740, 'type': 'input', 'position': 105}, {'token': ' کردن', 'token_id': 714, 'type': 'input', 'position': 106}, {'token': ' مهم', 'token_id': 871, 'type': 'input', 'position': 107}, {'token': '\\u200c', 'token_id': 285, 'type': 'input', 'position': 108}, {'token': 'ترین', 'token_id': 496, 'type': 'input', 'position': 109}, {'token': ' دستاوردها', 'token_id': 20176, 'type': 'input', 'position': 110}, {'token': ' در', 'token_id': 298, 'type': 'input', 'position': 111}, {'token': ' بازه', 'token_id': 4051, 'type': 'input', 'position': 112}, {'token': '\\u200c', 'token_id': 285, 'type': 'input', 'position': 113}, {'token': 'ای', 'token_id': 289, 'type': 'input', 'position': 114}, {'token': ' یک', 'token_id': 367, 'type': 'input', 'position': 115}, {'token': '\\u200c', 'token_id': 285, 'type': 'input', 'position': 116}, {'token': 'ساله', 'token_id': 6857, 'type': 'input', 'position': 117}, {'token': ' کاری', 'token_id': 1379, 'type': 'input', 'position': 118}, {'token': ' آسان', 'token_id': 3109, 'type': 'input', 'position': 119}, {'token': ' به', 'token_id': 303, 'type': 'input', 'position': 120}, {'token': ' حساب', 'token_id': 1650, 'type': 'input', 'position': 121}, {'token': ' نمی', 'token_id': 624, 'type': 'input', 'position': 122}, {'token': '\\u200c', 'token_id': 285, 'type': 'input', 'position': 123}, {'token': 'آید', 'token_id': 1721, 'type': 'input', 'position': 124}, {'token': '؛', 'token_id': 556, 'type': 'input', 'position': 125}, {'token': ' حداقل', 'token_id': 2235, 'type': 'input', 'position': 126}, {'token': ' نه', 'token_id': 995, 'type': 'input', 'position': 127}, {'token': ' به', 'token_id': 303, 'type': 'input', 'position': 128}, {'token': ' آسانی', 'token_id': 7654, 'type': 'input', 'position': 129}, {'token': ' لیست', 'token_id': 2740, 'type': 'input', 'position': 130}, {'token': ' کردن', 'token_id': 714, 'type': 'input', 'position': 131}, {'token': ' بهترین', 'token_id': 1142, 'type': 'input', 'position': 132}, {'token': ' موبایل', 'token_id': 1532, 'type': 'input', 'position': 133}, {'token': '\\u200c', 'token_id': 285, 'type': 'input', 'position': 134}, {'token': 'های', 'token_id': 325, 'type': 'input', 'position': 135}, {'token': ' پرچمدار', 'token_id': 4810, 'type': 'input', 'position': 136}, {'token': ' یا', 'token_id': 421, 'type': 'input', 'position': 137}, {'token': ' بهترین', 'token_id': 1142, 'type': 'input', 'position': 138}, {'token': ' ویژگی', 'token_id': 1413, 'type': 'input', 'position': 139}, {'token': '\\u200c', 'token_id': 285, 'type': 'input', 'position': 140}, {'token': 'های', 'token_id': 325, 'type': 'input', 'position': 141}, {'token': ' اضافه', 'token_id': 1469, 'type': 'input', 'position': 142}, {'token': ' شده', 'token_id': 401, 'type': 'input', 'position': 143}, {'token': ' به', 'token_id': 303, 'type': 'input', 'position': 144}, {'token': ' تازه', 'token_id': 1903, 'type': 'input', 'position': 145}, {'token': '\\u200c', 'token_id': 285, 'type': 'input', 'position': 146}, {'token': 'ترین', 'token_id': 496, 'type': 'input', 'position': 147}, {'token': ' ورژن', 'token_id': 10005, 'type': 'input', 'position': 148}, {'token': ' از', 'token_id': 312, 'type': 'input', 'position': 149}, {'token': ' iOS', 'token_id': 3658, 'type': 'input', 'position': 150}, {'token': '.', 'token_id': 24, 'type': 'input', 'position': 151}, {'token': ' ', 'token_id': 231, 'type': 'input', 'position': 152}, {'token': ' اما', 'token_id': 492, 'type': 'input', 'position': 153}, {'token': ' هرطور', 'token_id': 39899, 'type': 'input', 'position': 154}, {'token': ' که', 'token_id': 323, 'type': 'input', 'position': 155}, {'token': ' به', 'token_id': 303, 'type': 'input', 'position': 156}, {'token': ' موضوع', 'token_id': 964, 'type': 'input', 'position': 157}, {'token': ' نگاه', 'token_id': 1624, 'type': 'input', 'position': 158}, {'token': ' کنیم', 'token_id': 1085, 'type': 'input', 'position': 159}, {'token': '،', 'token_id': 305, 'type': 'input', 'position': 160}, {'token': ' هوش', 'token_id': 976, 'type': 'input', 'position': 161}, {'token': ' مصنوعی', 'token_id': 2734, 'type': 'input', 'position': 162}, {'token': ' بدون', 'token_id': 1042, 'type': 'input', 'position': 163}, {'token': ' تردید', 'token_id': 6746, 'type': 'input', 'position': 164}, {'token': ' نقشی', 'token_id': 6806, 'type': 'input', 'position': 165}, {'token': ' بزرگ', 'token_id': 745, 'type': 'input', 'position': 166}, {'token': ' در', 'token_id': 298, 'type': 'input', 'position': 167}, {'token': ' سال', 'token_id': 415, 'type': 'input', 'position': 168}, {'token': ' ۲۰۲۰', 'token_id': 3668, 'type': 'input', 'position': 169}, {'token': ' میلادی', 'token_id': 1547, 'type': 'input', 'position': 170}, {'token': ' ایفا', 'token_id': 4912, 'type': 'input', 'position': 171}, {'token': ' کرده', 'token_id': 501, 'type': 'input', 'position': 172}, {'token': ' است', 'token_id': 329, 'type': 'input', 'position': 173}, {'token': '.', 'token_id': 24, 'type': 'input', 'position': 174}, {'token': ' بنابراین', 'token_id': 1504, 'type': 'input', 'position': 175}, {'token': ' بیایید', 'token_id': 7496, 'type': 'input', 'position': 176}, {'token': ' به', 'token_id': 303, 'type': 'input', 'position': 177}, {'token': ' مرور', 'token_id': 2550, 'type': 'input', 'position': 178}, {'token': ' شش', 'token_id': 2606, 'type': 'input', 'position': 179}, {'token': ' دستاورد', 'token_id': 8149, 'type': 'input', 'position': 180}, {'token': ' بزرگ', 'token_id': 745, 'type': 'input', 'position': 181}, {'token': ' هوش', 'token_id': 976, 'type': 'input', 'position': 182}, {'token': ' مصنوعی', 'token_id': 2734, 'type': 'input', 'position': 183}, {'token': ' در', 'token_id': 298, 'type': 'input', 'position': 184}, {'token': ' سالی', 'token_id': 4029, 'type': 'input', 'position': 185}, {'token': ' که', 'token_id': 323, 'type': 'input', 'position': 186}, {'token': ' اکنون', 'token_id': 1801, 'type': 'input', 'position': 187}, {'token': ' به', 'token_id': 303, 'type': 'input', 'position': 188}, {'token': ' روزهای', 'token_id': 2897, 'type': 'input', 'position': 189}, {'token': ' آخرش', 'token_id': 16847, 'type': 'input', 'position': 190}, {'token': ' نزدیک', 'token_id': 1460, 'type': 'input', 'position': 191}, {'token': ' شده', 'token_id': 401, 'type': 'input', 'position': 192}, {'token': ' بپردازیم', 'token_id': 7984, 'type': 'input', 'position': 193}, {'token': '.', 'token_id': 24, 'type': 'input', 'position': 194}, {'token': ' ', 'token_id': 231, 'type': 'input', 'position': 195}, {'token': ' در', 'token_id': 298, 'type': 'input', 'position': 196}, {'token': ' یک', 'token_id': 367, 'type': 'input', 'position': 197}, {'token': ' سال', 'token_id': 415, 'type': 'input', 'position': 198}, {'token': ' معمولی', 'token_id': 3350, 'type': 'input', 'position': 199}, {'token': '،', 'token_id': 305, 'type': 'input', 'position': 200}, {'token': ' ابزاری', 'token_id': 6048, 'type': 'input', 'position': 201}, {'token': ' که', 'token_id': 323, 'type': 'input', 'position': 202}, {'token': ' کارش', 'token_id': 6853, 'type': 'input', 'position': 203}, {'token': ' تولید', 'token_id': 667, 'type': 'input', 'position': 204}, {'token': ' متن', 'token_id': 1555, 'type': 'input', 'position': 205}, {'token': ' است', 'token_id': 329, 'type': 'input', 'position': 206}, {'token': ' به', 'token_id': 303, 'type': 'input', 'position': 207}, {'token': ' هیچ', 'token_id': 917, 'type': 'input', 'position': 208}, {'token': '\\u200c', 'token_id': 285, 'type': 'input', 'position': 209}, {'token': 'وجه', 'token_id': 8362, 'type': 'input', 'position': 210}, {'token': ' جزء', 'token_id': 5953, 'type': 'input', 'position': 211}, {'token': ' هیجان', 'token_id': 3814, 'type': 'input', 'position': 212}, {'token': '\\u200c', 'token_id': 285, 'type': 'input', 'position': 213}, {'token': 'انگیزترین', 'token_id': 20502, 'type': 'input', 'position': 214}, {'token': ' دستاوردهای', 'token_id': 7442, 'type': 'input', 'position': 215}, {'token': ' حوزه', 'token_id': 1403, 'type': 'input', 'position': 216}, {'token': ' هوش', 'token_id': 976, 'type': 'input', 'position': 217}, {'token': ' مصنوعی', 'token_id': 2734, 'type': 'output', 'position': 218}], 'factors': [[[2.248868465423584, 0.19914190471172333, 0.05428381264209747, 0.06481804698705673, 0.0, 0.028632735833525658, 0.0, 0.0, 0.0, 0.1135987788438797, 0.00975265447050333, 0.02117617428302765, 0.0, 0.0, 0.0, 0.0, 0.0, 0.0, 0.0012453128583729267, 0.0, 0.0, 0.0, 0.0, 0.011928820982575417, 0.0, 0.0, 0.0, 0.0, 0.0, 0.0, 0.4133411645889282, 0.10889987647533417, 0.05317757651209831, 0.0, 0.009935258887708187, 0.0, 0.0, 0.0, 0.0, 0.025801626965403557, 0.018229112029075623, 0.0, 0.0, 0.0, 0.05513877049088478, 0.02964027039706707, 0.0, 0.0, 0.0, 0.0, 0.0, 0.010058587417006493, 0.002356685698032379, 0.0, 0.0, 0.003757926169782877, 0.0, 0.0, 0.013391803950071335, 0.0, 0.0, 0.0, 0.02574501372873783, 0.022485928609967232, 0.0, 0.0, 0.0, 0.0, 0.0, 0.06794992089271545, 0.0, 0.0818110927939415, 0.022252429276704788, 0.0, 0.0, 0.0, 0.0, 0.0, 0.0, 0.0, 0.0, 0.0, 0.029334671795368195, 0.08758559823036194, 0.00572799751535058, 0.0, 0.0, 0.0, 0.0, 0.0, 0.0, 0.07201056182384491, 0.025250790640711784, 0.0, 0.0, 0.0, 0.0, 0.0, 0.04639671370387077, 0.0, 0.0, 0.0, 0.0, 0.0, 0.0, 0.0, 0.0, 0.0, 0.0, 0.042518068104982376, 0.0, 0.0, 0.0, 0.0, 0.0, 0.0262862928211689, 0.0, 0.0, 0.0, 0.0443127416074276, 0.0, 0.013353399932384491, 0.0, 0.0, 0.0, 0.0, 0.11525154113769531, 0.0, 0.0, 0.025279376655817032, 0.0, 0.0, 0.0061400169506669044, 0.0, 0.0, 0.006935090757906437, 0.0002991606015712023, 0.044973284006118774, 0.01681588403880596, 0.0, 0.0, 0.0, 0.0, 0.0, 0.0, 0.0, 0.0, 0.04211759194731712, 0.0, 0.0, 0.034423161298036575, 0.0, 0.0, 0.01597008667886257, 0.4151197671890259, 0.0638761818408966, 0.0, 0.005009301006793976, 0.04191993549466133, 0.0, 0.0, 0.0, 0.0, 0.0726633220911026, 0.018532266840338707, 0.0008103119325824082, 0.0, 0.0, 0.0, 0.0, 0.0, 0.027127815410494804, 0.0, 0.0, 0.0, 0.05861883983016014, 0.020688099786639214, 0.0, 0.09793952107429504, 0.0, 0.0, 0.0, 0.0, 0.0, 0.0, 0.0, 0.0, 0.01474451832473278, 0.0, 0.0, 0.055837810039520264, 0.015112402848899364, 0.0, 0.0, 0.0, 0.0, 0.0, 0.034561123698949814, 0.0, 0.0, 0.0, 0.0, 0.0, 0.0279689934104681, 0.0027193333953619003, 0.0, 0.0, 0.0, 0.18219146132469177, 0.0, 0.07647842913866043, 0.0, 0.0, 0.0, 0.07573604583740234, 0.0, 0.0, 0.0, 0.0], [0.0, 0.0, 0.0, 0.0, 0.0076803648844361305, 0.008270356804132462, 0.03440992534160614, 0.0, 0.052424218505620956, 0.2854568064212799, 0.045262690633535385, 0.0, 0.0, 0.0, 0.0, 0.0, 0.0, 0.0, 0.0, 0.13681583106517792, 0.0, 0.0, 0.033780861645936966, 0.0, 0.0826205313205719, 0.0, 0.0286492221057415, 0.146817147731781, 0.03868834674358368, 0.0, 0.011709372512996197, 0.0, 0.0, 0.007665790151804686, 0.054988499730825424, 1.7513008117675781, 0.3900904953479767, 1.2240465879440308, 0.07469595968723297, 0.037167467176914215, 0.36439502239227295, 0.028364896774291992, 0.0, 0.0, 0.0, 0.0, 0.0, 0.09270750731229782, 0.0, 0.0, 0.0, 0.0, 0.0, 0.02485591173171997, 0.009974407032132149, 0.07524828612804413, 0.05290497839450836, 0.0, 0.0, 0.0, 0.023929879069328308, 0.0, 0.02977592684328556, 0.02476789616048336, 0.0, 0.03406411409378052, 0.08438251167535782, 0.0, 0.04742417111992836, 0.04560296609997749, 0.0, 0.0929894894361496, 0.0, 0.0, 0.0, 0.0, 0.10598404705524445, 0.005902727600187063, 0.0, 0.11704361438751221, 0.0, 0.0, 0.006399913225322962, 0.0, 0.01430473942309618, 0.3000241816043854, 0.004355287179350853, 0.0, 0.04635230079293251, 0.0, 0.0, 0.018482334911823273, 0.06402808427810669, 1.8049105405807495, 0.25471749901771545, 1.1695902347564697, 0.15151184797286987, 0.0, 0.025145525112748146, 0.16080762445926666, 0.08070383965969086, 0.0, 0.025220949202775955, 0.056410256773233414, 0.0, 0.027118312194943428, 0.09021039307117462, 0.2096295803785324, 0.030800288543105125, 0.25382715463638306, 0.022239601239562035, 0.0, 0.041303545236587524, 0.0, 0.022249408066272736, 0.0, 0.0, 0.017198333516716957, 0.0065716528333723545, 0.34508371353149414, 0.0, 0.03215719759464264, 0.021267686039209366, 0.0016803308390080929, 0.010830266401171684, 0.0, 0.09733086079359055, 0.04161658138036728, 0.0, 0.22505724430084229, 0.01914031058549881, 0.0695619061589241, 0.13509276509284973, 0.0, 0.0, 0.010339094325900078, 0.0, 0.0, 0.10563510656356812, 0.08514310419559479, 0.0, 0.11306536197662354, 0.10389241576194763, 0.035351209342479706, 0.003734017489477992, 0.04952318221330643, 0.0, 0.0958920568227768, 0.0, 0.0, 0.0, 0.0, 0.0, 0.0, 0.08113716542720795, 0.0, 0.0, 0.13901226222515106, 0.11456365138292313, 0.06997517496347427, 0.0, 0.0, 0.0, 0.020334850996732712, 0.06587518751621246, 0.0, 0.1016768217086792, 0.0, 0.0, 0.0, 0.0, 0.03650691732764244, 0.0, 0.0, 0.0, 0.01760750450193882, 0.023310687392950058, 0.0, 0.06533803790807724, 0.0, 0.0, 0.06081472709774971, 0.0, 0.0, 0.0, 0.0, 0.0, 0.0, 0.0, 0.0, 0.0, 0.040095504373311996, 0.0, 0.05007701367139816, 0.0, 0.0, 0.0, 0.0, 0.0, 0.15650539100170135, 0.0, 0.02628341317176819, 0.0, 0.0, 0.0, 0.028518179431557655, 0.0, 0.0, 0.0, 0.0, 0.0, 0.0399492084980011, 0.10755670070648193, 0.0, 0.21080447733402252, 0.0, 0.0, 0.0, 0.0], [0.00041871145367622375, 0.0, 0.0, 0.012646561488509178, 0.0, 0.06000348925590515, 0.19136697053909302, 0.19829361140727997, 0.19290108978748322, 0.32584744691848755, 0.3355977535247803, 0.17205104231834412, 0.20373207330703735, 0.31894731521606445, 0.10358444601297379, 0.25039148330688477, 0.3078889548778534, 0.3692091405391693, 0.338410347700119, 0.2874259948730469, 0.3127255439758301, 0.13004471361637115, 0.3079131245613098, 0.3443697690963745, 0.29472044110298157, 0.31263473629951477, 0.3384969234466553, 0.36100631952285767, 0.37484729290008545, 0.4467034637928009, 0.28595274686813354, 0.4073711633682251, 0.4422752857208252, 0.30242884159088135, 0.3272371292114258, 0.09685593843460083, 0.313404381275177, 0.18020765483379364, 0.39530614018440247, 0.31742531061172485, 0.27868759632110596, 0.33417245745658875, 0.40023961663246155, 0.4236425757408142, 0.41367027163505554, 0.3678438067436218, 0.3917253613471985, 0.2990340292453766, 0.3033410906791687, 0.3259538412094116, 0.3103844225406647, 0.3601021468639374, 0.20153792202472687, 0.21778517961502075, 0.3465045392513275, 0.31007662415504456, 0.29752078652381897, 0.3677709698677063, 0.262849897146225, 0.3456979990005493, 0.26631999015808105, 0.3454838693141937, 0.28900957107543945, 0.25844916701316833, 0.3024497926235199, 0.2950693666934967, 0.22887210547924042, 0.23265914618968964, 0.24892298877239227, 0.24433250725269318, 0.22618061304092407, 0.22765769064426422, 0.23927831649780273, 0.19445419311523438, 0.2822927236557007, 0.24279823899269104, 0.2626054286956787, 0.3356437087059021, 0.1471998542547226, 0.1945437490940094, 0.24893847107887268, 0.2521305978298187, 0.23541389405727386, 0.18749456107616425, 0.1873680204153061, 0.15583078563213348, 0.027951110154390335, 0.1745973825454712, 0.18815948069095612, 0.2151569277048111, 0.13926948606967926, 0.16441170871257782, 0.14642715454101562, 0.0, 0.10672581195831299, 0.0007901712087914348, 0.14015425741672516, 0.16024427115917206, 0.13830409944057465, 0.09902438521385193, 0.16896507143974304, 0.07793718576431274, 0.07285941392183304, 0.08368251472711563, 0.13540253043174744, 0.1282726377248764, 0.1217690110206604, 0.10164739191532135, 0.08197576552629471, 0.09318993240594864, 0.04302524775266647, 0.13610415160655975, 0.1312970221042633, 0.05992159992456436, 0.12413027882575989, 0.07085362076759338, 0.040206242352724075, 0.006579373497515917, 0.06639149785041809, 0.021707676351070404, 0.06555947661399841, 0.06735258549451828, 0.0, 0.014701521955430508, 0.04089716821908951, 0.05395623669028282, 0.015284382738173008, 0.0, 0.03395001217722893, 0.013085373677313328, 0.06697739660739899, 0.05440540984272957, 0.0, 0.0, 0.0, 0.0, 0.0, 0.007338551338762045, 0.0, 0.0, 0.0, 0.0, 0.007985346019268036, 0.0, 0.022761503234505653, 0.0, 0.0, 0.0, 0.0, 0.025264162570238113, 0.0, 0.0, 0.0, 0.009280196391046047, 0.0, 0.0, 0.0017331117996945977, 0.0, 0.0, 0.0, 0.031354956328868866, 0.0, 0.0, 0.0, 0.0, 0.0, 0.008301316760480404, 0.030961209908127785, 0.0, 0.0, 0.0, 0.004534855484962463, 0.0, 0.0, 0.0, 0.0, 0.0, 0.0, 0.0, 0.0, 0.0, 0.0, 0.0, 0.0, 0.022221311926841736, 0.0, 0.0, 0.0, 0.0, 0.0, 0.0, 0.0, 0.0, 0.0, 0.0, 0.0, 0.0003201410290785134, 0.0, 0.0, 0.0, 0.020402295514941216, 0.0, 0.0, 0.0, 0.0, 0.0, 0.0, 0.0, 0.0, 0.0, 0.0, 0.000633910414762795, 0.0, 0.0, 0.0, 0.0, 0.02246970497071743, 0.0, 0.0], [0.0028668753802776337, 0.0, 0.0, 0.01210942305624485, 0.0, 0.0054697259329259396, 0.001091479673050344, 0.02762020193040371, 0.0021225407253950834, 0.005055196583271027, 0.021941473707556725, 0.02135508321225643, 0.00017849550931714475, 0.0, 0.7463119029998779, 0.06719506531953812, 0.03136724978685379, 0.017016900703310966, 0.01747375726699829, 0.007492806762456894, 0.020560139790177345, 0.74832683801651, 0.01567828468978405, 0.011534316465258598, 0.0, 0.022336887195706367, 0.003335826564580202, 0.0, 0.0870361477136612, 0.01043299213051796, 0.0, 0.0, 0.0017484213458374143, 0.0, 0.0, 0.007703251205384731, 0.0047086551785469055, 0.0, 0.0018715139012783766, 0.0, 0.0, 0.011609050445258617, 0.003382330294698477, 0.0, 0.0, 0.0, 0.0, 0.0, 0.0048965150490403175, 0.0028824512846767902, 0.0, 0.0, 0.00672546960413456, 0.0, 0.0, 0.0, 0.0, 0.0, 0.0, 0.0, 0.0, 0.0, 0.006700167898088694, 0.0, 0.004652409348636866, 0.0, 0.013145938515663147, 0.006124783307313919, 0.0017342694336548448, 0.0, 0.0, 0.0, 0.0, 0.0, 0.0, 0.0, 0.0, 0.0, 0.0013023787178099155, 0.0, 0.0, 0.0, 0.00032884906977415085, 0.0, 0.033160675317049026, 0.0, 0.6557504534721375, 0.020909877493977547, 0.010643890127539635, 0.0, 0.0, 0.0, 0.0, 0.0, 0.0, 0.0, 0.0, 0.0, 0.0, 0.0, 0.0, 0.0043077049776911736, 0.0, 0.04100041091442108, 0.0, 0.0, 0.0, 0.0, 0.0, 0.0, 0.0012540252646431327, 0.0, 0.0, 0.0, 0.0, 0.0, 0.0, 0.0, 0.0, 0.036950308829545975, 0.0, 0.0, 0.4859772026538849, 0.034507375210523605, 0.01768415980041027, 0.0, 0.0, 0.06797552853822708, 0.0020136041566729546, 0.0026170467026531696, 0.0, 0.0, 0.0, 0.0, 0.0, 0.0, 0.0, 0.0, 0.0, 0.0, 0.0, 0.0, 0.0, 0.0634278953075409, 0.0, 0.0, 0.0, 0.0, 0.0, 0.0, 0.0, 0.0, 0.006806603632867336, 0.0, 0.0, 0.0, 0.0, 0.0, 0.0, 0.0, 0.0, 0.0, 0.0, 0.0, 0.0, 0.0, 0.0, 0.0, 0.0, 0.0, 0.0, 0.0, 0.13082222640514374, 0.022784538567066193, 0.0, 0.0, 0.027024269104003906, 0.0, 0.0, 0.0, 0.0, 0.0, 0.0, 0.0, 0.0, 0.0, 0.0, 0.0, 0.0, 0.0, 0.0, 0.006283660419285297, 0.10346530377864838, 0.0, 0.0, 0.0, 0.0, 0.0, 0.0, 0.0, 0.0, 0.0, 0.0, 0.0, 0.0, 0.0, 0.05971863120794296, 0.0, 0.06412632018327713, 0.0, 0.00588566530495882, 0.0, 0.006568158511072397, 0.0, 0.0, 0.0, 0.0, 0.0, 0.0], [0.0, 0.0, 0.0, 0.5098298192024231, 0.0, 0.0, 0.0, 0.009175027720630169, 0.0, 0.0, 0.0, 0.0, 0.0, 0.0, 0.0, 0.337890088558197, 0.0, 0.0, 0.0, 0.0, 0.0, 0.0, 0.0, 0.0, 0.0, 0.35700979828834534, 0.0, 0.0, 0.0, 0.0, 0.0, 0.0, 0.0, 0.0, 0.0, 0.0, 0.0, 0.0, 0.0, 0.0, 0.0, 0.0, 0.0, 0.0, 0.0, 0.0, 0.0, 0.007468526251614094, 0.0, 0.3708234429359436, 0.006196212023496628, 0.0048735253512859344, 0.0, 0.0025088535621762276, 0.0029957445804029703, 0.0, 0.0, 0.006077962461858988, 0.0014112564967945218, 0.010150894522666931, 0.002848707837983966, 0.011130238883197308, 0.0021154507994651794, 0.008086539804935455, 0.013184217736124992, 0.004353121388703585, 0.00016205618157982826, 0.4501263499259949, 0.01596415415406227, 0.005877703428268433, 0.4660699963569641, 0.0, 0.0, 0.012533744797110558, 0.019345758482813835, 0.001456145429983735, 0.0, 0.010307349264621735, 0.0, 0.0, 0.015545357950031757, 0.014555471017956734, 0.00020648635108955204, 0.0025126186665147543, 0.006105125416070223, 0.009776652790606022, 0.01491041574627161, 0.3773482143878937, 0.01957254856824875, 0.014133352786302567, 0.0011592836817726493, 0.0056995064951479435, 0.0024571388494223356, 0.0, 0.3591552674770355, 0.018588554114103317, 0.008506808429956436, 0.007843940518796444, 0.0047543891705572605, 0.0025813644751906395, 0.008118387311697006, 0.008236289024353027, 0.007015523500740528, 0.018952732905745506, 0.008127540349960327, 0.0, 0.006383451633155346, 0.00982784666121006, 0.4302990734577179, 0.03142481669783592, 0.0035710984375327826, 0.015965595841407776, 0.0, 0.44713306427001953, 0.008203227072954178, 0.018250105902552605, 0.4755527079105377, 0.014105027541518211, 0.010964712128043175, 0.007508584298193455, 0.021967262029647827, 0.009630429558455944, 0.005812155082821846, 0.3717343807220459, 0.010912163183093071, 0.014704978093504906, 0.015517494641244411, 0.012529121711850166, 0.019873028621077538, 0.0050098709762096405, 0.0, 0.005024988204240799, 0.009729930199682713, 0.01000702753663063, 0.42895376682281494, 0.026324771344661713, 0.004167990293353796, 0.01868537627160549, 0.008663028478622437, 0.0047576576471328735, 0.408733069896698, 0.015893220901489258, 0.005398245062679052, 0.005142273847013712, 0.0071443114429712296, 0.0041272458620369434, 0.4401533305644989, 0.02184584178030491, 0.0, 0.010631585493683815, 0.0, 0.0026335744187235832, 0.0016526394756510854, 0.0009178416221402586, 0.0, 0.0029612253420054913, 0.003870453452691436, 0.0, 0.0, 0.0, 0.0, 0.0, 0.0, 0.0, 0.0, 0.0, 0.0, 0.0070703886449337006, 0.0, 0.0, 0.0, 0.0, 0.0, 0.015735018998384476, 0.0, 0.0, 0.0, 0.0, 0.0, 0.0, 0.0, 0.0, 0.0, 0.0, 0.0, 0.0, 0.0, 0.0, 0.0, 0.0, 0.0, 0.0, 0.0, 0.0, 0.0, 0.0, 0.0, 0.0, 0.0, 0.0, 0.0, 0.0, 0.0, 0.0, 0.0, 0.0, 0.0, 0.0, 0.0, 0.4276816248893738, 0.0, 0.0, 0.0, 0.4255821108818054, 0.003373904386535287, 0.0, 0.0, 0.0, 0.0], [0.0, 0.0, 0.0, 0.0, 0.0, 0.00047063862439244986, 0.0, 0.0, 0.0, 0.0, 0.0, 0.6402985453605652, 0.4441607594490051, 0.0, 0.0, 0.0, 0.0, 0.0, 0.0, 0.0013570137089118361, 0.0, 0.0, 0.03984600305557251, 0.0, 0.06877095252275467, 0.0, 0.05794937536120415, 0.0, 0.0, 0.0, 0.0, 0.0, 0.0, 0.0, 0.00861564464867115, 0.0, 0.0, 0.0, 0.0, 0.0921441838145256, 0.02573600970208645, 0.0, 0.0, 0.0, 0.0, 4.722837184090167e-05, 0.0, 0.0, 0.040404628962278366, 0.004342230036854744, 0.030141130089759827, 0.008948896080255508, 0.6697588562965393, 0.41917943954467773, 0.0023781699128448963, 0.009725457057356834, 0.0939679890871048, 0.0, 0.0641588419675827, 0.0, 0.09119021892547607, 0.0, 0.0, 0.0, 0.0, 0.0021152524277567863, 0.08719512820243835, 0.0, 0.09380953758955002, 0.03168100491166115, 0.0, 0.10690872371196747, 0.11244812607765198, 0.15727253258228302, 0.0, 0.024986248463392258, 0.03319444879889488, 0.0, 0.0, 0.09501966834068298, 0.0, 0.0, 0.0017877949867397547, 0.033073604106903076, 0.008644594810903072, 0.022121887654066086, 0.00397608382627368, 0.01593095064163208, 0.0, 0.0, 0.0, 0.0, 0.0, 0.0, 0.0, 0.0, 0.0, 0.0, 0.0, 0.005964093375951052, 0.0, 0.6569175720214844, 0.4187568426132202, 0.0, 0.0, 0.006053078919649124, 0.00805282685905695, 0.0, 0.0, 0.0, 0.0, 0.0, 0.0, 0.0, 0.01749865896999836, 0.003606093116104603, 0.0, 0.0, 0.020641962066292763, 0.03879622370004654, 0.0, 0.025803813710808754, 0.0, 0.0038696567062288523, 0.0, 0.0, 0.012224833481013775, 0.005507431458681822, 0.0, 0.016105974093079567, 0.004794039763510227, 0.010966354981064796, 0.005096706096082926, 0.03324216604232788, 0.0, 0.04174065962433815, 0.013399647548794746, 0.0, 0.0044713094830513, 0.009786510840058327, 0.0, 0.040126699954271317, 0.025348078459501266, 0.014399409294128418, 0.0, 0.024620411917567253, 0.0, 0.0, 0.030243882909417152, 0.0009002672741189599, 0.04087049514055252, 0.0, 0.0, 0.0, 0.008951445110142231, 0.006553942337632179, 0.0, 0.0, 0.01343921385705471, 0.004083475563675165, 0.0, 0.6534117460250854, 0.4206988215446472, 0.022226758301258087, 0.005910049192607403, 0.011937577277421951, 0.010312825441360474, 0.0, 0.0, 0.024198167026042938, 0.0, 0.010962333530187607, 0.0, 0.0, 0.0, 0.0, 0.0, 0.0, 0.0, 0.0, 0.0, 0.0026859089266508818, 0.6486964821815491, 0.4239378571510315, 0.0, 0.0, 0.0, 0.0, 0.0, 0.0, 0.0, 0.0, 0.0, 0.0, 0.0, 0.0, 0.0, 0.008173448033630848, 0.0, 0.01211599726229906, 0.0, 0.0620742067694664, 0.0, 0.0014046302530914545, 0.024924086406826973, 0.01934189908206463, 0.0, 0.0, 0.0, 0.0, 0.0, 0.0, 0.08731494098901749, 0.0, 0.0, 0.0, 0.018420590087771416, 0.6521138548851013, 0.6521138548851013], [0.0, 0.016406912356615067, 0.0, 0.0, 0.0, 0.0, 0.0, 0.0, 0.0, 0.0, 0.0, 0.0, 0.0, 0.0, 0.0, 0.0, 0.0, 0.0, 0.0, 0.0, 0.0, 0.0, 0.0, 0.0, 0.0, 0.0, 0.0, 0.0, 0.0, 0.0, 0.0, 0.005331495311111212, 0.0, 0.0, 0.0, 0.0, 0.0, 0.0, 0.0, 0.0, 0.0, 0.0, 0.0, 0.01534871943295002, 0.0, 0.0, 0.010426369495689869, 0.0, 0.0, 0.0, 0.0, 0.0, 0.0, 0.0, 0.0013888145331293344, 0.0, 0.03258073329925537, 0.04567384719848633, 0.03013216145336628, 0.04437919706106186, 0.053942807018756866, 0.04163838177919388, 0.015979360789060593, 0.07204392552375793, 0.04485661908984184, 0.044134076684713364, 0.033053502440452576, 0.0, 0.02607300505042076, 0.058770086616277695, 0.0, 0.042835772037506104, 0.0602232851088047, 0.08192112296819687, 0.1306842714548111, 0.07928823679685593, 0.10058683156967163, 0.13838380575180054, 0.0, 0.056323904544115067, 0.15331938862800598, 0.14043666422367096, 0.12603111565113068, 0.11849420517683029, 0.17058199644088745, 0.15137317776679993, 0.13820047676563263, 0.06487852334976196, 0.16768990457057953, 0.2114015817642212, 0.0, 0.1845807582139969, 0.1553357094526291, 0.09632277488708496, 0.1118985265493393, 0.14092396199703217, 0.20437397062778473, 0.25991156697273254, 0.20816145837306976, 0.22262118756771088, 0.25889554619789124, 0.07267080992460251, 0.15188945829868317, 0.27477601170539856, 0.2824959456920624, 0.2395607829093933, 0.2694240212440491, 0.20560024678707123, 0.14761792123317719, 0.18171383440494537, 0.04086076095700264, 0.29289892315864563, 0.28090885281562805, 0.183493971824646, 0.30835628509521484, 0.33094149827957153, 0.1959366798400879, 0.2500540018081665, 0.2415025681257248, 0.2463310956954956, 0.36247095465660095, 0.26991966366767883, 0.29595816135406494, 0.225810706615448, 0.29331958293914795, 0.3206290602684021, 0.3158552944660187, 0.3095483183860779, 0.4085460305213928, 0.2617281973361969, 0.29549044370651245, 0.34343209862709045, 0.33809828758239746, 0.29751062393188477, 0.22722575068473816, 0.287837952375412, 0.24152010679244995, 0.34429997205734253, 0.3396172821521759, 0.309429407119751, 0.24982154369354248, 0.26831313967704773, 0.3526242971420288, 0.3705810010433197, 0.42606908082962036, 0.3676905035972595, 0.25799399614334106, 0.32832521200180054, 0.26723697781562805, 0.35533708333969116, 0.31047502160072327, 0.4302006661891937, 0.06577018648386002, 0.4076661765575409, 0.3446729779243469, 0.41282737255096436, 0.4732183814048767, 0.3120552897453308, 0.34563183784484863, 0.3646509051322937, 0.4108869135379791, 0.17009352147579193, 0.2437814474105835, 0.41771841049194336, 0.3363949656486511, 0.3195499777793884, 0.34303000569343567, 0.40726521611213684, 0.3893751800060272, 0.32272279262542725, 0.3323122262954712, 0.34517741203308105, 0.3978537321090698, 0.45076242089271545, 0.5082765817642212, 0.41817283630371094, 0.4250492453575134, 0.5357432961463928, 0.35771673917770386, 0.352815717458725, 0.17213556170463562, 0.3420962989330292, 0.17498618364334106, 0.24978263676166534, 0.4778253436088562, 0.39181584119796753, 0.4406587481498718, 0.39992445707321167, 0.5003752708435059, 0.3258812129497528, 0.3410593271255493, 0.4005270302295685, 0.45749422907829285, 0.36948758363723755, 0.5546650886535645, 0.09132939577102661, 0.4948355257511139, 0.4508521556854248, 0.4021439850330353, 0.35196948051452637, 0.4349493384361267, 0.3397790789604187, 0.4429900348186493, 0.27547165751457214, 0.35047459602355957, 0.3098337948322296, 0.4702368974685669, 0.4874511659145355, 0.41869309544563293, 0.3225730061531067, 0.3625560998916626, 0.333935022354126, 0.31436771154403687, 0.30122244358062744, 0.3206825256347656, 0.07810308039188385, 0.28667303919792175, 0.1457778513431549, 0.1457778513431549], [0.08865292370319366, 0.9266995787620544, 0.9985474348068237, 0.6672930121421814, 0.8694475293159485, 0.7148020267486572, 0.32620927691459656, 0.4291583299636841, 0.30200302600860596, 0.10967162996530533, 0.19236931204795837, 0.10445714741945267, 0.061616525053977966, 0.09938107430934906, 0.1103341281414032, 0.1838519275188446, 0.09326021373271942, 0.10525017231702805, 0.11288102716207504, 0.07133796811103821, 0.09913887828588486, 0.015181790105998516, 0.041108425706624985, 0.07932756841182709, 0.0, 0.03510633483529091, 0.012724579311907291, 0.0, 0.0, 0.0, 0.0, 0.0005823001265525818, 0.0, 0.04482191801071167, 0.0, 0.0, 0.0388583280146122, 0.0, 0.0, 0.0, 0.0, 0.0, 0.004825077019631863, 0.0, 0.0, 0.0, 0.0, 0.0649779662489891, 0.057823698967695236, 0.0, 0.0, 0.0, 0.0, 0.0, 0.0, 0.0, 0.0, 0.0, 0.0, 0.0, 0.0, 0.0, 0.0, 0.0, 0.024419162422418594, 0.0, 0.03169207274913788, 0.0, 0.03597426414489746, 0.021796822547912598, 0.0, 0.03545403480529785, 0.0, 0.0, 0.0, 0.015550674870610237, 0.0, 0.0, 0.0, 0.0, 0.0, 0.0, 0.0, 0.0, 0.0, 0.0, 0.0, 0.0, 0.0, 0.0, 0.0, 0.0, 0.0, 0.0, 0.0, 0.008742989040911198, 0.0, 0.0, 0.0, 0.0, 0.0, 0.0, 0.0, 0.0, 0.0, 0.0, 0.0, 0.0, 0.0, 0.013306066393852234, 0.0, 0.0, 0.059182025492191315, 0.0, 0.040137238800525665, 0.0, 0.0, 0.13008230924606323, 0.0, 0.0, 0.0, 0.009771219454705715, 0.0, 0.0, 0.0, 0.0, 0.0, 0.04126609116792679, 0.0, 0.0, 0.0, 0.0, 0.01901865378022194, 0.013724771328270435, 0.0, 0.00954233668744564, 0.0, 0.0, 0.019821511581540108, 0.0, 0.0, 0.0, 0.0, 0.0, 0.0, 0.0027689996641129255, 0.0, 0.022452449426054955, 0.04469846934080124, 0.0, 0.0, 0.0, 0.0, 0.0, 0.0, 0.0, 0.0, 0.0, 0.0, 0.0, 0.0, 0.0, 0.0, 0.0, 0.0, 0.0, 0.0, 0.0, 0.21992477774620056, 0.03691632300615311, 0.047923002392053604, 0.0, 0.0, 0.002085828222334385, 0.0, 0.0, 0.0, 0.0, 0.0, 0.13418740034103394, 0.0, 0.005453112535178661, 0.0, 0.0, 0.0, 0.21230728924274445, 0.03583625331521034, 0.0, 0.0, 0.08052249252796173, 0.0, 0.03484482690691948, 0.0, 0.0, 0.0, 0.0, 0.0, 0.0, 0.28226327896118164, 0.0, 0.0, 0.011551178991794586, 0.0, 0.0, 0.00679813651368022, 0.031549934297800064, 0.0, 0.0, 0.0, 0.0, 0.0, 0.0, 0.0, 0.0, 0.0, 0.0, 0.011288708075881004, 0.0, 0.0], [0.005701505579054356, 0.0, 0.004818009678274393, 0.0, 0.0, 0.0, 0.0, 0.0, 0.0, 0.0, 0.0, 0.0, 0.0, 0.0, 0.0, 0.0, 0.0, 0.0, 0.0, 0.0, 0.014177058823406696, 0.0, 0.0007071232539601624, 0.0029353841673582792, 0.014036325737833977, 0.0, 0.0, 0.0, 0.0, 0.0, 0.0, 0.0, 0.0, 0.0, 0.0, 0.0, 0.0, 0.0, 0.0, 0.0, 0.011077736504375935, 0.0, 0.0, 0.0, 0.0, 0.010382604785263538, 0.0, 0.0, 0.007424009498208761, 0.0, 0.0, 0.0, 0.0, 0.0, 0.006767354905605316, 0.1062818244099617, 0.0077562713995575905, 0.0, 0.0, 0.0, 0.002597351325675845, 0.0, 0.03539007902145386, 0.01345741655677557, 0.004626333247870207, 0.0005645135533995926, 0.0048674787394702435, 0.0, 0.015541382133960724, 0.06663621962070465, 0.0, 0.0, 0.006044113077223301, 0.0011785554233938456, 0.0, 0.04012696444988251, 0.0, 0.0, 0.0, 0.01151345856487751, 0.004498753696680069, 0.0, 0.002843104302883148, 0.015107957646250725, 0.0, 0.0022486415691673756, 0.009120575152337551, 0.0, 0.0, 0.0, 1.2693525552749634, 0.018215063959360123, 0.0, 0.0, 0.004699725657701492, 0.012318117544054985, 0.0, 0.0, 0.020109230652451515, 0.006079548504203558, 0.0, 0.010832531377673149, 0.0, 0.0, 0.0, 0.0, 0.0, 0.012597670778632164, 0.0037947415839880705, 0.0, 0.0, 0.0, 0.012318616732954979, 0.0006153009016998112, 0.010453993454575539, 0.0007653211941942573, 0.002540303161367774, 0.0005938527756370604, 0.01998170092701912, 0.0, 0.0, 0.032082706689834595, 0.024455305188894272, 0.0, 0.0, 0.015103409066796303, 0.04624611884355545, 0.051182717084884644, 0.0006445162580348551, 0.0, 0.0, 0.0, 0.0, 0.011483577080070972, 0.00037478344165720046, 0.018788261339068413, 0.005296229850500822, 0.08302217721939087, 0.0, 0.019949328154325485, 0.0, 0.018439294770359993, 0.02395068295300007, 0.0, 0.0, 0.0, 0.0, 0.0, 0.040807195007801056, 0.0, 0.01250394806265831, 0.0, 1.3374048471450806, 0.0, 0.009432153776288033, 0.0, 0.0, 0.006083035841584206, 0.043190356343984604, 0.0, 0.0, 0.012134012766182423, 0.0, 0.010859540663659573, 0.0, 0.04025115817785263, 0.0, 0.0, 0.002558374311774969, 0.019975366070866585, 0.0010052856523543596, 0.010905474424362183, 0.0, 0.0, 0.0, 0.0, 0.0, 0.0, 0.0, 0.08286722004413605, 0.0, 0.0, 0.0029686850029975176, 0.0, 0.0, 0.0, 0.0, 0.0, 0.0, 0.06797253340482712, 0.0020453915931284428, 0.01953650265932083, 0.0, 0.0, 0.0, 1.3653024435043335, 0.01099684089422226, 0.0, 0.0, 0.012370925396680832, 0.0, 0.0, 0.0, 0.021636996418237686, 0.010968931019306183, 0.024342279881238937, 0.0, 0.0, 0.024240080267190933, 0.0, 0.00046864323667250574, 0.11212392896413803, 0.0, 0.0, 0.0, 0.0, 0.0, 0.0021434074733406305, 0.0021434074733406305], [0.0, 0.0, 0.0, 0.0, 0.07077760249376297, 0.0, 0.017565475776791573, 0.0, 0.0, 0.010997915640473366, 0.0, 0.0, 0.0, 0.011701192706823349, 0.0, 0.0, 0.0, 0.0, 0.0, 0.0, 0.0, 0.0, 0.0, 0.0, 0.18038775026798248, 0.0, 0.22206099331378937, 0.05171402171254158, 0.010928039439022541, 0.0, 0.000962684687692672, 0.0, 0.0, 0.10311131924390793, 0.07141798734664917, 0.0, 0.0, 0.008242073468863964, 0.0, 0.032894909381866455, 0.024236416444182396, 0.003393925493583083, 0.0, 0.0, 0.0, 0.0, 0.0, 0.11099109798669815, 0.02394021674990654, 0.0, 0.06822206825017929, 0.00463190209120512, 0.0, 0.0, 0.0, 0.12852558493614197, 0.10908811539411545, 0.0, 0.01754271611571312, 0.0, 0.022028546780347824, 0.0, 0.0, 0.0, 0.0, 0.0, 0.0065334150567650795, 0.0, 0.05767833814024925, 0.0, 0.0, 0.06925734877586365, 0.040388450026512146, 0.05720093846321106, 0.0, 0.006760943681001663, 0.06790607422590256, 0.013451721519231796, 0.4814146161079407, 0.19209428131580353, 0.018211496993899345, 0.0, 0.015762001276016235, 0.0668974295258522, 0.0, 0.0, 0.0, 0.0, 0.004102910868823528, 0.0, 0.0, 0.0, 0.009810371324419975, 0.0, 0.0, 0.0, 0.0, 0.0, 0.0, 0.011876720935106277, 0.006927261129021645, 0.0, 0.0, 0.0, 0.0, 0.02549050748348236, 0.01699378713965416, 0.1036188155412674, 0.009442067705094814, 0.12895692884922028, 0.5308208465576172, 0.027770059183239937, 0.02406461536884308, 0.0, 0.0062158918008208275, 0.0, 0.0, 0.05845329537987709, 0.02429250441491604, 0.0, 0.0, 0.0, 0.0, 0.0, 0.0, 0.0, 0.0, 0.0, 0.0, 0.0, 0.02151881344616413, 0.014943907037377357, 0.05869563668966293, 0.017079344019293785, 0.0, 0.07261943072080612, 0.0974440798163414, 0.0, 0.05147620663046837, 0.10395360738039017, 0.00989570003002882, 0.18460382521152496, 0.0, 0.003813469782471657, 0.0, 0.013694839552044868, 0.0, 0.05128759145736694, 0.05678490921854973, 0.006080601830035448, 0.01384340412914753, 0.0, 0.0, 0.0, 0.034538302570581436, 0.0, 0.0, 0.02317056618630886, 0.0, 0.0, 0.0, 0.0, 0.0, 0.0, 0.0, 0.08870217949151993, 0.0479695126414299, 0.0, 0.02802438661456108, 0.020010843873023987, 0.011206083931028843, 0.08787792921066284, 0.03879648074507713, 0.0, 0.0, 0.0, 0.0, 0.0, 0.006172508466988802, 0.0, 0.41724327206611633, 0.09592866152524948, 0.0, 0.0, 0.0, 0.03301147744059563, 0.0, 0.015664564445614815, 0.0, 0.07730359584093094, 0.10693416744470596, 0.0, 0.0, 0.0334678515791893, 0.0, 0.0, 0.0, 0.0, 0.007836887612938881, 0.0, 0.0, 0.060871995985507965, 0.0, 0.12382224202156067, 0.015964942052960396, 0.0, 0.0, 0.0, 0.0, 0.0, 0.00284476182423532, 0.011141198687255383, 0.043827276676893234, 0.0, 0.09548735618591309, 0.5107822418212891, 0.07960253208875656, 0.0, 0.0]]]})\n",
              "         }, function (err) {\n",
              "            console.log(err);\n",
              "        })"
            ],
            "text/plain": [
              "<IPython.core.display.Javascript object>"
            ]
          },
          "metadata": {
            "tags": []
          }
        }
      ]
    },
    {
      "cell_type": "code",
      "metadata": {
        "colab": {
          "base_uri": "https://localhost:8080/",
          "height": 364
        },
        "id": "tjqnypNy3xFb",
        "outputId": "14d99194-283c-4e78-bc1a-248885ec1d0b"
      },
      "source": [
        "# Factorize the activations of layers from 1 to 5\n",
        "nmf_3 = output.run_nmf(n_components=10, from_layer=0, to_layer=2)\n",
        "nmf_3.explore()"
      ],
      "execution_count": 162,
      "outputs": [
        {
          "output_type": "display_data",
          "data": {
            "text/html": [
              "<html lang=\"en\">\n",
              "<script src=\"https://requirejs.org/docs/release/2.3.6/minified/require.js\"></script>\n",
              "<script>\n",
              "    var ecco_url = 'https://storage.googleapis.com/ml-intro/ecco/'\n",
              "    // var ecco_url = 'http://localhost:8000/ecco/'\n",
              "\n",
              "    if (window.ecco === undefined) window.ecco = {}\n",
              "\n",
              "    requirejs.config({\n",
              "        urlArgs: \"bust=\" + (new Date()).getTime(),\n",
              "        nodeRequire: require,\n",
              "        paths: {\n",
              "            d3: \"https://d3js.org/d3.v5.min\",\n",
              "            \"d3-array\": \"https://d3js.org/d3-array.v2.min\",\n",
              "            jquery: \"https://code.jquery.com/jquery-3.5.1.min\",\n",
              "            // oldEcco: ecco_url + 'ecco',\n",
              "            ecco: ecco_url + 'js/0.0.4/ecco-bundle.min',\n",
              "            xregexp: 'https://cdnjs.cloudflare.com/ajax/libs/xregexp/3.2.0/xregexp-all.min'\n",
              "        }\n",
              "    });\n",
              "    requirejs(['d3'],\n",
              "        function (d3) {\n",
              "            d3.select('#css').attr('href', ecco_url + 'html/styles.css')\n",
              "        })\n",
              "\n",
              "    console.log('Ecco initialize.')\n",
              "</script>\n",
              "\n",
              "<head>\n",
              "    <link id='css' rel=\"stylesheet\" type=\"text/css\">\n",
              "</head>\n"
            ],
            "text/plain": [
              "<IPython.core.display.HTML object>"
            ]
          },
          "metadata": {
            "tags": []
          }
        },
        {
          "output_type": "display_data",
          "data": {
            "text/html": [
              "<script>\n",
              "    // console.log('defining basic')\n",
              "    define('basic', ['d3'],\n",
              "        function (d3) {\n",
              "            return {\n",
              "                init: function (viz_id = null) {\n",
              "\n",
              "                    // console.log('basic init')\n",
              "                    if (viz_id == null){\n",
              "                        viz_id = \"viz_\" + Math.round(Math.random() * 10000000)\n",
              "                    }\n",
              "                    const div = d3.select('#basic').attr('id', viz_id),\n",
              "                        div_parent = d3.select('#' + viz_id).node().parentNode\n",
              "\n",
              "                    // Link to CSS file\n",
              "                    d3.select(div_parent).insert('link')\n",
              "                        .attr('rel', 'stylesheet')\n",
              "                        .attr('type', 'text/css')\n",
              "                        .attr('href', ecco_url + 'html/styles.css')\n",
              "\n",
              "                    return viz_id\n",
              "                }\n",
              "            }\n",
              "        }, function (err) {console.log(err);}\n",
              "    )\n",
              "    // console.log('after defining basic')\n",
              "\n",
              "</script>\n",
              "<div id=\"basic\"></div>\n"
            ],
            "text/plain": [
              "<IPython.core.display.HTML object>"
            ]
          },
          "metadata": {
            "tags": []
          }
        },
        {
          "output_type": "display_data",
          "data": {
            "application/javascript": [
              "\n",
              "         requirejs(['basic', 'ecco'], function(basic, ecco){\n",
              "            const viz_id = basic.init()\n",
              "            ecco.interactiveTokensAndFactorSparklines(viz_id, {'tokens': [{'token': 'هر', 'token_id': 458, 'type': 'input', 'position': 0}, {'token': ' سال', 'token_id': 415, 'type': 'input', 'position': 1}, {'token': ' ده', 'token_id': 546, 'type': 'input', 'position': 2}, {'token': '\\u200c', 'token_id': 285, 'type': 'input', 'position': 3}, {'token': 'ها', 'token_id': 350, 'type': 'input', 'position': 4}, {'token': ' هزار', 'token_id': 841, 'type': 'input', 'position': 5}, {'token': ' مقاله', 'token_id': 1895, 'type': 'input', 'position': 6}, {'token': ' و', 'token_id': 293, 'type': 'input', 'position': 7}, {'token': ' گزارش', 'token_id': 893, 'type': 'input', 'position': 8}, {'token': ' راجع', 'token_id': 5945, 'type': 'input', 'position': 9}, {'token': ' به', 'token_id': 303, 'type': 'input', 'position': 10}, {'token': ' هوش', 'token_id': 976, 'type': 'input', 'position': 11}, {'token': ' مصنوعی', 'token_id': 2734, 'type': 'input', 'position': 12}, {'token': ' منتشر', 'token_id': 1099, 'type': 'input', 'position': 13}, {'token': ' می', 'token_id': 310, 'type': 'input', 'position': 14}, {'token': '\\u200c', 'token_id': 285, 'type': 'input', 'position': 15}, {'token': 'شود', 'token_id': 431, 'type': 'input', 'position': 16}, {'token': '،', 'token_id': 305, 'type': 'input', 'position': 17}, {'token': ' اما', 'token_id': 492, 'type': 'input', 'position': 18}, {'token': ' اندکی', 'token_id': 4111, 'type': 'input', 'position': 19}, {'token': ' زمان', 'token_id': 701, 'type': 'input', 'position': 20}, {'token': ' می', 'token_id': 310, 'type': 'input', 'position': 21}, {'token': ' برد', 'token_id': 1981, 'type': 'input', 'position': 22}, {'token': ' تا', 'token_id': 399, 'type': 'input', 'position': 23}, {'token': ' پتانسیل', 'token_id': 6111, 'type': 'input', 'position': 24}, {'token': '\\u200c', 'token_id': 285, 'type': 'input', 'position': 25}, {'token': 'های', 'token_id': 325, 'type': 'input', 'position': 26}, {'token': ' مطرح', 'token_id': 2031, 'type': 'input', 'position': 27}, {'token': ' شده', 'token_id': 401, 'type': 'input', 'position': 28}, {'token': ' در', 'token_id': 298, 'type': 'input', 'position': 29}, {'token': ' هرکدام', 'token_id': 6242, 'type': 'input', 'position': 30}, {'token': ' از', 'token_id': 312, 'type': 'input', 'position': 31}, {'token': ' این', 'token_id': 326, 'type': 'input', 'position': 32}, {'token': ' مقالات', 'token_id': 5320, 'type': 'input', 'position': 33}, {'token': ' تأثیری', 'token_id': 11760, 'type': 'input', 'position': 34}, {'token': ' واضح', 'token_id': 5272, 'type': 'input', 'position': 35}, {'token': ' و', 'token_id': 293, 'type': 'input', 'position': 36}, {'token': ' محسوس', 'token_id': 12950, 'type': 'input', 'position': 37}, {'token': ' بر', 'token_id': 327, 'type': 'input', 'position': 38}, {'token': ' دنیای', 'token_id': 2112, 'type': 'input', 'position': 39}, {'token': ' واقعی', 'token_id': 2200, 'type': 'input', 'position': 40}, {'token': ' بگذارند', 'token_id': 6406, 'type': 'input', 'position': 41}, {'token': '.', 'token_id': 24, 'type': 'input', 'position': 42}, {'token': ' در', 'token_id': 298, 'type': 'input', 'position': 43}, {'token': ' این', 'token_id': 326, 'type': 'input', 'position': 44}, {'token': ' بین', 'token_id': 619, 'type': 'input', 'position': 45}, {'token': '،', 'token_id': 305, 'type': 'input', 'position': 46}, {'token': ' بزرگترین', 'token_id': 3070, 'type': 'input', 'position': 47}, {'token': ' سرمایه', 'token_id': 1266, 'type': 'input', 'position': 48}, {'token': '\\u200c', 'token_id': 285, 'type': 'input', 'position': 49}, {'token': 'گذاران', 'token_id': 4830, 'type': 'input', 'position': 50}, {'token': ' روی', 'token_id': 539, 'type': 'input', 'position': 51}, {'token': ' هوش', 'token_id': 976, 'type': 'input', 'position': 52}, {'token': ' مصنوعی', 'token_id': 2734, 'type': 'input', 'position': 53}, {'token': ' یعنی', 'token_id': 1247, 'type': 'input', 'position': 54}, {'token': ' امثال', 'token_id': 13505, 'type': 'input', 'position': 55}, {'token': ' آلفابت', 'token_id': 14405, 'type': 'input', 'position': 56}, {'token': '،', 'token_id': 305, 'type': 'input', 'position': 57}, {'token': ' اپل', 'token_id': 1190, 'type': 'input', 'position': 58}, {'token': '،', 'token_id': 305, 'type': 'input', 'position': 59}, {'token': ' فیسبوک', 'token_id': 3942, 'type': 'input', 'position': 60}, {'token': '،', 'token_id': 305, 'type': 'input', 'position': 61}, {'token': ' باید', 'token_id': 544, 'type': 'input', 'position': 62}, {'token': 'وس', 'token_id': 612, 'type': 'input', 'position': 63}, {'token': ' و', 'token_id': 293, 'type': 'input', 'position': 64}, {'token': ' دیگر', 'token_id': 530, 'type': 'input', 'position': 65}, {'token': ' اسب', 'token_id': 2953, 'type': 'input', 'position': 66}, {'token': '\\u200c', 'token_id': 285, 'type': 'input', 'position': 67}, {'token': 'های', 'token_id': 325, 'type': 'input', 'position': 68}, {'token': ' تک', 'token_id': 1396, 'type': 'input', 'position': 69}, {'token': '\\u200c', 'token_id': 285, 'type': 'input', 'position': 70}, {'token': 'شاخ', 'token_id': 12504, 'type': 'input', 'position': 71}, {'token': ' دنیای', 'token_id': 2112, 'type': 'input', 'position': 72}, {'token': ' تکنولوژی', 'token_id': 2061, 'type': 'input', 'position': 73}, {'token': '،', 'token_id': 305, 'type': 'input', 'position': 74}, {'token': ' بخش', 'token_id': 710, 'type': 'input', 'position': 75}, {'token': ' اعظمی', 'token_id': 15349, 'type': 'input', 'position': 76}, {'token': ' از', 'token_id': 312, 'type': 'input', 'position': 77}, {'token': ' دستاوردهای', 'token_id': 7442, 'type': 'input', 'position': 78}, {'token': ' تکنولوژیک', 'token_id': 17304, 'type': 'input', 'position': 79}, {'token': ' خود', 'token_id': 377, 'type': 'input', 'position': 80}, {'token': ' را', 'token_id': 330, 'type': 'input', 'position': 81}, {'token': ' پشت', 'token_id': 1059, 'type': 'input', 'position': 82}, {'token': ' درهای', 'token_id': 10399, 'type': 'input', 'position': 83}, {'token': ' بسته', 'token_id': 1746, 'type': 'input', 'position': 84}, {'token': ' پنهان', 'token_id': 4811, 'type': 'input', 'position': 85}, {'token': ' می', 'token_id': 310, 'type': 'input', 'position': 86}, {'token': '\\u200c', 'token_id': 285, 'type': 'input', 'position': 87}, {'token': 'کنند', 'token_id': 606, 'type': 'input', 'position': 88}, {'token': '.', 'token_id': 24, 'type': 'input', 'position': 89}, {'token': ' ', 'token_id': 231, 'type': 'input', 'position': 90}, {'token': ' اگر', 'token_id': 574, 'type': 'input', 'position': 91}, {'token': ' بخواهیم', 'token_id': 6385, 'type': 'input', 'position': 92}, {'token': ' واضح', 'token_id': 5272, 'type': 'input', 'position': 93}, {'token': '\\u200c', 'token_id': 285, 'type': 'input', 'position': 94}, {'token': 'تر', 'token_id': 344, 'type': 'input', 'position': 95}, {'token': ' بگوییم', 'token_id': 4676, 'type': 'input', 'position': 96}, {'token': '،', 'token_id': 305, 'type': 'input', 'position': 97}, {'token': ' وقتی', 'token_id': 1277, 'type': 'input', 'position': 98}, {'token': ' صحبت', 'token_id': 1868, 'type': 'input', 'position': 99}, {'token': ' از', 'token_id': 312, 'type': 'input', 'position': 100}, {'token': ' هوش', 'token_id': 976, 'type': 'input', 'position': 101}, {'token': ' مصنوعی', 'token_id': 2734, 'type': 'input', 'position': 102}, {'token': ' باشد', 'token_id': 577, 'type': 'input', 'position': 103}, {'token': '،', 'token_id': 305, 'type': 'input', 'position': 104}, {'token': ' لیست', 'token_id': 2740, 'type': 'input', 'position': 105}, {'token': ' کردن', 'token_id': 714, 'type': 'input', 'position': 106}, {'token': ' مهم', 'token_id': 871, 'type': 'input', 'position': 107}, {'token': '\\u200c', 'token_id': 285, 'type': 'input', 'position': 108}, {'token': 'ترین', 'token_id': 496, 'type': 'input', 'position': 109}, {'token': ' دستاوردها', 'token_id': 20176, 'type': 'input', 'position': 110}, {'token': ' در', 'token_id': 298, 'type': 'input', 'position': 111}, {'token': ' بازه', 'token_id': 4051, 'type': 'input', 'position': 112}, {'token': '\\u200c', 'token_id': 285, 'type': 'input', 'position': 113}, {'token': 'ای', 'token_id': 289, 'type': 'input', 'position': 114}, {'token': ' یک', 'token_id': 367, 'type': 'input', 'position': 115}, {'token': '\\u200c', 'token_id': 285, 'type': 'input', 'position': 116}, {'token': 'ساله', 'token_id': 6857, 'type': 'input', 'position': 117}, {'token': ' کاری', 'token_id': 1379, 'type': 'input', 'position': 118}, {'token': ' آسان', 'token_id': 3109, 'type': 'input', 'position': 119}, {'token': ' به', 'token_id': 303, 'type': 'input', 'position': 120}, {'token': ' حساب', 'token_id': 1650, 'type': 'input', 'position': 121}, {'token': ' نمی', 'token_id': 624, 'type': 'input', 'position': 122}, {'token': '\\u200c', 'token_id': 285, 'type': 'input', 'position': 123}, {'token': 'آید', 'token_id': 1721, 'type': 'input', 'position': 124}, {'token': '؛', 'token_id': 556, 'type': 'input', 'position': 125}, {'token': ' حداقل', 'token_id': 2235, 'type': 'input', 'position': 126}, {'token': ' نه', 'token_id': 995, 'type': 'input', 'position': 127}, {'token': ' به', 'token_id': 303, 'type': 'input', 'position': 128}, {'token': ' آسانی', 'token_id': 7654, 'type': 'input', 'position': 129}, {'token': ' لیست', 'token_id': 2740, 'type': 'input', 'position': 130}, {'token': ' کردن', 'token_id': 714, 'type': 'input', 'position': 131}, {'token': ' بهترین', 'token_id': 1142, 'type': 'input', 'position': 132}, {'token': ' موبایل', 'token_id': 1532, 'type': 'input', 'position': 133}, {'token': '\\u200c', 'token_id': 285, 'type': 'input', 'position': 134}, {'token': 'های', 'token_id': 325, 'type': 'input', 'position': 135}, {'token': ' پرچمدار', 'token_id': 4810, 'type': 'input', 'position': 136}, {'token': ' یا', 'token_id': 421, 'type': 'input', 'position': 137}, {'token': ' بهترین', 'token_id': 1142, 'type': 'input', 'position': 138}, {'token': ' ویژگی', 'token_id': 1413, 'type': 'input', 'position': 139}, {'token': '\\u200c', 'token_id': 285, 'type': 'input', 'position': 140}, {'token': 'های', 'token_id': 325, 'type': 'input', 'position': 141}, {'token': ' اضافه', 'token_id': 1469, 'type': 'input', 'position': 142}, {'token': ' شده', 'token_id': 401, 'type': 'input', 'position': 143}, {'token': ' به', 'token_id': 303, 'type': 'input', 'position': 144}, {'token': ' تازه', 'token_id': 1903, 'type': 'input', 'position': 145}, {'token': '\\u200c', 'token_id': 285, 'type': 'input', 'position': 146}, {'token': 'ترین', 'token_id': 496, 'type': 'input', 'position': 147}, {'token': ' ورژن', 'token_id': 10005, 'type': 'input', 'position': 148}, {'token': ' از', 'token_id': 312, 'type': 'input', 'position': 149}, {'token': ' iOS', 'token_id': 3658, 'type': 'input', 'position': 150}, {'token': '.', 'token_id': 24, 'type': 'input', 'position': 151}, {'token': ' ', 'token_id': 231, 'type': 'input', 'position': 152}, {'token': ' اما', 'token_id': 492, 'type': 'input', 'position': 153}, {'token': ' هرطور', 'token_id': 39899, 'type': 'input', 'position': 154}, {'token': ' که', 'token_id': 323, 'type': 'input', 'position': 155}, {'token': ' به', 'token_id': 303, 'type': 'input', 'position': 156}, {'token': ' موضوع', 'token_id': 964, 'type': 'input', 'position': 157}, {'token': ' نگاه', 'token_id': 1624, 'type': 'input', 'position': 158}, {'token': ' کنیم', 'token_id': 1085, 'type': 'input', 'position': 159}, {'token': '،', 'token_id': 305, 'type': 'input', 'position': 160}, {'token': ' هوش', 'token_id': 976, 'type': 'input', 'position': 161}, {'token': ' مصنوعی', 'token_id': 2734, 'type': 'input', 'position': 162}, {'token': ' بدون', 'token_id': 1042, 'type': 'input', 'position': 163}, {'token': ' تردید', 'token_id': 6746, 'type': 'input', 'position': 164}, {'token': ' نقشی', 'token_id': 6806, 'type': 'input', 'position': 165}, {'token': ' بزرگ', 'token_id': 745, 'type': 'input', 'position': 166}, {'token': ' در', 'token_id': 298, 'type': 'input', 'position': 167}, {'token': ' سال', 'token_id': 415, 'type': 'input', 'position': 168}, {'token': ' ۲۰۲۰', 'token_id': 3668, 'type': 'input', 'position': 169}, {'token': ' میلادی', 'token_id': 1547, 'type': 'input', 'position': 170}, {'token': ' ایفا', 'token_id': 4912, 'type': 'input', 'position': 171}, {'token': ' کرده', 'token_id': 501, 'type': 'input', 'position': 172}, {'token': ' است', 'token_id': 329, 'type': 'input', 'position': 173}, {'token': '.', 'token_id': 24, 'type': 'input', 'position': 174}, {'token': ' بنابراین', 'token_id': 1504, 'type': 'input', 'position': 175}, {'token': ' بیایید', 'token_id': 7496, 'type': 'input', 'position': 176}, {'token': ' به', 'token_id': 303, 'type': 'input', 'position': 177}, {'token': ' مرور', 'token_id': 2550, 'type': 'input', 'position': 178}, {'token': ' شش', 'token_id': 2606, 'type': 'input', 'position': 179}, {'token': ' دستاورد', 'token_id': 8149, 'type': 'input', 'position': 180}, {'token': ' بزرگ', 'token_id': 745, 'type': 'input', 'position': 181}, {'token': ' هوش', 'token_id': 976, 'type': 'input', 'position': 182}, {'token': ' مصنوعی', 'token_id': 2734, 'type': 'input', 'position': 183}, {'token': ' در', 'token_id': 298, 'type': 'input', 'position': 184}, {'token': ' سالی', 'token_id': 4029, 'type': 'input', 'position': 185}, {'token': ' که', 'token_id': 323, 'type': 'input', 'position': 186}, {'token': ' اکنون', 'token_id': 1801, 'type': 'input', 'position': 187}, {'token': ' به', 'token_id': 303, 'type': 'input', 'position': 188}, {'token': ' روزهای', 'token_id': 2897, 'type': 'input', 'position': 189}, {'token': ' آخرش', 'token_id': 16847, 'type': 'input', 'position': 190}, {'token': ' نزدیک', 'token_id': 1460, 'type': 'input', 'position': 191}, {'token': ' شده', 'token_id': 401, 'type': 'input', 'position': 192}, {'token': ' بپردازیم', 'token_id': 7984, 'type': 'input', 'position': 193}, {'token': '.', 'token_id': 24, 'type': 'input', 'position': 194}, {'token': ' ', 'token_id': 231, 'type': 'input', 'position': 195}, {'token': ' در', 'token_id': 298, 'type': 'input', 'position': 196}, {'token': ' یک', 'token_id': 367, 'type': 'input', 'position': 197}, {'token': ' سال', 'token_id': 415, 'type': 'input', 'position': 198}, {'token': ' معمولی', 'token_id': 3350, 'type': 'input', 'position': 199}, {'token': '،', 'token_id': 305, 'type': 'input', 'position': 200}, {'token': ' ابزاری', 'token_id': 6048, 'type': 'input', 'position': 201}, {'token': ' که', 'token_id': 323, 'type': 'input', 'position': 202}, {'token': ' کارش', 'token_id': 6853, 'type': 'input', 'position': 203}, {'token': ' تولید', 'token_id': 667, 'type': 'input', 'position': 204}, {'token': ' متن', 'token_id': 1555, 'type': 'input', 'position': 205}, {'token': ' است', 'token_id': 329, 'type': 'input', 'position': 206}, {'token': ' به', 'token_id': 303, 'type': 'input', 'position': 207}, {'token': ' هیچ', 'token_id': 917, 'type': 'input', 'position': 208}, {'token': '\\u200c', 'token_id': 285, 'type': 'input', 'position': 209}, {'token': 'وجه', 'token_id': 8362, 'type': 'input', 'position': 210}, {'token': ' جزء', 'token_id': 5953, 'type': 'input', 'position': 211}, {'token': ' هیجان', 'token_id': 3814, 'type': 'input', 'position': 212}, {'token': '\\u200c', 'token_id': 285, 'type': 'input', 'position': 213}, {'token': 'انگیزترین', 'token_id': 20502, 'type': 'input', 'position': 214}, {'token': ' دستاوردهای', 'token_id': 7442, 'type': 'input', 'position': 215}, {'token': ' حوزه', 'token_id': 1403, 'type': 'input', 'position': 216}, {'token': ' هوش', 'token_id': 976, 'type': 'input', 'position': 217}, {'token': ' مصنوعی', 'token_id': 2734, 'type': 'output', 'position': 218}], 'factors': [[[0.0, 0.0, 0.0, 0.0, 0.0, 0.0, 0.0, 0.0, 0.005007313564419746, 0.0, 0.0, 0.0, 0.0, 0.0, 0.0, 0.0, 0.0, 0.0, 0.0, 0.09339625388383865, 0.0, 0.0, 0.01080173160880804, 0.0, 0.0, 0.0, 0.0, 0.09066928178071976, 0.028180083259940147, 0.0, 0.005114089697599411, 0.0, 0.0, 0.0, 0.03161918744444847, 1.1430786848068237, 0.192377507686615, 0.735931932926178, 0.046319492161273956, 0.005674184300005436, 0.22826391458511353, 0.012571459636092186, 0.0, 0.0, 0.0, 0.0, 0.0, 0.0009567500092089176, 0.0, 0.0, 0.0, 0.0, 0.0, 0.019554294645786285, 0.0021014930680394173, 0.027322692796587944, 0.02265075594186783, 0.0, 0.0, 0.0, 0.012606753967702389, 0.0, 0.010837516747415066, 0.013739285059273243, 0.0034167009871453047, 0.015532054007053375, 0.023401489481329918, 0.0, 0.0, 0.029704250395298004, 0.0, 0.03046659752726555, 0.0, 0.0, 0.0, 0.0, 0.10730563849210739, 0.01586415432393551, 0.0, 0.049016013741493225, 0.0, 0.0, 0.011599918827414513, 0.0, 0.03908216208219528, 0.2682081162929535, 0.009148947894573212, 0.0, 0.028643546625971794, 0.0, 0.0, 0.012870891951024532, 0.04410294443368912, 1.1116923093795776, 0.13725495338439941, 0.7104324102401733, 0.07152259349822998, 0.0, 0.01418312732130289, 0.07217322289943695, 0.02536502480506897, 0.001823974191211164, 0.02182597480714321, 0.028669530525803566, 0.0, 0.0, 0.02715970389544964, 0.17785127460956573, 0.023292094469070435, 0.10456424951553345, 4.681427890318446e-05, 0.0, 0.0042351665906608105, 0.0, 0.011520817875862122, 0.0, 0.0, 0.005285928025841713, 0.010771536268293858, 0.34818902611732483, 0.0, 0.01919662393629551, 0.005992550868541002, 0.002971088979393244, 0.009224390611052513, 0.0, 0.06292682141065598, 0.037973303347826004, 0.0013872365234419703, 0.19807523488998413, 0.0, 0.014320082031190395, 0.028253652155399323, 0.0, 0.0, 0.0, 0.0, 0.0, 0.012644179165363312, 0.04379086568951607, 0.0, 0.04035649448633194, 0.10207589715719223, 0.032959312200546265, 0.006883344613015652, 0.01945153996348381, 0.0, 0.0, 0.0, 0.0, 0.0, 0.0, 0.0, 0.0, 0.04932374879717827, 0.0, 0.0, 0.036410070955753326, 0.0657273605465889, 0.048203811049461365, 0.0, 0.0, 0.0, 0.014348777942359447, 0.04927179589867592, 0.0, 0.12100373953580856, 0.0, 0.0, 0.0, 0.0, 0.012134898453950882, 0.0, 0.0, 0.0, 0.009103743359446526, 0.00988683383911848, 0.0, 0.02159717120230198, 0.0, 0.0, 0.0893363282084465, 0.0, 0.0, 0.0, 0.0, 0.0, 0.0, 0.0, 0.0, 0.0, 0.033045656979084015, 0.0, 0.0032785034272819757, 0.0, 0.0, 0.0, 0.0, 0.0, 0.138002410531044, 0.0, 0.0031940576154738665, 0.0, 0.0, 0.0, 0.004169080872088671, 0.0, 0.0, 0.0, 0.0, 0.0, 0.0029016700573265553, 0.05399595946073532, 0.0, 0.09555801004171371, 0.0, 0.0, 0.0, 0.0], [2.595907211303711, 1.9378843307495117, 2.035719871520996, 1.1446624994277954, 1.6176224946975708, 1.3643404245376587, 0.35979974269866943, 0.7162073254585266, 0.38016167283058167, 0.0, 0.12933509051799774, 0.21637634932994843, 0.1089577004313469, 0.09711803495883942, 0.19445432722568512, 0.29611966013908386, 0.15150940418243408, 0.17548952996730804, 0.22389698028564453, 0.15912610292434692, 0.18152767419815063, 0.03179660066962242, 0.08652324974536896, 0.19127552211284637, 0.0, 0.05417099595069885, 0.01460355520248413, 0.0, 0.0, 0.005655215121805668, 0.3141157925128937, 0.10019087046384811, 0.07040618360042572, 0.0, 0.0, 0.0, 0.06257253140211105, 0.0, 0.0, 0.0025568127166479826, 0.0, 0.0, 0.0045312391594052315, 0.0, 0.05731065571308136, 0.01520355325192213, 0.0, 0.0847330167889595, 0.03851757571101189, 0.0, 0.0, 0.0, 0.0, 0.0, 0.0, 0.0, 0.0, 0.0, 0.015944816172122955, 0.0, 0.0, 0.0, 0.0, 0.0, 0.03536326065659523, 0.0, 0.0, 0.0, 0.02546091005206108, 0.08975470811128616, 0.0, 0.10710959136486053, 0.0, 0.0, 0.0, 0.0, 0.0, 0.0, 0.0, 0.0, 0.0, 0.0, 0.0, 0.0, 0.0, 0.0, 0.0, 0.0, 0.0, 0.0, 0.0, 0.0, 0.0, 0.0, 0.0, 0.00866493210196495, 0.0, 0.0, 0.0, 0.0, 0.0, 0.0, 0.0, 0.0, 0.0, 0.0, 0.0, 0.0, 0.0, 0.0431026928126812, 0.0, 0.0, 0.016197293996810913, 0.0, 0.06596024334430695, 0.0, 0.0, 0.23190045356750488, 0.0, 0.010861853137612343, 0.0, 0.0, 0.0, 0.0, 0.0, 0.0, 0.08181698620319366, 0.059772927314043045, 0.0, 0.0, 0.0, 0.0, 0.01766996830701828, 0.021403701975941658, 0.0, 0.06834827363491058, 0.0, 0.015376996248960495, 0.027957944199442863, 0.0, 0.0, 0.0, 0.0, 0.0, 0.0, 0.0, 0.0, 0.06472546607255936, 0.07990621775388718, 0.0, 0.0, 0.0, 0.0, 0.02092008851468563, 0.20403246581554413, 0.037133410573005676, 0.0, 0.0, 0.0, 0.0, 0.0, 0.0, 0.0, 0.016197796911001205, 0.00014614210522267967, 0.0, 0.0, 0.0, 0.3803104758262634, 0.06502551585435867, 0.10625989735126495, 0.0, 0.0, 0.0, 0.0, 0.0, 0.0, 0.0, 0.031307872384786606, 0.24218598008155823, 0.0, 0.0, 0.0, 0.0, 0.0, 0.3854040205478668, 0.05881446227431297, 0.0025817928835749626, 0.0, 0.16744554042816162, 0.0, 0.038441989570856094, 0.0, 0.0, 0.0, 0.0, 0.0, 0.022517448291182518, 0.44401705265045166, 0.0, 0.0, 0.01619844324886799, 0.0, 0.0, 0.005289264023303986, 0.0, 0.0, 0.0, 0.08074120432138443, 0.0, 0.0, 0.0, 0.0, 0.0, 0.0, 0.0, 0.0, 0.0, 0.0], [0.0, 0.022083275020122528, 0.0, 0.0, 0.0, 0.0, 0.0, 0.0, 0.0, 0.0, 0.0, 0.0, 0.0, 0.0, 0.0, 0.0, 0.0, 0.0, 0.0, 0.0, 0.0, 0.0, 0.0, 0.0, 0.0, 0.0, 0.0, 0.0, 0.0, 0.0, 0.009215110912919044, 0.0, 0.0, 0.0, 0.0, 0.0, 0.0, 0.0, 0.0, 0.0, 0.0, 0.005478722508996725, 0.012650678865611553, 0.0013454793952405453, 0.0, 0.0, 0.0, 0.0, 0.0, 0.0, 0.0, 0.0, 0.0, 0.0, 0.0, 0.0, 0.017244787886738777, 0.020465116947889328, 0.033214010298252106, 0.021336818113923073, 0.037747789174318314, 0.024342119693756104, 0.023056888952851295, 0.0505056194961071, 0.018329201266169548, 0.01656714268028736, 0.02184993401169777, 0.0, 0.0036548369098454714, 0.030745696276426315, 0.0, 0.007415596395730972, 0.020205995067954063, 0.051703326404094696, 0.06463220715522766, 0.04481978341937065, 0.041436124593019485, 0.05730631202459335, 0.0, 0.041053593158721924, 0.09239336848258972, 0.08536255359649658, 0.07204540073871613, 0.06891833990812302, 0.11320506036281586, 0.08158528804779053, 0.06993900239467621, 0.0331270769238472, 0.10206384211778641, 0.13980922102928162, 0.0, 0.11520882695913315, 0.128508523106575, 0.03228306025266647, 0.05011283606290817, 0.07016222178936005, 0.13591288030147552, 0.1484091430902481, 0.12700192630290985, 0.14823617041110992, 0.1461714208126068, 0.033968329429626465, 0.08307994902133942, 0.16683582961559296, 0.1582074761390686, 0.14652347564697266, 0.16259492933750153, 0.09404527395963669, 0.06368379294872284, 0.04831264540553093, 0.027711696922779083, 0.15378423035144806, 0.17794527113437653, 0.08923666924238205, 0.185415118932724, 0.18198233842849731, 0.09568873047828674, 0.15145821869373322, 0.1682392656803131, 0.13229714334011078, 0.20164938271045685, 0.16122688353061676, 0.1564132273197174, 0.12252309918403625, 0.18995888531208038, 0.19300617277622223, 0.19158212840557098, 0.17245696485042572, 0.22923481464385986, 0.1540214568376541, 0.16398704051971436, 0.19637052714824677, 0.1461588442325592, 0.2093266397714615, 0.11481580883264542, 0.19924797117710114, 0.16280516982078552, 0.19772295653820038, 0.1483326554298401, 0.19560138881206512, 0.12581592798233032, 0.1588536947965622, 0.2118242383003235, 0.23024748265743256, 0.23871539533138275, 0.2320522964000702, 0.12934525310993195, 0.16032424569129944, 0.1810816526412964, 0.20644332468509674, 0.21858638525009155, 0.2645954489707947, 0.03244464099407196, 0.23557479679584503, 0.22660581767559052, 0.2396191954612732, 0.26999348402023315, 0.1956777721643448, 0.22068531811237335, 0.24286052584648132, 0.2357383370399475, 0.09044778347015381, 0.13315798342227936, 0.23730629682540894, 0.2162713259458542, 0.21904326975345612, 0.188957080245018, 0.2304035872220993, 0.23242101073265076, 0.19438520073890686, 0.22474375367164612, 0.2256222665309906, 0.261785089969635, 0.2818094789981842, 0.3042158782482147, 0.2610670030117035, 0.2682906687259674, 0.3024568259716034, 0.20963211357593536, 0.20926961302757263, 0.11303121596574783, 0.18751010298728943, 0.0896361693739891, 0.13998295366764069, 0.26363566517829895, 0.2417590469121933, 0.2549843490123749, 0.2608587443828583, 0.28729164600372314, 0.19071532785892487, 0.20181336998939514, 0.23366837203502655, 0.2775411903858185, 0.2548343241214752, 0.3277987539768219, 0.05151298642158508, 0.2822129726409912, 0.2593897879123688, 0.22507329285144806, 0.2084931880235672, 0.25466570258140564, 0.22652843594551086, 0.26174604892730713, 0.18246476352214813, 0.22690144181251526, 0.18969924747943878, 0.27619415521621704, 0.28331848978996277, 0.24491843581199646, 0.17126645147800446, 0.22639741003513336, 0.18454688787460327, 0.1916692554950714, 0.154305562376976, 0.13587823510169983, 0.05699444189667702, 0.1764651983976364, 0.07794765383005142, 0.07794765383005142], [0.0, 0.005291109438985586, 0.0, 0.018466763198375702, 0.0, 0.015011864714324474, 0.009257238358259201, 0.03713946416974068, 0.011384711600840092, 0.0, 0.019011590629816055, 0.031619854271411896, 0.008480031043291092, 0.019073620438575745, 0.7812066674232483, 0.10298940539360046, 0.11138870567083359, 0.03185460716485977, 0.028994079679250717, 0.010084019042551517, 0.024404043331742287, 0.7535995841026306, 0.03317433223128319, 0.01955188252031803, 0.0, 0.0334649495780468, 0.0069394283927977085, 0.0, 0.10883283615112305, 0.015547177754342556, 0.0, 0.0, 0.006944450084120035, 0.0, 0.0, 0.004234190098941326, 0.002699789358302951, 0.0, 3.682813257910311e-05, 0.0, 0.0, 0.053662918508052826, 0.008221916854381561, 0.0, 0.0, 0.0, 0.0, 0.0, 0.0, 0.0, 0.0, 0.0, 0.005550316069275141, 0.0, 0.0, 0.0, 0.0, 0.0, 0.0, 0.0, 0.0, 0.0, 0.00018578418530523777, 0.0, 0.0, 0.0, 0.0, 0.0, 0.0, 0.0, 0.0, 0.0, 0.0, 0.0, 0.0, 0.0, 0.0, 0.0, 0.0, 0.0, 0.0, 0.0, 0.0, 0.0, 0.027262140065431595, 0.0, 0.6762374043464661, 0.03412372246384621, 0.04967325180768967, 0.0, 0.0, 0.0, 0.0, 0.0, 0.0, 0.0, 0.0, 0.0, 0.0, 0.0, 0.0, 0.0017578799743205309, 0.0, 0.06661318242549896, 0.0, 0.0, 0.0, 0.0, 0.0, 0.01174260675907135, 0.000925653032027185, 0.0, 0.0, 0.0, 0.0, 0.0, 0.0, 0.0, 0.0, 0.028095029294490814, 0.0, 0.0, 0.5209834575653076, 0.05119963362812996, 0.04735506698489189, 0.0, 0.0, 0.05605426803231239, 0.0, 0.007584990002214909, 0.0, 0.0, 0.0, 0.0, 0.0, 0.0, 0.0, 0.0, 0.0, 0.0, 0.0, 0.0, 0.0, 0.08887734264135361, 0.0, 0.0, 0.0, 0.005172542296350002, 0.0, 0.0, 0.0, 0.0, 0.005852522794157267, 0.0, 0.0, 0.0, 0.0, 0.0, 0.0, 0.009429858066141605, 0.0, 0.0, 0.0, 0.0, 0.0, 0.0, 0.0, 0.0, 0.0, 0.0, 0.0, 0.0, 0.15010614693164825, 0.029014626517891884, 0.0, 0.0, 0.030688084661960602, 0.0, 0.0, 0.0, 0.0, 0.0, 0.0, 0.0, 0.0, 0.0, 0.0, 0.0, 0.0, 0.0, 0.0, 0.004859644919633865, 0.12557916343212128, 0.0, 0.0, 0.0, 0.0, 0.0, 0.0, 0.0, 0.0, 0.0, 0.0, 0.0, 0.0, 0.0, 0.08214979618787766, 0.0, 0.06622371077537537, 0.0, 0.008195638656616211, 0.0, 0.0, 0.0, 0.0, 0.0, 0.0, 0.0, 0.0], [0.11127235740423203, 0.0, 0.0, 0.0, 0.0, 0.0, 0.0, 0.0, 0.0, 1.8155713405576535e-05, 0.0, 0.0, 0.0, 0.0, 0.0, 0.0, 0.0, 0.0, 0.0, 0.0, 0.0009048840729519725, 0.0, 0.0, 0.004220651928335428, 0.0, 0.0, 0.0, 0.0, 0.0, 0.0, 0.0, 0.0, 0.0, 0.0, 0.0, 0.0, 0.0, 0.0, 0.011368367820978165, 0.0, 0.009458649903535843, 0.0, 0.0, 0.0, 0.0, 0.00309674977324903, 0.0, 0.0, 0.002891003154218197, 0.0, 0.0, 7.367578655248508e-05, 0.0, 0.0, 0.003629951272159815, 0.05069580301642418, 0.0027389894239604473, 0.0, 0.0, 0.0, 0.003684486262500286, 0.0, 0.013768201693892479, 0.008266531862318516, 0.0022097728215157986, 0.0009644365636631846, 0.0025921144988387823, 0.0, 0.006319319363683462, 0.04127359762787819, 0.0, 0.0, 0.008320705033838749, 2.9999537218827754e-05, 0.000668183492962271, 0.016172222793102264, 0.0, 0.0, 0.0, 0.0022960794158279896, 0.0, 0.0, 0.009201213717460632, 0.0199730284512043, 0.0011568787740543485, 0.0035603917203843594, 0.01016747672110796, 0.0, 0.0, 0.0, 0.9052848815917969, 0.011460009030997753, 0.0, 0.004124484024941921, 0.0027066876646131277, 0.0046476759016513824, 0.0, 0.0005783983506262302, 0.015948867425322533, 0.0048874616622924805, 0.0002486879238858819, 0.014110347256064415, 0.0, 0.0, 0.00351703935302794, 0.0, 0.0, 0.0058375392109155655, 0.002759297378361225, 0.0, 0.0, 0.0003377238754183054, 0.005620891693979502, 0.00275009055621922, 0.00025388135691173375, 0.00276387226767838, 0.003563139121979475, 0.0, 0.0064495704136788845, 0.0, 0.00046124463551677763, 0.017108995467424393, 0.016440147534012794, 0.0, 0.0, 0.009493800811469555, 0.03946691006422043, 0.04631420224905014, 0.0019438981544226408, 0.0, 0.0, 0.0, 0.0, 0.0017340678023174405, 0.001070916187018156, 0.0016038448084145784, 0.0, 0.042059700936079025, 0.0, 0.006476738955825567, 0.0018128769006580114, 0.007206892129033804, 0.01169618871062994, 0.0, 0.0, 0.0, 0.0002248445525765419, 0.0, 0.01170420553535223, 0.0, 0.022786254063248634, 0.0, 0.8963279724121094, 0.0, 0.020871635526418686, 0.0, 0.0, 0.0, 0.018412962555885315, 0.0, 0.0, 0.015759756788611412, 0.0, 0.011058937758207321, 0.0, 0.014179104007780552, 0.0, 0.0, 0.0, 0.006753870751708746, 0.003938194364309311, 0.005901603493839502, 0.0, 0.0, 0.0, 0.0, 0.0, 0.0, 0.0, 0.03541744127869606, 0.0, 0.0, 0.010003537870943546, 0.0, 0.0, 0.0, 0.0, 6.724218837916851e-05, 0.0, 0.04445821791887283, 0.005063298158347607, 0.007471319753676653, 0.0, 0.0, 0.0, 0.8808638453483582, 0.0035035591572523117, 0.0, 0.0, 0.017998304218053818, 0.0, 0.0, 0.0, 0.01185451541095972, 0.002894006669521332, 0.011959412135183811, 0.0, 0.0, 0.0213608555495739, 0.0, 0.0035573840141296387, 0.05078792944550514, 0.0023523306008428335, 0.0, 0.0, 0.002578718587756157, 0.0, 0.008543734438717365, 0.008543734438717365], [0.005428736098110676, 0.0, 0.0, 0.0, 0.0, 0.0, 0.0, 0.0, 0.0, 0.0, 0.0, 0.5018574595451355, 0.3866512179374695, 0.0, 0.0, 0.0, 0.0, 0.0, 0.0, 0.0, 0.0, 0.0, 0.0210842527449131, 0.0, 0.04579007998108864, 0.0, 0.038782209157943726, 0.0, 0.0, 0.0, 0.0007064039818942547, 0.0, 0.0, 0.0, 0.004391210153698921, 0.0, 0.0, 0.0, 0.0, 0.049551066011190414, 0.019927462562918663, 0.0, 0.0, 0.0, 0.0, 0.0, 0.0, 0.0, 0.01288054883480072, 0.0, 0.021556789055466652, 0.0, 0.4797590970993042, 0.33592307567596436, 0.0, 0.0033913482911884785, 0.06487760692834854, 0.0, 0.04283004626631737, 0.0, 0.07713650912046432, 0.0, 0.0, 0.0, 0.0, 0.0, 0.06831517070531845, 0.0, 0.06938160210847855, 0.012836224399507046, 0.0, 0.047312621027231216, 0.06111213564872742, 0.09749961644411087, 0.0, 0.008341770619153976, 0.008547998033463955, 0.0, 0.0, 0.07154697179794312, 0.0, 0.0, 0.0, 0.014067143201828003, 0.003345523029565811, 0.008911972865462303, 0.0, 0.00296499440446496, 0.0, 0.0, 0.0, 0.0, 0.0, 0.0, 0.0, 0.0, 0.0, 0.0, 0.0, 0.0, 0.0, 0.4838401675224304, 0.34747040271759033, 0.0, 0.0, 0.0, 0.008772953413426876, 0.0, 0.0, 0.0, 0.0, 0.0, 0.0, 0.0, 0.00048755144234746695, 0.0, 0.0, 0.0, 0.003874156391248107, 0.0261597391217947, 0.0, 0.013095431961119175, 0.0, 0.0, 0.0, 0.0, 0.00441720150411129, 0.0025581505615264177, 0.0, 0.014239134266972542, 0.0, 0.010617452673614025, 0.0, 0.02575325034558773, 0.0, 0.0292839203029871, 0.0059360116720199585, 0.0, 0.0, 0.009535867720842361, 0.0, 0.027100125327706337, 0.010675131343305111, 0.0015111042885109782, 0.0, 0.010184424929320812, 0.0, 0.0, 0.0161796435713768, 0.0, 0.03047274425625801, 0.0, 0.0, 0.0, 0.014032915234565735, 0.0032640693243592978, 0.0, 0.0, 0.004979253746569157, 0.0, 0.0, 0.4689655900001526, 0.3396037518978119, 0.013275505043566227, 0.007101322524249554, 0.004195746965706348, 0.0, 0.0, 0.0, 0.023297645151615143, 0.002078681718558073, 0.012176363728940487, 0.0, 0.0, 0.0, 0.0, 0.0, 0.0, 0.0, 0.0, 0.0, 0.0, 0.47060224413871765, 0.3481558561325073, 0.0, 0.0, 0.0, 0.0, 0.0, 0.0, 0.0, 0.0, 0.0, 0.0, 0.0, 0.0003438572457525879, 0.0, 0.003613631706684828, 0.0, 0.010555988177657127, 0.0, 0.044886983931064606, 0.0, 0.00399736175313592, 0.015401238575577736, 0.006893898826092482, 0.0, 0.0, 0.0, 0.0, 0.0030313353054225445, 0.0, 0.0537688210606575, 0.0, 0.0, 0.011635602451860905, 0.009982464835047722, 0.46566683053970337, 0.46566683053970337], [0.0, 0.0, 0.0, 0.0, 0.014163140207529068, 0.06598367542028427, 0.050808895379304886, 0.1922810822725296, 0.10902854800224304, 0.0, 0.09918858110904694, 0.11811330169439316, 0.17453151941299438, 0.2103143185377121, 0.03274911269545555, 0.16680417954921722, 0.28196972608566284, 0.3866260349750519, 0.32763487100601196, 0.3087136745452881, 0.3244136571884155, 0.08951768279075623, 0.3427088260650635, 0.3597297966480255, 0.3190236985683441, 0.271253377199173, 0.3489539325237274, 0.27943065762519836, 0.34017542004585266, 0.4537905156612396, 0.349155455827713, 0.4459163248538971, 0.48447123169898987, 0.18655401468276978, 0.39716044068336487, 0.04391331225633621, 0.3772304356098175, 0.18450962007045746, 0.4434976875782013, 0.3907000720500946, 0.30412396788597107, 0.3886638581752777, 0.4559347331523895, 0.46449562907218933, 0.4541224539279938, 0.41557466983795166, 0.4574121832847595, 0.3112858235836029, 0.40860414505004883, 0.3370812237262726, 0.3890681862831116, 0.4391498267650604, 0.2089865505695343, 0.232333242893219, 0.4078175723552704, 0.38150593638420105, 0.3824344277381897, 0.4374977648258209, 0.3414730131626129, 0.4143587648868561, 0.353134423494339, 0.4150107204914093, 0.3708915412425995, 0.34575462341308594, 0.3669009208679199, 0.34981903433799744, 0.33599403500556946, 0.23792213201522827, 0.35143518447875977, 0.30442845821380615, 0.23523859679698944, 0.3067196309566498, 0.31271034479141235, 0.2421790510416031, 0.34007254242897034, 0.30039113759994507, 0.3107857406139374, 0.3715268075466156, 0.17836593091487885, 0.23839841783046722, 0.30009764432907104, 0.30326539278030396, 0.3082422614097595, 0.27586647868156433, 0.2378711700439453, 0.16583289206027985, 0.0017236779676750302, 0.1772209107875824, 0.20803618431091309, 0.27119940519332886, 0.1556272655725479, 0.21236056089401245, 0.17909793555736542, 0.0, 0.11488018929958344, 0.0, 0.1741102635860443, 0.21462099254131317, 0.18660931289196014, 0.06541186571121216, 0.12666016817092896, 0.08600973337888718, 0.07531857490539551, 0.10827968269586563, 0.19069352746009827, 0.05532582104206085, 0.07025258243083954, 0.08211551606655121, 0.06589814275503159, 0.06759146600961685, 0.0474468469619751, 0.15032346546649933, 0.13125617802143097, 0.05140487477183342, 0.15844310820102692, 0.0952090322971344, 0.03334452584385872, 0.03230193257331848, 0.12320756167173386, 0.0, 0.07516668736934662, 0.09912080317735672, 0.0, 0.0017011462477967143, 0.05564500764012337, 0.09943430870771408, 0.048134900629520416, 0.002761184936389327, 0.044952142983675, 0.005130644887685776, 0.0, 0.0, 0.0, 0.022992990911006927, 0.0, 0.0022749544586986303, 0.008178549818694592, 0.03027302958071232, 0.0, 0.0, 0.0, 0.0, 0.0, 0.0, 0.018923195078969002, 0.0, 0.0, 0.0, 0.010218050330877304, 0.03925276920199394, 0.0, 0.015732266008853912, 0.0, 0.007658036891371012, 0.0, 0.0, 0.0, 0.0, 0.0, 0.0, 0.055169109255075455, 0.0, 0.0, 0.0, 0.0, 0.021288320422172546, 0.0, 0.03312460333108902, 0.0, 0.0, 0.0, 0.0, 0.0, 0.0, 0.0, 0.0, 0.0, 0.0, 0.0, 0.0, 0.0, 0.0, 0.0, 0.0, 0.010805290192365646, 0.0, 0.0, 0.0, 0.0, 0.0, 0.0, 0.0, 0.0, 0.0, 0.0, 0.0, 0.0, 0.0, 0.0, 0.0, 0.03548663109540939, 0.0, 0.0, 0.0, 0.0, 0.0, 0.0, 0.0, 0.0, 0.0, 0.0, 0.0, 0.0, 0.0, 0.0, 0.0, 0.0, 0.0, 0.0], [0.0, 0.0, 0.0, 0.05059892311692238, 0.010734631679952145, 0.027043279260396957, 0.4009437561035156, 0.08142036199569702, 0.25649186968803406, 0.9928380250930786, 0.5534205436706543, 0.07435233891010284, 0.07590574026107788, 0.29312488436698914, 0.041999030858278275, 0.09382178634405136, 0.09732523560523987, 0.061292488127946854, 0.06605008244514465, 0.05841846391558647, 0.045346733182668686, 0.00035906131961382926, 0.02664622850716114, 0.03005394898355007, 0.03085285611450672, 0.05207997187972069, 0.025381851941347122, 0.19046613574028015, 0.08669239282608032, 0.0421755388379097, 0.023800821974873543, 0.027102423831820488, 0.0007747889612801373, 0.28806421160697937, 0.032374221831560135, 0.021841196343302727, 0.0, 0.001923151663504541, 0.010685011744499207, 0.0022937871981412172, 0.014950137585401535, 0.0, 0.0, 0.0013516921317204833, 0.0, 0.01821609027683735, 0.0, 0.0, 0.0009199787746183574, 0.0, 0.0, 0.0, 0.0, 0.0, 0.0, 0.016946064308285713, 0.01110603753477335, 0.0, 0.022016525268554688, 0.0, 0.002920866711065173, 0.0, 0.0, 0.0, 0.0, 0.0, 0.0, 0.0, 0.0, 0.0, 0.0, 0.0, 0.0, 0.0, 0.0, 0.0018270533764734864, 0.0, 0.0, 0.0, 0.006889814045280218, 0.0, 0.0, 0.0, 0.0, 0.0, 0.0020797590259462595, 0.0, 0.0, 0.0, 0.0, 0.0, 0.0, 0.048139508813619614, 0.0, 0.0, 0.0, 0.0, 0.0, 0.0, 0.13800904154777527, 0.13115639984607697, 0.0, 0.0, 0.0, 0.0, 0.16740228235721588, 0.13466466963291168, 0.002892033662647009, 0.0, 0.0, 0.0027815301436930895, 0.0, 0.10154511034488678, 0.0, 0.010643918998539448, 0.0, 0.0, 0.0002533961087465286, 0.0, 0.0, 0.0, 0.01325452420860529, 0.0, 0.0, 0.0, 0.0, 0.0, 0.0, 0.0, 0.0, 0.1474529504776001, 0.1217399314045906, 0.0, 0.0, 0.0, 0.0, 0.004233380313962698, 0.0, 0.0, 0.0, 0.0, 0.0, 0.00974651426076889, 0.0, 0.0, 0.026115650311112404, 0.0, 0.0, 0.0, 0.0, 0.038614388555288315, 0.0, 0.0, 0.0, 0.0, 0.0, 0.0, 0.13059577345848083, 0.03559442237019539, 0.0, 0.0, 0.0, 0.0, 0.0, 0.0, 0.0, 0.0, 0.0, 0.0, 0.0, 0.0, 0.030412547290325165, 0.0, 0.0, 0.0, 0.0, 0.0, 0.0, 0.06071775034070015, 0.0, 0.0, 0.0, 0.0, 0.0, 0.0, 0.0, 0.0, 0.0, 0.0, 0.0, 0.003619225462898612, 0.02024838700890541, 0.0, 0.04236702248454094, 0.0, 0.0, 0.0, 0.0, 0.0, 0.0, 0.0, 0.0, 0.0, 0.0070420680567622185, 0.004991972353309393, 0.08333390206098557, 0.0, 0.0, 0.0, 0.0, 0.025249876081943512, 0.03658531978726387, 0.0, 0.0, 0.0, 0.0, 0.08803150802850723, 0.0, 0.0], [0.0, 0.0, 0.0, 0.35879427194595337, 0.0, 0.0, 0.0, 0.010202635079622269, 0.0, 0.0, 0.007235237862914801, 0.0, 0.0, 0.0, 0.0, 0.26022788882255554, 0.0, 0.0, 0.0, 0.0, 0.0, 0.0, 0.0, 0.0, 0.0, 0.30355700850486755, 0.0, 0.0, 0.0, 0.007486992981284857, 0.0, 0.0, 0.0, 0.0, 0.0, 0.0, 0.008005538955330849, 0.0, 0.0, 0.0, 0.0, 0.0, 0.0, 0.010596069507300854, 0.0, 0.0, 0.0, 0.0, 0.0, 0.30570513010025024, 0.0011521729175001383, 0.00043592238216660917, 0.0, 2.047704219876323e-05, 0.00039806676795706153, 0.0, 0.0, 6.922549073351547e-05, 0.0, 0.0018948616925626993, 0.0, 0.0031460938043892384, 0.0, 0.0036005955189466476, 0.0077755870297551155, 0.0008596293046139181, 0.0, 0.3493709862232208, 0.005004767794162035, 0.0030407330486923456, 0.36419764161109924, 0.0, 0.0, 0.006249171681702137, 0.008722812868654728, 0.0, 0.0, 0.007513144519180059, 0.0, 0.0, 0.006433755625039339, 0.007489701732993126, 0.0, 0.0, 0.002276333048939705, 0.007138189859688282, 0.007569366134703159, 0.2800137400627136, 0.007667870260775089, 0.005633322987705469, 0.0, 0.004546267446130514, 0.0, 0.0, 0.2915451228618622, 0.013038781471550465, 0.0012837296817451715, 0.001495632459409535, 0.003370792604982853, 0.003727282164618373, 0.005446305964142084, 0.006547422148287296, 0.00464132335036993, 0.008567853830754757, 0.0029385113157331944, 0.0, 0.0073719811625778675, 0.006920283194631338, 0.33058953285217285, 0.02129538170993328, 0.0, 0.01979239471256733, 0.0, 0.3355027139186859, 0.005112409126013517, 0.01107535045593977, 0.3305847942829132, 0.007563769351691008, 0.010378727689385414, 0.004171126056462526, 0.01399370189756155, 0.006943197455257177, 0.002528335666283965, 0.27014848589897156, 0.007330887019634247, 0.006371765863150358, 0.009840779937803745, 0.009733463637530804, 0.012877236120402813, 0.004169734660536051, 0.0, 0.005261997226625681, 0.006704504601657391, 0.0029223719611763954, 0.3220219910144806, 0.012467068620026112, 0.0002797600463964045, 0.015388433821499348, 0.006349039264023304, 0.0026187016628682613, 0.298491507768631, 0.007439806126058102, 0.0034522325731813908, 0.0009897028794512153, 0.006646553985774517, 0.0005606514750979841, 0.31702274084091187, 0.012624870054423809, 0.0, 0.006839576177299023, 0.0, 0.0009175876621156931, 0.001228612964041531, 4.276946492609568e-05, 0.0, 0.0006497383583337069, 0.001950022648088634, 0.0, 0.0, 0.0, 0.0, 0.0, 0.0, 0.0, 0.0, 0.0, 0.0, 0.014569508843123913, 0.0, 0.0, 0.0, 0.0, 0.0, 0.008761058561503887, 0.0, 0.0, 0.0, 0.0, 0.0, 0.0, 0.0, 0.0, 0.0, 0.0, 0.007029194384813309, 0.0, 0.0, 0.0, 0.0, 0.0, 0.0, 0.0, 0.0, 0.0, 0.0, 0.0, 0.0037861496675759554, 0.0, 0.0, 0.0, 0.0, 0.0, 0.0, 0.0, 0.0, 0.0, 0.0, 0.0, 0.0, 0.321572870016098, 0.0, 0.0, 0.0, 0.3429504930973053, 0.0017959392862394452, 0.0, 0.0, 0.0, 0.0], [0.0, 0.0, 0.0, 0.0, 0.18875528872013092, 0.0523936003446579, 0.003987619187682867, 0.0, 0.0, 0.0, 0.0, 0.0, 0.0, 0.0, 0.0, 0.0, 0.0, 0.0, 0.0, 0.0, 0.0, 0.0, 0.011790307238698006, 0.0, 0.5005651712417603, 0.0, 0.5997837781906128, 0.06472817063331604, 0.009316429495811462, 0.0, 0.0, 0.0, 0.0, 0.1260053813457489, 0.08303381502628326, 0.0, 0.0, 0.006306076887995005, 0.0, 0.0801880732178688, 0.03809882327914238, 0.0, 0.0, 0.0, 0.0, 0.0, 0.0, 0.5684047341346741, 0.08182138949632645, 0.0, 0.18628858029842377, 0.0, 0.0, 0.0, 0.0, 0.2005005031824112, 0.12457044422626495, 0.0, 0.001732319942675531, 0.0, 0.014280224218964577, 0.0, 0.0, 0.0, 0.0, 0.036867327988147736, 0.03023562952876091, 0.0, 0.20639950037002563, 0.0, 0.0, 0.1821158230304718, 0.1186300739645958, 0.11267869174480438, 0.0, 0.02714068815112114, 0.1828262358903885, 0.06441016495227814, 0.9194115400314331, 0.2858636677265167, 0.011561990715563297, 0.0, 0.07059159129858017, 0.17014145851135254, 0.0, 0.0, 0.0, 0.0, 0.00476959440857172, 0.0, 0.0, 0.0, 0.0, 0.0, 0.0, 0.0, 0.0, 0.0, 0.0, 0.002444957150146365, 0.0, 0.0, 0.0, 0.0, 0.0, 0.13403581082820892, 0.08863533288240433, 0.31419920921325684, 0.030762454494833946, 0.638969898223877, 0.9500731825828552, 0.04386339336633682, 0.06093744933605194, 0.0, 0.03580861538648605, 0.008274040184915066, 0.0, 0.13051241636276245, 0.046340297907590866, 0.0, 0.0, 0.006927311420440674, 0.0, 0.0, 0.0, 0.0, 0.003379595000296831, 0.0, 0.0, 0.0, 0.1220165342092514, 0.09162922948598862, 0.42030051350593567, 0.005662392359226942, 0.0, 0.1612163931131363, 0.1955857276916504, 0.0, 0.38653162121772766, 0.22517047822475433, 0.01174951158463955, 0.39218300580978394, 0.0, 0.023593872785568237, 0.0, 0.09287284314632416, 0.007126497570425272, 0.474581778049469, 0.10040713846683502, 0.022460181266069412, 0.0, 0.0, 0.0, 0.0, 0.04456724971532822, 0.0, 0.0, 0.029027963057160378, 0.0, 0.0, 0.0, 0.0, 0.0, 0.0, 0.01374977920204401, 0.12713544070720673, 0.19648012518882751, 0.002867218339815736, 0.05828617513179779, 0.04620068147778511, 0.0, 0.11645318567752838, 0.029419509693980217, 0.0, 0.0, 0.0, 0.0, 0.0, 0.012915930710732937, 0.00020832274458371103, 0.7226764559745789, 0.2793029546737671, 0.0, 0.0, 0.0, 0.05766426399350166, 0.0, 0.016718775033950806, 0.0, 0.1741473376750946, 0.19921909272670746, 0.0, 0.0, 0.019210118800401688, 0.0, 0.0, 0.0, 0.0, 0.011103138327598572, 0.0, 0.0, 0.09128879755735397, 0.0, 0.1619897335767746, 0.028356101363897324, 0.0, 0.0, 0.0, 0.0, 0.0, 0.009897781535983086, 0.049461912363767624, 0.12553547322750092, 0.0, 0.5735105872154236, 0.86854088306427, 0.15476049482822418, 0.0, 0.0]]]})\n",
              "         }, function (err) {\n",
              "            console.log(err);\n",
              "        })"
            ],
            "text/plain": [
              "<IPython.core.display.Javascript object>"
            ]
          },
          "metadata": {
            "tags": []
          }
        }
      ]
    },
    {
      "cell_type": "code",
      "metadata": {
        "id": "zOMjezoF4kyV"
      },
      "source": [
        ""
      ],
      "execution_count": null,
      "outputs": []
    }
  ]
}